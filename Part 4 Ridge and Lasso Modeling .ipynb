{
 "cells": [
  {
   "cell_type": "markdown",
   "id": "0ec80bc5",
   "metadata": {},
   "source": [
    "# DSI Project 2 - Ames Housing Data and Kaggle Challenge¶"
   ]
  },
  {
   "cell_type": "markdown",
   "id": "95b8db33",
   "metadata": {},
   "source": [
    "### Part 4: Ridge and Lasso Modeling "
   ]
  },
  {
   "cell_type": "markdown",
   "id": "81183efb",
   "metadata": {},
   "source": [
    "This section aims to incorporate the Lasso (L1 Regularization) Ridge (L2 Regularization) methods to our multiple linear regression models to see if we can achieve better model outcomes and reduce any biases in our modeling. "
   ]
  },
  {
   "cell_type": "markdown",
   "id": "78f673de",
   "metadata": {},
   "source": [
    "__Imports__"
   ]
  },
  {
   "cell_type": "code",
   "execution_count": 21,
   "id": "b5a82054",
   "metadata": {},
   "outputs": [],
   "source": [
    "import numpy as np\n",
    "import pandas as pd\n",
    "from matplotlib import pyplot as plt\n",
    "import seaborn as sns\n",
    "\n",
    "#Scikit imports\n",
    "from sklearn.preprocessing import StandardScaler\n",
    "from sklearn.linear_model import LinearRegression, Lasso, Ridge\n",
    "from statistics import mean, stdev\n",
    "from sklearn.model_selection import cross_val_score\n",
    "from sklearn.linear_model import LassoCV"
   ]
  },
  {
   "cell_type": "code",
   "execution_count": 22,
   "id": "1dc750fc",
   "metadata": {},
   "outputs": [
    {
     "data": {
      "text/html": [
       "<div>\n",
       "<style scoped>\n",
       "    .dataframe tbody tr th:only-of-type {\n",
       "        vertical-align: middle;\n",
       "    }\n",
       "\n",
       "    .dataframe tbody tr th {\n",
       "        vertical-align: top;\n",
       "    }\n",
       "\n",
       "    .dataframe thead th {\n",
       "        text-align: right;\n",
       "    }\n",
       "</style>\n",
       "<table border=\"1\" class=\"dataframe\">\n",
       "  <thead>\n",
       "    <tr style=\"text-align: right;\">\n",
       "      <th></th>\n",
       "      <th>Unnamed: 0</th>\n",
       "      <th>id</th>\n",
       "      <th>pid</th>\n",
       "      <th>ms_subclass</th>\n",
       "      <th>ms_zoning</th>\n",
       "      <th>lot_frontage</th>\n",
       "      <th>lot_area</th>\n",
       "      <th>street</th>\n",
       "      <th>lot_shape</th>\n",
       "      <th>land_contour</th>\n",
       "      <th>...</th>\n",
       "      <th>garage_cond</th>\n",
       "      <th>paved_drive</th>\n",
       "      <th>wood_deck_sf</th>\n",
       "      <th>open_porch_sf</th>\n",
       "      <th>enclosed_porch</th>\n",
       "      <th>screen_porch</th>\n",
       "      <th>mo_sold</th>\n",
       "      <th>yr_sold</th>\n",
       "      <th>sale_type</th>\n",
       "      <th>saleprice</th>\n",
       "    </tr>\n",
       "  </thead>\n",
       "  <tbody>\n",
       "    <tr>\n",
       "      <th>0</th>\n",
       "      <td>0</td>\n",
       "      <td>109</td>\n",
       "      <td>533352170</td>\n",
       "      <td>60</td>\n",
       "      <td>RL</td>\n",
       "      <td>68.0</td>\n",
       "      <td>13517</td>\n",
       "      <td>Pave</td>\n",
       "      <td>IR1</td>\n",
       "      <td>Lvl</td>\n",
       "      <td>...</td>\n",
       "      <td>TA</td>\n",
       "      <td>Y</td>\n",
       "      <td>0</td>\n",
       "      <td>44</td>\n",
       "      <td>0</td>\n",
       "      <td>0</td>\n",
       "      <td>3</td>\n",
       "      <td>2010</td>\n",
       "      <td>WD</td>\n",
       "      <td>130500</td>\n",
       "    </tr>\n",
       "    <tr>\n",
       "      <th>1</th>\n",
       "      <td>1</td>\n",
       "      <td>544</td>\n",
       "      <td>531379050</td>\n",
       "      <td>60</td>\n",
       "      <td>RL</td>\n",
       "      <td>43.0</td>\n",
       "      <td>11492</td>\n",
       "      <td>Pave</td>\n",
       "      <td>IR1</td>\n",
       "      <td>Lvl</td>\n",
       "      <td>...</td>\n",
       "      <td>TA</td>\n",
       "      <td>Y</td>\n",
       "      <td>0</td>\n",
       "      <td>74</td>\n",
       "      <td>0</td>\n",
       "      <td>0</td>\n",
       "      <td>4</td>\n",
       "      <td>2009</td>\n",
       "      <td>WD</td>\n",
       "      <td>220000</td>\n",
       "    </tr>\n",
       "    <tr>\n",
       "      <th>2</th>\n",
       "      <td>2</td>\n",
       "      <td>153</td>\n",
       "      <td>535304180</td>\n",
       "      <td>20</td>\n",
       "      <td>RL</td>\n",
       "      <td>68.0</td>\n",
       "      <td>7922</td>\n",
       "      <td>Pave</td>\n",
       "      <td>Reg</td>\n",
       "      <td>Lvl</td>\n",
       "      <td>...</td>\n",
       "      <td>TA</td>\n",
       "      <td>Y</td>\n",
       "      <td>0</td>\n",
       "      <td>52</td>\n",
       "      <td>0</td>\n",
       "      <td>0</td>\n",
       "      <td>1</td>\n",
       "      <td>2010</td>\n",
       "      <td>WD</td>\n",
       "      <td>109000</td>\n",
       "    </tr>\n",
       "    <tr>\n",
       "      <th>3</th>\n",
       "      <td>3</td>\n",
       "      <td>318</td>\n",
       "      <td>916386060</td>\n",
       "      <td>60</td>\n",
       "      <td>RL</td>\n",
       "      <td>73.0</td>\n",
       "      <td>9802</td>\n",
       "      <td>Pave</td>\n",
       "      <td>Reg</td>\n",
       "      <td>Lvl</td>\n",
       "      <td>...</td>\n",
       "      <td>TA</td>\n",
       "      <td>Y</td>\n",
       "      <td>100</td>\n",
       "      <td>0</td>\n",
       "      <td>0</td>\n",
       "      <td>0</td>\n",
       "      <td>4</td>\n",
       "      <td>2010</td>\n",
       "      <td>WD</td>\n",
       "      <td>174000</td>\n",
       "    </tr>\n",
       "    <tr>\n",
       "      <th>4</th>\n",
       "      <td>4</td>\n",
       "      <td>255</td>\n",
       "      <td>906425045</td>\n",
       "      <td>50</td>\n",
       "      <td>RL</td>\n",
       "      <td>82.0</td>\n",
       "      <td>14235</td>\n",
       "      <td>Pave</td>\n",
       "      <td>IR1</td>\n",
       "      <td>Lvl</td>\n",
       "      <td>...</td>\n",
       "      <td>TA</td>\n",
       "      <td>N</td>\n",
       "      <td>0</td>\n",
       "      <td>59</td>\n",
       "      <td>0</td>\n",
       "      <td>0</td>\n",
       "      <td>3</td>\n",
       "      <td>2010</td>\n",
       "      <td>WD</td>\n",
       "      <td>138500</td>\n",
       "    </tr>\n",
       "  </tbody>\n",
       "</table>\n",
       "<p>5 rows × 74 columns</p>\n",
       "</div>"
      ],
      "text/plain": [
       "   Unnamed: 0   id        pid  ms_subclass ms_zoning  lot_frontage  lot_area  \\\n",
       "0           0  109  533352170           60        RL          68.0     13517   \n",
       "1           1  544  531379050           60        RL          43.0     11492   \n",
       "2           2  153  535304180           20        RL          68.0      7922   \n",
       "3           3  318  916386060           60        RL          73.0      9802   \n",
       "4           4  255  906425045           50        RL          82.0     14235   \n",
       "\n",
       "  street lot_shape land_contour  ... garage_cond paved_drive wood_deck_sf  \\\n",
       "0   Pave       IR1          Lvl  ...          TA           Y            0   \n",
       "1   Pave       IR1          Lvl  ...          TA           Y            0   \n",
       "2   Pave       Reg          Lvl  ...          TA           Y            0   \n",
       "3   Pave       Reg          Lvl  ...          TA           Y          100   \n",
       "4   Pave       IR1          Lvl  ...          TA           N            0   \n",
       "\n",
       "  open_porch_sf enclosed_porch screen_porch mo_sold yr_sold  sale_type  \\\n",
       "0            44              0            0       3    2010        WD    \n",
       "1            74              0            0       4    2009        WD    \n",
       "2            52              0            0       1    2010        WD    \n",
       "3             0              0            0       4    2010        WD    \n",
       "4            59              0            0       3    2010        WD    \n",
       "\n",
       "   saleprice  \n",
       "0     130500  \n",
       "1     220000  \n",
       "2     109000  \n",
       "3     174000  \n",
       "4     138500  \n",
       "\n",
       "[5 rows x 74 columns]"
      ]
     },
     "execution_count": 22,
     "metadata": {},
     "output_type": "execute_result"
    }
   ],
   "source": [
    "train = pd.read_csv('./datasets/train_cleaned.csv')\n",
    "train.head()"
   ]
  },
  {
   "cell_type": "code",
   "execution_count": 23,
   "id": "81c3e736",
   "metadata": {},
   "outputs": [],
   "source": [
    "#dropping the Unnamed column\n",
    "train.drop(columns=['Unnamed: 0'], inplace = True)"
   ]
  },
  {
   "cell_type": "markdown",
   "id": "63b26303",
   "metadata": {},
   "source": [
    "#STILL UNSURE HOW TO DO THIS. I GET THEORY BEHIND WHY WE USE THESE MODELS, JUST NOT CONFIDENT AS TO HOW TO EXECUTE THE CODE. DECIDED TO LEAVE FOR NOW AND UPDATE ONCE I GAIN A BETTER UNDERSTANDING AND GET HELP. "
   ]
  },
  {
   "cell_type": "code",
   "execution_count": 24,
   "id": "de0b86fe",
   "metadata": {},
   "outputs": [],
   "source": [
    "#l_alphas = np.arange(0.001, 0.15, 0.0025)\n",
    "#l_coefs = lasso_coefs(X_4, y_4, l_alphas)"
   ]
  },
  {
   "cell_type": "code",
   "execution_count": 25,
   "id": "39626e76",
   "metadata": {},
   "outputs": [],
   "source": [
    "#def lasso_plot_runner(alpha=0):\n",
    "    #coef_plotter(l_alphas, l_coefs, X_4.columns, alpha, regtype='lasso')\n",
    "\n",
    "#interact(lasso_plot_runner, alpha=(0.001,0.2,0.0025))"
   ]
  },
  {
   "cell_type": "code",
   "execution_count": 26,
   "id": "f7b90194",
   "metadata": {},
   "outputs": [],
   "source": [
    "#dummifyig, basemnt condition \n",
    "#train = pd.get_dummies(train, columns=['bsmt_cond'])\n",
    "#train.head(2)"
   ]
  },
  {
   "cell_type": "code",
   "execution_count": 27,
   "id": "9b2c2ff3",
   "metadata": {},
   "outputs": [],
   "source": [
    "#train.drop('bsmt_cond_No Basement', axis =1,inplace = True)"
   ]
  },
  {
   "cell_type": "code",
   "execution_count": null,
   "id": "ffb0e0e9",
   "metadata": {},
   "outputs": [],
   "source": []
  },
  {
   "cell_type": "code",
   "execution_count": 28,
   "id": "f07efeff",
   "metadata": {},
   "outputs": [],
   "source": [
    "#creating my x and y variables \n",
    "#X_4 = train[['bsmtfin_sf_1','bsmtfin_sf_2','bsmt_unf_sf','total_bsmt_sf','bsmt_full_bath','bsmt_half_bath',\\\n",
    "             #'full_bath','half_bath', 'bedroom_abvgr','totrms_abvgrd','bsmt_cond_Ex','bsmt_cond_Fa',\\\n",
    "             #'bsmt_cond_Gd','bsmt_cond_Po','bsmt_cond_TA','overall_qual' ]]\n",
    "#y_4 = train['saleprice']"
   ]
  },
  {
   "cell_type": "code",
   "execution_count": 29,
   "id": "5b42c7db",
   "metadata": {},
   "outputs": [],
   "source": [
    "#ss = StandardScaler()\n",
    "#ss.fit(X_4_train)\n",
    "#X_4_train = ss.transform(X_1_train)\n",
    "#X_4_test = ss.transform(X_1_test)"
   ]
  }
 ],
 "metadata": {
  "kernelspec": {
   "display_name": "Python 3",
   "language": "python",
   "name": "python3"
  },
  "language_info": {
   "codemirror_mode": {
    "name": "ipython",
    "version": 3
   },
   "file_extension": ".py",
   "mimetype": "text/x-python",
   "name": "python",
   "nbconvert_exporter": "python",
   "pygments_lexer": "ipython3",
   "version": "3.8.8"
  }
 },
 "nbformat": 4,
 "nbformat_minor": 5
}
