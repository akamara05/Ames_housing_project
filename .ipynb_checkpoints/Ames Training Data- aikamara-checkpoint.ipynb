{
 "cells": [
  {
   "cell_type": "markdown",
   "id": "ce7df8c5",
   "metadata": {},
   "source": [
    "# DSI Project 2 - Ames Housing Data and Kaggle Challenge"
   ]
  },
  {
   "cell_type": "markdown",
   "id": "a5c5a28f",
   "metadata": {},
   "source": [
    "### Part 1: Overview and Data Cleaning "
   ]
  },
  {
   "cell_type": "markdown",
   "id": "3f3183be",
   "metadata": {},
   "source": [
    "[Data Dictionary](https://www.kaggle.com/c/dsir-712-project-2-regression-challenge/data)"
   ]
  },
  {
   "cell_type": "markdown",
   "id": "fd732deb",
   "metadata": {},
   "source": [
    "__Imports__\n",
    "* First things firts, lets import all teh libararies we feel at this point will be pertinent to our analysis. "
   ]
  },
  {
   "cell_type": "code",
   "execution_count": 1,
   "id": "b31e08ca",
   "metadata": {},
   "outputs": [],
   "source": [
    "import numpy as np\n",
    "import pandas as pd\n",
    "from matplotlib import pyplot as plt\n",
    "import seaborn as sns\n",
    "\n",
    "#Scikit imports\n",
    "#from sklearn.linear_model import LinearRegression\n",
    "#from sklearn.model_selection import train_test_split, cross_val_score\n",
    "#from sklearn.metrics import r2_score"
   ]
  },
  {
   "cell_type": "markdown",
   "id": "415f8686",
   "metadata": {},
   "source": [
    "__Reading Data__\n",
    "* Reading in the train/test data we are to use"
   ]
  },
  {
   "cell_type": "code",
   "execution_count": 2,
   "id": "2663f9ce",
   "metadata": {},
   "outputs": [
    {
     "data": {
      "text/html": [
       "<div>\n",
       "<style scoped>\n",
       "    .dataframe tbody tr th:only-of-type {\n",
       "        vertical-align: middle;\n",
       "    }\n",
       "\n",
       "    .dataframe tbody tr th {\n",
       "        vertical-align: top;\n",
       "    }\n",
       "\n",
       "    .dataframe thead th {\n",
       "        text-align: right;\n",
       "    }\n",
       "</style>\n",
       "<table border=\"1\" class=\"dataframe\">\n",
       "  <thead>\n",
       "    <tr style=\"text-align: right;\">\n",
       "      <th></th>\n",
       "      <th>Id</th>\n",
       "      <th>PID</th>\n",
       "      <th>MS SubClass</th>\n",
       "      <th>MS Zoning</th>\n",
       "      <th>Lot Frontage</th>\n",
       "      <th>Lot Area</th>\n",
       "      <th>Street</th>\n",
       "      <th>Alley</th>\n",
       "      <th>Lot Shape</th>\n",
       "      <th>Land Contour</th>\n",
       "      <th>...</th>\n",
       "      <th>Screen Porch</th>\n",
       "      <th>Pool Area</th>\n",
       "      <th>Pool QC</th>\n",
       "      <th>Fence</th>\n",
       "      <th>Misc Feature</th>\n",
       "      <th>Misc Val</th>\n",
       "      <th>Mo Sold</th>\n",
       "      <th>Yr Sold</th>\n",
       "      <th>Sale Type</th>\n",
       "      <th>SalePrice</th>\n",
       "    </tr>\n",
       "  </thead>\n",
       "  <tbody>\n",
       "    <tr>\n",
       "      <th>0</th>\n",
       "      <td>109</td>\n",
       "      <td>533352170</td>\n",
       "      <td>60</td>\n",
       "      <td>RL</td>\n",
       "      <td>NaN</td>\n",
       "      <td>13517</td>\n",
       "      <td>Pave</td>\n",
       "      <td>NaN</td>\n",
       "      <td>IR1</td>\n",
       "      <td>Lvl</td>\n",
       "      <td>...</td>\n",
       "      <td>0</td>\n",
       "      <td>0</td>\n",
       "      <td>NaN</td>\n",
       "      <td>NaN</td>\n",
       "      <td>NaN</td>\n",
       "      <td>0</td>\n",
       "      <td>3</td>\n",
       "      <td>2010</td>\n",
       "      <td>WD</td>\n",
       "      <td>130500</td>\n",
       "    </tr>\n",
       "    <tr>\n",
       "      <th>1</th>\n",
       "      <td>544</td>\n",
       "      <td>531379050</td>\n",
       "      <td>60</td>\n",
       "      <td>RL</td>\n",
       "      <td>43.0</td>\n",
       "      <td>11492</td>\n",
       "      <td>Pave</td>\n",
       "      <td>NaN</td>\n",
       "      <td>IR1</td>\n",
       "      <td>Lvl</td>\n",
       "      <td>...</td>\n",
       "      <td>0</td>\n",
       "      <td>0</td>\n",
       "      <td>NaN</td>\n",
       "      <td>NaN</td>\n",
       "      <td>NaN</td>\n",
       "      <td>0</td>\n",
       "      <td>4</td>\n",
       "      <td>2009</td>\n",
       "      <td>WD</td>\n",
       "      <td>220000</td>\n",
       "    </tr>\n",
       "    <tr>\n",
       "      <th>2</th>\n",
       "      <td>153</td>\n",
       "      <td>535304180</td>\n",
       "      <td>20</td>\n",
       "      <td>RL</td>\n",
       "      <td>68.0</td>\n",
       "      <td>7922</td>\n",
       "      <td>Pave</td>\n",
       "      <td>NaN</td>\n",
       "      <td>Reg</td>\n",
       "      <td>Lvl</td>\n",
       "      <td>...</td>\n",
       "      <td>0</td>\n",
       "      <td>0</td>\n",
       "      <td>NaN</td>\n",
       "      <td>NaN</td>\n",
       "      <td>NaN</td>\n",
       "      <td>0</td>\n",
       "      <td>1</td>\n",
       "      <td>2010</td>\n",
       "      <td>WD</td>\n",
       "      <td>109000</td>\n",
       "    </tr>\n",
       "    <tr>\n",
       "      <th>3</th>\n",
       "      <td>318</td>\n",
       "      <td>916386060</td>\n",
       "      <td>60</td>\n",
       "      <td>RL</td>\n",
       "      <td>73.0</td>\n",
       "      <td>9802</td>\n",
       "      <td>Pave</td>\n",
       "      <td>NaN</td>\n",
       "      <td>Reg</td>\n",
       "      <td>Lvl</td>\n",
       "      <td>...</td>\n",
       "      <td>0</td>\n",
       "      <td>0</td>\n",
       "      <td>NaN</td>\n",
       "      <td>NaN</td>\n",
       "      <td>NaN</td>\n",
       "      <td>0</td>\n",
       "      <td>4</td>\n",
       "      <td>2010</td>\n",
       "      <td>WD</td>\n",
       "      <td>174000</td>\n",
       "    </tr>\n",
       "    <tr>\n",
       "      <th>4</th>\n",
       "      <td>255</td>\n",
       "      <td>906425045</td>\n",
       "      <td>50</td>\n",
       "      <td>RL</td>\n",
       "      <td>82.0</td>\n",
       "      <td>14235</td>\n",
       "      <td>Pave</td>\n",
       "      <td>NaN</td>\n",
       "      <td>IR1</td>\n",
       "      <td>Lvl</td>\n",
       "      <td>...</td>\n",
       "      <td>0</td>\n",
       "      <td>0</td>\n",
       "      <td>NaN</td>\n",
       "      <td>NaN</td>\n",
       "      <td>NaN</td>\n",
       "      <td>0</td>\n",
       "      <td>3</td>\n",
       "      <td>2010</td>\n",
       "      <td>WD</td>\n",
       "      <td>138500</td>\n",
       "    </tr>\n",
       "  </tbody>\n",
       "</table>\n",
       "<p>5 rows × 81 columns</p>\n",
       "</div>"
      ],
      "text/plain": [
       "    Id        PID  MS SubClass MS Zoning  Lot Frontage  Lot Area Street Alley  \\\n",
       "0  109  533352170           60        RL           NaN     13517   Pave   NaN   \n",
       "1  544  531379050           60        RL          43.0     11492   Pave   NaN   \n",
       "2  153  535304180           20        RL          68.0      7922   Pave   NaN   \n",
       "3  318  916386060           60        RL          73.0      9802   Pave   NaN   \n",
       "4  255  906425045           50        RL          82.0     14235   Pave   NaN   \n",
       "\n",
       "  Lot Shape Land Contour  ... Screen Porch Pool Area Pool QC Fence  \\\n",
       "0       IR1          Lvl  ...            0         0     NaN   NaN   \n",
       "1       IR1          Lvl  ...            0         0     NaN   NaN   \n",
       "2       Reg          Lvl  ...            0         0     NaN   NaN   \n",
       "3       Reg          Lvl  ...            0         0     NaN   NaN   \n",
       "4       IR1          Lvl  ...            0         0     NaN   NaN   \n",
       "\n",
       "  Misc Feature Misc Val Mo Sold Yr Sold  Sale Type  SalePrice  \n",
       "0          NaN        0       3    2010        WD      130500  \n",
       "1          NaN        0       4    2009        WD      220000  \n",
       "2          NaN        0       1    2010        WD      109000  \n",
       "3          NaN        0       4    2010        WD      174000  \n",
       "4          NaN        0       3    2010        WD      138500  \n",
       "\n",
       "[5 rows x 81 columns]"
      ]
     },
     "execution_count": 2,
     "metadata": {},
     "output_type": "execute_result"
    }
   ],
   "source": [
    "train = pd.read_csv('./datasets/train.csv')\n",
    "train.head()"
   ]
  },
  {
   "cell_type": "markdown",
   "id": "c86ab7da",
   "metadata": {},
   "source": [
    "__Testing Data__"
   ]
  },
  {
   "cell_type": "code",
   "execution_count": 3,
   "id": "de0c1c73",
   "metadata": {},
   "outputs": [
    {
     "data": {
      "text/html": [
       "<div>\n",
       "<style scoped>\n",
       "    .dataframe tbody tr th:only-of-type {\n",
       "        vertical-align: middle;\n",
       "    }\n",
       "\n",
       "    .dataframe tbody tr th {\n",
       "        vertical-align: top;\n",
       "    }\n",
       "\n",
       "    .dataframe thead th {\n",
       "        text-align: right;\n",
       "    }\n",
       "</style>\n",
       "<table border=\"1\" class=\"dataframe\">\n",
       "  <thead>\n",
       "    <tr style=\"text-align: right;\">\n",
       "      <th></th>\n",
       "      <th>Id</th>\n",
       "      <th>PID</th>\n",
       "      <th>MS SubClass</th>\n",
       "      <th>MS Zoning</th>\n",
       "      <th>Lot Frontage</th>\n",
       "      <th>Lot Area</th>\n",
       "      <th>Street</th>\n",
       "      <th>Alley</th>\n",
       "      <th>Lot Shape</th>\n",
       "      <th>Land Contour</th>\n",
       "      <th>...</th>\n",
       "      <th>3Ssn Porch</th>\n",
       "      <th>Screen Porch</th>\n",
       "      <th>Pool Area</th>\n",
       "      <th>Pool QC</th>\n",
       "      <th>Fence</th>\n",
       "      <th>Misc Feature</th>\n",
       "      <th>Misc Val</th>\n",
       "      <th>Mo Sold</th>\n",
       "      <th>Yr Sold</th>\n",
       "      <th>Sale Type</th>\n",
       "    </tr>\n",
       "  </thead>\n",
       "  <tbody>\n",
       "    <tr>\n",
       "      <th>0</th>\n",
       "      <td>2658</td>\n",
       "      <td>902301120</td>\n",
       "      <td>190</td>\n",
       "      <td>RM</td>\n",
       "      <td>69.0</td>\n",
       "      <td>9142</td>\n",
       "      <td>Pave</td>\n",
       "      <td>Grvl</td>\n",
       "      <td>Reg</td>\n",
       "      <td>Lvl</td>\n",
       "      <td>...</td>\n",
       "      <td>0</td>\n",
       "      <td>0</td>\n",
       "      <td>0</td>\n",
       "      <td>NaN</td>\n",
       "      <td>NaN</td>\n",
       "      <td>NaN</td>\n",
       "      <td>0</td>\n",
       "      <td>4</td>\n",
       "      <td>2006</td>\n",
       "      <td>WD</td>\n",
       "    </tr>\n",
       "    <tr>\n",
       "      <th>1</th>\n",
       "      <td>2718</td>\n",
       "      <td>905108090</td>\n",
       "      <td>90</td>\n",
       "      <td>RL</td>\n",
       "      <td>NaN</td>\n",
       "      <td>9662</td>\n",
       "      <td>Pave</td>\n",
       "      <td>NaN</td>\n",
       "      <td>IR1</td>\n",
       "      <td>Lvl</td>\n",
       "      <td>...</td>\n",
       "      <td>0</td>\n",
       "      <td>0</td>\n",
       "      <td>0</td>\n",
       "      <td>NaN</td>\n",
       "      <td>NaN</td>\n",
       "      <td>NaN</td>\n",
       "      <td>0</td>\n",
       "      <td>8</td>\n",
       "      <td>2006</td>\n",
       "      <td>WD</td>\n",
       "    </tr>\n",
       "    <tr>\n",
       "      <th>2</th>\n",
       "      <td>2414</td>\n",
       "      <td>528218130</td>\n",
       "      <td>60</td>\n",
       "      <td>RL</td>\n",
       "      <td>58.0</td>\n",
       "      <td>17104</td>\n",
       "      <td>Pave</td>\n",
       "      <td>NaN</td>\n",
       "      <td>IR1</td>\n",
       "      <td>Lvl</td>\n",
       "      <td>...</td>\n",
       "      <td>0</td>\n",
       "      <td>0</td>\n",
       "      <td>0</td>\n",
       "      <td>NaN</td>\n",
       "      <td>NaN</td>\n",
       "      <td>NaN</td>\n",
       "      <td>0</td>\n",
       "      <td>9</td>\n",
       "      <td>2006</td>\n",
       "      <td>New</td>\n",
       "    </tr>\n",
       "    <tr>\n",
       "      <th>3</th>\n",
       "      <td>1989</td>\n",
       "      <td>902207150</td>\n",
       "      <td>30</td>\n",
       "      <td>RM</td>\n",
       "      <td>60.0</td>\n",
       "      <td>8520</td>\n",
       "      <td>Pave</td>\n",
       "      <td>NaN</td>\n",
       "      <td>Reg</td>\n",
       "      <td>Lvl</td>\n",
       "      <td>...</td>\n",
       "      <td>0</td>\n",
       "      <td>0</td>\n",
       "      <td>0</td>\n",
       "      <td>NaN</td>\n",
       "      <td>NaN</td>\n",
       "      <td>NaN</td>\n",
       "      <td>0</td>\n",
       "      <td>7</td>\n",
       "      <td>2007</td>\n",
       "      <td>WD</td>\n",
       "    </tr>\n",
       "    <tr>\n",
       "      <th>4</th>\n",
       "      <td>625</td>\n",
       "      <td>535105100</td>\n",
       "      <td>20</td>\n",
       "      <td>RL</td>\n",
       "      <td>NaN</td>\n",
       "      <td>9500</td>\n",
       "      <td>Pave</td>\n",
       "      <td>NaN</td>\n",
       "      <td>IR1</td>\n",
       "      <td>Lvl</td>\n",
       "      <td>...</td>\n",
       "      <td>0</td>\n",
       "      <td>185</td>\n",
       "      <td>0</td>\n",
       "      <td>NaN</td>\n",
       "      <td>NaN</td>\n",
       "      <td>NaN</td>\n",
       "      <td>0</td>\n",
       "      <td>7</td>\n",
       "      <td>2009</td>\n",
       "      <td>WD</td>\n",
       "    </tr>\n",
       "  </tbody>\n",
       "</table>\n",
       "<p>5 rows × 80 columns</p>\n",
       "</div>"
      ],
      "text/plain": [
       "     Id        PID  MS SubClass MS Zoning  Lot Frontage  Lot Area Street  \\\n",
       "0  2658  902301120          190        RM          69.0      9142   Pave   \n",
       "1  2718  905108090           90        RL           NaN      9662   Pave   \n",
       "2  2414  528218130           60        RL          58.0     17104   Pave   \n",
       "3  1989  902207150           30        RM          60.0      8520   Pave   \n",
       "4   625  535105100           20        RL           NaN      9500   Pave   \n",
       "\n",
       "  Alley Lot Shape Land Contour  ... 3Ssn Porch Screen Porch Pool Area Pool QC  \\\n",
       "0  Grvl       Reg          Lvl  ...          0            0         0     NaN   \n",
       "1   NaN       IR1          Lvl  ...          0            0         0     NaN   \n",
       "2   NaN       IR1          Lvl  ...          0            0         0     NaN   \n",
       "3   NaN       Reg          Lvl  ...          0            0         0     NaN   \n",
       "4   NaN       IR1          Lvl  ...          0          185         0     NaN   \n",
       "\n",
       "  Fence Misc Feature Misc Val Mo Sold  Yr Sold  Sale Type  \n",
       "0   NaN          NaN        0       4     2006        WD   \n",
       "1   NaN          NaN        0       8     2006        WD   \n",
       "2   NaN          NaN        0       9     2006        New  \n",
       "3   NaN          NaN        0       7     2007        WD   \n",
       "4   NaN          NaN        0       7     2009        WD   \n",
       "\n",
       "[5 rows x 80 columns]"
      ]
     },
     "execution_count": 3,
     "metadata": {},
     "output_type": "execute_result"
    }
   ],
   "source": [
    "test = pd.read_csv('./datasets/test.csv')\n",
    "test.head()"
   ]
  },
  {
   "cell_type": "markdown",
   "id": "26a7c0fd",
   "metadata": {},
   "source": [
    "*The testing data has all the columns exccept for teh dependent variable, sale price which we will be generating at the end.*"
   ]
  },
  {
   "cell_type": "markdown",
   "id": "60b7d0ff",
   "metadata": {},
   "source": [
    "__Brief overview of observations__"
   ]
  },
  {
   "cell_type": "code",
   "execution_count": 4,
   "id": "b86e6f18",
   "metadata": {},
   "outputs": [
    {
     "data": {
      "text/plain": [
       "(2051, 81)"
      ]
     },
     "execution_count": 4,
     "metadata": {},
     "output_type": "execute_result"
    }
   ],
   "source": [
    "train.shape"
   ]
  },
  {
   "cell_type": "code",
   "execution_count": 5,
   "id": "fad4038c",
   "metadata": {},
   "outputs": [
    {
     "data": {
      "text/plain": [
       "(878, 80)"
      ]
     },
     "execution_count": 5,
     "metadata": {},
     "output_type": "execute_result"
    }
   ],
   "source": [
    "test.shape"
   ]
  },
  {
   "cell_type": "code",
   "execution_count": 6,
   "id": "79ae5b98",
   "metadata": {},
   "outputs": [],
   "source": [
    "train.columns = [column.replace(' ','_') for column in train.columns]"
   ]
  },
  {
   "cell_type": "code",
   "execution_count": 7,
   "id": "b9075905",
   "metadata": {},
   "outputs": [],
   "source": [
    "test.columns = [column.replace(' ','_') for column in test.columns]"
   ]
  },
  {
   "cell_type": "code",
   "execution_count": 8,
   "id": "2458e870",
   "metadata": {},
   "outputs": [],
   "source": [
    "train.columns = [column.lower() for column in train.columns]"
   ]
  },
  {
   "cell_type": "code",
   "execution_count": 9,
   "id": "816a2b7c",
   "metadata": {},
   "outputs": [],
   "source": [
    "test.columns = [column.lower() for column in test.columns]"
   ]
  },
  {
   "cell_type": "code",
   "execution_count": 10,
   "id": "bb1a7fcf",
   "metadata": {},
   "outputs": [
    {
     "data": {
      "text/html": [
       "<div>\n",
       "<style scoped>\n",
       "    .dataframe tbody tr th:only-of-type {\n",
       "        vertical-align: middle;\n",
       "    }\n",
       "\n",
       "    .dataframe tbody tr th {\n",
       "        vertical-align: top;\n",
       "    }\n",
       "\n",
       "    .dataframe thead th {\n",
       "        text-align: right;\n",
       "    }\n",
       "</style>\n",
       "<table border=\"1\" class=\"dataframe\">\n",
       "  <thead>\n",
       "    <tr style=\"text-align: right;\">\n",
       "      <th></th>\n",
       "      <th>id</th>\n",
       "      <th>pid</th>\n",
       "      <th>ms_subclass</th>\n",
       "      <th>ms_zoning</th>\n",
       "      <th>lot_frontage</th>\n",
       "      <th>lot_area</th>\n",
       "      <th>street</th>\n",
       "      <th>alley</th>\n",
       "      <th>lot_shape</th>\n",
       "      <th>land_contour</th>\n",
       "      <th>...</th>\n",
       "      <th>screen_porch</th>\n",
       "      <th>pool_area</th>\n",
       "      <th>pool_qc</th>\n",
       "      <th>fence</th>\n",
       "      <th>misc_feature</th>\n",
       "      <th>misc_val</th>\n",
       "      <th>mo_sold</th>\n",
       "      <th>yr_sold</th>\n",
       "      <th>sale_type</th>\n",
       "      <th>saleprice</th>\n",
       "    </tr>\n",
       "  </thead>\n",
       "  <tbody>\n",
       "    <tr>\n",
       "      <th>0</th>\n",
       "      <td>109</td>\n",
       "      <td>533352170</td>\n",
       "      <td>60</td>\n",
       "      <td>RL</td>\n",
       "      <td>NaN</td>\n",
       "      <td>13517</td>\n",
       "      <td>Pave</td>\n",
       "      <td>NaN</td>\n",
       "      <td>IR1</td>\n",
       "      <td>Lvl</td>\n",
       "      <td>...</td>\n",
       "      <td>0</td>\n",
       "      <td>0</td>\n",
       "      <td>NaN</td>\n",
       "      <td>NaN</td>\n",
       "      <td>NaN</td>\n",
       "      <td>0</td>\n",
       "      <td>3</td>\n",
       "      <td>2010</td>\n",
       "      <td>WD</td>\n",
       "      <td>130500</td>\n",
       "    </tr>\n",
       "    <tr>\n",
       "      <th>1</th>\n",
       "      <td>544</td>\n",
       "      <td>531379050</td>\n",
       "      <td>60</td>\n",
       "      <td>RL</td>\n",
       "      <td>43.0</td>\n",
       "      <td>11492</td>\n",
       "      <td>Pave</td>\n",
       "      <td>NaN</td>\n",
       "      <td>IR1</td>\n",
       "      <td>Lvl</td>\n",
       "      <td>...</td>\n",
       "      <td>0</td>\n",
       "      <td>0</td>\n",
       "      <td>NaN</td>\n",
       "      <td>NaN</td>\n",
       "      <td>NaN</td>\n",
       "      <td>0</td>\n",
       "      <td>4</td>\n",
       "      <td>2009</td>\n",
       "      <td>WD</td>\n",
       "      <td>220000</td>\n",
       "    </tr>\n",
       "    <tr>\n",
       "      <th>2</th>\n",
       "      <td>153</td>\n",
       "      <td>535304180</td>\n",
       "      <td>20</td>\n",
       "      <td>RL</td>\n",
       "      <td>68.0</td>\n",
       "      <td>7922</td>\n",
       "      <td>Pave</td>\n",
       "      <td>NaN</td>\n",
       "      <td>Reg</td>\n",
       "      <td>Lvl</td>\n",
       "      <td>...</td>\n",
       "      <td>0</td>\n",
       "      <td>0</td>\n",
       "      <td>NaN</td>\n",
       "      <td>NaN</td>\n",
       "      <td>NaN</td>\n",
       "      <td>0</td>\n",
       "      <td>1</td>\n",
       "      <td>2010</td>\n",
       "      <td>WD</td>\n",
       "      <td>109000</td>\n",
       "    </tr>\n",
       "    <tr>\n",
       "      <th>3</th>\n",
       "      <td>318</td>\n",
       "      <td>916386060</td>\n",
       "      <td>60</td>\n",
       "      <td>RL</td>\n",
       "      <td>73.0</td>\n",
       "      <td>9802</td>\n",
       "      <td>Pave</td>\n",
       "      <td>NaN</td>\n",
       "      <td>Reg</td>\n",
       "      <td>Lvl</td>\n",
       "      <td>...</td>\n",
       "      <td>0</td>\n",
       "      <td>0</td>\n",
       "      <td>NaN</td>\n",
       "      <td>NaN</td>\n",
       "      <td>NaN</td>\n",
       "      <td>0</td>\n",
       "      <td>4</td>\n",
       "      <td>2010</td>\n",
       "      <td>WD</td>\n",
       "      <td>174000</td>\n",
       "    </tr>\n",
       "    <tr>\n",
       "      <th>4</th>\n",
       "      <td>255</td>\n",
       "      <td>906425045</td>\n",
       "      <td>50</td>\n",
       "      <td>RL</td>\n",
       "      <td>82.0</td>\n",
       "      <td>14235</td>\n",
       "      <td>Pave</td>\n",
       "      <td>NaN</td>\n",
       "      <td>IR1</td>\n",
       "      <td>Lvl</td>\n",
       "      <td>...</td>\n",
       "      <td>0</td>\n",
       "      <td>0</td>\n",
       "      <td>NaN</td>\n",
       "      <td>NaN</td>\n",
       "      <td>NaN</td>\n",
       "      <td>0</td>\n",
       "      <td>3</td>\n",
       "      <td>2010</td>\n",
       "      <td>WD</td>\n",
       "      <td>138500</td>\n",
       "    </tr>\n",
       "  </tbody>\n",
       "</table>\n",
       "<p>5 rows × 81 columns</p>\n",
       "</div>"
      ],
      "text/plain": [
       "    id        pid  ms_subclass ms_zoning  lot_frontage  lot_area street alley  \\\n",
       "0  109  533352170           60        RL           NaN     13517   Pave   NaN   \n",
       "1  544  531379050           60        RL          43.0     11492   Pave   NaN   \n",
       "2  153  535304180           20        RL          68.0      7922   Pave   NaN   \n",
       "3  318  916386060           60        RL          73.0      9802   Pave   NaN   \n",
       "4  255  906425045           50        RL          82.0     14235   Pave   NaN   \n",
       "\n",
       "  lot_shape land_contour  ... screen_porch pool_area pool_qc fence  \\\n",
       "0       IR1          Lvl  ...            0         0     NaN   NaN   \n",
       "1       IR1          Lvl  ...            0         0     NaN   NaN   \n",
       "2       Reg          Lvl  ...            0         0     NaN   NaN   \n",
       "3       Reg          Lvl  ...            0         0     NaN   NaN   \n",
       "4       IR1          Lvl  ...            0         0     NaN   NaN   \n",
       "\n",
       "  misc_feature misc_val mo_sold yr_sold  sale_type  saleprice  \n",
       "0          NaN        0       3    2010        WD      130500  \n",
       "1          NaN        0       4    2009        WD      220000  \n",
       "2          NaN        0       1    2010        WD      109000  \n",
       "3          NaN        0       4    2010        WD      174000  \n",
       "4          NaN        0       3    2010        WD      138500  \n",
       "\n",
       "[5 rows x 81 columns]"
      ]
     },
     "execution_count": 10,
     "metadata": {},
     "output_type": "execute_result"
    }
   ],
   "source": [
    "train.head()"
   ]
  },
  {
   "cell_type": "code",
   "execution_count": 11,
   "id": "cb5a1e6a",
   "metadata": {},
   "outputs": [
    {
     "data": {
      "text/html": [
       "<div>\n",
       "<style scoped>\n",
       "    .dataframe tbody tr th:only-of-type {\n",
       "        vertical-align: middle;\n",
       "    }\n",
       "\n",
       "    .dataframe tbody tr th {\n",
       "        vertical-align: top;\n",
       "    }\n",
       "\n",
       "    .dataframe thead th {\n",
       "        text-align: right;\n",
       "    }\n",
       "</style>\n",
       "<table border=\"1\" class=\"dataframe\">\n",
       "  <thead>\n",
       "    <tr style=\"text-align: right;\">\n",
       "      <th></th>\n",
       "      <th>id</th>\n",
       "      <th>pid</th>\n",
       "      <th>ms_subclass</th>\n",
       "      <th>ms_zoning</th>\n",
       "      <th>lot_frontage</th>\n",
       "      <th>lot_area</th>\n",
       "      <th>street</th>\n",
       "      <th>alley</th>\n",
       "      <th>lot_shape</th>\n",
       "      <th>land_contour</th>\n",
       "      <th>...</th>\n",
       "      <th>3ssn_porch</th>\n",
       "      <th>screen_porch</th>\n",
       "      <th>pool_area</th>\n",
       "      <th>pool_qc</th>\n",
       "      <th>fence</th>\n",
       "      <th>misc_feature</th>\n",
       "      <th>misc_val</th>\n",
       "      <th>mo_sold</th>\n",
       "      <th>yr_sold</th>\n",
       "      <th>sale_type</th>\n",
       "    </tr>\n",
       "  </thead>\n",
       "  <tbody>\n",
       "    <tr>\n",
       "      <th>0</th>\n",
       "      <td>2658</td>\n",
       "      <td>902301120</td>\n",
       "      <td>190</td>\n",
       "      <td>RM</td>\n",
       "      <td>69.0</td>\n",
       "      <td>9142</td>\n",
       "      <td>Pave</td>\n",
       "      <td>Grvl</td>\n",
       "      <td>Reg</td>\n",
       "      <td>Lvl</td>\n",
       "      <td>...</td>\n",
       "      <td>0</td>\n",
       "      <td>0</td>\n",
       "      <td>0</td>\n",
       "      <td>NaN</td>\n",
       "      <td>NaN</td>\n",
       "      <td>NaN</td>\n",
       "      <td>0</td>\n",
       "      <td>4</td>\n",
       "      <td>2006</td>\n",
       "      <td>WD</td>\n",
       "    </tr>\n",
       "    <tr>\n",
       "      <th>1</th>\n",
       "      <td>2718</td>\n",
       "      <td>905108090</td>\n",
       "      <td>90</td>\n",
       "      <td>RL</td>\n",
       "      <td>NaN</td>\n",
       "      <td>9662</td>\n",
       "      <td>Pave</td>\n",
       "      <td>NaN</td>\n",
       "      <td>IR1</td>\n",
       "      <td>Lvl</td>\n",
       "      <td>...</td>\n",
       "      <td>0</td>\n",
       "      <td>0</td>\n",
       "      <td>0</td>\n",
       "      <td>NaN</td>\n",
       "      <td>NaN</td>\n",
       "      <td>NaN</td>\n",
       "      <td>0</td>\n",
       "      <td>8</td>\n",
       "      <td>2006</td>\n",
       "      <td>WD</td>\n",
       "    </tr>\n",
       "    <tr>\n",
       "      <th>2</th>\n",
       "      <td>2414</td>\n",
       "      <td>528218130</td>\n",
       "      <td>60</td>\n",
       "      <td>RL</td>\n",
       "      <td>58.0</td>\n",
       "      <td>17104</td>\n",
       "      <td>Pave</td>\n",
       "      <td>NaN</td>\n",
       "      <td>IR1</td>\n",
       "      <td>Lvl</td>\n",
       "      <td>...</td>\n",
       "      <td>0</td>\n",
       "      <td>0</td>\n",
       "      <td>0</td>\n",
       "      <td>NaN</td>\n",
       "      <td>NaN</td>\n",
       "      <td>NaN</td>\n",
       "      <td>0</td>\n",
       "      <td>9</td>\n",
       "      <td>2006</td>\n",
       "      <td>New</td>\n",
       "    </tr>\n",
       "    <tr>\n",
       "      <th>3</th>\n",
       "      <td>1989</td>\n",
       "      <td>902207150</td>\n",
       "      <td>30</td>\n",
       "      <td>RM</td>\n",
       "      <td>60.0</td>\n",
       "      <td>8520</td>\n",
       "      <td>Pave</td>\n",
       "      <td>NaN</td>\n",
       "      <td>Reg</td>\n",
       "      <td>Lvl</td>\n",
       "      <td>...</td>\n",
       "      <td>0</td>\n",
       "      <td>0</td>\n",
       "      <td>0</td>\n",
       "      <td>NaN</td>\n",
       "      <td>NaN</td>\n",
       "      <td>NaN</td>\n",
       "      <td>0</td>\n",
       "      <td>7</td>\n",
       "      <td>2007</td>\n",
       "      <td>WD</td>\n",
       "    </tr>\n",
       "    <tr>\n",
       "      <th>4</th>\n",
       "      <td>625</td>\n",
       "      <td>535105100</td>\n",
       "      <td>20</td>\n",
       "      <td>RL</td>\n",
       "      <td>NaN</td>\n",
       "      <td>9500</td>\n",
       "      <td>Pave</td>\n",
       "      <td>NaN</td>\n",
       "      <td>IR1</td>\n",
       "      <td>Lvl</td>\n",
       "      <td>...</td>\n",
       "      <td>0</td>\n",
       "      <td>185</td>\n",
       "      <td>0</td>\n",
       "      <td>NaN</td>\n",
       "      <td>NaN</td>\n",
       "      <td>NaN</td>\n",
       "      <td>0</td>\n",
       "      <td>7</td>\n",
       "      <td>2009</td>\n",
       "      <td>WD</td>\n",
       "    </tr>\n",
       "  </tbody>\n",
       "</table>\n",
       "<p>5 rows × 80 columns</p>\n",
       "</div>"
      ],
      "text/plain": [
       "     id        pid  ms_subclass ms_zoning  lot_frontage  lot_area street  \\\n",
       "0  2658  902301120          190        RM          69.0      9142   Pave   \n",
       "1  2718  905108090           90        RL           NaN      9662   Pave   \n",
       "2  2414  528218130           60        RL          58.0     17104   Pave   \n",
       "3  1989  902207150           30        RM          60.0      8520   Pave   \n",
       "4   625  535105100           20        RL           NaN      9500   Pave   \n",
       "\n",
       "  alley lot_shape land_contour  ... 3ssn_porch screen_porch pool_area pool_qc  \\\n",
       "0  Grvl       Reg          Lvl  ...          0            0         0     NaN   \n",
       "1   NaN       IR1          Lvl  ...          0            0         0     NaN   \n",
       "2   NaN       IR1          Lvl  ...          0            0         0     NaN   \n",
       "3   NaN       Reg          Lvl  ...          0            0         0     NaN   \n",
       "4   NaN       IR1          Lvl  ...          0          185         0     NaN   \n",
       "\n",
       "  fence misc_feature misc_val mo_sold  yr_sold  sale_type  \n",
       "0   NaN          NaN        0       4     2006        WD   \n",
       "1   NaN          NaN        0       8     2006        WD   \n",
       "2   NaN          NaN        0       9     2006        New  \n",
       "3   NaN          NaN        0       7     2007        WD   \n",
       "4   NaN          NaN        0       7     2009        WD   \n",
       "\n",
       "[5 rows x 80 columns]"
      ]
     },
     "execution_count": 11,
     "metadata": {},
     "output_type": "execute_result"
    }
   ],
   "source": [
    "test.head()"
   ]
  },
  {
   "cell_type": "markdown",
   "id": "4bb8c8d1",
   "metadata": {},
   "source": [
    "__Check for nulls__"
   ]
  },
  {
   "cell_type": "code",
   "execution_count": null,
   "id": "a23301e1",
   "metadata": {},
   "outputs": [],
   "source": []
  },
  {
   "cell_type": "code",
   "execution_count": 12,
   "id": "876dceff",
   "metadata": {},
   "outputs": [
    {
     "data": {
      "text/plain": [
       "Index(['lot_frontage', 'alley', 'mas_vnr_type', 'mas_vnr_area', 'bsmt_qual',\n",
       "       'bsmt_cond', 'bsmt_exposure', 'bsmtfin_type_1', 'bsmtfin_sf_1',\n",
       "       'bsmtfin_type_2', 'bsmtfin_sf_2', 'bsmt_unf_sf', 'total_bsmt_sf',\n",
       "       'bsmt_full_bath', 'bsmt_half_bath', 'fireplace_qu', 'garage_type',\n",
       "       'garage_yr_blt', 'garage_finish', 'garage_cars', 'garage_area',\n",
       "       'garage_qual', 'garage_cond', 'pool_qc', 'fence', 'misc_feature'],\n",
       "      dtype='object')"
      ]
     },
     "execution_count": 12,
     "metadata": {},
     "output_type": "execute_result"
    }
   ],
   "source": [
    "#List of all columns with nulls. \n",
    "train.columns[train.isnull().any()]"
   ]
  },
  {
   "cell_type": "code",
   "execution_count": 13,
   "id": "0c52c642",
   "metadata": {},
   "outputs": [
    {
     "data": {
      "text/plain": [
       "Index(['lot_frontage', 'alley', 'mas_vnr_type', 'mas_vnr_area', 'bsmt_qual',\n",
       "       'bsmt_cond', 'bsmt_exposure', 'bsmtfin_type_1', 'bsmtfin_type_2',\n",
       "       'electrical', 'fireplace_qu', 'garage_type', 'garage_yr_blt',\n",
       "       'garage_finish', 'garage_qual', 'garage_cond', 'pool_qc', 'fence',\n",
       "       'misc_feature'],\n",
       "      dtype='object')"
      ]
     },
     "execution_count": 13,
     "metadata": {},
     "output_type": "execute_result"
    }
   ],
   "source": [
    "#List of all columns with nulls. \n",
    "test.columns[test.isnull().any()]"
   ]
  },
  {
   "cell_type": "markdown",
   "id": "31486eee",
   "metadata": {},
   "source": [
    "[code source](https://moonbooks.org/Articles/How-to-filter-missing-data-NAN-or-NULL-values-in-a-pandas-DataFrame-/)"
   ]
  },
  {
   "cell_type": "code",
   "execution_count": 14,
   "id": "3513fa6d",
   "metadata": {},
   "outputs": [],
   "source": [
    "#train.bldg_type.value_counts()"
   ]
  },
  {
   "cell_type": "markdown",
   "id": "9b18b050",
   "metadata": {},
   "source": []
  },
  {
   "cell_type": "markdown",
   "id": "a578b3e3",
   "metadata": {},
   "source": [
    "__Sum of all null values for each variable__"
   ]
  },
  {
   "cell_type": "code",
   "execution_count": 15,
   "id": "47216bc3",
   "metadata": {},
   "outputs": [
    {
     "data": {
      "text/plain": [
       "id                 0\n",
       "sale_type          0\n",
       "heating_qc         0\n",
       "central_air        0\n",
       "electrical         0\n",
       "                ... \n",
       "fireplace_qu    1000\n",
       "fence           1651\n",
       "alley           1911\n",
       "misc_feature    1986\n",
       "pool_qc         2042\n",
       "Length: 81, dtype: int64"
      ]
     },
     "execution_count": 15,
     "metadata": {},
     "output_type": "execute_result"
    }
   ],
   "source": [
    "train.isnull().sum().sort_values()"
   ]
  },
  {
   "cell_type": "code",
   "execution_count": 16,
   "id": "0654d7b0",
   "metadata": {},
   "outputs": [
    {
     "name": "stdout",
     "output_type": "stream",
     "text": [
      "pool_qc , 2042\n",
      "misc_feature , 1986\n",
      "alley , 1911\n",
      "fence , 1651\n",
      "fireplace_qu , 1000\n",
      "lot_frontage , 330\n",
      "garage_finish , 114\n",
      "garage_qual , 114\n",
      "garage_yr_blt , 114\n",
      "garage_cond , 114\n",
      "garage_type , 113\n",
      "bsmt_exposure , 58\n",
      "bsmtfin_type_2 , 56\n",
      "bsmtfin_type_1 , 55\n",
      "bsmt_cond , 55\n",
      "bsmt_qual , 55\n",
      "mas_vnr_area , 22\n",
      "mas_vnr_type , 22\n",
      "bsmt_half_bath , 2\n",
      "bsmt_full_bath , 2\n",
      "garage_area , 1\n",
      "total_bsmt_sf , 1\n",
      "bsmt_unf_sf , 1\n",
      "bsmtfin_sf_2 , 1\n",
      "bsmtfin_sf_1 , 1\n",
      "garage_cars , 1\n",
      "mo_sold , 0\n",
      "sale_type , 0\n",
      "full_bath , 0\n",
      "half_bath , 0\n",
      "bedroom_abvgr , 0\n",
      "kitchen_abvgr , 0\n",
      "kitchen_qual , 0\n",
      "yr_sold , 0\n",
      "misc_val , 0\n",
      "pool_area , 0\n",
      "screen_porch , 0\n",
      "totrms_abvgrd , 0\n",
      "functional , 0\n",
      "fireplaces , 0\n",
      "3ssn_porch , 0\n",
      "enclosed_porch , 0\n",
      "open_porch_sf , 0\n",
      "wood_deck_sf , 0\n",
      "gr_liv_area , 0\n",
      "paved_drive , 0\n",
      "id , 0\n",
      "heating , 0\n",
      "low_qual_fin_sf , 0\n",
      "overall_qual , 0\n",
      "ms_subclass , 0\n",
      "ms_zoning , 0\n",
      "lot_area , 0\n",
      "street , 0\n",
      "lot_shape , 0\n",
      "land_contour , 0\n",
      "utilities , 0\n",
      "lot_config , 0\n",
      "land_slope , 0\n",
      "neighborhood , 0\n",
      "condition_1 , 0\n",
      "condition_2 , 0\n",
      "bldg_type , 0\n",
      "house_style , 0\n",
      "overall_cond , 0\n",
      "2nd_flr_sf , 0\n",
      "year_built , 0\n",
      "year_remod/add , 0\n",
      "roof_style , 0\n",
      "roof_matl , 0\n",
      "exterior_1st , 0\n",
      "exterior_2nd , 0\n",
      "exter_qual , 0\n",
      "exter_cond , 0\n",
      "foundation , 0\n",
      "pid , 0\n",
      "heating_qc , 0\n",
      "central_air , 0\n",
      "electrical , 0\n",
      "1st_flr_sf , 0\n",
      "saleprice , 0\n"
     ]
    }
   ],
   "source": [
    "data_types = train.isnull().sum().sort_values(ascending = False)\n",
    "for key,value in data_types.iteritems():\n",
    "    print(key,\",\",value) "
   ]
  },
  {
   "cell_type": "code",
   "execution_count": 17,
   "id": "b520d47b",
   "metadata": {},
   "outputs": [
    {
     "name": "stdout",
     "output_type": "stream",
     "text": [
      "id , 0\n",
      "pid , 0\n",
      "ms_subclass , 0\n",
      "ms_zoning , 0\n",
      "lot_frontage , 160\n",
      "lot_area , 0\n",
      "street , 0\n",
      "alley , 820\n",
      "lot_shape , 0\n",
      "land_contour , 0\n",
      "utilities , 0\n",
      "lot_config , 0\n",
      "land_slope , 0\n",
      "neighborhood , 0\n",
      "condition_1 , 0\n",
      "condition_2 , 0\n",
      "bldg_type , 0\n",
      "house_style , 0\n",
      "overall_qual , 0\n",
      "overall_cond , 0\n",
      "year_built , 0\n",
      "year_remod/add , 0\n",
      "roof_style , 0\n",
      "roof_matl , 0\n",
      "exterior_1st , 0\n",
      "exterior_2nd , 0\n",
      "mas_vnr_type , 1\n",
      "mas_vnr_area , 1\n",
      "exter_qual , 0\n",
      "exter_cond , 0\n",
      "foundation , 0\n",
      "bsmt_qual , 25\n",
      "bsmt_cond , 25\n",
      "bsmt_exposure , 25\n",
      "bsmtfin_type_1 , 25\n",
      "bsmtfin_sf_1 , 0\n",
      "bsmtfin_type_2 , 25\n",
      "bsmtfin_sf_2 , 0\n",
      "bsmt_unf_sf , 0\n",
      "total_bsmt_sf , 0\n",
      "heating , 0\n",
      "heating_qc , 0\n",
      "central_air , 0\n",
      "electrical , 1\n",
      "1st_flr_sf , 0\n",
      "2nd_flr_sf , 0\n",
      "low_qual_fin_sf , 0\n",
      "gr_liv_area , 0\n",
      "bsmt_full_bath , 0\n",
      "bsmt_half_bath , 0\n",
      "full_bath , 0\n",
      "half_bath , 0\n",
      "bedroom_abvgr , 0\n",
      "kitchen_abvgr , 0\n",
      "kitchen_qual , 0\n",
      "totrms_abvgrd , 0\n",
      "functional , 0\n",
      "fireplaces , 0\n",
      "fireplace_qu , 422\n",
      "garage_type , 44\n",
      "garage_yr_blt , 45\n",
      "garage_finish , 45\n",
      "garage_cars , 0\n",
      "garage_area , 0\n",
      "garage_qual , 45\n",
      "garage_cond , 45\n",
      "paved_drive , 0\n",
      "wood_deck_sf , 0\n",
      "open_porch_sf , 0\n",
      "enclosed_porch , 0\n",
      "3ssn_porch , 0\n",
      "screen_porch , 0\n",
      "pool_area , 0\n",
      "pool_qc , 874\n",
      "fence , 706\n",
      "misc_feature , 837\n",
      "misc_val , 0\n",
      "mo_sold , 0\n",
      "yr_sold , 0\n",
      "sale_type , 0\n"
     ]
    }
   ],
   "source": [
    "data_types = test.isnull().sum()\n",
    "for key,value in data_types.iteritems():\n",
    "    print(key,\",\",value)"
   ]
  },
  {
   "cell_type": "code",
   "execution_count": 18,
   "id": "59127c3b",
   "metadata": {},
   "outputs": [],
   "source": [
    "##DON\"T FORGET TO INCLUDE SOURCE "
   ]
  },
  {
   "cell_type": "markdown",
   "id": "4b27e3e0",
   "metadata": {},
   "source": [
    "__Mean of all null values for each variable__"
   ]
  },
  {
   "cell_type": "code",
   "execution_count": 19,
   "id": "d9c0f067",
   "metadata": {},
   "outputs": [
    {
     "name": "stdout",
     "output_type": "stream",
     "text": [
      "pool_qc , 0.9956118966357874\n",
      "misc_feature , 0.9683081423695759\n",
      "alley , 0.931740614334471\n",
      "fence , 0.8049731838127743\n",
      "fireplace_qu , 0.48756704046806437\n",
      "lot_frontage , 0.16089712335446124\n",
      "garage_finish , 0.05558264261335934\n",
      "garage_qual , 0.05558264261335934\n",
      "garage_yr_blt , 0.05558264261335934\n",
      "garage_cond , 0.05558264261335934\n",
      "garage_type , 0.05509507557289127\n",
      "bsmt_exposure , 0.028278888347147733\n",
      "bsmtfin_type_2 , 0.027303754266211604\n",
      "bsmtfin_type_1 , 0.02681618722574354\n",
      "bsmt_cond , 0.02681618722574354\n",
      "bsmt_qual , 0.02681618722574354\n",
      "mas_vnr_area , 0.010726474890297415\n",
      "mas_vnr_type , 0.010726474890297415\n",
      "bsmt_half_bath , 0.0009751340809361287\n",
      "bsmt_full_bath , 0.0009751340809361287\n",
      "garage_area , 0.00048756704046806434\n",
      "total_bsmt_sf , 0.00048756704046806434\n",
      "bsmt_unf_sf , 0.00048756704046806434\n",
      "bsmtfin_sf_2 , 0.00048756704046806434\n",
      "bsmtfin_sf_1 , 0.00048756704046806434\n",
      "garage_cars , 0.00048756704046806434\n",
      "mo_sold , 0.0\n",
      "sale_type , 0.0\n",
      "full_bath , 0.0\n",
      "half_bath , 0.0\n",
      "bedroom_abvgr , 0.0\n",
      "kitchen_abvgr , 0.0\n",
      "kitchen_qual , 0.0\n",
      "yr_sold , 0.0\n",
      "misc_val , 0.0\n",
      "pool_area , 0.0\n",
      "screen_porch , 0.0\n",
      "totrms_abvgrd , 0.0\n",
      "functional , 0.0\n",
      "fireplaces , 0.0\n",
      "3ssn_porch , 0.0\n",
      "enclosed_porch , 0.0\n",
      "open_porch_sf , 0.0\n",
      "wood_deck_sf , 0.0\n",
      "gr_liv_area , 0.0\n",
      "paved_drive , 0.0\n",
      "id , 0.0\n",
      "heating , 0.0\n",
      "low_qual_fin_sf , 0.0\n",
      "overall_qual , 0.0\n",
      "ms_subclass , 0.0\n",
      "ms_zoning , 0.0\n",
      "lot_area , 0.0\n",
      "street , 0.0\n",
      "lot_shape , 0.0\n",
      "land_contour , 0.0\n",
      "utilities , 0.0\n",
      "lot_config , 0.0\n",
      "land_slope , 0.0\n",
      "neighborhood , 0.0\n",
      "condition_1 , 0.0\n",
      "condition_2 , 0.0\n",
      "bldg_type , 0.0\n",
      "house_style , 0.0\n",
      "overall_cond , 0.0\n",
      "2nd_flr_sf , 0.0\n",
      "year_built , 0.0\n",
      "year_remod/add , 0.0\n",
      "roof_style , 0.0\n",
      "roof_matl , 0.0\n",
      "exterior_1st , 0.0\n",
      "exterior_2nd , 0.0\n",
      "exter_qual , 0.0\n",
      "exter_cond , 0.0\n",
      "foundation , 0.0\n",
      "pid , 0.0\n",
      "heating_qc , 0.0\n",
      "central_air , 0.0\n",
      "electrical , 0.0\n",
      "1st_flr_sf , 0.0\n",
      "saleprice , 0.0\n"
     ]
    }
   ],
   "source": [
    "data_types = train.isnull().mean().sort_values(ascending= False)\n",
    "for key,value in data_types.iteritems():\n",
    "    print(key,\",\",value)"
   ]
  },
  {
   "cell_type": "markdown",
   "id": "e6aae120",
   "metadata": {},
   "source": [
    "On a preliminary basis, any of the variables with null values with an average 0.9 or above within my train dataset, I decided to drop instead of spend time to impute data. \n",
    "\n",
    "- 'alley'\n",
    "- 'pool_qc'\n",
    "- 'misc_feature'"
   ]
  },
  {
   "cell_type": "code",
   "execution_count": 20,
   "id": "25094e36",
   "metadata": {},
   "outputs": [],
   "source": [
    "train.drop(columns =['pool_qc','misc_feature','alley'], inplace = True)"
   ]
  },
  {
   "cell_type": "code",
   "execution_count": 23,
   "id": "ee8a385f",
   "metadata": {},
   "outputs": [
    {
     "ename": "KeyError",
     "evalue": "\"['pool_qc' 'misc_feature' 'alley'] not found in axis\"",
     "output_type": "error",
     "traceback": [
      "\u001b[0;31m---------------------------------------------------------------------------\u001b[0m",
      "\u001b[0;31mKeyError\u001b[0m                                  Traceback (most recent call last)",
      "\u001b[0;32m<ipython-input-23-8ad86e604830>\u001b[0m in \u001b[0;36m<module>\u001b[0;34m\u001b[0m\n\u001b[0;32m----> 1\u001b[0;31m \u001b[0mtest\u001b[0m\u001b[0;34m.\u001b[0m\u001b[0mdrop\u001b[0m\u001b[0;34m(\u001b[0m\u001b[0mcolumns\u001b[0m \u001b[0;34m=\u001b[0m\u001b[0;34m[\u001b[0m\u001b[0;34m'pool_qc'\u001b[0m\u001b[0;34m,\u001b[0m\u001b[0;34m'misc_feature'\u001b[0m\u001b[0;34m,\u001b[0m\u001b[0;34m'alley'\u001b[0m\u001b[0;34m]\u001b[0m\u001b[0;34m,\u001b[0m \u001b[0minplace\u001b[0m \u001b[0;34m=\u001b[0m \u001b[0;32mTrue\u001b[0m\u001b[0;34m)\u001b[0m\u001b[0;34m\u001b[0m\u001b[0;34m\u001b[0m\u001b[0m\n\u001b[0m",
      "\u001b[0;32m~/anaconda3/lib/python3.8/site-packages/pandas/core/frame.py\u001b[0m in \u001b[0;36mdrop\u001b[0;34m(self, labels, axis, index, columns, level, inplace, errors)\u001b[0m\n\u001b[1;32m   4306\u001b[0m                 \u001b[0mweight\u001b[0m  \u001b[0;36m1.0\u001b[0m     \u001b[0;36m0.8\u001b[0m\u001b[0;34m\u001b[0m\u001b[0;34m\u001b[0m\u001b[0m\n\u001b[1;32m   4307\u001b[0m         \"\"\"\n\u001b[0;32m-> 4308\u001b[0;31m         return super().drop(\n\u001b[0m\u001b[1;32m   4309\u001b[0m             \u001b[0mlabels\u001b[0m\u001b[0;34m=\u001b[0m\u001b[0mlabels\u001b[0m\u001b[0;34m,\u001b[0m\u001b[0;34m\u001b[0m\u001b[0;34m\u001b[0m\u001b[0m\n\u001b[1;32m   4310\u001b[0m             \u001b[0maxis\u001b[0m\u001b[0;34m=\u001b[0m\u001b[0maxis\u001b[0m\u001b[0;34m,\u001b[0m\u001b[0;34m\u001b[0m\u001b[0;34m\u001b[0m\u001b[0m\n",
      "\u001b[0;32m~/anaconda3/lib/python3.8/site-packages/pandas/core/generic.py\u001b[0m in \u001b[0;36mdrop\u001b[0;34m(self, labels, axis, index, columns, level, inplace, errors)\u001b[0m\n\u001b[1;32m   4151\u001b[0m         \u001b[0;32mfor\u001b[0m \u001b[0maxis\u001b[0m\u001b[0;34m,\u001b[0m \u001b[0mlabels\u001b[0m \u001b[0;32min\u001b[0m \u001b[0maxes\u001b[0m\u001b[0;34m.\u001b[0m\u001b[0mitems\u001b[0m\u001b[0;34m(\u001b[0m\u001b[0;34m)\u001b[0m\u001b[0;34m:\u001b[0m\u001b[0;34m\u001b[0m\u001b[0;34m\u001b[0m\u001b[0m\n\u001b[1;32m   4152\u001b[0m             \u001b[0;32mif\u001b[0m \u001b[0mlabels\u001b[0m \u001b[0;32mis\u001b[0m \u001b[0;32mnot\u001b[0m \u001b[0;32mNone\u001b[0m\u001b[0;34m:\u001b[0m\u001b[0;34m\u001b[0m\u001b[0;34m\u001b[0m\u001b[0m\n\u001b[0;32m-> 4153\u001b[0;31m                 \u001b[0mobj\u001b[0m \u001b[0;34m=\u001b[0m \u001b[0mobj\u001b[0m\u001b[0;34m.\u001b[0m\u001b[0m_drop_axis\u001b[0m\u001b[0;34m(\u001b[0m\u001b[0mlabels\u001b[0m\u001b[0;34m,\u001b[0m \u001b[0maxis\u001b[0m\u001b[0;34m,\u001b[0m \u001b[0mlevel\u001b[0m\u001b[0;34m=\u001b[0m\u001b[0mlevel\u001b[0m\u001b[0;34m,\u001b[0m \u001b[0merrors\u001b[0m\u001b[0;34m=\u001b[0m\u001b[0merrors\u001b[0m\u001b[0;34m)\u001b[0m\u001b[0;34m\u001b[0m\u001b[0;34m\u001b[0m\u001b[0m\n\u001b[0m\u001b[1;32m   4154\u001b[0m \u001b[0;34m\u001b[0m\u001b[0m\n\u001b[1;32m   4155\u001b[0m         \u001b[0;32mif\u001b[0m \u001b[0minplace\u001b[0m\u001b[0;34m:\u001b[0m\u001b[0;34m\u001b[0m\u001b[0;34m\u001b[0m\u001b[0m\n",
      "\u001b[0;32m~/anaconda3/lib/python3.8/site-packages/pandas/core/generic.py\u001b[0m in \u001b[0;36m_drop_axis\u001b[0;34m(self, labels, axis, level, errors)\u001b[0m\n\u001b[1;32m   4186\u001b[0m                 \u001b[0mnew_axis\u001b[0m \u001b[0;34m=\u001b[0m \u001b[0maxis\u001b[0m\u001b[0;34m.\u001b[0m\u001b[0mdrop\u001b[0m\u001b[0;34m(\u001b[0m\u001b[0mlabels\u001b[0m\u001b[0;34m,\u001b[0m \u001b[0mlevel\u001b[0m\u001b[0;34m=\u001b[0m\u001b[0mlevel\u001b[0m\u001b[0;34m,\u001b[0m \u001b[0merrors\u001b[0m\u001b[0;34m=\u001b[0m\u001b[0merrors\u001b[0m\u001b[0;34m)\u001b[0m\u001b[0;34m\u001b[0m\u001b[0;34m\u001b[0m\u001b[0m\n\u001b[1;32m   4187\u001b[0m             \u001b[0;32melse\u001b[0m\u001b[0;34m:\u001b[0m\u001b[0;34m\u001b[0m\u001b[0;34m\u001b[0m\u001b[0m\n\u001b[0;32m-> 4188\u001b[0;31m                 \u001b[0mnew_axis\u001b[0m \u001b[0;34m=\u001b[0m \u001b[0maxis\u001b[0m\u001b[0;34m.\u001b[0m\u001b[0mdrop\u001b[0m\u001b[0;34m(\u001b[0m\u001b[0mlabels\u001b[0m\u001b[0;34m,\u001b[0m \u001b[0merrors\u001b[0m\u001b[0;34m=\u001b[0m\u001b[0merrors\u001b[0m\u001b[0;34m)\u001b[0m\u001b[0;34m\u001b[0m\u001b[0;34m\u001b[0m\u001b[0m\n\u001b[0m\u001b[1;32m   4189\u001b[0m             \u001b[0mresult\u001b[0m \u001b[0;34m=\u001b[0m \u001b[0mself\u001b[0m\u001b[0;34m.\u001b[0m\u001b[0mreindex\u001b[0m\u001b[0;34m(\u001b[0m\u001b[0;34m**\u001b[0m\u001b[0;34m{\u001b[0m\u001b[0maxis_name\u001b[0m\u001b[0;34m:\u001b[0m \u001b[0mnew_axis\u001b[0m\u001b[0;34m}\u001b[0m\u001b[0;34m)\u001b[0m\u001b[0;34m\u001b[0m\u001b[0;34m\u001b[0m\u001b[0m\n\u001b[1;32m   4190\u001b[0m \u001b[0;34m\u001b[0m\u001b[0m\n",
      "\u001b[0;32m~/anaconda3/lib/python3.8/site-packages/pandas/core/indexes/base.py\u001b[0m in \u001b[0;36mdrop\u001b[0;34m(self, labels, errors)\u001b[0m\n\u001b[1;32m   5589\u001b[0m         \u001b[0;32mif\u001b[0m \u001b[0mmask\u001b[0m\u001b[0;34m.\u001b[0m\u001b[0many\u001b[0m\u001b[0;34m(\u001b[0m\u001b[0;34m)\u001b[0m\u001b[0;34m:\u001b[0m\u001b[0;34m\u001b[0m\u001b[0;34m\u001b[0m\u001b[0m\n\u001b[1;32m   5590\u001b[0m             \u001b[0;32mif\u001b[0m \u001b[0merrors\u001b[0m \u001b[0;34m!=\u001b[0m \u001b[0;34m\"ignore\"\u001b[0m\u001b[0;34m:\u001b[0m\u001b[0;34m\u001b[0m\u001b[0;34m\u001b[0m\u001b[0m\n\u001b[0;32m-> 5591\u001b[0;31m                 \u001b[0;32mraise\u001b[0m \u001b[0mKeyError\u001b[0m\u001b[0;34m(\u001b[0m\u001b[0;34mf\"{labels[mask]} not found in axis\"\u001b[0m\u001b[0;34m)\u001b[0m\u001b[0;34m\u001b[0m\u001b[0;34m\u001b[0m\u001b[0m\n\u001b[0m\u001b[1;32m   5592\u001b[0m             \u001b[0mindexer\u001b[0m \u001b[0;34m=\u001b[0m \u001b[0mindexer\u001b[0m\u001b[0;34m[\u001b[0m\u001b[0;34m~\u001b[0m\u001b[0mmask\u001b[0m\u001b[0;34m]\u001b[0m\u001b[0;34m\u001b[0m\u001b[0;34m\u001b[0m\u001b[0m\n\u001b[1;32m   5593\u001b[0m         \u001b[0;32mreturn\u001b[0m \u001b[0mself\u001b[0m\u001b[0;34m.\u001b[0m\u001b[0mdelete\u001b[0m\u001b[0;34m(\u001b[0m\u001b[0mindexer\u001b[0m\u001b[0;34m)\u001b[0m\u001b[0;34m\u001b[0m\u001b[0;34m\u001b[0m\u001b[0m\n",
      "\u001b[0;31mKeyError\u001b[0m: \"['pool_qc' 'misc_feature' 'alley'] not found in axis\""
     ]
    }
   ],
   "source": [
    "test.drop(columns =['pool_qc','misc_feature','alley'], inplace = True)"
   ]
  },
  {
   "cell_type": "markdown",
   "id": "f7ccbae6",
   "metadata": {},
   "source": [
    "__Observations after initial variable drops__"
   ]
  },
  {
   "cell_type": "code",
   "execution_count": 201,
   "id": "92991353",
   "metadata": {},
   "outputs": [
    {
     "data": {
      "text/plain": [
       "(2051, 78)"
      ]
     },
     "execution_count": 201,
     "metadata": {},
     "output_type": "execute_result"
    }
   ],
   "source": [
    "train.shape"
   ]
  },
  {
   "cell_type": "markdown",
   "id": "d3af6d86",
   "metadata": {},
   "source": [
    "*Reduction of columns from 81 to 78.*"
   ]
  },
  {
   "cell_type": "code",
   "execution_count": 202,
   "id": "fa67c04c",
   "metadata": {},
   "outputs": [
    {
     "data": {
      "text/plain": [
       "(878, 77)"
      ]
     },
     "execution_count": 202,
     "metadata": {},
     "output_type": "execute_result"
    }
   ],
   "source": [
    "test.shape"
   ]
  },
  {
   "cell_type": "markdown",
   "id": "d9020c1b",
   "metadata": {},
   "source": [
    "*Reduction of columns in the test data frame  from 80 to 77.*"
   ]
  },
  {
   "cell_type": "code",
   "execution_count": 203,
   "id": "226c3b99",
   "metadata": {},
   "outputs": [
    {
     "name": "stdout",
     "output_type": "stream",
     "text": [
      "id , 0.0\n",
      "pid , 0.0\n",
      "ms_subclass , 0.0\n",
      "ms_zoning , 0.0\n",
      "lot_frontage , 0.0\n",
      "lot_area , 0.0\n",
      "street , 0.0\n",
      "lot_shape , 0.0\n",
      "land_contour , 0.0\n",
      "utilities , 0.0\n",
      "lot_config , 0.0\n",
      "land_slope , 0.0\n",
      "neighborhood , 0.0\n",
      "condition_1 , 0.0\n",
      "condition_2 , 0.0\n",
      "bldg_type , 0.0\n",
      "house_style , 0.0\n",
      "overall_qual , 0.0\n",
      "overall_cond , 0.0\n",
      "year_built , 0.0\n",
      "year_remod/add , 0.0\n",
      "roof_style , 0.0\n",
      "roof_matl , 0.0\n",
      "exterior_1st , 0.0\n",
      "exterior_2nd , 0.0\n",
      "mas_vnr_type , 0.0\n",
      "mas_vnr_area , 0.0\n",
      "exter_qual , 0.0\n",
      "exter_cond , 0.0\n",
      "foundation , 0.0\n",
      "bsmt_qual , 0.0\n",
      "bsmt_cond , 0.0\n",
      "bsmt_exposure , 0.0\n",
      "bsmtfin_type_1 , 0.0\n",
      "bsmtfin_sf_1 , 0.0\n",
      "bsmtfin_type_2 , 0.0\n",
      "bsmtfin_sf_2 , 0.0\n",
      "bsmt_unf_sf , 0.0\n",
      "total_bsmt_sf , 0.0\n",
      "heating , 0.0\n",
      "heating_qc , 0.0\n",
      "central_air , 0.0\n",
      "electrical , 0.0\n",
      "1st_flr_sf , 0.0\n",
      "2nd_flr_sf , 0.0\n",
      "low_qual_fin_sf , 0.0\n",
      "gr_liv_area , 0.0\n",
      "bsmt_full_bath , 0.0\n",
      "bsmt_half_bath , 0.0\n",
      "full_bath , 0.0\n",
      "half_bath , 0.0\n",
      "bedroom_abvgr , 0.0\n",
      "kitchen_abvgr , 0.0\n",
      "kitchen_qual , 0.0\n",
      "totrms_abvgrd , 0.0\n",
      "functional , 0.0\n",
      "fireplaces , 0.0\n",
      "fireplace_qu , 0.0\n",
      "garage_type , 0.0\n",
      "garage_yr_blt , 0.0\n",
      "garage_finish , 0.0\n",
      "garage_cars , 0.0\n",
      "garage_area , 0.0\n",
      "garage_qual , 0.0\n",
      "garage_cond , 0.0\n",
      "paved_drive , 0.0\n",
      "wood_deck_sf , 0.0\n",
      "open_porch_sf , 0.0\n",
      "enclosed_porch , 0.0\n",
      "3ssn_porch , 0.0\n",
      "screen_porch , 0.0\n",
      "pool_area , 0.0\n",
      "fence , 0.0\n",
      "misc_val , 0.0\n",
      "mo_sold , 0.0\n",
      "yr_sold , 0.0\n",
      "sale_type , 0.0\n",
      "saleprice , 0.0\n"
     ]
    }
   ],
   "source": [
    "data_types = train.isnull().mean()\n",
    "for key,value in data_types.iteritems():\n",
    "    print(key,\",\",value)"
   ]
  },
  {
   "cell_type": "markdown",
   "id": "5c23bc39",
   "metadata": {},
   "source": [
    "* We still have several variables with null values. Let's take a look these and clean them up accordinly. Having these cleaned up regardless of catergorical or numerical value will help with overall data analysis and achieving our objective. For each of teh identifed variables we will look at the unique values within their columns , the number f missing values, and taken relevant steps to update these null values.  For convenience I've pulled in the details proviciede for each of tehse variables form the stat dictionary located on teh Kaggle website.\n"
   ]
  },
  {
   "cell_type": "markdown",
   "id": "37e73a6b",
   "metadata": {},
   "source": [
    "* __'lot_frontage'__ - Linear feet of street connected to property"
   ]
  },
  {
   "cell_type": "code",
   "execution_count": 204,
   "id": "29500b8f",
   "metadata": {},
   "outputs": [
    {
     "data": {
      "text/plain": [
       "[21.0,\n",
       " 22.0,\n",
       " 24.0,\n",
       " 25.0,\n",
       " 26.0,\n",
       " 30.0,\n",
       " 32.0,\n",
       " 33.0,\n",
       " 34.0,\n",
       " 35.0,\n",
       " 36.0,\n",
       " 37.0,\n",
       " 38.0,\n",
       " 39.0,\n",
       " 40.0,\n",
       " 41.0,\n",
       " 42.0,\n",
       " 43.0,\n",
       " 44.0,\n",
       " 45.0,\n",
       " 46.0,\n",
       " 47.0,\n",
       " 48.0,\n",
       " 49.0,\n",
       " 50.0,\n",
       " 51.0,\n",
       " 52.0,\n",
       " 53.0,\n",
       " 54.0,\n",
       " 55.0,\n",
       " 56.0,\n",
       " 57.0,\n",
       " 58.0,\n",
       " 59.0,\n",
       " 60.0,\n",
       " 61.0,\n",
       " 62.0,\n",
       " 63.0,\n",
       " 64.0,\n",
       " 65.0,\n",
       " 66.0,\n",
       " 67.0,\n",
       " 68.0,\n",
       " 69.0,\n",
       " 69.05520046484602,\n",
       " 70.0,\n",
       " 71.0,\n",
       " 72.0,\n",
       " 73.0,\n",
       " 74.0,\n",
       " 75.0,\n",
       " 76.0,\n",
       " 77.0,\n",
       " 78.0,\n",
       " 79.0,\n",
       " 80.0,\n",
       " 81.0,\n",
       " 82.0,\n",
       " 83.0,\n",
       " 84.0,\n",
       " 85.0,\n",
       " 86.0,\n",
       " 87.0,\n",
       " 88.0,\n",
       " 89.0,\n",
       " 90.0,\n",
       " 91.0,\n",
       " 92.0,\n",
       " 93.0,\n",
       " 94.0,\n",
       " 95.0,\n",
       " 96.0,\n",
       " 97.0,\n",
       " 98.0,\n",
       " 99.0,\n",
       " 100.0,\n",
       " 101.0,\n",
       " 102.0,\n",
       " 103.0,\n",
       " 104.0,\n",
       " 105.0,\n",
       " 106.0,\n",
       " 107.0,\n",
       " 108.0,\n",
       " 109.0,\n",
       " 110.0,\n",
       " 111.0,\n",
       " 112.0,\n",
       " 113.0,\n",
       " 114.0,\n",
       " 115.0,\n",
       " 116.0,\n",
       " 117.0,\n",
       " 118.0,\n",
       " 119.0,\n",
       " 120.0,\n",
       " 121.0,\n",
       " 122.0,\n",
       " 123.0,\n",
       " 124.0,\n",
       " 125.0,\n",
       " 128.0,\n",
       " 129.0,\n",
       " 130.0,\n",
       " 134.0,\n",
       " 135.0,\n",
       " 137.0,\n",
       " 138.0,\n",
       " 140.0,\n",
       " 141.0,\n",
       " 144.0,\n",
       " 150.0,\n",
       " 153.0,\n",
       " 155.0,\n",
       " 160.0,\n",
       " 174.0,\n",
       " 195.0,\n",
       " 200.0,\n",
       " 313.0]"
      ]
     },
     "execution_count": 204,
     "metadata": {},
     "output_type": "execute_result"
    }
   ],
   "source": [
    "sorted(train.lot_frontage.unique())"
   ]
  },
  {
   "cell_type": "code",
   "execution_count": 205,
   "id": "36073860",
   "metadata": {},
   "outputs": [
    {
     "data": {
      "text/plain": [
       "69.0552     330\n",
       "60.0000     179\n",
       "70.0000      96\n",
       "80.0000      94\n",
       "50.0000      90\n",
       "           ... \n",
       "123.0000      1\n",
       "111.0000      1\n",
       "174.0000      1\n",
       "118.0000      1\n",
       "144.0000      1\n",
       "Name: lot_frontage, Length: 119, dtype: int64"
      ]
     },
     "execution_count": 205,
     "metadata": {},
     "output_type": "execute_result"
    }
   ],
   "source": [
    "train.lot_frontage.value_counts()"
   ]
  },
  {
   "cell_type": "code",
   "execution_count": 206,
   "id": "6446b3fc",
   "metadata": {},
   "outputs": [
    {
     "data": {
      "text/plain": [
       "0"
      ]
     },
     "execution_count": 206,
     "metadata": {},
     "output_type": "execute_result"
    }
   ],
   "source": [
    "train.lot_frontage.isnull().sum()"
   ]
  },
  {
   "cell_type": "code",
   "execution_count": 207,
   "id": "95ba01c2",
   "metadata": {},
   "outputs": [
    {
     "data": {
      "text/plain": [
       "0"
      ]
     },
     "execution_count": 207,
     "metadata": {},
     "output_type": "execute_result"
    }
   ],
   "source": [
    "test.lot_frontage.isnull().sum()"
   ]
  },
  {
   "cell_type": "code",
   "execution_count": 208,
   "id": "f2ddccda",
   "metadata": {},
   "outputs": [
    {
     "name": "stderr",
     "output_type": "stream",
     "text": [
      "/Users/aishakamara/anaconda3/lib/python3.8/site-packages/seaborn/distributions.py:2557: FutureWarning: `distplot` is a deprecated function and will be removed in a future version. Please adapt your code to use either `displot` (a figure-level function with similar flexibility) or `histplot` (an axes-level function for histograms).\n",
      "  warnings.warn(msg, FutureWarning)\n"
     ]
    },
    {
     "data": {
      "image/png": "[encoded data removed]",
      "text/plain": [
       "<Figure size 432x288 with 1 Axes>"
      ]
     },
     "metadata": {
      "needs_background": "light"
     },
     "output_type": "display_data"
    }
   ],
   "source": [
    "#taking a look at the distribution of values.\n",
    "sns.distplot(train.lot_frontage);"
   ]
  },
  {
   "cell_type": "markdown",
   "id": "7aa0c823",
   "metadata": {},
   "source": [
    "[source](https://vitalflux.com/pandas-impute-missing-values-mean-median-mode/)"
   ]
  },
  {
   "cell_type": "code",
   "execution_count": 209,
   "id": "1757210f",
   "metadata": {},
   "outputs": [
    {
     "data": {
      "text/plain": [
       "count    2051.000000\n",
       "mean       69.055200\n",
       "std        21.306357\n",
       "min        21.000000\n",
       "25%        60.000000\n",
       "50%        69.055200\n",
       "75%        78.000000\n",
       "max       313.000000\n",
       "Name: lot_frontage, dtype: float64"
      ]
     },
     "execution_count": 209,
     "metadata": {},
     "output_type": "execute_result"
    }
   ],
   "source": [
    "train.lot_frontage.describe()"
   ]
  },
  {
   "cell_type": "code",
   "execution_count": 210,
   "id": "2fef4d18",
   "metadata": {},
   "outputs": [],
   "source": [
    "#train.lot_frontage.isnull().mean()"
   ]
  },
  {
   "cell_type": "markdown",
   "id": "057aeae0",
   "metadata": {},
   "source": [
    "Decided to input the mean within the missing values to matain the integrity of the data and note skew it anyomor that it shows aboeve. Let's convert thi varible from a float to an interger to begin with."
   ]
  },
  {
   "cell_type": "code",
   "execution_count": 211,
   "id": "42a32723",
   "metadata": {},
   "outputs": [],
   "source": [
    "train['lot_frontage']= train['lot_frontage'].fillna(train['lot_frontage'].mean())"
   ]
  },
  {
   "cell_type": "code",
   "execution_count": 212,
   "id": "0719aae8",
   "metadata": {},
   "outputs": [],
   "source": [
    "test['lot_frontage']= train['lot_frontage'].fillna(train['lot_frontage'].mean())"
   ]
  },
  {
   "cell_type": "code",
   "execution_count": 213,
   "id": "bf210a2e",
   "metadata": {},
   "outputs": [
    {
     "data": {
      "text/plain": [
       "0"
      ]
     },
     "execution_count": 213,
     "metadata": {},
     "output_type": "execute_result"
    }
   ],
   "source": [
    "#check to see that nulls have been removed. \n",
    "train.lot_frontage.isnull().sum()"
   ]
  },
  {
   "cell_type": "code",
   "execution_count": 214,
   "id": "256a66a5",
   "metadata": {},
   "outputs": [
    {
     "data": {
      "text/plain": [
       "0"
      ]
     },
     "execution_count": 214,
     "metadata": {},
     "output_type": "execute_result"
    }
   ],
   "source": [
    "test.lot_frontage.isnull().sum()"
   ]
  },
  {
   "cell_type": "code",
   "execution_count": 215,
   "id": "ba821e06",
   "metadata": {},
   "outputs": [
    {
     "name": "stderr",
     "output_type": "stream",
     "text": [
      "/Users/aishakamara/anaconda3/lib/python3.8/site-packages/seaborn/distributions.py:2557: FutureWarning: `distplot` is a deprecated function and will be removed in a future version. Please adapt your code to use either `displot` (a figure-level function with similar flexibility) or `histplot` (an axes-level function for histograms).\n",
      "  warnings.warn(msg, FutureWarning)\n"
     ]
    },
    {
     "data": {
      "image/png": "[encoded data removed]",
      "text/plain": [
       "<Figure size 432x288 with 1 Axes>"
      ]
     },
     "metadata": {
      "needs_background": "light"
     },
     "output_type": "display_data"
    }
   ],
   "source": [
    "#taking a look at the distribution of values.\n",
    "\n",
    "sns.distplot(train.lot_frontage);"
   ]
  },
  {
   "cell_type": "markdown",
   "id": "85de67e1",
   "metadata": {},
   "source": [
    "### Masonary Attributes "
   ]
  },
  {
   "cell_type": "markdown",
   "id": "40d25d81",
   "metadata": {},
   "source": [
    "* __'mas_vnr_type'__- Masonry veneer type;  *\"Masonry veneer is thin layers of brick, stone, or stucco, used for appearance purposes rather than structural support.\"* \n",
    "\n",
    "- BrkCmn- Brick Common\n",
    "- BrkFace -  Brick Face\n",
    "- CBlock - Cinder Block\n",
    "- None- None\n",
    "- Stone- Stone\n",
    "\n",
    "[source](https://www.verisk.com/insurance/capabilities/underwriting/commercial-property/construction-briefs/frame/)\n"
   ]
  },
  {
   "cell_type": "code",
   "execution_count": 216,
   "id": "6fdc6b40",
   "metadata": {},
   "outputs": [
    {
     "data": {
      "text/plain": [
       "array(['BrkFace', 'None', 'Stone', 'BrkCmn'], dtype=object)"
      ]
     },
     "execution_count": 216,
     "metadata": {},
     "output_type": "execute_result"
    }
   ],
   "source": [
    "train.mas_vnr_type.unique()"
   ]
  },
  {
   "cell_type": "code",
   "execution_count": 217,
   "id": "3fe927e4",
   "metadata": {},
   "outputs": [
    {
     "data": {
      "text/plain": [
       "None       1240\n",
       "BrkFace     630\n",
       "Stone       168\n",
       "BrkCmn       13\n",
       "Name: mas_vnr_type, dtype: int64"
      ]
     },
     "execution_count": 217,
     "metadata": {},
     "output_type": "execute_result"
    }
   ],
   "source": [
    "train.mas_vnr_type.value_counts()"
   ]
  },
  {
   "cell_type": "code",
   "execution_count": 218,
   "id": "0354089b",
   "metadata": {},
   "outputs": [
    {
     "data": {
      "text/plain": [
       "<AxesSubplot:>"
      ]
     },
     "execution_count": 218,
     "metadata": {},
     "output_type": "execute_result"
    },
    {
     "data": {
      "image/png": "[encoded data removed]",
      "text/plain": [
       "<Figure size 432x288 with 1 Axes>"
      ]
     },
     "metadata": {
      "needs_background": "light"
     },
     "output_type": "display_data"
    }
   ],
   "source": [
    "train['mas_vnr_type'].hist()"
   ]
  },
  {
   "cell_type": "code",
   "execution_count": 219,
   "id": "a0cc04de",
   "metadata": {},
   "outputs": [
    {
     "data": {
      "text/plain": [
       "0"
      ]
     },
     "execution_count": 219,
     "metadata": {},
     "output_type": "execute_result"
    }
   ],
   "source": [
    "train.mas_vnr_type.isnull().sum()"
   ]
  },
  {
   "cell_type": "code",
   "execution_count": 220,
   "id": "ce50f262",
   "metadata": {},
   "outputs": [
    {
     "data": {
      "text/plain": [
       "0"
      ]
     },
     "execution_count": 220,
     "metadata": {},
     "output_type": "execute_result"
    }
   ],
   "source": [
    "test.mas_vnr_type.isnull().sum()"
   ]
  },
  {
   "cell_type": "markdown",
   "id": "de21601a",
   "metadata": {},
   "source": [
    "*22 out of the 2051 observations have null values.*"
   ]
  },
  {
   "cell_type": "markdown",
   "id": "9475e6d0",
   "metadata": {},
   "source": [
    "There a noted 1218 observations that have no masonary veener  which I'm going to assume. As this seems to be the most frequent/common number the trend, I'm going to apply a vlaue of 'None' to the null/missing value s noted above. "
   ]
  },
  {
   "cell_type": "code",
   "execution_count": 221,
   "id": "60b5959a",
   "metadata": {},
   "outputs": [],
   "source": [
    "train['mas_vnr_type']= train['mas_vnr_type'].fillna(train['mas_vnr_type'].mode()[0])"
   ]
  },
  {
   "cell_type": "code",
   "execution_count": 222,
   "id": "8f7ad492",
   "metadata": {},
   "outputs": [],
   "source": [
    "test['mas_vnr_type']= train['mas_vnr_type'].fillna(train['mas_vnr_type'].mode()[0])"
   ]
  },
  {
   "cell_type": "markdown",
   "id": "b9ebb728",
   "metadata": {},
   "source": [
    "### Mas Vaneer Area\n"
   ]
  },
  {
   "cell_type": "code",
   "execution_count": 223,
   "id": "073ab906",
   "metadata": {},
   "outputs": [],
   "source": [
    "#train.mas_vnr_area.unique()"
   ]
  },
  {
   "cell_type": "code",
   "execution_count": 224,
   "id": "d444fdf9",
   "metadata": {},
   "outputs": [
    {
     "data": {
      "text/plain": [
       "0.0      1238\n",
       "120.0      11\n",
       "176.0      10\n",
       "200.0      10\n",
       "210.0       9\n",
       "         ... \n",
       "576.0       1\n",
       "796.0       1\n",
       "573.0       1\n",
       "372.0       1\n",
       "428.0       1\n",
       "Name: mas_vnr_area, Length: 373, dtype: int64"
      ]
     },
     "execution_count": 224,
     "metadata": {},
     "output_type": "execute_result"
    }
   ],
   "source": [
    "train.mas_vnr_area.value_counts()"
   ]
  },
  {
   "cell_type": "code",
   "execution_count": 225,
   "id": "8314be6b",
   "metadata": {},
   "outputs": [
    {
     "name": "stderr",
     "output_type": "stream",
     "text": [
      "/Users/aishakamara/anaconda3/lib/python3.8/site-packages/seaborn/distributions.py:2557: FutureWarning: `distplot` is a deprecated function and will be removed in a future version. Please adapt your code to use either `displot` (a figure-level function with similar flexibility) or `histplot` (an axes-level function for histograms).\n",
      "  warnings.warn(msg, FutureWarning)\n"
     ]
    },
    {
     "data": {
      "image/png": "[encoded data removed]",
      "text/plain": [
       "<Figure size 432x288 with 1 Axes>"
      ]
     },
     "metadata": {
      "needs_background": "light"
     },
     "output_type": "display_data"
    }
   ],
   "source": [
    "sns.distplot(train.mas_vnr_area);"
   ]
  },
  {
   "cell_type": "markdown",
   "id": "6226c771",
   "metadata": {},
   "source": [
    "High value of zeros"
   ]
  },
  {
   "cell_type": "code",
   "execution_count": 226,
   "id": "14dcf109",
   "metadata": {},
   "outputs": [
    {
     "data": {
      "text/plain": [
       "0"
      ]
     },
     "execution_count": 226,
     "metadata": {},
     "output_type": "execute_result"
    }
   ],
   "source": [
    "train.mas_vnr_area.isnull().sum()"
   ]
  },
  {
   "cell_type": "code",
   "execution_count": 227,
   "id": "7aed5378",
   "metadata": {},
   "outputs": [
    {
     "data": {
      "text/plain": [
       "0"
      ]
     },
     "execution_count": 227,
     "metadata": {},
     "output_type": "execute_result"
    }
   ],
   "source": [
    "test.mas_vnr_area.isnull().sum()"
   ]
  },
  {
   "cell_type": "markdown",
   "id": "ed5afe44",
   "metadata": {},
   "source": [
    "There a noted 1216 observation sthat habe a masonry veener square footage of 0, which I'm going to assume, it does not exist for said howse. As this the trend. I'm going to apply a vlaue of 'None' to the null/missing value s noted above. "
   ]
  },
  {
   "cell_type": "markdown",
   "id": "33e4ddcd",
   "metadata": {},
   "source": [
    "There a noted 1216 observation that have a masonry veener square footage of 0, which I'm going to assume, it does not exist for said howse. As this the trend. I'm going to apply a vlaue of 'None' to the null/missing value s noted above."
   ]
  },
  {
   "cell_type": "code",
   "execution_count": 228,
   "id": "1c14e1ea",
   "metadata": {},
   "outputs": [
    {
     "data": {
      "text/html": [
       "<div>\n",
       "<style scoped>\n",
       "    .dataframe tbody tr th:only-of-type {\n",
       "        vertical-align: middle;\n",
       "    }\n",
       "\n",
       "    .dataframe tbody tr th {\n",
       "        vertical-align: top;\n",
       "    }\n",
       "\n",
       "    .dataframe thead th {\n",
       "        text-align: right;\n",
       "    }\n",
       "</style>\n",
       "<table border=\"1\" class=\"dataframe\">\n",
       "  <thead>\n",
       "    <tr style=\"text-align: right;\">\n",
       "      <th></th>\n",
       "      <th>mas_vnr_type</th>\n",
       "      <th>mas_vnr_area</th>\n",
       "    </tr>\n",
       "  </thead>\n",
       "  <tbody>\n",
       "  </tbody>\n",
       "</table>\n",
       "</div>"
      ],
      "text/plain": [
       "Empty DataFrame\n",
       "Columns: [mas_vnr_type, mas_vnr_area]\n",
       "Index: []"
      ]
     },
     "execution_count": 228,
     "metadata": {},
     "output_type": "execute_result"
    }
   ],
   "source": [
    "train[(train['mas_vnr_type'].isnull()) & (train['mas_vnr_area'].isnull())][['mas_vnr_type','mas_vnr_area']]"
   ]
  },
  {
   "cell_type": "markdown",
   "id": "a33c726f",
   "metadata": {},
   "source": [
    "See that a majority of the distribution records 0 vaneer area for pproximately half o the house. I'm going to use the mode method to fill in teh missing values for this variable. "
   ]
  },
  {
   "cell_type": "code",
   "execution_count": 229,
   "id": "fb0a88cc",
   "metadata": {},
   "outputs": [],
   "source": [
    "train['mas_vnr_area']= train['mas_vnr_area'].fillna(train['mas_vnr_area'].mode()[0])"
   ]
  },
  {
   "cell_type": "code",
   "execution_count": 230,
   "id": "a9d71d4e",
   "metadata": {},
   "outputs": [],
   "source": [
    "test['mas_vnr_area']= train['mas_vnr_area'].fillna(train['mas_vnr_area'].mode()[0])"
   ]
  },
  {
   "cell_type": "markdown",
   "id": "73ffc84a",
   "metadata": {},
   "source": [
    "check to see if null values still remain."
   ]
  },
  {
   "cell_type": "markdown",
   "id": "cac5be5e",
   "metadata": {},
   "source": [
    "### Basements Attributes"
   ]
  },
  {
   "cell_type": "markdown",
   "id": "84934aab",
   "metadata": {},
   "source": [
    "* __bsmt_qual__\n",
    "\n",
    "- Ex Excellent (100+ inches)\n",
    "- Gd Good (90-99 inches)\n",
    "- TA Typical (80-89 inches)\n",
    "- Fa Fair (70-79 inches)\n",
    "- Po Poor (<70 inches)\n",
    "- NA No Basement"
   ]
  },
  {
   "cell_type": "markdown",
   "id": "128109a1",
   "metadata": {},
   "source": [
    "Given the criteria above,  based on the data dictionary. I'll filtering out the basement square footage to see what description I need to fill in."
   ]
  },
  {
   "cell_type": "markdown",
   "id": "942d39e7",
   "metadata": {},
   "source": [
    "### I wanto see only the basement columns"
   ]
  },
  {
   "cell_type": "code",
   "execution_count": 231,
   "id": "b078179b",
   "metadata": {},
   "outputs": [
    {
     "data": {
      "text/plain": [
       "array(['TA', 'Gd', 'Fa', 'NA', 'Ex', 'Po'], dtype=object)"
      ]
     },
     "execution_count": 231,
     "metadata": {},
     "output_type": "execute_result"
    }
   ],
   "source": [
    "train.bsmt_qual.unique()"
   ]
  },
  {
   "cell_type": "code",
   "execution_count": 232,
   "id": "0a180b0b",
   "metadata": {},
   "outputs": [
    {
     "data": {
      "text/plain": [
       "TA    887\n",
       "Gd    864\n",
       "Ex    184\n",
       "Fa     60\n",
       "NA     55\n",
       "Po      1\n",
       "Name: bsmt_qual, dtype: int64"
      ]
     },
     "execution_count": 232,
     "metadata": {},
     "output_type": "execute_result"
    }
   ],
   "source": [
    "train.bsmt_qual.value_counts()"
   ]
  },
  {
   "cell_type": "code",
   "execution_count": 233,
   "id": "ae93e1e9",
   "metadata": {},
   "outputs": [
    {
     "data": {
      "text/plain": [
       "<AxesSubplot:>"
      ]
     },
     "execution_count": 233,
     "metadata": {},
     "output_type": "execute_result"
    },
    {
     "data": {
      "image/png": "[encoded data removed]",
      "text/plain": [
       "<Figure size 432x288 with 1 Axes>"
      ]
     },
     "metadata": {
      "needs_background": "light"
     },
     "output_type": "display_data"
    }
   ],
   "source": [
    "train['bsmt_qual'].hist()"
   ]
  },
  {
   "cell_type": "code",
   "execution_count": 234,
   "id": "9b8f710c",
   "metadata": {},
   "outputs": [
    {
     "data": {
      "text/plain": [
       "0"
      ]
     },
     "execution_count": 234,
     "metadata": {},
     "output_type": "execute_result"
    }
   ],
   "source": [
    "train.bsmt_qual.isnull().sum()"
   ]
  },
  {
   "cell_type": "code",
   "execution_count": 235,
   "id": "c3d33579",
   "metadata": {},
   "outputs": [
    {
     "data": {
      "text/plain": [
       "0"
      ]
     },
     "execution_count": 235,
     "metadata": {},
     "output_type": "execute_result"
    }
   ],
   "source": [
    "test.bsmt_qual.isnull().sum()"
   ]
  },
  {
   "cell_type": "code",
   "execution_count": 236,
   "id": "0fb428a0",
   "metadata": {},
   "outputs": [],
   "source": [
    "train['bsmt_qual'].fillna(('NA'), inplace = True)"
   ]
  },
  {
   "cell_type": "code",
   "execution_count": 237,
   "id": "ac7b6df1",
   "metadata": {},
   "outputs": [],
   "source": [
    "test['bsmt_qual'].fillna(('NA'), inplace = True)"
   ]
  },
  {
   "cell_type": "markdown",
   "id": "0cbd332a",
   "metadata": {},
   "source": [
    "* __bsmt_cond__ -  General condition of the basement\n",
    "\n",
    "- Ex Excellent\n",
    "- Gd Good\n",
    "- TA Typical - slight dampness allowed\n",
    "- Fa Fair - dampness or some cracking or settling\n",
    "- Po Poor - Severe cracking, settling, or wetness\n",
    "- NA No Basement"
   ]
  },
  {
   "cell_type": "code",
   "execution_count": 238,
   "id": "126268c4",
   "metadata": {},
   "outputs": [
    {
     "data": {
      "text/plain": [
       "array(['TA', 'Gd', 'NA', 'Fa', 'Po', 'Ex'], dtype=object)"
      ]
     },
     "execution_count": 238,
     "metadata": {},
     "output_type": "execute_result"
    }
   ],
   "source": [
    "train.bsmt_cond.unique()"
   ]
  },
  {
   "cell_type": "code",
   "execution_count": 239,
   "id": "1636b00b",
   "metadata": {},
   "outputs": [
    {
     "data": {
      "text/plain": [
       "TA    1834\n",
       "Gd      89\n",
       "Fa      65\n",
       "NA      55\n",
       "Po       5\n",
       "Ex       3\n",
       "Name: bsmt_cond, dtype: int64"
      ]
     },
     "execution_count": 239,
     "metadata": {},
     "output_type": "execute_result"
    }
   ],
   "source": [
    "train.bsmt_cond.value_counts()"
   ]
  },
  {
   "cell_type": "code",
   "execution_count": 240,
   "id": "d70e57b3",
   "metadata": {},
   "outputs": [
    {
     "data": {
      "text/plain": [
       "0"
      ]
     },
     "execution_count": 240,
     "metadata": {},
     "output_type": "execute_result"
    }
   ],
   "source": [
    "train.bsmt_cond.isnull().sum()"
   ]
  },
  {
   "cell_type": "code",
   "execution_count": 241,
   "id": "be8de06f",
   "metadata": {},
   "outputs": [
    {
     "data": {
      "text/plain": [
       "0"
      ]
     },
     "execution_count": 241,
     "metadata": {},
     "output_type": "execute_result"
    }
   ],
   "source": [
    "test.bsmt_cond.isnull().sum()"
   ]
  },
  {
   "cell_type": "code",
   "execution_count": 242,
   "id": "d6ea05cd",
   "metadata": {},
   "outputs": [],
   "source": [
    "train['bsmt_cond'].fillna(('NA'), inplace = True)"
   ]
  },
  {
   "cell_type": "code",
   "execution_count": 243,
   "id": "38264f88",
   "metadata": {},
   "outputs": [],
   "source": [
    "test['bsmt_cond'].fillna(('NA'), inplace = True)"
   ]
  },
  {
   "cell_type": "markdown",
   "id": "4445010a",
   "metadata": {},
   "source": [
    "* __Let's make a feature basemnt condition x base quality__"
   ]
  },
  {
   "cell_type": "markdown",
   "id": "18ec2d07",
   "metadata": {},
   "source": [
    "__bsmt_exposure__ - Walkout or garden level basement walls:\n",
    "- Gd Good Exposure\n",
    "- Av Average Exposure (split levels or foyers typically score average or above)\n",
    "- Mn Mimimum Exposure\n",
    "- No No Exposure\n",
    "- NA No Basement"
   ]
  },
  {
   "cell_type": "code",
   "execution_count": 244,
   "id": "398f0b71",
   "metadata": {},
   "outputs": [
    {
     "data": {
      "text/plain": [
       "array(['No', 'Gd', 'Av', 'NA', 'Mn'], dtype=object)"
      ]
     },
     "execution_count": 244,
     "metadata": {},
     "output_type": "execute_result"
    }
   ],
   "source": [
    "train.bsmt_exposure.unique()"
   ]
  },
  {
   "cell_type": "code",
   "execution_count": 245,
   "id": "a180e690",
   "metadata": {},
   "outputs": [
    {
     "data": {
      "text/plain": [
       "No    1339\n",
       "Av     288\n",
       "Gd     203\n",
       "Mn     163\n",
       "NA      58\n",
       "Name: bsmt_exposure, dtype: int64"
      ]
     },
     "execution_count": 245,
     "metadata": {},
     "output_type": "execute_result"
    }
   ],
   "source": [
    "train.bsmt_exposure.value_counts()"
   ]
  },
  {
   "cell_type": "code",
   "execution_count": 246,
   "id": "9c3e0e25",
   "metadata": {},
   "outputs": [
    {
     "data": {
      "text/plain": [
       "0"
      ]
     },
     "execution_count": 246,
     "metadata": {},
     "output_type": "execute_result"
    }
   ],
   "source": [
    "train.bsmt_exposure.isnull().sum()"
   ]
  },
  {
   "cell_type": "code",
   "execution_count": 247,
   "id": "24bed435",
   "metadata": {},
   "outputs": [
    {
     "data": {
      "text/plain": [
       "0"
      ]
     },
     "execution_count": 247,
     "metadata": {},
     "output_type": "execute_result"
    }
   ],
   "source": [
    "test.bsmt_exposure.isnull().sum()"
   ]
  },
  {
   "cell_type": "code",
   "execution_count": 248,
   "id": "02e78bdf",
   "metadata": {},
   "outputs": [],
   "source": [
    "train['bsmt_exposure'].fillna(('NA'), inplace = True)"
   ]
  },
  {
   "cell_type": "code",
   "execution_count": 249,
   "id": "651188a4",
   "metadata": {},
   "outputs": [],
   "source": [
    "test['bsmt_exposure'].fillna(('NA'), inplace = True)"
   ]
  },
  {
   "cell_type": "markdown",
   "id": "298e908e",
   "metadata": {},
   "source": [
    "* __bsmtfin_type_1__\n",
    "- BsmtFinType1: Quality of basement finished area\n",
    "- GLQ Good Living Quarters\n",
    "- ALQ Average Living Quarters\n",
    "- BLQ Below Average Living Quarters\n",
    "- Rec Average Rec Room\n",
    "- LwQ Low Quality\n",
    "- Unf Unfinshed\n",
    "- NA No Basement\n",
    "\n",
    "* __BsmtFinType2__: Quality of second finished area (if present)\n",
    "GLQ Good Living Quarters\n",
    "ALQ Average Living Quarters\n",
    "BLQ Below Average Living Quarters\n",
    "Rec Average Rec Room\n",
    "LwQ Low Quality\n",
    "Unf Unfinshed\n",
    "NA No Basement"
   ]
  },
  {
   "cell_type": "code",
   "execution_count": 250,
   "id": "b0f83766",
   "metadata": {},
   "outputs": [
    {
     "data": {
      "text/plain": [
       "array(['GLQ', 'Unf', 'ALQ', 'Rec', 'NA', 'BLQ', 'LwQ'], dtype=object)"
      ]
     },
     "execution_count": 250,
     "metadata": {},
     "output_type": "execute_result"
    }
   ],
   "source": [
    "train.bsmtfin_type_1.unique()"
   ]
  },
  {
   "cell_type": "code",
   "execution_count": 251,
   "id": "903d32b4",
   "metadata": {},
   "outputs": [
    {
     "data": {
      "text/plain": [
       "array(['Unf', 'Rec', 'NA', 'BLQ', 'GLQ', 'LwQ', 'ALQ'], dtype=object)"
      ]
     },
     "execution_count": 251,
     "metadata": {},
     "output_type": "execute_result"
    }
   ],
   "source": [
    "train.bsmtfin_type_2.unique()"
   ]
  },
  {
   "cell_type": "code",
   "execution_count": 252,
   "id": "2ce56fd6",
   "metadata": {},
   "outputs": [
    {
     "data": {
      "text/plain": [
       "GLQ    615\n",
       "Unf    603\n",
       "ALQ    293\n",
       "BLQ    200\n",
       "Rec    183\n",
       "LwQ    102\n",
       "NA      55\n",
       "Name: bsmtfin_type_1, dtype: int64"
      ]
     },
     "execution_count": 252,
     "metadata": {},
     "output_type": "execute_result"
    }
   ],
   "source": [
    "train.bsmtfin_type_1.value_counts()"
   ]
  },
  {
   "cell_type": "code",
   "execution_count": 253,
   "id": "0ff2938a",
   "metadata": {},
   "outputs": [
    {
     "data": {
      "text/plain": [
       "Unf    1749\n",
       "Rec      80\n",
       "LwQ      60\n",
       "NA       56\n",
       "BLQ      48\n",
       "ALQ      35\n",
       "GLQ      23\n",
       "Name: bsmtfin_type_2, dtype: int64"
      ]
     },
     "execution_count": 253,
     "metadata": {},
     "output_type": "execute_result"
    }
   ],
   "source": [
    "train.bsmtfin_type_2.value_counts()"
   ]
  },
  {
   "cell_type": "code",
   "execution_count": 254,
   "id": "615316dc",
   "metadata": {},
   "outputs": [
    {
     "data": {
      "text/plain": [
       "0"
      ]
     },
     "execution_count": 254,
     "metadata": {},
     "output_type": "execute_result"
    }
   ],
   "source": [
    "train.bsmtfin_type_1.isnull().sum()"
   ]
  },
  {
   "cell_type": "code",
   "execution_count": 255,
   "id": "beb5852e",
   "metadata": {},
   "outputs": [
    {
     "data": {
      "text/plain": [
       "0"
      ]
     },
     "execution_count": 255,
     "metadata": {},
     "output_type": "execute_result"
    }
   ],
   "source": [
    "test.bsmtfin_type_1.isnull().sum()"
   ]
  },
  {
   "cell_type": "code",
   "execution_count": 256,
   "id": "ae53b21f",
   "metadata": {},
   "outputs": [],
   "source": [
    "train['bsmtfin_type_1'].fillna(('NA'), inplace = True)"
   ]
  },
  {
   "cell_type": "code",
   "execution_count": 257,
   "id": "cfd55af2",
   "metadata": {},
   "outputs": [],
   "source": [
    "test['bsmtfin_type_1'].fillna(('NA'), inplace = True)"
   ]
  },
  {
   "cell_type": "code",
   "execution_count": 258,
   "id": "bfd153b9",
   "metadata": {},
   "outputs": [
    {
     "data": {
      "text/plain": [
       "0"
      ]
     },
     "execution_count": 258,
     "metadata": {},
     "output_type": "execute_result"
    }
   ],
   "source": [
    "train.bsmtfin_type_2.isnull().sum()"
   ]
  },
  {
   "cell_type": "code",
   "execution_count": 259,
   "id": "75d679ae",
   "metadata": {},
   "outputs": [
    {
     "data": {
      "text/plain": [
       "0"
      ]
     },
     "execution_count": 259,
     "metadata": {},
     "output_type": "execute_result"
    }
   ],
   "source": [
    "test.bsmtfin_type_2.isnull().sum()"
   ]
  },
  {
   "cell_type": "code",
   "execution_count": 260,
   "id": "079e158f",
   "metadata": {},
   "outputs": [],
   "source": [
    "train['bsmtfin_type_2'].fillna(('NA'), inplace = True)"
   ]
  },
  {
   "cell_type": "code",
   "execution_count": 261,
   "id": "79c307c4",
   "metadata": {},
   "outputs": [],
   "source": [
    "test['bsmtfin_type_2'].fillna(('NA'), inplace = True)"
   ]
  },
  {
   "cell_type": "markdown",
   "id": "f01ab1cd",
   "metadata": {},
   "source": [
    "* __bsmtfin_sf_1__: Type 1 finished square feet\n",
    "* __bsmtfin_sf_2__: Type 2 finished square feet\n",
    "* _basmt_unf_sf \n",
    "* __total_bsmt_sf__:"
   ]
  },
  {
   "cell_type": "code",
   "execution_count": 262,
   "id": "3beea6b9",
   "metadata": {},
   "outputs": [],
   "source": [
    "#train.bsmtfin_sf_1.unique()"
   ]
  },
  {
   "cell_type": "code",
   "execution_count": 263,
   "id": "abb02061",
   "metadata": {},
   "outputs": [],
   "source": [
    "#train.bsmtfin_sf_2.unique()"
   ]
  },
  {
   "cell_type": "code",
   "execution_count": 264,
   "id": "cb81b21e",
   "metadata": {},
   "outputs": [],
   "source": [
    "#train.bsmt_unf_sf.unique()"
   ]
  },
  {
   "cell_type": "code",
   "execution_count": 265,
   "id": "9234a76d",
   "metadata": {},
   "outputs": [],
   "source": [
    "#train.total_bsmt_sf.unique()"
   ]
  },
  {
   "cell_type": "code",
   "execution_count": 266,
   "id": "e8a4bd8d",
   "metadata": {},
   "outputs": [
    {
     "data": {
      "text/plain": [
       "0.0       658\n",
       "24.0       17\n",
       "16.0       10\n",
       "20.0        7\n",
       "384.0       7\n",
       "         ... \n",
       "718.0       1\n",
       "900.0       1\n",
       "918.0       1\n",
       "1619.0      1\n",
       "1159.0      1\n",
       "Name: bsmtfin_sf_1, Length: 821, dtype: int64"
      ]
     },
     "execution_count": 266,
     "metadata": {},
     "output_type": "execute_result"
    }
   ],
   "source": [
    "train.bsmtfin_sf_1.value_counts()"
   ]
  },
  {
   "cell_type": "code",
   "execution_count": 267,
   "id": "af3650ff",
   "metadata": {},
   "outputs": [
    {
     "data": {
      "text/plain": [
       "0.0       1804\n",
       "294.0        5\n",
       "539.0        3\n",
       "72.0         3\n",
       "180.0        3\n",
       "          ... \n",
       "232.0        1\n",
       "1393.0       1\n",
       "95.0         1\n",
       "351.0        1\n",
       "120.0        1\n",
       "Name: bsmtfin_sf_2, Length: 205, dtype: int64"
      ]
     },
     "execution_count": 267,
     "metadata": {},
     "output_type": "execute_result"
    }
   ],
   "source": [
    "train.bsmtfin_sf_2.value_counts()"
   ]
  },
  {
   "cell_type": "code",
   "execution_count": 268,
   "id": "73ca84f6",
   "metadata": {},
   "outputs": [
    {
     "data": {
      "text/plain": [
       "0.0       165\n",
       "384.0      14\n",
       "672.0      11\n",
       "728.0      10\n",
       "216.0       9\n",
       "         ... \n",
       "266.0       1\n",
       "20.0        1\n",
       "1451.0      1\n",
       "109.0       1\n",
       "1211.0      1\n",
       "Name: bsmt_unf_sf, Length: 968, dtype: int64"
      ]
     },
     "execution_count": 268,
     "metadata": {},
     "output_type": "execute_result"
    }
   ],
   "source": [
    "train.bsmt_unf_sf.value_counts()"
   ]
  },
  {
   "cell_type": "code",
   "execution_count": 269,
   "id": "d304bfea",
   "metadata": {},
   "outputs": [
    {
     "data": {
      "text/plain": [
       "0.0       54\n",
       "864.0     51\n",
       "1040.0    20\n",
       "672.0     20\n",
       "816.0     17\n",
       "          ..\n",
       "946.0      1\n",
       "1236.0     1\n",
       "2220.0     1\n",
       "1316.0     1\n",
       "1247.0     1\n",
       "Name: total_bsmt_sf, Length: 893, dtype: int64"
      ]
     },
     "execution_count": 269,
     "metadata": {},
     "output_type": "execute_result"
    }
   ],
   "source": [
    "train.total_bsmt_sf.value_counts()"
   ]
  },
  {
   "cell_type": "code",
   "execution_count": 270,
   "id": "f3659622",
   "metadata": {},
   "outputs": [
    {
     "name": "stderr",
     "output_type": "stream",
     "text": [
      "/Users/aishakamara/anaconda3/lib/python3.8/site-packages/seaborn/distributions.py:2557: FutureWarning: `distplot` is a deprecated function and will be removed in a future version. Please adapt your code to use either `displot` (a figure-level function with similar flexibility) or `histplot` (an axes-level function for histograms).\n",
      "  warnings.warn(msg, FutureWarning)\n"
     ]
    },
    {
     "data": {
      "image/png": "[encoded data removed]",
      "text/plain": [
       "<Figure size 432x288 with 1 Axes>"
      ]
     },
     "metadata": {
      "needs_background": "light"
     },
     "output_type": "display_data"
    }
   ],
   "source": [
    "sns.distplot(train.bsmtfin_sf_1);"
   ]
  },
  {
   "cell_type": "code",
   "execution_count": 271,
   "id": "dc0c8af0",
   "metadata": {},
   "outputs": [
    {
     "name": "stderr",
     "output_type": "stream",
     "text": [
      "/Users/aishakamara/anaconda3/lib/python3.8/site-packages/seaborn/distributions.py:2557: FutureWarning: `distplot` is a deprecated function and will be removed in a future version. Please adapt your code to use either `displot` (a figure-level function with similar flexibility) or `histplot` (an axes-level function for histograms).\n",
      "  warnings.warn(msg, FutureWarning)\n"
     ]
    },
    {
     "data": {
      "image/png": "[encoded data removed]",
      "text/plain": [
       "<Figure size 432x288 with 1 Axes>"
      ]
     },
     "metadata": {
      "needs_background": "light"
     },
     "output_type": "display_data"
    }
   ],
   "source": [
    "sns.distplot(train.bsmtfin_sf_2);"
   ]
  },
  {
   "cell_type": "code",
   "execution_count": 272,
   "id": "47ccb4a6",
   "metadata": {},
   "outputs": [
    {
     "name": "stderr",
     "output_type": "stream",
     "text": [
      "/Users/aishakamara/anaconda3/lib/python3.8/site-packages/seaborn/distributions.py:2557: FutureWarning: `distplot` is a deprecated function and will be removed in a future version. Please adapt your code to use either `displot` (a figure-level function with similar flexibility) or `histplot` (an axes-level function for histograms).\n",
      "  warnings.warn(msg, FutureWarning)\n"
     ]
    },
    {
     "data": {
      "image/png": "[encoded data removed]",
      "text/plain": [
       "<Figure size 432x288 with 1 Axes>"
      ]
     },
     "metadata": {
      "needs_background": "light"
     },
     "output_type": "display_data"
    }
   ],
   "source": [
    "sns.distplot(train.total_bsmt_sf);"
   ]
  },
  {
   "cell_type": "code",
   "execution_count": 273,
   "id": "ce6bc24d",
   "metadata": {},
   "outputs": [
    {
     "data": {
      "text/plain": [
       "0"
      ]
     },
     "execution_count": 273,
     "metadata": {},
     "output_type": "execute_result"
    }
   ],
   "source": [
    "train.bsmtfin_sf_1.isnull().sum()"
   ]
  },
  {
   "cell_type": "code",
   "execution_count": 274,
   "id": "3aadc09c",
   "metadata": {},
   "outputs": [
    {
     "data": {
      "text/plain": [
       "0"
      ]
     },
     "execution_count": 274,
     "metadata": {},
     "output_type": "execute_result"
    }
   ],
   "source": [
    "test.bsmtfin_sf_1.isnull().sum()"
   ]
  },
  {
   "cell_type": "markdown",
   "id": "abbe284b",
   "metadata": {},
   "source": [
    "*No Noted nulls in the test data, no need updates needed.*"
   ]
  },
  {
   "cell_type": "code",
   "execution_count": 275,
   "id": "0a273dde",
   "metadata": {},
   "outputs": [],
   "source": [
    "train['bsmtfin_sf_1']= train['bsmtfin_sf_1'].fillna(train['bsmtfin_sf_1'].mode()[0])"
   ]
  },
  {
   "cell_type": "code",
   "execution_count": 276,
   "id": "33691d4c",
   "metadata": {},
   "outputs": [
    {
     "data": {
      "text/plain": [
       "0"
      ]
     },
     "execution_count": 276,
     "metadata": {},
     "output_type": "execute_result"
    }
   ],
   "source": [
    "train.bsmtfin_sf_2.isnull().sum()"
   ]
  },
  {
   "cell_type": "code",
   "execution_count": 277,
   "id": "a40e085b",
   "metadata": {},
   "outputs": [
    {
     "data": {
      "text/plain": [
       "0"
      ]
     },
     "execution_count": 277,
     "metadata": {},
     "output_type": "execute_result"
    }
   ],
   "source": [
    "test.bsmtfin_sf_2.isnull().sum()"
   ]
  },
  {
   "cell_type": "markdown",
   "id": "a41d53e2",
   "metadata": {},
   "source": [
    "*No Noted nulls inthe test data, no need updates needed.*"
   ]
  },
  {
   "cell_type": "code",
   "execution_count": 278,
   "id": "193f367d",
   "metadata": {},
   "outputs": [],
   "source": [
    "train['bsmtfin_sf_2']= train['bsmtfin_sf_2'].fillna(train['bsmtfin_sf_2'].mode()[0])"
   ]
  },
  {
   "cell_type": "code",
   "execution_count": 279,
   "id": "191aafce",
   "metadata": {},
   "outputs": [
    {
     "data": {
      "text/plain": [
       "0"
      ]
     },
     "execution_count": 279,
     "metadata": {},
     "output_type": "execute_result"
    }
   ],
   "source": [
    "train.bsmt_unf_sf.isnull().sum()"
   ]
  },
  {
   "cell_type": "code",
   "execution_count": 280,
   "id": "f4cd7d9d",
   "metadata": {},
   "outputs": [
    {
     "data": {
      "text/plain": [
       "0"
      ]
     },
     "execution_count": 280,
     "metadata": {},
     "output_type": "execute_result"
    }
   ],
   "source": [
    "test.bsmt_unf_sf.isnull().sum()"
   ]
  },
  {
   "cell_type": "code",
   "execution_count": 281,
   "id": "4411237f",
   "metadata": {},
   "outputs": [],
   "source": [
    "train['bsmt_unf_sf']= train['bsmt_unf_sf'].fillna(train['bsmt_unf_sf'].mean())"
   ]
  },
  {
   "cell_type": "code",
   "execution_count": 282,
   "id": "51c223dc",
   "metadata": {},
   "outputs": [
    {
     "data": {
      "text/plain": [
       "0"
      ]
     },
     "execution_count": 282,
     "metadata": {},
     "output_type": "execute_result"
    }
   ],
   "source": [
    "train.total_bsmt_sf.isnull().sum()"
   ]
  },
  {
   "cell_type": "code",
   "execution_count": 283,
   "id": "8adbce4d",
   "metadata": {},
   "outputs": [
    {
     "data": {
      "text/plain": [
       "0"
      ]
     },
     "execution_count": 283,
     "metadata": {},
     "output_type": "execute_result"
    }
   ],
   "source": [
    "test.total_bsmt_sf.isnull().sum()"
   ]
  },
  {
   "cell_type": "code",
   "execution_count": 284,
   "id": "07c10d9f",
   "metadata": {},
   "outputs": [],
   "source": [
    "train['total_bsmt_sf']= train['total_bsmt_sf'].fillna(train['total_bsmt_sf'].mean())"
   ]
  },
  {
   "cell_type": "markdown",
   "id": "6708a3b8",
   "metadata": {},
   "source": [
    "*No Noted nulls inthe test data, no need updates needed.*"
   ]
  },
  {
   "cell_type": "markdown",
   "id": "22d5d52e",
   "metadata": {},
   "source": [
    "### Bathrooms"
   ]
  },
  {
   "cell_type": "markdown",
   "id": "51dadf4a",
   "metadata": {},
   "source": [
    "__bsmt_full_bath__ - Basement full bathrooms\n",
    "\n",
    "__bsmt_half_bath__ - Basement half bathrooms"
   ]
  },
  {
   "cell_type": "code",
   "execution_count": 285,
   "id": "50e1242a",
   "metadata": {},
   "outputs": [
    {
     "data": {
      "text/plain": [
       "array([0., 1., 2., 3.])"
      ]
     },
     "execution_count": 285,
     "metadata": {},
     "output_type": "execute_result"
    }
   ],
   "source": [
    "train.bsmt_full_bath.unique()"
   ]
  },
  {
   "cell_type": "code",
   "execution_count": 286,
   "id": "dc750b03",
   "metadata": {},
   "outputs": [
    {
     "data": {
      "text/plain": [
       "array([0., 1., 2.])"
      ]
     },
     "execution_count": 286,
     "metadata": {},
     "output_type": "execute_result"
    }
   ],
   "source": [
    "train.bsmt_half_bath.unique()"
   ]
  },
  {
   "cell_type": "code",
   "execution_count": 287,
   "id": "b386e727",
   "metadata": {},
   "outputs": [
    {
     "data": {
      "text/plain": [
       "0.0    1202\n",
       "1.0     824\n",
       "2.0      23\n",
       "3.0       2\n",
       "Name: bsmt_full_bath, dtype: int64"
      ]
     },
     "execution_count": 287,
     "metadata": {},
     "output_type": "execute_result"
    }
   ],
   "source": [
    "train.bsmt_full_bath.value_counts()"
   ]
  },
  {
   "cell_type": "code",
   "execution_count": 288,
   "id": "4215bb70",
   "metadata": {},
   "outputs": [
    {
     "data": {
      "text/plain": [
       "<AxesSubplot:>"
      ]
     },
     "execution_count": 288,
     "metadata": {},
     "output_type": "execute_result"
    },
    {
     "data": {
      "image/png": "[encoded data removed]",
      "text/plain": [
       "<Figure size 432x288 with 1 Axes>"
      ]
     },
     "metadata": {
      "needs_background": "light"
     },
     "output_type": "display_data"
    }
   ],
   "source": [
    "train['bsmt_full_bath'].hist()"
   ]
  },
  {
   "cell_type": "code",
   "execution_count": 289,
   "id": "ef951b28",
   "metadata": {},
   "outputs": [
    {
     "data": {
      "text/plain": [
       "0.0    1925\n",
       "1.0     122\n",
       "2.0       4\n",
       "Name: bsmt_half_bath, dtype: int64"
      ]
     },
     "execution_count": 289,
     "metadata": {},
     "output_type": "execute_result"
    }
   ],
   "source": [
    "train.bsmt_half_bath.value_counts()"
   ]
  },
  {
   "cell_type": "code",
   "execution_count": 290,
   "id": "982be726",
   "metadata": {},
   "outputs": [
    {
     "data": {
      "text/plain": [
       "<AxesSubplot:>"
      ]
     },
     "execution_count": 290,
     "metadata": {},
     "output_type": "execute_result"
    },
    {
     "data": {
      "image/png": "[encoded data removed]",
      "text/plain": [
       "<Figure size 432x288 with 1 Axes>"
      ]
     },
     "metadata": {
      "needs_background": "light"
     },
     "output_type": "display_data"
    }
   ],
   "source": [
    "train['bsmt_half_bath'].hist()"
   ]
  },
  {
   "cell_type": "markdown",
   "id": "90a96c88",
   "metadata": {},
   "source": [
    "Most frequenet number is zero, replace with zero bathrooms. "
   ]
  },
  {
   "cell_type": "code",
   "execution_count": 291,
   "id": "a8d3d510",
   "metadata": {},
   "outputs": [
    {
     "data": {
      "text/plain": [
       "0"
      ]
     },
     "execution_count": 291,
     "metadata": {},
     "output_type": "execute_result"
    }
   ],
   "source": [
    "train.bsmt_full_bath.isnull().sum()"
   ]
  },
  {
   "cell_type": "code",
   "execution_count": 292,
   "id": "634765b0",
   "metadata": {},
   "outputs": [
    {
     "data": {
      "text/plain": [
       "0"
      ]
     },
     "execution_count": 292,
     "metadata": {},
     "output_type": "execute_result"
    }
   ],
   "source": [
    "test.bsmt_full_bath.isnull().sum()"
   ]
  },
  {
   "cell_type": "code",
   "execution_count": 293,
   "id": "ab8f5325",
   "metadata": {},
   "outputs": [],
   "source": [
    "train['bsmt_full_bath']= train['bsmt_full_bath'].fillna(train['bsmt_full_bath'].mode()[0])"
   ]
  },
  {
   "cell_type": "code",
   "execution_count": 294,
   "id": "e4cd43b6",
   "metadata": {},
   "outputs": [
    {
     "data": {
      "text/plain": [
       "0"
      ]
     },
     "execution_count": 294,
     "metadata": {},
     "output_type": "execute_result"
    }
   ],
   "source": [
    "train.bsmt_half_bath.isnull().sum()"
   ]
  },
  {
   "cell_type": "code",
   "execution_count": 295,
   "id": "cd34ee40",
   "metadata": {},
   "outputs": [
    {
     "data": {
      "text/plain": [
       "0"
      ]
     },
     "execution_count": 295,
     "metadata": {},
     "output_type": "execute_result"
    }
   ],
   "source": [
    "test.bsmt_half_bath.isnull().sum()"
   ]
  },
  {
   "cell_type": "code",
   "execution_count": 296,
   "id": "60d79615",
   "metadata": {},
   "outputs": [],
   "source": [
    "train['bsmt_half_bath']= train['bsmt_half_bath'].fillna(train['bsmt_half_bath'].mode()[0])"
   ]
  },
  {
   "cell_type": "markdown",
   "id": "746ae92b",
   "metadata": {},
   "source": [
    "### Fireplace Attributes"
   ]
  },
  {
   "cell_type": "markdown",
   "id": "8527af50",
   "metadata": {},
   "source": [
    "__fireplace_qu__- Fireplace quality\n",
    "\n",
    "- Ex Excellent - Exceptional Masonry Fireplace\n",
    "- Gd Good - Masonry Fireplace in main level\n",
    "- TA Average - Prefabricated Fireplace in main living area or Masonry Fireplace in basement\n",
    "- Fa Fair - Prefabricated Fireplace in basement\n",
    "- Po Poor - Ben Franklin Stove\n",
    "- NA No Fireplace"
   ]
  },
  {
   "cell_type": "code",
   "execution_count": 297,
   "id": "84cdc0fe",
   "metadata": {},
   "outputs": [
    {
     "data": {
      "text/plain": [
       "array(['NA', 'TA', 'Gd', 'Po', 'Ex', 'Fa'], dtype=object)"
      ]
     },
     "execution_count": 297,
     "metadata": {},
     "output_type": "execute_result"
    }
   ],
   "source": [
    "train.fireplace_qu.unique()"
   ]
  },
  {
   "cell_type": "code",
   "execution_count": 298,
   "id": "70547577",
   "metadata": {},
   "outputs": [
    {
     "data": {
      "text/plain": [
       "NA    1000\n",
       "Gd     523\n",
       "TA     407\n",
       "Fa      59\n",
       "Po      31\n",
       "Ex      31\n",
       "Name: fireplace_qu, dtype: int64"
      ]
     },
     "execution_count": 298,
     "metadata": {},
     "output_type": "execute_result"
    }
   ],
   "source": [
    "train.fireplace_qu.value_counts()"
   ]
  },
  {
   "cell_type": "code",
   "execution_count": 299,
   "id": "d1798585",
   "metadata": {},
   "outputs": [
    {
     "data": {
      "text/plain": [
       "0"
      ]
     },
     "execution_count": 299,
     "metadata": {},
     "output_type": "execute_result"
    }
   ],
   "source": [
    "train.fireplace_qu.isnull().sum()"
   ]
  },
  {
   "cell_type": "code",
   "execution_count": 300,
   "id": "44d95efa",
   "metadata": {},
   "outputs": [
    {
     "data": {
      "text/plain": [
       "<AxesSubplot:>"
      ]
     },
     "execution_count": 300,
     "metadata": {},
     "output_type": "execute_result"
    },
    {
     "data": {
      "image/png": "[encoded data removed]",
      "text/plain": [
       "<Figure size 432x288 with 1 Axes>"
      ]
     },
     "metadata": {
      "needs_background": "light"
     },
     "output_type": "display_data"
    }
   ],
   "source": [
    "train['fireplace_qu'].hist()"
   ]
  },
  {
   "cell_type": "code",
   "execution_count": 301,
   "id": "62aeb04d",
   "metadata": {},
   "outputs": [
    {
     "data": {
      "text/plain": [
       "0"
      ]
     },
     "execution_count": 301,
     "metadata": {},
     "output_type": "execute_result"
    }
   ],
   "source": [
    "test.fireplace_qu.isnull().sum()"
   ]
  },
  {
   "cell_type": "code",
   "execution_count": 302,
   "id": "f9c5cd93",
   "metadata": {},
   "outputs": [
    {
     "data": {
      "text/plain": [
       "Series([], Name: fireplaces, dtype: int64)"
      ]
     },
     "execution_count": 302,
     "metadata": {},
     "output_type": "execute_result"
    }
   ],
   "source": [
    "fire_places = train[(train['fireplace_qu'].isnull())][['fireplaces','fireplace_qu']]\n",
    "fire_places['fireplaces'].sort_values()"
   ]
  },
  {
   "cell_type": "markdown",
   "id": "b4930266",
   "metadata": {},
   "source": [
    "_-confirmed that doe all NaN valeues in teh fireplace-qual' column there was a zero value in the 'places' column "
   ]
  },
  {
   "cell_type": "code",
   "execution_count": 303,
   "id": "b23228d4",
   "metadata": {},
   "outputs": [],
   "source": [
    "train['fireplace_qu'].fillna(('NA'), inplace = True)"
   ]
  },
  {
   "cell_type": "code",
   "execution_count": 304,
   "id": "e0d0102a",
   "metadata": {},
   "outputs": [],
   "source": [
    "test['fireplace_qu'].fillna(('NA'), inplace = True)"
   ]
  },
  {
   "cell_type": "markdown",
   "id": "cb57edbb",
   "metadata": {},
   "source": [
    "### Garage Attributes"
   ]
  },
  {
   "cell_type": "markdown",
   "id": "6d2f8757",
   "metadata": {},
   "source": [
    "garage_type (Garage location)\n",
    "\n",
    "- 2Types More than one type of garage\n",
    "- Attchd Attached to home\n",
    "- Basment Basement Garage\n",
    "- BuiltIn Built-In (Garage part of house - typically has room above garage)\n",
    "- CarPort Car Port\n",
    "- Detchd Detached from home\n",
    "- NA No Garage"
   ]
  },
  {
   "cell_type": "code",
   "execution_count": 305,
   "id": "e058f02f",
   "metadata": {},
   "outputs": [
    {
     "data": {
      "text/plain": [
       "array(['Attchd', 'Detchd', 'BuiltIn', 'Basment', '2Types', 'CarPort'],\n",
       "      dtype=object)"
      ]
     },
     "execution_count": 305,
     "metadata": {},
     "output_type": "execute_result"
    }
   ],
   "source": [
    "train.garage_type.unique()"
   ]
  },
  {
   "cell_type": "code",
   "execution_count": 306,
   "id": "b0f7e366",
   "metadata": {},
   "outputs": [
    {
     "data": {
      "text/plain": [
       "Attchd     1326\n",
       "Detchd      536\n",
       "BuiltIn     132\n",
       "Basment      27\n",
       "2Types       19\n",
       "CarPort      11\n",
       "Name: garage_type, dtype: int64"
      ]
     },
     "execution_count": 306,
     "metadata": {},
     "output_type": "execute_result"
    }
   ],
   "source": [
    "train.garage_type.value_counts()"
   ]
  },
  {
   "cell_type": "code",
   "execution_count": 307,
   "id": "017c7a0c",
   "metadata": {},
   "outputs": [
    {
     "data": {
      "text/plain": [
       "<AxesSubplot:>"
      ]
     },
     "execution_count": 307,
     "metadata": {},
     "output_type": "execute_result"
    },
    {
     "data": {
      "image/png": "[encoded data removed]",
      "text/plain": [
       "<Figure size 432x288 with 1 Axes>"
      ]
     },
     "metadata": {
      "needs_background": "light"
     },
     "output_type": "display_data"
    }
   ],
   "source": [
    "train['garage_type'].hist()"
   ]
  },
  {
   "cell_type": "code",
   "execution_count": 308,
   "id": "35219036",
   "metadata": {},
   "outputs": [
    {
     "data": {
      "text/plain": [
       "0"
      ]
     },
     "execution_count": 308,
     "metadata": {},
     "output_type": "execute_result"
    }
   ],
   "source": [
    "train.garage_type.isnull().sum()"
   ]
  },
  {
   "cell_type": "code",
   "execution_count": 309,
   "id": "9128bd0c",
   "metadata": {},
   "outputs": [
    {
     "data": {
      "text/plain": [
       "0"
      ]
     },
     "execution_count": 309,
     "metadata": {},
     "output_type": "execute_result"
    }
   ],
   "source": [
    "test.garage_type.isnull().sum()"
   ]
  },
  {
   "cell_type": "code",
   "execution_count": 310,
   "id": "85169bb6",
   "metadata": {},
   "outputs": [],
   "source": [
    "train['garage_type'].fillna(('Attchd'), inplace = True)"
   ]
  },
  {
   "cell_type": "code",
   "execution_count": 311,
   "id": "b99eee89",
   "metadata": {},
   "outputs": [],
   "source": [
    "test['garage_type'].fillna(('Attchd'), inplace = True)"
   ]
  },
  {
   "cell_type": "markdown",
   "id": "04dc8a20",
   "metadata": {},
   "source": [
    "Most frequent tyoe of garage. Attached is the most common., I'll assign the missing to attached "
   ]
  },
  {
   "cell_type": "markdown",
   "id": "8a87e55d",
   "metadata": {},
   "source": [
    "__garage_yr_blt__"
   ]
  },
  {
   "cell_type": "code",
   "execution_count": 312,
   "id": "1839c372",
   "metadata": {},
   "outputs": [
    {
     "data": {
      "text/plain": [
       "array([1976., 1997., 1953., 2007., 1957., 1966., 2005., 1959., 1952.,\n",
       "       1969., 1971., 1900., 2000., 2004., 1916., 1963., 1977., 2009.,\n",
       "       1968., 1992., 1955., 1961., 1973., 1937., 1980., 2003., 1981.,\n",
       "       1931., 1995., 1958., 1965., 2006., 1978., 1954., 1935., 1951.,\n",
       "       1996., 1999., 1920., 1930., 1924., 1960., 1949., 1986., 1956.,\n",
       "       1994., 1979., 1964., 2001., 1972., 1939., 1962., 1927., 1948.,\n",
       "       1967., 1993., 2010., 1915., 1987., 1970., 1988., 1982., 1941.,\n",
       "       1984., 1942., 1950., 2002., 1975., 2008., 1974., 1998., 1918.,\n",
       "       1938., 1985., 1923., 1991., 1946., 1940., 1990., 1896., 1983.,\n",
       "       1914., 1945., 1921., 1925., 1926., 1936., 1932., 1947., 1929.,\n",
       "       1910., 1917., 1922., 1934., 1989., 1928., 2207., 1933., 1895.,\n",
       "       1919.])"
      ]
     },
     "execution_count": 312,
     "metadata": {},
     "output_type": "execute_result"
    }
   ],
   "source": [
    "train.garage_yr_blt.unique()"
   ]
  },
  {
   "cell_type": "code",
   "execution_count": 313,
   "id": "7d84f4bd",
   "metadata": {},
   "outputs": [
    {
     "data": {
      "text/plain": [
       "1980.0    136\n",
       "2005.0    105\n",
       "2007.0     84\n",
       "2006.0     80\n",
       "2004.0     72\n",
       "         ... \n",
       "1895.0      1\n",
       "1896.0      1\n",
       "1919.0      1\n",
       "1917.0      1\n",
       "1933.0      1\n",
       "Name: garage_yr_blt, Length: 100, dtype: int64"
      ]
     },
     "execution_count": 313,
     "metadata": {},
     "output_type": "execute_result"
    }
   ],
   "source": [
    "train.garage_yr_blt.value_counts()"
   ]
  },
  {
   "cell_type": "code",
   "execution_count": 314,
   "id": "aeb353e5",
   "metadata": {},
   "outputs": [
    {
     "data": {
      "text/plain": [
       "count    2051.000000\n",
       "mean     1978.779620\n",
       "std        24.725364\n",
       "min      1895.000000\n",
       "25%      1962.000000\n",
       "50%      1980.000000\n",
       "75%      2001.000000\n",
       "max      2207.000000\n",
       "Name: garage_yr_blt, dtype: float64"
      ]
     },
     "execution_count": 314,
     "metadata": {},
     "output_type": "execute_result"
    }
   ],
   "source": [
    "train.garage_yr_blt.describe()"
   ]
  },
  {
   "cell_type": "code",
   "execution_count": 315,
   "id": "bc15bcc6",
   "metadata": {},
   "outputs": [
    {
     "name": "stderr",
     "output_type": "stream",
     "text": [
      "/Users/aishakamara/anaconda3/lib/python3.8/site-packages/seaborn/distributions.py:2557: FutureWarning: `distplot` is a deprecated function and will be removed in a future version. Please adapt your code to use either `displot` (a figure-level function with similar flexibility) or `histplot` (an axes-level function for histograms).\n",
      "  warnings.warn(msg, FutureWarning)\n"
     ]
    },
    {
     "data": {
      "image/png": "[encoded data removed]",
      "text/plain": [
       "<Figure size 432x288 with 1 Axes>"
      ]
     },
     "metadata": {
      "needs_background": "light"
     },
     "output_type": "display_data"
    }
   ],
   "source": [
    "sns.distplot(train.garage_yr_blt);"
   ]
  },
  {
   "cell_type": "code",
   "execution_count": 316,
   "id": "8fea8fbd",
   "metadata": {},
   "outputs": [
    {
     "data": {
      "text/html": [
       "<div>\n",
       "<style scoped>\n",
       "    .dataframe tbody tr th:only-of-type {\n",
       "        vertical-align: middle;\n",
       "    }\n",
       "\n",
       "    .dataframe tbody tr th {\n",
       "        vertical-align: top;\n",
       "    }\n",
       "\n",
       "    .dataframe thead th {\n",
       "        text-align: right;\n",
       "    }\n",
       "</style>\n",
       "<table border=\"1\" class=\"dataframe\">\n",
       "  <thead>\n",
       "    <tr style=\"text-align: right;\">\n",
       "      <th></th>\n",
       "      <th>id</th>\n",
       "      <th>pid</th>\n",
       "      <th>ms_subclass</th>\n",
       "      <th>ms_zoning</th>\n",
       "      <th>lot_frontage</th>\n",
       "      <th>lot_area</th>\n",
       "      <th>street</th>\n",
       "      <th>lot_shape</th>\n",
       "      <th>land_contour</th>\n",
       "      <th>utilities</th>\n",
       "      <th>...</th>\n",
       "      <th>enclosed_porch</th>\n",
       "      <th>3ssn_porch</th>\n",
       "      <th>screen_porch</th>\n",
       "      <th>pool_area</th>\n",
       "      <th>fence</th>\n",
       "      <th>misc_val</th>\n",
       "      <th>mo_sold</th>\n",
       "      <th>yr_sold</th>\n",
       "      <th>sale_type</th>\n",
       "      <th>saleprice</th>\n",
       "    </tr>\n",
       "  </thead>\n",
       "  <tbody>\n",
       "  </tbody>\n",
       "</table>\n",
       "<p>0 rows × 78 columns</p>\n",
       "</div>"
      ],
      "text/plain": [
       "Empty DataFrame\n",
       "Columns: [id, pid, ms_subclass, ms_zoning, lot_frontage, lot_area, street, lot_shape, land_contour, utilities, lot_config, land_slope, neighborhood, condition_1, condition_2, bldg_type, house_style, overall_qual, overall_cond, year_built, year_remod/add, roof_style, roof_matl, exterior_1st, exterior_2nd, mas_vnr_type, mas_vnr_area, exter_qual, exter_cond, foundation, bsmt_qual, bsmt_cond, bsmt_exposure, bsmtfin_type_1, bsmtfin_sf_1, bsmtfin_type_2, bsmtfin_sf_2, bsmt_unf_sf, total_bsmt_sf, heating, heating_qc, central_air, electrical, 1st_flr_sf, 2nd_flr_sf, low_qual_fin_sf, gr_liv_area, bsmt_full_bath, bsmt_half_bath, full_bath, half_bath, bedroom_abvgr, kitchen_abvgr, kitchen_qual, totrms_abvgrd, functional, fireplaces, fireplace_qu, garage_type, garage_yr_blt, garage_finish, garage_cars, garage_area, garage_qual, garage_cond, paved_drive, wood_deck_sf, open_porch_sf, enclosed_porch, 3ssn_porch, screen_porch, pool_area, fence, misc_val, mo_sold, yr_sold, sale_type, saleprice]\n",
       "Index: []\n",
       "\n",
       "[0 rows x 78 columns]"
      ]
     },
     "execution_count": 316,
     "metadata": {},
     "output_type": "execute_result"
    }
   ],
   "source": [
    "train[train['garage_yr_blt'].isnull()]"
   ]
  },
  {
   "cell_type": "code",
   "execution_count": 317,
   "id": "2f9d1074",
   "metadata": {},
   "outputs": [
    {
     "data": {
      "text/plain": [
       "0"
      ]
     },
     "execution_count": 317,
     "metadata": {},
     "output_type": "execute_result"
    }
   ],
   "source": [
    "train.garage_yr_blt.isnull().sum()"
   ]
  },
  {
   "cell_type": "code",
   "execution_count": 318,
   "id": "c23108a5",
   "metadata": {},
   "outputs": [
    {
     "data": {
      "text/plain": [
       "0"
      ]
     },
     "execution_count": 318,
     "metadata": {},
     "output_type": "execute_result"
    }
   ],
   "source": [
    "test.garage_yr_blt.isnull().sum()"
   ]
  },
  {
   "cell_type": "code",
   "execution_count": 319,
   "id": "82f03685",
   "metadata": {},
   "outputs": [],
   "source": [
    "train['garage_yr_blt'].fillna(train['garage_yr_blt'].median(), inplace = True)"
   ]
  },
  {
   "cell_type": "code",
   "execution_count": 320,
   "id": "56c935e8",
   "metadata": {},
   "outputs": [],
   "source": [
    "test['garage_yr_blt'].fillna(train['garage_yr_blt'].median(), inplace = True)"
   ]
  },
  {
   "cell_type": "markdown",
   "id": "a308b721",
   "metadata": {},
   "source": [
    "The min and  max years were on very far ends of either thresholds I decided to replace the missing values with teh median number, allowing for some sort of middle fgorund. "
   ]
  },
  {
   "cell_type": "code",
   "execution_count": 321,
   "id": "b0e4dee6",
   "metadata": {},
   "outputs": [
    {
     "name": "stderr",
     "output_type": "stream",
     "text": [
      "/Users/aishakamara/anaconda3/lib/python3.8/site-packages/seaborn/distributions.py:2557: FutureWarning: `distplot` is a deprecated function and will be removed in a future version. Please adapt your code to use either `displot` (a figure-level function with similar flexibility) or `histplot` (an axes-level function for histograms).\n",
      "  warnings.warn(msg, FutureWarning)\n"
     ]
    },
    {
     "data": {
      "image/png": "[encoded data removed]",
      "text/plain": [
       "<Figure size 432x288 with 1 Axes>"
      ]
     },
     "metadata": {
      "needs_background": "light"
     },
     "output_type": "display_data"
    }
   ],
   "source": [
    "sns.distplot(train.garage_yr_blt);"
   ]
  },
  {
   "cell_type": "code",
   "execution_count": 322,
   "id": "c99babfb",
   "metadata": {},
   "outputs": [],
   "source": [
    "#sns.pairplot(train, y_vars=['saleprice'], x_vars=['garage_yr_blt'])"
   ]
  },
  {
   "cell_type": "markdown",
   "id": "ad3bae2f",
   "metadata": {},
   "source": [
    "* __garage_finish__- Interior finish of the garage \n",
    "\n",
    "- Fin Finished\n",
    "- RFn Rough Finished\n",
    "- Unf Unfinished\n",
    "- NA No Garage"
   ]
  },
  {
   "cell_type": "code",
   "execution_count": 323,
   "id": "7f00952e",
   "metadata": {},
   "outputs": [
    {
     "data": {
      "text/plain": [
       "array(['RFn', 'Unf', 'Fin'], dtype=object)"
      ]
     },
     "execution_count": 323,
     "metadata": {},
     "output_type": "execute_result"
    }
   ],
   "source": [
    "train.garage_finish.unique() "
   ]
  },
  {
   "cell_type": "code",
   "execution_count": 324,
   "id": "bc8621e9",
   "metadata": {},
   "outputs": [
    {
     "data": {
      "text/plain": [
       "Unf    963\n",
       "RFn    579\n",
       "Fin    509\n",
       "Name: garage_finish, dtype: int64"
      ]
     },
     "execution_count": 324,
     "metadata": {},
     "output_type": "execute_result"
    }
   ],
   "source": [
    "train.garage_finish.value_counts()"
   ]
  },
  {
   "cell_type": "code",
   "execution_count": 325,
   "id": "21938876",
   "metadata": {},
   "outputs": [
    {
     "data": {
      "text/plain": [
       "0"
      ]
     },
     "execution_count": 325,
     "metadata": {},
     "output_type": "execute_result"
    }
   ],
   "source": [
    "train.garage_finish.isnull().sum()"
   ]
  },
  {
   "cell_type": "code",
   "execution_count": 326,
   "id": "e59c06bd",
   "metadata": {},
   "outputs": [
    {
     "data": {
      "text/plain": [
       "0"
      ]
     },
     "execution_count": 326,
     "metadata": {},
     "output_type": "execute_result"
    }
   ],
   "source": [
    "test.garage_finish.isnull().sum()"
   ]
  },
  {
   "cell_type": "code",
   "execution_count": 327,
   "id": "8e79f29c",
   "metadata": {},
   "outputs": [
    {
     "data": {
      "text/html": [
       "<div>\n",
       "<style scoped>\n",
       "    .dataframe tbody tr th:only-of-type {\n",
       "        vertical-align: middle;\n",
       "    }\n",
       "\n",
       "    .dataframe tbody tr th {\n",
       "        vertical-align: top;\n",
       "    }\n",
       "\n",
       "    .dataframe thead th {\n",
       "        text-align: right;\n",
       "    }\n",
       "</style>\n",
       "<table border=\"1\" class=\"dataframe\">\n",
       "  <thead>\n",
       "    <tr style=\"text-align: right;\">\n",
       "      <th></th>\n",
       "      <th>garage_yr_blt</th>\n",
       "      <th>garage_finish</th>\n",
       "    </tr>\n",
       "  </thead>\n",
       "  <tbody>\n",
       "  </tbody>\n",
       "</table>\n",
       "</div>"
      ],
      "text/plain": [
       "Empty DataFrame\n",
       "Columns: [garage_yr_blt, garage_finish]\n",
       "Index: []"
      ]
     },
     "execution_count": 327,
     "metadata": {},
     "output_type": "execute_result"
    }
   ],
   "source": [
    "no_garage = train[(train['garage_finish'].isnull())][['garage_yr_blt','garage_finish']]\n",
    "no_garage"
   ]
  },
  {
   "cell_type": "code",
   "execution_count": 328,
   "id": "65200460",
   "metadata": {},
   "outputs": [
    {
     "data": {
      "text/html": [
       "<div>\n",
       "<style scoped>\n",
       "    .dataframe tbody tr th:only-of-type {\n",
       "        vertical-align: middle;\n",
       "    }\n",
       "\n",
       "    .dataframe tbody tr th {\n",
       "        vertical-align: top;\n",
       "    }\n",
       "\n",
       "    .dataframe thead th {\n",
       "        text-align: right;\n",
       "    }\n",
       "</style>\n",
       "<table border=\"1\" class=\"dataframe\">\n",
       "  <thead>\n",
       "    <tr style=\"text-align: right;\">\n",
       "      <th></th>\n",
       "      <th>garage_yr_blt</th>\n",
       "      <th>garage_finish</th>\n",
       "    </tr>\n",
       "  </thead>\n",
       "  <tbody>\n",
       "    <tr>\n",
       "      <th>28</th>\n",
       "      <td>1980.0</td>\n",
       "      <td>Unf</td>\n",
       "    </tr>\n",
       "    <tr>\n",
       "      <th>53</th>\n",
       "      <td>1980.0</td>\n",
       "      <td>Unf</td>\n",
       "    </tr>\n",
       "    <tr>\n",
       "      <th>65</th>\n",
       "      <td>1980.0</td>\n",
       "      <td>Unf</td>\n",
       "    </tr>\n",
       "    <tr>\n",
       "      <th>79</th>\n",
       "      <td>1980.0</td>\n",
       "      <td>Unf</td>\n",
       "    </tr>\n",
       "    <tr>\n",
       "      <th>101</th>\n",
       "      <td>1980.0</td>\n",
       "      <td>Unf</td>\n",
       "    </tr>\n",
       "    <tr>\n",
       "      <th>...</th>\n",
       "      <td>...</td>\n",
       "      <td>...</td>\n",
       "    </tr>\n",
       "    <tr>\n",
       "      <th>1991</th>\n",
       "      <td>1980.0</td>\n",
       "      <td>Unf</td>\n",
       "    </tr>\n",
       "    <tr>\n",
       "      <th>2010</th>\n",
       "      <td>1980.0</td>\n",
       "      <td>Unf</td>\n",
       "    </tr>\n",
       "    <tr>\n",
       "      <th>2027</th>\n",
       "      <td>1980.0</td>\n",
       "      <td>Unf</td>\n",
       "    </tr>\n",
       "    <tr>\n",
       "      <th>2039</th>\n",
       "      <td>1980.0</td>\n",
       "      <td>Unf</td>\n",
       "    </tr>\n",
       "    <tr>\n",
       "      <th>2042</th>\n",
       "      <td>1980.0</td>\n",
       "      <td>Unf</td>\n",
       "    </tr>\n",
       "  </tbody>\n",
       "</table>\n",
       "<p>136 rows × 2 columns</p>\n",
       "</div>"
      ],
      "text/plain": [
       "      garage_yr_blt garage_finish\n",
       "28           1980.0           Unf\n",
       "53           1980.0           Unf\n",
       "65           1980.0           Unf\n",
       "79           1980.0           Unf\n",
       "101          1980.0           Unf\n",
       "...             ...           ...\n",
       "1991         1980.0           Unf\n",
       "2010         1980.0           Unf\n",
       "2027         1980.0           Unf\n",
       "2039         1980.0           Unf\n",
       "2042         1980.0           Unf\n",
       "\n",
       "[136 rows x 2 columns]"
      ]
     },
     "execution_count": 328,
     "metadata": {},
     "output_type": "execute_result"
    }
   ],
   "source": [
    "train[train['garage_yr_blt'] == 1980][['garage_yr_blt','garage_finish']]\n"
   ]
  },
  {
   "cell_type": "code",
   "execution_count": 329,
   "id": "f70f2c11",
   "metadata": {},
   "outputs": [
    {
     "data": {
      "text/plain": [
       "Series([], Name: garage_yr_blt, dtype: float64)"
      ]
     },
     "execution_count": 329,
     "metadata": {},
     "output_type": "execute_result"
    }
   ],
   "source": [
    "no_garage['garage_yr_blt'].sort_values()"
   ]
  },
  {
   "cell_type": "markdown",
   "id": "10afcb4e",
   "metadata": {},
   "source": [
    "1980 seems to the frequent year for year. "
   ]
  },
  {
   "cell_type": "code",
   "execution_count": 330,
   "id": "456321ca",
   "metadata": {},
   "outputs": [
    {
     "data": {
      "text/plain": [
       "<seaborn.axisgrid.PairGrid at 0x121e38d00>"
      ]
     },
     "execution_count": 330,
     "metadata": {},
     "output_type": "execute_result"
    },
    {
     "data": {
      "image/png": "[encoded data removed]",
      "text/plain": [
       "<Figure size 180x180 with 1 Axes>"
      ]
     },
     "metadata": {
      "needs_background": "light"
     },
     "output_type": "display_data"
    }
   ],
   "source": [
    "sns.pairplot(train, y_vars=['garage_finish'], x_vars=['garage_yr_blt'])"
   ]
  },
  {
   "cell_type": "markdown",
   "id": "9f71b5d1",
   "metadata": {},
   "source": [
    "* garage_cars (size of garage in car capacity)"
   ]
  },
  {
   "cell_type": "code",
   "execution_count": 331,
   "id": "d2e6a4f9",
   "metadata": {},
   "outputs": [],
   "source": [
    "train['garage_finish']= train['garage_finish'].fillna(train['garage_finish'].mode()[0])"
   ]
  },
  {
   "cell_type": "code",
   "execution_count": 332,
   "id": "24b5f018",
   "metadata": {},
   "outputs": [],
   "source": [
    "test['garage_finish']= train['garage_finish'].fillna(train['garage_finish'].mode()[0])"
   ]
  },
  {
   "cell_type": "markdown",
   "id": "97c3b03e",
   "metadata": {},
   "source": [
    "__GarageCars__: Size of garage in car capacity"
   ]
  },
  {
   "cell_type": "code",
   "execution_count": 333,
   "id": "cb969d09",
   "metadata": {},
   "outputs": [
    {
     "data": {
      "text/plain": [
       "array([2., 1., 3., 0., 4., 5.])"
      ]
     },
     "execution_count": 333,
     "metadata": {},
     "output_type": "execute_result"
    }
   ],
   "source": [
    "train.garage_cars.unique()"
   ]
  },
  {
   "cell_type": "code",
   "execution_count": 334,
   "id": "a02afcd4",
   "metadata": {},
   "outputs": [
    {
     "data": {
      "text/plain": [
       "2.0    1137\n",
       "1.0     524\n",
       "3.0     263\n",
       "0.0     113\n",
       "4.0      13\n",
       "5.0       1\n",
       "Name: garage_cars, dtype: int64"
      ]
     },
     "execution_count": 334,
     "metadata": {},
     "output_type": "execute_result"
    }
   ],
   "source": [
    "train.garage_cars.value_counts()"
   ]
  },
  {
   "cell_type": "code",
   "execution_count": 335,
   "id": "f990577d",
   "metadata": {},
   "outputs": [
    {
     "data": {
      "text/plain": [
       "0"
      ]
     },
     "execution_count": 335,
     "metadata": {},
     "output_type": "execute_result"
    }
   ],
   "source": [
    "train.garage_cars.isnull().sum()"
   ]
  },
  {
   "cell_type": "code",
   "execution_count": 336,
   "id": "0400cd1d",
   "metadata": {},
   "outputs": [
    {
     "data": {
      "text/plain": [
       "0"
      ]
     },
     "execution_count": 336,
     "metadata": {},
     "output_type": "execute_result"
    }
   ],
   "source": [
    "test.garage_cars.isnull().sum()"
   ]
  },
  {
   "cell_type": "code",
   "execution_count": 337,
   "id": "b11e1b97",
   "metadata": {},
   "outputs": [],
   "source": [
    "train['garage_cars']= train['garage_cars'].fillna(train['garage_cars'].mode()[0])"
   ]
  },
  {
   "cell_type": "code",
   "execution_count": 338,
   "id": "6ac2f004",
   "metadata": {},
   "outputs": [],
   "source": [
    "test['garage_cars']= train['garage_cars'].fillna(train['garage_cars'].mode()[0])"
   ]
  },
  {
   "cell_type": "markdown",
   "id": "51b20135",
   "metadata": {},
   "source": [
    "__GarageArea:__ Size of garage in square feet"
   ]
  },
  {
   "cell_type": "code",
   "execution_count": 339,
   "id": "8e7bd4d6",
   "metadata": {},
   "outputs": [],
   "source": [
    "#train.garage_area.unique()"
   ]
  },
  {
   "cell_type": "code",
   "execution_count": 340,
   "id": "5917be73",
   "metadata": {},
   "outputs": [
    {
     "data": {
      "text/plain": [
       "0.0       114\n",
       "440.0      70\n",
       "576.0      69\n",
       "484.0      52\n",
       "528.0      46\n",
       "         ... \n",
       "808.0       1\n",
       "752.0       1\n",
       "858.0       1\n",
       "422.0       1\n",
       "1174.0      1\n",
       "Name: garage_area, Length: 514, dtype: int64"
      ]
     },
     "execution_count": 340,
     "metadata": {},
     "output_type": "execute_result"
    }
   ],
   "source": [
    "train.garage_area.value_counts()"
   ]
  },
  {
   "cell_type": "code",
   "execution_count": 341,
   "id": "198a50f0",
   "metadata": {},
   "outputs": [
    {
     "data": {
      "text/plain": [
       "0"
      ]
     },
     "execution_count": 341,
     "metadata": {},
     "output_type": "execute_result"
    }
   ],
   "source": [
    "train.garage_area.isnull().sum()"
   ]
  },
  {
   "cell_type": "code",
   "execution_count": 342,
   "id": "de935492",
   "metadata": {},
   "outputs": [
    {
     "data": {
      "text/plain": [
       "0"
      ]
     },
     "execution_count": 342,
     "metadata": {},
     "output_type": "execute_result"
    }
   ],
   "source": [
    "test.garage_area.isnull().sum()"
   ]
  },
  {
   "cell_type": "code",
   "execution_count": 343,
   "id": "55e15833",
   "metadata": {},
   "outputs": [],
   "source": [
    "train['garage_area']= train['garage_area'].fillna(train['garage_area'].mode()[0])"
   ]
  },
  {
   "cell_type": "code",
   "execution_count": 344,
   "id": "ecc152e0",
   "metadata": {},
   "outputs": [],
   "source": [
    "test['garage_area']= train['garage_area'].fillna(train['garage_area'].mode()[0])"
   ]
  },
  {
   "cell_type": "markdown",
   "id": "a177cf4d",
   "metadata": {},
   "source": [
    "__garageQual:__ Garage quality\n",
    "- Ex Excellent\n",
    "- Gd Good\n",
    "- TA Typical/Average\n",
    "- Fa Fair\n",
    "- Po Poor\n",
    "- NA No Garage"
   ]
  },
  {
   "cell_type": "code",
   "execution_count": 345,
   "id": "df8bc7df",
   "metadata": {},
   "outputs": [
    {
     "data": {
      "text/plain": [
       "TA    1832\n",
       "NA     114\n",
       "Fa      82\n",
       "Gd      18\n",
       "Ex       3\n",
       "Po       2\n",
       "Name: garage_qual, dtype: int64"
      ]
     },
     "execution_count": 345,
     "metadata": {},
     "output_type": "execute_result"
    }
   ],
   "source": [
    "train.garage_qual.value_counts()"
   ]
  },
  {
   "cell_type": "code",
   "execution_count": 346,
   "id": "cba993b5",
   "metadata": {},
   "outputs": [
    {
     "data": {
      "text/plain": [
       "0"
      ]
     },
     "execution_count": 346,
     "metadata": {},
     "output_type": "execute_result"
    }
   ],
   "source": [
    "train.garage_qual.isnull().sum()"
   ]
  },
  {
   "cell_type": "code",
   "execution_count": 347,
   "id": "79df817c",
   "metadata": {},
   "outputs": [
    {
     "data": {
      "text/plain": [
       "0"
      ]
     },
     "execution_count": 347,
     "metadata": {},
     "output_type": "execute_result"
    }
   ],
   "source": [
    "test.garage_qual.isnull().sum()"
   ]
  },
  {
   "cell_type": "code",
   "execution_count": 348,
   "id": "e398d8ec",
   "metadata": {},
   "outputs": [],
   "source": [
    "train['garage_qual'].fillna(('NA'), inplace = True)"
   ]
  },
  {
   "cell_type": "code",
   "execution_count": 349,
   "id": "24ed2c47",
   "metadata": {},
   "outputs": [],
   "source": [
    "test['garage_qual'].fillna(('NA'), inplace = True)"
   ]
  },
  {
   "cell_type": "markdown",
   "id": "1515ee2e",
   "metadata": {},
   "source": [
    "GarageCond: Garage condition\n",
    "Ex Excellent\n",
    "Gd Good\n",
    "TA Typical/Average\n",
    "Fa Fair\n",
    "Po Poor\n",
    "NA No Garage"
   ]
  },
  {
   "cell_type": "code",
   "execution_count": 350,
   "id": "106fc8d3",
   "metadata": {},
   "outputs": [
    {
     "data": {
      "text/plain": [
       "array(['TA', 'Fa', 'Po', 'Gd', 'Ex'], dtype=object)"
      ]
     },
     "execution_count": 350,
     "metadata": {},
     "output_type": "execute_result"
    }
   ],
   "source": [
    "train.garage_cond.unique()"
   ]
  },
  {
   "cell_type": "code",
   "execution_count": 351,
   "id": "d187e06a",
   "metadata": {},
   "outputs": [
    {
     "data": {
      "text/plain": [
       "TA    1982\n",
       "Fa      47\n",
       "Gd      12\n",
       "Po       8\n",
       "Ex       2\n",
       "Name: garage_cond, dtype: int64"
      ]
     },
     "execution_count": 351,
     "metadata": {},
     "output_type": "execute_result"
    }
   ],
   "source": [
    "train.garage_cond.value_counts()"
   ]
  },
  {
   "cell_type": "code",
   "execution_count": 352,
   "id": "9fe48cc0",
   "metadata": {},
   "outputs": [
    {
     "data": {
      "text/plain": [
       "0"
      ]
     },
     "execution_count": 352,
     "metadata": {},
     "output_type": "execute_result"
    }
   ],
   "source": [
    "train.garage_cond.isnull().sum()"
   ]
  },
  {
   "cell_type": "code",
   "execution_count": 353,
   "id": "e2ce864e",
   "metadata": {},
   "outputs": [
    {
     "data": {
      "text/plain": [
       "0"
      ]
     },
     "execution_count": 353,
     "metadata": {},
     "output_type": "execute_result"
    }
   ],
   "source": [
    "test.garage_cond.isnull().sum()"
   ]
  },
  {
   "cell_type": "code",
   "execution_count": 354,
   "id": "37e04ed5",
   "metadata": {},
   "outputs": [],
   "source": [
    "train['garage_cond']= train['garage_cond'].fillna(train['garage_cond'].mode()[0])"
   ]
  },
  {
   "cell_type": "code",
   "execution_count": 355,
   "id": "66182039",
   "metadata": {},
   "outputs": [],
   "source": [
    "test['garage_cond']= train['garage_cond'].fillna(train['garage_cond'].mode()[0])"
   ]
  },
  {
   "cell_type": "markdown",
   "id": "7b4ebc85",
   "metadata": {},
   "source": [
    "__Fence__ - fence quality\n",
    "- GdPrv Good Privacy\n",
    "- MnPrv Minimum Privacy\n",
    "- GdWo Good Wood\n",
    "- MnWw Minimum Wood/Wire\n",
    "- NA No Fence"
   ]
  },
  {
   "cell_type": "code",
   "execution_count": 356,
   "id": "fabcba17",
   "metadata": {},
   "outputs": [
    {
     "data": {
      "text/plain": [
       "array(['NA', 'MnPrv', 'GdPrv', 'GdWo', 'MnWw'], dtype=object)"
      ]
     },
     "execution_count": 356,
     "metadata": {},
     "output_type": "execute_result"
    }
   ],
   "source": [
    "train.fence.unique()"
   ]
  },
  {
   "cell_type": "code",
   "execution_count": 357,
   "id": "46fcd1ee",
   "metadata": {},
   "outputs": [
    {
     "data": {
      "text/plain": [
       "NA       1651\n",
       "MnPrv     227\n",
       "GdPrv      83\n",
       "GdWo       80\n",
       "MnWw       10\n",
       "Name: fence, dtype: int64"
      ]
     },
     "execution_count": 357,
     "metadata": {},
     "output_type": "execute_result"
    }
   ],
   "source": [
    "train.fence.value_counts()"
   ]
  },
  {
   "cell_type": "code",
   "execution_count": 358,
   "id": "e5c585bf",
   "metadata": {},
   "outputs": [
    {
     "data": {
      "text/plain": [
       "<AxesSubplot:>"
      ]
     },
     "execution_count": 358,
     "metadata": {},
     "output_type": "execute_result"
    },
    {
     "data": {
      "image/png": "[encoded data removed]",
      "text/plain": [
       "<Figure size 432x288 with 1 Axes>"
      ]
     },
     "metadata": {
      "needs_background": "light"
     },
     "output_type": "display_data"
    }
   ],
   "source": [
    "train['fence'].hist()"
   ]
  },
  {
   "cell_type": "code",
   "execution_count": 359,
   "id": "988c9ceb",
   "metadata": {},
   "outputs": [
    {
     "data": {
      "text/plain": [
       "0"
      ]
     },
     "execution_count": 359,
     "metadata": {},
     "output_type": "execute_result"
    }
   ],
   "source": [
    "train.fence.isnull().sum()"
   ]
  },
  {
   "cell_type": "code",
   "execution_count": 360,
   "id": "d64d9340",
   "metadata": {},
   "outputs": [
    {
     "data": {
      "text/plain": [
       "0"
      ]
     },
     "execution_count": 360,
     "metadata": {},
     "output_type": "execute_result"
    }
   ],
   "source": [
    "test.fence.isnull().sum()"
   ]
  },
  {
   "cell_type": "code",
   "execution_count": 361,
   "id": "70dc0947",
   "metadata": {},
   "outputs": [],
   "source": [
    "train['fence'].fillna(('NA'), inplace = True)"
   ]
  },
  {
   "cell_type": "code",
   "execution_count": 362,
   "id": "09a7270b",
   "metadata": {},
   "outputs": [],
   "source": [
    "test['fence'].fillna(('NA'), inplace = True)"
   ]
  },
  {
   "cell_type": "markdown",
   "id": "82e400f8",
   "metadata": {},
   "source": [
    "Eletrical 1"
   ]
  },
  {
   "cell_type": "code",
   "execution_count": 363,
   "id": "b1b17011",
   "metadata": {},
   "outputs": [
    {
     "data": {
      "text/plain": [
       "0"
      ]
     },
     "execution_count": 363,
     "metadata": {},
     "output_type": "execute_result"
    }
   ],
   "source": [
    "test.electrical.isnull().sum()"
   ]
  },
  {
   "cell_type": "code",
   "execution_count": 364,
   "id": "ea689f3e",
   "metadata": {},
   "outputs": [
    {
     "data": {
      "text/plain": [
       "SBrkr    798\n",
       "FuseA     61\n",
       "FuseF     13\n",
       "FuseP      6\n",
       "Name: electrical, dtype: int64"
      ]
     },
     "execution_count": 364,
     "metadata": {},
     "output_type": "execute_result"
    }
   ],
   "source": [
    "test.electrical.value_counts()"
   ]
  },
  {
   "cell_type": "code",
   "execution_count": 365,
   "id": "22ede5f3",
   "metadata": {},
   "outputs": [],
   "source": [
    "test['electrical']= train['electrical'].fillna(train['electrical'].mode()[0])"
   ]
  },
  {
   "cell_type": "markdown",
   "id": "28c63eb5",
   "metadata": {},
   "source": [
    "### Sanity Check to  make sure all null values have been updated accordingly. "
   ]
  },
  {
   "cell_type": "code",
   "execution_count": 380,
   "id": "bc882eb4",
   "metadata": {},
   "outputs": [
    {
     "data": {
      "text/plain": [
       "Index([], dtype='object')"
      ]
     },
     "execution_count": 380,
     "metadata": {},
     "output_type": "execute_result"
    }
   ],
   "source": [
    "train.columns[train.isnull().any()]"
   ]
  },
  {
   "cell_type": "code",
   "execution_count": 381,
   "id": "b6434fe6",
   "metadata": {},
   "outputs": [
    {
     "data": {
      "text/plain": [
       "Index([], dtype='object')"
      ]
     },
     "execution_count": 381,
     "metadata": {},
     "output_type": "execute_result"
    }
   ],
   "source": [
    "test.columns[test.isnull().any()]"
   ]
  },
  {
   "cell_type": "code",
   "execution_count": 382,
   "id": "cd1a470c",
   "metadata": {},
   "outputs": [
    {
     "data": {
      "text/plain": [
       "(2051, 78)"
      ]
     },
     "execution_count": 382,
     "metadata": {},
     "output_type": "execute_result"
    }
   ],
   "source": [
    "train.shape"
   ]
  },
  {
   "cell_type": "code",
   "execution_count": 383,
   "id": "273243b0",
   "metadata": {},
   "outputs": [
    {
     "data": {
      "text/plain": [
       "(878, 77)"
      ]
     },
     "execution_count": 383,
     "metadata": {},
     "output_type": "execute_result"
    }
   ],
   "source": [
    "test.shape"
   ]
  },
  {
   "cell_type": "markdown",
   "id": "f3c3eb1e",
   "metadata": {},
   "source": [
    "### Exporting of the now cleaned CSV"
   ]
  },
  {
   "cell_type": "code",
   "execution_count": 384,
   "id": "268712c7",
   "metadata": {},
   "outputs": [],
   "source": [
    "train.to_csv('./datasets/train_clean.csv')"
   ]
  },
  {
   "cell_type": "code",
   "execution_count": 385,
   "id": "838bcdfe",
   "metadata": {},
   "outputs": [],
   "source": [
    "test.to_csv('./datasets/test_clean.csv')"
   ]
  },
  {
   "cell_type": "markdown",
   "id": "33c3b018",
   "metadata": {},
   "source": [
    "## Dependent variable "
   ]
  },
  {
   "cell_type": "code",
   "execution_count": 372,
   "id": "3a4ff3ef",
   "metadata": {},
   "outputs": [
    {
     "data": {
      "text/plain": [
       "count      2051.000000\n",
       "mean     181469.701609\n",
       "std       79258.659352\n",
       "min       12789.000000\n",
       "25%      129825.000000\n",
       "50%      162500.000000\n",
       "75%      214000.000000\n",
       "max      611657.000000\n",
       "Name: saleprice, dtype: float64"
      ]
     },
     "execution_count": 372,
     "metadata": {},
     "output_type": "execute_result"
    }
   ],
   "source": [
    "train.saleprice.describe()"
   ]
  },
  {
   "cell_type": "code",
   "execution_count": 373,
   "id": "504efa35",
   "metadata": {},
   "outputs": [
    {
     "data": {
      "text/html": [
       "<div>\n",
       "<style scoped>\n",
       "    .dataframe tbody tr th:only-of-type {\n",
       "        vertical-align: middle;\n",
       "    }\n",
       "\n",
       "    .dataframe tbody tr th {\n",
       "        vertical-align: top;\n",
       "    }\n",
       "\n",
       "    .dataframe thead th {\n",
       "        text-align: right;\n",
       "    }\n",
       "</style>\n",
       "<table border=\"1\" class=\"dataframe\">\n",
       "  <thead>\n",
       "    <tr style=\"text-align: right;\">\n",
       "      <th></th>\n",
       "    </tr>\n",
       "  </thead>\n",
       "  <tbody>\n",
       "    <tr>\n",
       "      <th>0</th>\n",
       "    </tr>\n",
       "    <tr>\n",
       "      <th>1</th>\n",
       "    </tr>\n",
       "    <tr>\n",
       "      <th>2</th>\n",
       "    </tr>\n",
       "    <tr>\n",
       "      <th>3</th>\n",
       "    </tr>\n",
       "    <tr>\n",
       "      <th>4</th>\n",
       "    </tr>\n",
       "    <tr>\n",
       "      <th>...</th>\n",
       "    </tr>\n",
       "    <tr>\n",
       "      <th>2046</th>\n",
       "    </tr>\n",
       "    <tr>\n",
       "      <th>2047</th>\n",
       "    </tr>\n",
       "    <tr>\n",
       "      <th>2048</th>\n",
       "    </tr>\n",
       "    <tr>\n",
       "      <th>2049</th>\n",
       "    </tr>\n",
       "    <tr>\n",
       "      <th>2050</th>\n",
       "    </tr>\n",
       "  </tbody>\n",
       "</table>\n",
       "<p>2051 rows × 0 columns</p>\n",
       "</div>"
      ],
      "text/plain": [
       "Empty DataFrame\n",
       "Columns: []\n",
       "Index: [0, 1, 2, 3, 4, 5, 6, 7, 8, 9, 10, 11, 12, 13, 14, 15, 16, 17, 18, 19, 20, 21, 22, 23, 24, 25, 26, 27, 28, 29, 30, 31, 32, 33, 34, 35, 36, 37, 38, 39, 40, 41, 42, 43, 44, 45, 46, 47, 48, 49, 50, 51, 52, 53, 54, 55, 56, 57, 58, 59, 60, 61, 62, 63, 64, 65, 66, 67, 68, 69, 70, 71, 72, 73, 74, 75, 76, 77, 78, 79, 80, 81, 82, 83, 84, 85, 86, 87, 88, 89, 90, 91, 92, 93, 94, 95, 96, 97, 98, 99, ...]\n",
       "\n",
       "[2051 rows x 0 columns]"
      ]
     },
     "execution_count": 373,
     "metadata": {},
     "output_type": "execute_result"
    }
   ],
   "source": [
    "train[train.columns[train.isnull().any()]]"
   ]
  },
  {
   "cell_type": "code",
   "execution_count": 374,
   "id": "34ea50c3",
   "metadata": {},
   "outputs": [
    {
     "data": {
      "text/plain": [
       "<AxesSubplot:>"
      ]
     },
     "execution_count": 374,
     "metadata": {},
     "output_type": "execute_result"
    },
    {
     "data": {
      "image/png": "[encoded data removed]",
      "text/plain": [
       "<Figure size 432x288 with 1 Axes>"
      ]
     },
     "metadata": {
      "needs_background": "light"
     },
     "output_type": "display_data"
    }
   ],
   "source": [
    "train['saleprice'].hist()"
   ]
  },
  {
   "cell_type": "markdown",
   "id": "a93b3e53",
   "metadata": {},
   "source": [
    "Data Types"
   ]
  },
  {
   "cell_type": "markdown",
   "id": "f48d2b24",
   "metadata": {},
   "source": [
    "[code source](https://stackoverflow.com/questions/57117399/pandas-isnull-sum-list-all-all-columns-without-summary)"
   ]
  },
  {
   "cell_type": "code",
   "execution_count": 375,
   "id": "5eeaf859",
   "metadata": {},
   "outputs": [],
   "source": [
    "#SCATTER PLOT CODE TO LOOK AT DEPENDET VS indep\n",
    "\n",
    "#plt.scatter(df['age'], df['max_heart_rate'])"
   ]
  },
  {
   "cell_type": "code",
   "execution_count": 376,
   "id": "d4ab5472",
   "metadata": {},
   "outputs": [
    {
     "data": {
      "text/plain": [
       "<AxesSubplot:>"
      ]
     },
     "execution_count": 376,
     "metadata": {},
     "output_type": "execute_result"
    },
    {
     "data": {
      "image/png": "[encoded data removed]",
      "text/plain": [
       "<Figure size 504x1080 with 2 Axes>"
      ]
     },
     "metadata": {
      "needs_background": "light"
     },
     "output_type": "display_data"
    }
   ],
   "source": [
    "#Coorelation heat map\n",
    "plt.figure(figsize=(7, 15))\n",
    "sns.heatmap(train.corr()[['saleprice']].sort_values('saleprice'),\n",
    "            annot=True, cmap='coolwarm', vmin=-1, vmax=1)\n",
    "\n"
   ]
  },
  {
   "cell_type": "markdown",
   "id": "ae621ed0",
   "metadata": {},
   "source": [
    "### do graphs for all correlations over .5"
   ]
  },
  {
   "cell_type": "code",
   "execution_count": 377,
   "id": "fef3e39f",
   "metadata": {},
   "outputs": [
    {
     "data": {
      "text/plain": [
       "<matplotlib.collections.PathCollection at 0x120d20580>"
      ]
     },
     "execution_count": 377,
     "metadata": {},
     "output_type": "execute_result"
    },
    {
     "data": {
      "image/png": "[encoded data removed]",
      "text/plain": [
       "<Figure size 576x576 with 1 Axes>"
      ]
     },
     "metadata": {
      "needs_background": "light"
     },
     "output_type": "display_data"
    }
   ],
   "source": [
    "plt.figure(figsize=(8, 8))\n",
    "plt.scatter(train['saleprice'], train['overall_qual'],\n",
    "           c = 'r')\n"
   ]
  },
  {
   "cell_type": "markdown",
   "id": "a727ebdf",
   "metadata": {},
   "source": [
    "## Model Prep: Create our features matrix (X) and target vector (y)"
   ]
  },
  {
   "cell_type": "markdown",
   "id": "36b947d7",
   "metadata": {},
   "source": [
    "## simple Regression "
   ]
  },
  {
   "cell_type": "code",
   "execution_count": 378,
   "id": "c87011a5",
   "metadata": {},
   "outputs": [],
   "source": [
    "X = train[['overall_qual']]\n",
    "y = train['saleprice']"
   ]
  },
  {
   "cell_type": "code",
   "execution_count": 379,
   "id": "6d1ed284",
   "metadata": {},
   "outputs": [
    {
     "ename": "NameError",
     "evalue": "name 'LinearRegression' is not defined",
     "output_type": "error",
     "traceback": [
      "\u001b[0;31m---------------------------------------------------------------------------\u001b[0m",
      "\u001b[0;31mNameError\u001b[0m                                 Traceback (most recent call last)",
      "\u001b[0;32m<ipython-input-379-f049af8f9b2f>\u001b[0m in \u001b[0;36m<module>\u001b[0;34m\u001b[0m\n\u001b[0;32m----> 1\u001b[0;31m \u001b[0mlr\u001b[0m \u001b[0;34m=\u001b[0m \u001b[0mLinearRegression\u001b[0m\u001b[0;34m(\u001b[0m\u001b[0;34m)\u001b[0m\u001b[0;34m\u001b[0m\u001b[0;34m\u001b[0m\u001b[0m\n\u001b[0m",
      "\u001b[0;31mNameError\u001b[0m: name 'LinearRegression' is not defined"
     ]
    }
   ],
   "source": [
    "lr = LinearRegression()"
   ]
  },
  {
   "cell_type": "code",
   "execution_count": null,
   "id": "20ff7eb0",
   "metadata": {},
   "outputs": [],
   "source": [
    "lr.fit(X,y)"
   ]
  },
  {
   "cell_type": "code",
   "execution_count": null,
   "id": "9d6d6dff",
   "metadata": {},
   "outputs": [],
   "source": [
    "lr.score(X,y)"
   ]
  },
  {
   "cell_type": "code",
   "execution_count": null,
   "id": "c236ff66",
   "metadata": {},
   "outputs": [],
   "source": [
    "X = train._get_numeric_data().drop(columns='saleprice')\n",
    "y = train['saleprice']"
   ]
  },
  {
   "cell_type": "markdown",
   "id": "d16f24e4",
   "metadata": {},
   "source": [
    "### Model Prep: Train/test split"
   ]
  },
  {
   "cell_type": "code",
   "execution_count": null,
   "id": "cf9b806f",
   "metadata": {},
   "outputs": [],
   "source": [
    "X_train, X_test, y_train, y_test = train_test_split(X, y, test_size = .80,\n",
    "                                                    random_state=42,\n",
    "                                                   shuffle = True)"
   ]
  },
  {
   "cell_type": "markdown",
   "id": "2167002a",
   "metadata": {},
   "source": [
    "### Model Prep: Instantiate our model"
   ]
  },
  {
   "cell_type": "code",
   "execution_count": null,
   "id": "fc17eb68",
   "metadata": {},
   "outputs": [],
   "source": [
    "model = LinearRegression()\n",
    "model.fit(X_train,y_train)"
   ]
  },
  {
   "cell_type": "markdown",
   "id": "352739f9",
   "metadata": {},
   "source": [
    "Lets get feature looking at how old teh house is. Year built- year sold"
   ]
  },
  {
   "cell_type": "markdown",
   "id": "7c966748",
   "metadata": {},
   "source": [
    "see if we can dummify neiborhood"
   ]
  },
  {
   "cell_type": "markdown",
   "id": "4d0fc4bf",
   "metadata": {},
   "source": [
    "## Model Fitting and Evaluation"
   ]
  },
  {
   "cell_type": "code",
   "execution_count": null,
   "id": "974e5844",
   "metadata": {},
   "outputs": [],
   "source": []
  }
 ],
 "metadata": {
  "kernelspec": {
   "display_name": "Python 3",
   "language": "python",
   "name": "python3"
  },
  "language_info": {
   "codemirror_mode": {
    "name": "ipython",
    "version": 3
   },
   "file_extension": ".py",
   "mimetype": "text/x-python",
   "name": "python",
   "nbconvert_exporter": "python",
   "pygments_lexer": "ipython3",
   "version": "3.8.8"
  }
 },
 "nbformat": 4,
 "nbformat_minor": 5
}
