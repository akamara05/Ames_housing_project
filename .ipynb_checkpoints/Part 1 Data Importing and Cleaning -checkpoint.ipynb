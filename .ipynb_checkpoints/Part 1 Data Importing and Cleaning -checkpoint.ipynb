{
 "cells": [
  {
   "cell_type": "markdown",
   "id": "ce7df8c5",
   "metadata": {},
   "source": [
    "# DSI Project 2 - Ames Housing Data and Kaggle Challenge"
   ]
  },
  {
   "cell_type": "markdown",
   "id": "a5c5a28f",
   "metadata": {},
   "source": [
    "### Part 1: Data Importing & Cleaning \n",
    "\n"
   ]
  },
  {
   "cell_type": "markdown",
   "id": "e0bec4fa",
   "metadata": {},
   "source": [
    "### Problem Statement "
   ]
  },
  {
   "cell_type": "markdown",
   "id": "b0cef22c",
   "metadata": {},
   "source": [
    "Selling and or buying a home is a risky investment for all parties involved, as with any investment one wants to reap a large enough return. But with so many features of any home to be factored in, ranging from the roof type to the location, it can be difficult to decide what features of the home should be heavily invested in order to see these high returns. We've been hired by XYZ Developers who are located in Iowa and aim to build over 100 homes in the next 2 years. They've requested that we assess whether or not they should invest a substantial amount of their budget to hire, 'Bed, Bath, Basements and Sons' contractors who specialize in building and remodeling beds, baths, and basements for residential homes. XYZ Developers would like to know if a focus on just these features of a home will result in high selling prices and better returns. We aim to use our data science modeling skills to provide them with our findings and ultimate recommendations. "
   ]
  },
  {
   "cell_type": "markdown",
   "id": "96e829b7",
   "metadata": {},
   "source": [
    "### Brief Background"
   ]
  },
  {
   "cell_type": "markdown",
   "id": "e0d4e973",
   "metadata": {},
   "source": [
    "In order to conduct our analysis and provide our clients with the needed findings and recommendations, we've obtained a public dataset of the housing data in Ames Iowa a town less than 20 miles from the area XYZ Developers plan to build. Ames Iowa is a city in Story County, Iowa and is best known as the home of Iowa State University. This dataset is essentially a large repository of all possible features (over 75) of a house that may effect the selling price. Linked here is a [data dictionary](https://www.kaggle.com/c/dsir-712-project-2-regression-challenge/data) to said dataset, detailing each of the features and their accompanying values. For more information on the dataset itself we did some outside research to gain better knowledge of the city as well as the data set:\n",
    "\n",
    "* [Ames,Iowa (wikipedia)](https://en.wikipedia.org/wiki/Ames,_Iowa)\n",
    "* [Ames Iowa: Alternative to the Boston Housing Data Set](http://jse.amstat.org/v19n3/decock/DataDocumentation.txt)"
   ]
  },
  {
   "cell_type": "markdown",
   "id": "39022748",
   "metadata": {},
   "source": [
    "### Scope & Methodology "
   ]
  },
  {
   "cell_type": "markdown",
   "id": "761fdf39",
   "metadata": {},
   "source": [
    "As mentioned there are over 75 features in this dataset so we could delve into assessing a number of outcomes, but as XYZ Developers has requested we focus our efforts on the services that 'Bed, Bath, Basements and Sons' provides, these are the features we will assess. Our analysis will be performed in four different parts:\n",
    "\n",
    "__1.__ Data Cleaning: We will clean the initial dataset being cognizant of missing data or features that may not be necessary to our analysis.  \n",
    "\n",
    "__2.__ EDA: Here we begin to explore the clean data and get an idea of how these features alone and in combination with other complimentary features may affect our ultimate goal of predicting high sales prices. \n",
    "\n",
    "__3.__ Modeling Part I: we will utilize linear regression incorporating different sets of features to see what best achieves our objective. \n",
    "\n",
    "__4.__ Modeling Part II: An introduction of Lasso and Ridge regularization to our previous models with the aim of improving our model and avoiding as much bias as we possibly can. "
   ]
  },
  {
   "cell_type": "markdown",
   "id": "b2cafd18",
   "metadata": {},
   "source": [
    "__Imports__"
   ]
  },
  {
   "cell_type": "markdown",
   "id": "fd732deb",
   "metadata": {},
   "source": [
    "* First things first, let's import all the libraries we feel at this point will be pertinent to the data clean up. "
   ]
  },
  {
   "cell_type": "code",
   "execution_count": 1,
   "id": "b31e08ca",
   "metadata": {},
   "outputs": [],
   "source": [
    "import numpy as np\n",
    "import pandas as pd\n",
    "from matplotlib import pyplot as plt\n",
    "import seaborn as sns"
   ]
  },
  {
   "cell_type": "markdown",
   "id": "415f8686",
   "metadata": {},
   "source": [
    "__Reading Data__\n",
    "* Reading in the train/test data we are to clean."
   ]
  },
  {
   "cell_type": "code",
   "execution_count": 2,
   "id": "2663f9ce",
   "metadata": {},
   "outputs": [
    {
     "data": {
      "text/html": [
       "<div>\n",
       "<style scoped>\n",
       "    .dataframe tbody tr th:only-of-type {\n",
       "        vertical-align: middle;\n",
       "    }\n",
       "\n",
       "    .dataframe tbody tr th {\n",
       "        vertical-align: top;\n",
       "    }\n",
       "\n",
       "    .dataframe thead th {\n",
       "        text-align: right;\n",
       "    }\n",
       "</style>\n",
       "<table border=\"1\" class=\"dataframe\">\n",
       "  <thead>\n",
       "    <tr style=\"text-align: right;\">\n",
       "      <th></th>\n",
       "      <th>Id</th>\n",
       "      <th>PID</th>\n",
       "      <th>MS SubClass</th>\n",
       "      <th>MS Zoning</th>\n",
       "      <th>Lot Frontage</th>\n",
       "      <th>Lot Area</th>\n",
       "      <th>Street</th>\n",
       "      <th>Alley</th>\n",
       "      <th>Lot Shape</th>\n",
       "      <th>Land Contour</th>\n",
       "      <th>...</th>\n",
       "      <th>Screen Porch</th>\n",
       "      <th>Pool Area</th>\n",
       "      <th>Pool QC</th>\n",
       "      <th>Fence</th>\n",
       "      <th>Misc Feature</th>\n",
       "      <th>Misc Val</th>\n",
       "      <th>Mo Sold</th>\n",
       "      <th>Yr Sold</th>\n",
       "      <th>Sale Type</th>\n",
       "      <th>SalePrice</th>\n",
       "    </tr>\n",
       "  </thead>\n",
       "  <tbody>\n",
       "    <tr>\n",
       "      <th>0</th>\n",
       "      <td>109</td>\n",
       "      <td>533352170</td>\n",
       "      <td>60</td>\n",
       "      <td>RL</td>\n",
       "      <td>NaN</td>\n",
       "      <td>13517</td>\n",
       "      <td>Pave</td>\n",
       "      <td>NaN</td>\n",
       "      <td>IR1</td>\n",
       "      <td>Lvl</td>\n",
       "      <td>...</td>\n",
       "      <td>0</td>\n",
       "      <td>0</td>\n",
       "      <td>NaN</td>\n",
       "      <td>NaN</td>\n",
       "      <td>NaN</td>\n",
       "      <td>0</td>\n",
       "      <td>3</td>\n",
       "      <td>2010</td>\n",
       "      <td>WD</td>\n",
       "      <td>130500</td>\n",
       "    </tr>\n",
       "    <tr>\n",
       "      <th>1</th>\n",
       "      <td>544</td>\n",
       "      <td>531379050</td>\n",
       "      <td>60</td>\n",
       "      <td>RL</td>\n",
       "      <td>43.0</td>\n",
       "      <td>11492</td>\n",
       "      <td>Pave</td>\n",
       "      <td>NaN</td>\n",
       "      <td>IR1</td>\n",
       "      <td>Lvl</td>\n",
       "      <td>...</td>\n",
       "      <td>0</td>\n",
       "      <td>0</td>\n",
       "      <td>NaN</td>\n",
       "      <td>NaN</td>\n",
       "      <td>NaN</td>\n",
       "      <td>0</td>\n",
       "      <td>4</td>\n",
       "      <td>2009</td>\n",
       "      <td>WD</td>\n",
       "      <td>220000</td>\n",
       "    </tr>\n",
       "    <tr>\n",
       "      <th>2</th>\n",
       "      <td>153</td>\n",
       "      <td>535304180</td>\n",
       "      <td>20</td>\n",
       "      <td>RL</td>\n",
       "      <td>68.0</td>\n",
       "      <td>7922</td>\n",
       "      <td>Pave</td>\n",
       "      <td>NaN</td>\n",
       "      <td>Reg</td>\n",
       "      <td>Lvl</td>\n",
       "      <td>...</td>\n",
       "      <td>0</td>\n",
       "      <td>0</td>\n",
       "      <td>NaN</td>\n",
       "      <td>NaN</td>\n",
       "      <td>NaN</td>\n",
       "      <td>0</td>\n",
       "      <td>1</td>\n",
       "      <td>2010</td>\n",
       "      <td>WD</td>\n",
       "      <td>109000</td>\n",
       "    </tr>\n",
       "    <tr>\n",
       "      <th>3</th>\n",
       "      <td>318</td>\n",
       "      <td>916386060</td>\n",
       "      <td>60</td>\n",
       "      <td>RL</td>\n",
       "      <td>73.0</td>\n",
       "      <td>9802</td>\n",
       "      <td>Pave</td>\n",
       "      <td>NaN</td>\n",
       "      <td>Reg</td>\n",
       "      <td>Lvl</td>\n",
       "      <td>...</td>\n",
       "      <td>0</td>\n",
       "      <td>0</td>\n",
       "      <td>NaN</td>\n",
       "      <td>NaN</td>\n",
       "      <td>NaN</td>\n",
       "      <td>0</td>\n",
       "      <td>4</td>\n",
       "      <td>2010</td>\n",
       "      <td>WD</td>\n",
       "      <td>174000</td>\n",
       "    </tr>\n",
       "    <tr>\n",
       "      <th>4</th>\n",
       "      <td>255</td>\n",
       "      <td>906425045</td>\n",
       "      <td>50</td>\n",
       "      <td>RL</td>\n",
       "      <td>82.0</td>\n",
       "      <td>14235</td>\n",
       "      <td>Pave</td>\n",
       "      <td>NaN</td>\n",
       "      <td>IR1</td>\n",
       "      <td>Lvl</td>\n",
       "      <td>...</td>\n",
       "      <td>0</td>\n",
       "      <td>0</td>\n",
       "      <td>NaN</td>\n",
       "      <td>NaN</td>\n",
       "      <td>NaN</td>\n",
       "      <td>0</td>\n",
       "      <td>3</td>\n",
       "      <td>2010</td>\n",
       "      <td>WD</td>\n",
       "      <td>138500</td>\n",
       "    </tr>\n",
       "  </tbody>\n",
       "</table>\n",
       "<p>5 rows × 81 columns</p>\n",
       "</div>"
      ],
      "text/plain": [
       "    Id        PID  MS SubClass MS Zoning  Lot Frontage  Lot Area Street Alley  \\\n",
       "0  109  533352170           60        RL           NaN     13517   Pave   NaN   \n",
       "1  544  531379050           60        RL          43.0     11492   Pave   NaN   \n",
       "2  153  535304180           20        RL          68.0      7922   Pave   NaN   \n",
       "3  318  916386060           60        RL          73.0      9802   Pave   NaN   \n",
       "4  255  906425045           50        RL          82.0     14235   Pave   NaN   \n",
       "\n",
       "  Lot Shape Land Contour  ... Screen Porch Pool Area Pool QC Fence  \\\n",
       "0       IR1          Lvl  ...            0         0     NaN   NaN   \n",
       "1       IR1          Lvl  ...            0         0     NaN   NaN   \n",
       "2       Reg          Lvl  ...            0         0     NaN   NaN   \n",
       "3       Reg          Lvl  ...            0         0     NaN   NaN   \n",
       "4       IR1          Lvl  ...            0         0     NaN   NaN   \n",
       "\n",
       "  Misc Feature Misc Val Mo Sold Yr Sold  Sale Type  SalePrice  \n",
       "0          NaN        0       3    2010        WD      130500  \n",
       "1          NaN        0       4    2009        WD      220000  \n",
       "2          NaN        0       1    2010        WD      109000  \n",
       "3          NaN        0       4    2010        WD      174000  \n",
       "4          NaN        0       3    2010        WD      138500  \n",
       "\n",
       "[5 rows x 81 columns]"
      ]
     },
     "execution_count": 2,
     "metadata": {},
     "output_type": "execute_result"
    }
   ],
   "source": [
    "train = pd.read_csv('./datasets/train.csv')\n",
    "train.head()"
   ]
  },
  {
   "cell_type": "code",
   "execution_count": 3,
   "id": "de0c1c73",
   "metadata": {},
   "outputs": [
    {
     "data": {
      "text/html": [
       "<div>\n",
       "<style scoped>\n",
       "    .dataframe tbody tr th:only-of-type {\n",
       "        vertical-align: middle;\n",
       "    }\n",
       "\n",
       "    .dataframe tbody tr th {\n",
       "        vertical-align: top;\n",
       "    }\n",
       "\n",
       "    .dataframe thead th {\n",
       "        text-align: right;\n",
       "    }\n",
       "</style>\n",
       "<table border=\"1\" class=\"dataframe\">\n",
       "  <thead>\n",
       "    <tr style=\"text-align: right;\">\n",
       "      <th></th>\n",
       "      <th>Id</th>\n",
       "      <th>PID</th>\n",
       "      <th>MS SubClass</th>\n",
       "      <th>MS Zoning</th>\n",
       "      <th>Lot Frontage</th>\n",
       "      <th>Lot Area</th>\n",
       "      <th>Street</th>\n",
       "      <th>Alley</th>\n",
       "      <th>Lot Shape</th>\n",
       "      <th>Land Contour</th>\n",
       "      <th>...</th>\n",
       "      <th>3Ssn Porch</th>\n",
       "      <th>Screen Porch</th>\n",
       "      <th>Pool Area</th>\n",
       "      <th>Pool QC</th>\n",
       "      <th>Fence</th>\n",
       "      <th>Misc Feature</th>\n",
       "      <th>Misc Val</th>\n",
       "      <th>Mo Sold</th>\n",
       "      <th>Yr Sold</th>\n",
       "      <th>Sale Type</th>\n",
       "    </tr>\n",
       "  </thead>\n",
       "  <tbody>\n",
       "    <tr>\n",
       "      <th>0</th>\n",
       "      <td>2658</td>\n",
       "      <td>902301120</td>\n",
       "      <td>190</td>\n",
       "      <td>RM</td>\n",
       "      <td>69.0</td>\n",
       "      <td>9142</td>\n",
       "      <td>Pave</td>\n",
       "      <td>Grvl</td>\n",
       "      <td>Reg</td>\n",
       "      <td>Lvl</td>\n",
       "      <td>...</td>\n",
       "      <td>0</td>\n",
       "      <td>0</td>\n",
       "      <td>0</td>\n",
       "      <td>NaN</td>\n",
       "      <td>NaN</td>\n",
       "      <td>NaN</td>\n",
       "      <td>0</td>\n",
       "      <td>4</td>\n",
       "      <td>2006</td>\n",
       "      <td>WD</td>\n",
       "    </tr>\n",
       "    <tr>\n",
       "      <th>1</th>\n",
       "      <td>2718</td>\n",
       "      <td>905108090</td>\n",
       "      <td>90</td>\n",
       "      <td>RL</td>\n",
       "      <td>NaN</td>\n",
       "      <td>9662</td>\n",
       "      <td>Pave</td>\n",
       "      <td>NaN</td>\n",
       "      <td>IR1</td>\n",
       "      <td>Lvl</td>\n",
       "      <td>...</td>\n",
       "      <td>0</td>\n",
       "      <td>0</td>\n",
       "      <td>0</td>\n",
       "      <td>NaN</td>\n",
       "      <td>NaN</td>\n",
       "      <td>NaN</td>\n",
       "      <td>0</td>\n",
       "      <td>8</td>\n",
       "      <td>2006</td>\n",
       "      <td>WD</td>\n",
       "    </tr>\n",
       "    <tr>\n",
       "      <th>2</th>\n",
       "      <td>2414</td>\n",
       "      <td>528218130</td>\n",
       "      <td>60</td>\n",
       "      <td>RL</td>\n",
       "      <td>58.0</td>\n",
       "      <td>17104</td>\n",
       "      <td>Pave</td>\n",
       "      <td>NaN</td>\n",
       "      <td>IR1</td>\n",
       "      <td>Lvl</td>\n",
       "      <td>...</td>\n",
       "      <td>0</td>\n",
       "      <td>0</td>\n",
       "      <td>0</td>\n",
       "      <td>NaN</td>\n",
       "      <td>NaN</td>\n",
       "      <td>NaN</td>\n",
       "      <td>0</td>\n",
       "      <td>9</td>\n",
       "      <td>2006</td>\n",
       "      <td>New</td>\n",
       "    </tr>\n",
       "    <tr>\n",
       "      <th>3</th>\n",
       "      <td>1989</td>\n",
       "      <td>902207150</td>\n",
       "      <td>30</td>\n",
       "      <td>RM</td>\n",
       "      <td>60.0</td>\n",
       "      <td>8520</td>\n",
       "      <td>Pave</td>\n",
       "      <td>NaN</td>\n",
       "      <td>Reg</td>\n",
       "      <td>Lvl</td>\n",
       "      <td>...</td>\n",
       "      <td>0</td>\n",
       "      <td>0</td>\n",
       "      <td>0</td>\n",
       "      <td>NaN</td>\n",
       "      <td>NaN</td>\n",
       "      <td>NaN</td>\n",
       "      <td>0</td>\n",
       "      <td>7</td>\n",
       "      <td>2007</td>\n",
       "      <td>WD</td>\n",
       "    </tr>\n",
       "    <tr>\n",
       "      <th>4</th>\n",
       "      <td>625</td>\n",
       "      <td>535105100</td>\n",
       "      <td>20</td>\n",
       "      <td>RL</td>\n",
       "      <td>NaN</td>\n",
       "      <td>9500</td>\n",
       "      <td>Pave</td>\n",
       "      <td>NaN</td>\n",
       "      <td>IR1</td>\n",
       "      <td>Lvl</td>\n",
       "      <td>...</td>\n",
       "      <td>0</td>\n",
       "      <td>185</td>\n",
       "      <td>0</td>\n",
       "      <td>NaN</td>\n",
       "      <td>NaN</td>\n",
       "      <td>NaN</td>\n",
       "      <td>0</td>\n",
       "      <td>7</td>\n",
       "      <td>2009</td>\n",
       "      <td>WD</td>\n",
       "    </tr>\n",
       "  </tbody>\n",
       "</table>\n",
       "<p>5 rows × 80 columns</p>\n",
       "</div>"
      ],
      "text/plain": [
       "     Id        PID  MS SubClass MS Zoning  Lot Frontage  Lot Area Street  \\\n",
       "0  2658  902301120          190        RM          69.0      9142   Pave   \n",
       "1  2718  905108090           90        RL           NaN      9662   Pave   \n",
       "2  2414  528218130           60        RL          58.0     17104   Pave   \n",
       "3  1989  902207150           30        RM          60.0      8520   Pave   \n",
       "4   625  535105100           20        RL           NaN      9500   Pave   \n",
       "\n",
       "  Alley Lot Shape Land Contour  ... 3Ssn Porch Screen Porch Pool Area Pool QC  \\\n",
       "0  Grvl       Reg          Lvl  ...          0            0         0     NaN   \n",
       "1   NaN       IR1          Lvl  ...          0            0         0     NaN   \n",
       "2   NaN       IR1          Lvl  ...          0            0         0     NaN   \n",
       "3   NaN       Reg          Lvl  ...          0            0         0     NaN   \n",
       "4   NaN       IR1          Lvl  ...          0          185         0     NaN   \n",
       "\n",
       "  Fence Misc Feature Misc Val Mo Sold  Yr Sold  Sale Type  \n",
       "0   NaN          NaN        0       4     2006        WD   \n",
       "1   NaN          NaN        0       8     2006        WD   \n",
       "2   NaN          NaN        0       9     2006        New  \n",
       "3   NaN          NaN        0       7     2007        WD   \n",
       "4   NaN          NaN        0       7     2009        WD   \n",
       "\n",
       "[5 rows x 80 columns]"
      ]
     },
     "execution_count": 3,
     "metadata": {},
     "output_type": "execute_result"
    }
   ],
   "source": [
    "test = pd.read_csv('./datasets/test.csv')\n",
    "test.head()"
   ]
  },
  {
   "cell_type": "markdown",
   "id": "26a7c0fd",
   "metadata": {},
   "source": [
    "*The testing data has all the columns except for the dependent variable, sale price, which we will be generating at the end. For every update to the 'training' data frame we make, we ensure to do the same to the 'testing' data in order to keep them at par.*"
   ]
  },
  {
   "cell_type": "markdown",
   "id": "60b7d0ff",
   "metadata": {},
   "source": [
    "__Brief overview of observations__"
   ]
  },
  {
   "cell_type": "code",
   "execution_count": 4,
   "id": "b86e6f18",
   "metadata": {},
   "outputs": [
    {
     "data": {
      "text/plain": [
       "(2051, 81)"
      ]
     },
     "execution_count": 4,
     "metadata": {},
     "output_type": "execute_result"
    }
   ],
   "source": [
    "train.shape"
   ]
  },
  {
   "cell_type": "code",
   "execution_count": 5,
   "id": "fad4038c",
   "metadata": {},
   "outputs": [
    {
     "data": {
      "text/plain": [
       "(878, 80)"
      ]
     },
     "execution_count": 5,
     "metadata": {},
     "output_type": "execute_result"
    }
   ],
   "source": [
    "test.shape"
   ]
  },
  {
   "cell_type": "markdown",
   "id": "4f7bcfa9",
   "metadata": {},
   "source": [
    "__Updates to column headers__"
   ]
  },
  {
   "cell_type": "code",
   "execution_count": 6,
   "id": "79ae5b98",
   "metadata": {},
   "outputs": [],
   "source": [
    "train.columns = [column.replace(' ','_') for column in train.columns]"
   ]
  },
  {
   "cell_type": "code",
   "execution_count": 7,
   "id": "b9075905",
   "metadata": {},
   "outputs": [],
   "source": [
    "test.columns = [column.replace(' ','_') for column in test.columns]"
   ]
  },
  {
   "cell_type": "code",
   "execution_count": 8,
   "id": "2458e870",
   "metadata": {},
   "outputs": [],
   "source": [
    "train.columns = [column.lower() for column in train.columns]"
   ]
  },
  {
   "cell_type": "code",
   "execution_count": 9,
   "id": "816a2b7c",
   "metadata": {},
   "outputs": [],
   "source": [
    "test.columns = [column.lower() for column in test.columns]"
   ]
  },
  {
   "cell_type": "code",
   "execution_count": 10,
   "id": "bb1a7fcf",
   "metadata": {},
   "outputs": [
    {
     "data": {
      "text/html": [
       "<div>\n",
       "<style scoped>\n",
       "    .dataframe tbody tr th:only-of-type {\n",
       "        vertical-align: middle;\n",
       "    }\n",
       "\n",
       "    .dataframe tbody tr th {\n",
       "        vertical-align: top;\n",
       "    }\n",
       "\n",
       "    .dataframe thead th {\n",
       "        text-align: right;\n",
       "    }\n",
       "</style>\n",
       "<table border=\"1\" class=\"dataframe\">\n",
       "  <thead>\n",
       "    <tr style=\"text-align: right;\">\n",
       "      <th></th>\n",
       "      <th>id</th>\n",
       "      <th>pid</th>\n",
       "      <th>ms_subclass</th>\n",
       "      <th>ms_zoning</th>\n",
       "      <th>lot_frontage</th>\n",
       "      <th>lot_area</th>\n",
       "      <th>street</th>\n",
       "      <th>alley</th>\n",
       "      <th>lot_shape</th>\n",
       "      <th>land_contour</th>\n",
       "      <th>...</th>\n",
       "      <th>screen_porch</th>\n",
       "      <th>pool_area</th>\n",
       "      <th>pool_qc</th>\n",
       "      <th>fence</th>\n",
       "      <th>misc_feature</th>\n",
       "      <th>misc_val</th>\n",
       "      <th>mo_sold</th>\n",
       "      <th>yr_sold</th>\n",
       "      <th>sale_type</th>\n",
       "      <th>saleprice</th>\n",
       "    </tr>\n",
       "  </thead>\n",
       "  <tbody>\n",
       "    <tr>\n",
       "      <th>0</th>\n",
       "      <td>109</td>\n",
       "      <td>533352170</td>\n",
       "      <td>60</td>\n",
       "      <td>RL</td>\n",
       "      <td>NaN</td>\n",
       "      <td>13517</td>\n",
       "      <td>Pave</td>\n",
       "      <td>NaN</td>\n",
       "      <td>IR1</td>\n",
       "      <td>Lvl</td>\n",
       "      <td>...</td>\n",
       "      <td>0</td>\n",
       "      <td>0</td>\n",
       "      <td>NaN</td>\n",
       "      <td>NaN</td>\n",
       "      <td>NaN</td>\n",
       "      <td>0</td>\n",
       "      <td>3</td>\n",
       "      <td>2010</td>\n",
       "      <td>WD</td>\n",
       "      <td>130500</td>\n",
       "    </tr>\n",
       "    <tr>\n",
       "      <th>1</th>\n",
       "      <td>544</td>\n",
       "      <td>531379050</td>\n",
       "      <td>60</td>\n",
       "      <td>RL</td>\n",
       "      <td>43.0</td>\n",
       "      <td>11492</td>\n",
       "      <td>Pave</td>\n",
       "      <td>NaN</td>\n",
       "      <td>IR1</td>\n",
       "      <td>Lvl</td>\n",
       "      <td>...</td>\n",
       "      <td>0</td>\n",
       "      <td>0</td>\n",
       "      <td>NaN</td>\n",
       "      <td>NaN</td>\n",
       "      <td>NaN</td>\n",
       "      <td>0</td>\n",
       "      <td>4</td>\n",
       "      <td>2009</td>\n",
       "      <td>WD</td>\n",
       "      <td>220000</td>\n",
       "    </tr>\n",
       "  </tbody>\n",
       "</table>\n",
       "<p>2 rows × 81 columns</p>\n",
       "</div>"
      ],
      "text/plain": [
       "    id        pid  ms_subclass ms_zoning  lot_frontage  lot_area street alley  \\\n",
       "0  109  533352170           60        RL           NaN     13517   Pave   NaN   \n",
       "1  544  531379050           60        RL          43.0     11492   Pave   NaN   \n",
       "\n",
       "  lot_shape land_contour  ... screen_porch pool_area pool_qc fence  \\\n",
       "0       IR1          Lvl  ...            0         0     NaN   NaN   \n",
       "1       IR1          Lvl  ...            0         0     NaN   NaN   \n",
       "\n",
       "  misc_feature misc_val mo_sold yr_sold  sale_type  saleprice  \n",
       "0          NaN        0       3    2010        WD      130500  \n",
       "1          NaN        0       4    2009        WD      220000  \n",
       "\n",
       "[2 rows x 81 columns]"
      ]
     },
     "execution_count": 10,
     "metadata": {},
     "output_type": "execute_result"
    }
   ],
   "source": [
    "# updated column headers\n",
    "train.head(2)"
   ]
  },
  {
   "cell_type": "code",
   "execution_count": 11,
   "id": "cb5a1e6a",
   "metadata": {},
   "outputs": [
    {
     "data": {
      "text/html": [
       "<div>\n",
       "<style scoped>\n",
       "    .dataframe tbody tr th:only-of-type {\n",
       "        vertical-align: middle;\n",
       "    }\n",
       "\n",
       "    .dataframe tbody tr th {\n",
       "        vertical-align: top;\n",
       "    }\n",
       "\n",
       "    .dataframe thead th {\n",
       "        text-align: right;\n",
       "    }\n",
       "</style>\n",
       "<table border=\"1\" class=\"dataframe\">\n",
       "  <thead>\n",
       "    <tr style=\"text-align: right;\">\n",
       "      <th></th>\n",
       "      <th>id</th>\n",
       "      <th>pid</th>\n",
       "      <th>ms_subclass</th>\n",
       "      <th>ms_zoning</th>\n",
       "      <th>lot_frontage</th>\n",
       "      <th>lot_area</th>\n",
       "      <th>street</th>\n",
       "      <th>alley</th>\n",
       "      <th>lot_shape</th>\n",
       "      <th>land_contour</th>\n",
       "      <th>...</th>\n",
       "      <th>3ssn_porch</th>\n",
       "      <th>screen_porch</th>\n",
       "      <th>pool_area</th>\n",
       "      <th>pool_qc</th>\n",
       "      <th>fence</th>\n",
       "      <th>misc_feature</th>\n",
       "      <th>misc_val</th>\n",
       "      <th>mo_sold</th>\n",
       "      <th>yr_sold</th>\n",
       "      <th>sale_type</th>\n",
       "    </tr>\n",
       "  </thead>\n",
       "  <tbody>\n",
       "    <tr>\n",
       "      <th>0</th>\n",
       "      <td>2658</td>\n",
       "      <td>902301120</td>\n",
       "      <td>190</td>\n",
       "      <td>RM</td>\n",
       "      <td>69.0</td>\n",
       "      <td>9142</td>\n",
       "      <td>Pave</td>\n",
       "      <td>Grvl</td>\n",
       "      <td>Reg</td>\n",
       "      <td>Lvl</td>\n",
       "      <td>...</td>\n",
       "      <td>0</td>\n",
       "      <td>0</td>\n",
       "      <td>0</td>\n",
       "      <td>NaN</td>\n",
       "      <td>NaN</td>\n",
       "      <td>NaN</td>\n",
       "      <td>0</td>\n",
       "      <td>4</td>\n",
       "      <td>2006</td>\n",
       "      <td>WD</td>\n",
       "    </tr>\n",
       "    <tr>\n",
       "      <th>1</th>\n",
       "      <td>2718</td>\n",
       "      <td>905108090</td>\n",
       "      <td>90</td>\n",
       "      <td>RL</td>\n",
       "      <td>NaN</td>\n",
       "      <td>9662</td>\n",
       "      <td>Pave</td>\n",
       "      <td>NaN</td>\n",
       "      <td>IR1</td>\n",
       "      <td>Lvl</td>\n",
       "      <td>...</td>\n",
       "      <td>0</td>\n",
       "      <td>0</td>\n",
       "      <td>0</td>\n",
       "      <td>NaN</td>\n",
       "      <td>NaN</td>\n",
       "      <td>NaN</td>\n",
       "      <td>0</td>\n",
       "      <td>8</td>\n",
       "      <td>2006</td>\n",
       "      <td>WD</td>\n",
       "    </tr>\n",
       "  </tbody>\n",
       "</table>\n",
       "<p>2 rows × 80 columns</p>\n",
       "</div>"
      ],
      "text/plain": [
       "     id        pid  ms_subclass ms_zoning  lot_frontage  lot_area street  \\\n",
       "0  2658  902301120          190        RM          69.0      9142   Pave   \n",
       "1  2718  905108090           90        RL           NaN      9662   Pave   \n",
       "\n",
       "  alley lot_shape land_contour  ... 3ssn_porch screen_porch pool_area pool_qc  \\\n",
       "0  Grvl       Reg          Lvl  ...          0            0         0     NaN   \n",
       "1   NaN       IR1          Lvl  ...          0            0         0     NaN   \n",
       "\n",
       "  fence misc_feature misc_val mo_sold  yr_sold  sale_type  \n",
       "0   NaN          NaN        0       4     2006        WD   \n",
       "1   NaN          NaN        0       8     2006        WD   \n",
       "\n",
       "[2 rows x 80 columns]"
      ]
     },
     "execution_count": 11,
     "metadata": {},
     "output_type": "execute_result"
    }
   ],
   "source": [
    "#updated column headers\n",
    "test.head(2)"
   ]
  },
  {
   "cell_type": "markdown",
   "id": "4bb8c8d1",
   "metadata": {},
   "source": [
    "__Check for nulls__"
   ]
  },
  {
   "cell_type": "code",
   "execution_count": 12,
   "id": "876dceff",
   "metadata": {},
   "outputs": [
    {
     "data": {
      "text/plain": [
       "Index(['lot_frontage', 'alley', 'mas_vnr_type', 'mas_vnr_area', 'bsmt_qual',\n",
       "       'bsmt_cond', 'bsmt_exposure', 'bsmtfin_type_1', 'bsmtfin_sf_1',\n",
       "       'bsmtfin_type_2', 'bsmtfin_sf_2', 'bsmt_unf_sf', 'total_bsmt_sf',\n",
       "       'bsmt_full_bath', 'bsmt_half_bath', 'fireplace_qu', 'garage_type',\n",
       "       'garage_yr_blt', 'garage_finish', 'garage_cars', 'garage_area',\n",
       "       'garage_qual', 'garage_cond', 'pool_qc', 'fence', 'misc_feature'],\n",
       "      dtype='object')"
      ]
     },
     "execution_count": 12,
     "metadata": {},
     "output_type": "execute_result"
    }
   ],
   "source": [
    "#List of all columns with nulls. \n",
    "train.columns[train.isnull().any()]"
   ]
  },
  {
   "cell_type": "code",
   "execution_count": 13,
   "id": "0c52c642",
   "metadata": {},
   "outputs": [
    {
     "data": {
      "text/plain": [
       "Index(['lot_frontage', 'alley', 'mas_vnr_type', 'mas_vnr_area', 'bsmt_qual',\n",
       "       'bsmt_cond', 'bsmt_exposure', 'bsmtfin_type_1', 'bsmtfin_type_2',\n",
       "       'electrical', 'fireplace_qu', 'garage_type', 'garage_yr_blt',\n",
       "       'garage_finish', 'garage_qual', 'garage_cond', 'pool_qc', 'fence',\n",
       "       'misc_feature'],\n",
       "      dtype='object')"
      ]
     },
     "execution_count": 13,
     "metadata": {},
     "output_type": "execute_result"
    }
   ],
   "source": [
    "#List of all columns with nulls. \n",
    "test.columns[test.isnull().any()]"
   ]
  },
  {
   "cell_type": "markdown",
   "id": "31486eee",
   "metadata": {},
   "source": [
    "[code source](https://moonbooks.org/Articles/How-to-filter-missing-data-NAN-or-NULL-values-in-a-pandas-DataFrame-/)"
   ]
  },
  {
   "cell_type": "markdown",
   "id": "a578b3e3",
   "metadata": {},
   "source": [
    "__Sum of all null values for each variable__"
   ]
  },
  {
   "cell_type": "code",
   "execution_count": 14,
   "id": "0654d7b0",
   "metadata": {},
   "outputs": [
    {
     "data": {
      "text/plain": [
       "pool_qc           2042\n",
       "misc_feature      1986\n",
       "alley             1911\n",
       "fence             1651\n",
       "fireplace_qu      1000\n",
       "lot_frontage       330\n",
       "garage_finish      114\n",
       "garage_qual        114\n",
       "garage_yr_blt      114\n",
       "garage_cond        114\n",
       "garage_type        113\n",
       "bsmt_exposure       58\n",
       "bsmtfin_type_2      56\n",
       "bsmtfin_type_1      55\n",
       "bsmt_cond           55\n",
       "bsmt_qual           55\n",
       "mas_vnr_area        22\n",
       "mas_vnr_type        22\n",
       "bsmt_half_bath       2\n",
       "bsmt_full_bath       2\n",
       "garage_area          1\n",
       "total_bsmt_sf        1\n",
       "bsmt_unf_sf          1\n",
       "bsmtfin_sf_2         1\n",
       "bsmtfin_sf_1         1\n",
       "garage_cars          1\n",
       "dtype: int64"
      ]
     },
     "execution_count": 14,
     "metadata": {},
     "output_type": "execute_result"
    }
   ],
   "source": [
    "train.isnull().sum().sort_values(ascending = False).head(26)"
   ]
  },
  {
   "cell_type": "code",
   "execution_count": 15,
   "id": "b520d47b",
   "metadata": {},
   "outputs": [
    {
     "data": {
      "text/plain": [
       "pool_qc           874\n",
       "misc_feature      837\n",
       "alley             820\n",
       "fence             706\n",
       "fireplace_qu      422\n",
       "lot_frontage      160\n",
       "garage_yr_blt      45\n",
       "garage_finish      45\n",
       "garage_qual        45\n",
       "garage_cond        45\n",
       "garage_type        44\n",
       "bsmtfin_type_1     25\n",
       "bsmt_qual          25\n",
       "bsmt_cond          25\n",
       "bsmt_exposure      25\n",
       "bsmtfin_type_2     25\n",
       "electrical          1\n",
       "mas_vnr_type        1\n",
       "mas_vnr_area        1\n",
       "kitchen_abvgr       0\n",
       "dtype: int64"
      ]
     },
     "execution_count": 15,
     "metadata": {},
     "output_type": "execute_result"
    }
   ],
   "source": [
    "test.isnull().sum().sort_values(ascending = False).head(20)"
   ]
  },
  {
   "cell_type": "markdown",
   "id": "e6aae120",
   "metadata": {},
   "source": [
    "* As a preliminary step, any of the variables with roughly 50% or more of their data missing, we decided to drop rather than impute data. "
   ]
  },
  {
   "cell_type": "code",
   "execution_count": 16,
   "id": "25094e36",
   "metadata": {},
   "outputs": [],
   "source": [
    "train.drop(columns =['pool_qc','misc_feature','alley','fence'], inplace = True)"
   ]
  },
  {
   "cell_type": "code",
   "execution_count": 17,
   "id": "ee8a385f",
   "metadata": {},
   "outputs": [],
   "source": [
    "test.drop(columns =['pool_qc','misc_feature','alley','fence'], inplace = True)"
   ]
  },
  {
   "cell_type": "markdown",
   "id": "f7ccbae6",
   "metadata": {},
   "source": [
    "__Observations after initial variable drops__"
   ]
  },
  {
   "cell_type": "code",
   "execution_count": 18,
   "id": "92991353",
   "metadata": {},
   "outputs": [
    {
     "data": {
      "text/plain": [
       "(2051, 77)"
      ]
     },
     "execution_count": 18,
     "metadata": {},
     "output_type": "execute_result"
    }
   ],
   "source": [
    "train.shape"
   ]
  },
  {
   "cell_type": "markdown",
   "id": "d3af6d86",
   "metadata": {},
   "source": [
    "*Reduction of columns from 81 to 77.*"
   ]
  },
  {
   "cell_type": "code",
   "execution_count": 19,
   "id": "fa67c04c",
   "metadata": {},
   "outputs": [
    {
     "data": {
      "text/plain": [
       "(878, 76)"
      ]
     },
     "execution_count": 19,
     "metadata": {},
     "output_type": "execute_result"
    }
   ],
   "source": [
    "test.shape"
   ]
  },
  {
   "cell_type": "markdown",
   "id": "d9020c1b",
   "metadata": {},
   "source": [
    "*Reduction of columns in the test data frame  from 80 to 76.*"
   ]
  },
  {
   "cell_type": "code",
   "execution_count": 20,
   "id": "226c3b99",
   "metadata": {},
   "outputs": [
    {
     "data": {
      "text/plain": [
       "fireplace_qu      1000\n",
       "lot_frontage       330\n",
       "garage_cond        114\n",
       "garage_yr_blt      114\n",
       "garage_finish      114\n",
       "garage_qual        114\n",
       "garage_type        113\n",
       "bsmt_exposure       58\n",
       "bsmtfin_type_2      56\n",
       "bsmt_qual           55\n",
       "bsmt_cond           55\n",
       "bsmtfin_type_1      55\n",
       "mas_vnr_type        22\n",
       "mas_vnr_area        22\n",
       "bsmt_half_bath       2\n",
       "bsmt_full_bath       2\n",
       "bsmtfin_sf_1         1\n",
       "garage_area          1\n",
       "garage_cars          1\n",
       "bsmtfin_sf_2         1\n",
       "bsmt_unf_sf          1\n",
       "total_bsmt_sf        1\n",
       "dtype: int64"
      ]
     },
     "execution_count": 20,
     "metadata": {},
     "output_type": "execute_result"
    }
   ],
   "source": [
    "# Updated train list\n",
    "train.isnull().sum().sort_values(ascending = False).head(22)"
   ]
  },
  {
   "cell_type": "code",
   "execution_count": 116,
   "id": "edd86b83",
   "metadata": {},
   "outputs": [
    {
     "data": {
      "text/plain": [
       "id                0\n",
       "pid               0\n",
       "kitchen_qual      0\n",
       "kitchen_abvgr     0\n",
       "bedroom_abvgr     0\n",
       "half_bath         0\n",
       "full_bath         0\n",
       "bsmt_half_bath    0\n",
       "bsmt_full_bath    0\n",
       "gr_liv_area       0\n",
       "2nd_flr_sf        0\n",
       "1st_flr_sf        0\n",
       "electrical        0\n",
       "central_air       0\n",
       "heating_qc        0\n",
       "dtype: int64"
      ]
     },
     "execution_count": 116,
     "metadata": {},
     "output_type": "execute_result"
    }
   ],
   "source": [
    "# Updated test list\n",
    "test.isnull().sum().sort_values(ascending = False).head(15) "
   ]
  },
  {
   "cell_type": "markdown",
   "id": "5381f894",
   "metadata": {},
   "source": [
    "* I see that for the train data there are one or two items missing in the last few variables, as dropping these observations in total won't have much of an impact on the overall data we've decided to do so. "
   ]
  },
  {
   "cell_type": "code",
   "execution_count": 22,
   "id": "beb02bb2",
   "metadata": {},
   "outputs": [],
   "source": [
    "train.dropna(subset= ['bsmt_half_bath','bsmt_full_bath','bsmtfin_sf_1', 'garage_area','garage_cars', 'bsmtfin_sf_2',\\\n",
    "             'bsmt_unf_sf','total_bsmt_sf'], inplace = True)"
   ]
  },
  {
   "cell_type": "markdown",
   "id": "8a0cb8a2",
   "metadata": {},
   "source": [
    "[Source code](https://stackoverflow.com/questions/46091924/python-how-to-drop-a-row-whose-particular-column-is-empty-nan)"
   ]
  },
  {
   "cell_type": "markdown",
   "id": "7b0c2477",
   "metadata": {},
   "source": [
    "* Addressing the missing value for the electrical variable in the test data. "
   ]
  },
  {
   "cell_type": "code",
   "execution_count": 26,
   "id": "3e66be26",
   "metadata": {},
   "outputs": [
    {
     "data": {
      "text/plain": [
       "SBrkr    797\n",
       "FuseA     61\n",
       "FuseF     13\n",
       "FuseP      6\n",
       "Name: electrical, dtype: int64"
      ]
     },
     "execution_count": 26,
     "metadata": {},
     "output_type": "execute_result"
    }
   ],
   "source": [
    "test.electrical.value_counts()"
   ]
  },
  {
   "cell_type": "code",
   "execution_count": 115,
   "id": "7cb2cfac",
   "metadata": {},
   "outputs": [],
   "source": [
    "test['electrical']= test['electrical'].fillna(test['electrical'].mode()[0])"
   ]
  },
  {
   "cell_type": "markdown",
   "id": "cacffd48",
   "metadata": {},
   "source": [
    "There are still several variables with null values. Let's take a look these and clean them up accordingly. Having these cleaned up regardless of qualitative or quantitative value will help with overall data analysis and achieving our objective. For each of the identified variables we will look at their unique value counts, the number of missing values, and then take relevant steps to update these missing values. For convenience we've pulled in the details provided for each of these variables from the [data dictionary](https://www.kaggle.com/c/dsir-712-project-2-regression-challenge/data). \n"
   ]
  },
  {
   "cell_type": "markdown",
   "id": "8527af50",
   "metadata": {},
   "source": [
    "* __fireplace_qu__- Fireplace quality\n",
    "\n",
    "\n",
    "    - Ex Excellent- Exceptional Masonry Fireplace\n",
    "    - Gd Good- Masonry Fireplace in main level\n",
    "    - TA Average- Prefabricated Fireplace in main living area or Masonry Fireplace in basement\n",
    "    - Fa Fair - Prefabricated Fireplace in basement\n",
    "    - Po Poor - Ben Franklin Stove\n",
    "    - NA No Fireplace"
   ]
  },
  {
   "cell_type": "code",
   "execution_count": 30,
   "id": "70547577",
   "metadata": {},
   "outputs": [
    {
     "data": {
      "text/plain": [
       "Gd    522\n",
       "TA    407\n",
       "Fa     59\n",
       "Ex     31\n",
       "Po     31\n",
       "Name: fireplace_qu, dtype: int64"
      ]
     },
     "execution_count": 30,
     "metadata": {},
     "output_type": "execute_result"
    }
   ],
   "source": [
    "train.fireplace_qu.value_counts()"
   ]
  },
  {
   "cell_type": "code",
   "execution_count": 31,
   "id": "d1798585",
   "metadata": {},
   "outputs": [
    {
     "data": {
      "text/plain": [
       "998"
      ]
     },
     "execution_count": 31,
     "metadata": {},
     "output_type": "execute_result"
    }
   ],
   "source": [
    "train.fireplace_qu.isnull().sum()"
   ]
  },
  {
   "cell_type": "code",
   "execution_count": 32,
   "id": "62aeb04d",
   "metadata": {},
   "outputs": [
    {
     "data": {
      "text/plain": [
       "422"
      ]
     },
     "execution_count": 32,
     "metadata": {},
     "output_type": "execute_result"
    }
   ],
   "source": [
    "test.fireplace_qu.isnull().sum()"
   ]
  },
  {
   "cell_type": "markdown",
   "id": "88a906c1",
   "metadata": {},
   "source": [
    "Used the code below to confirm that for the missing values, there was actually no fireplace in existence. Confirmed this by looking to see if the same observation had a zero value for the variable 'fireplace' (number of fire places)."
   ]
  },
  {
   "cell_type": "code",
   "execution_count": 33,
   "id": "f9c5cd93",
   "metadata": {},
   "outputs": [
    {
     "data": {
      "text/plain": [
       "0       0\n",
       "1310    0\n",
       "1312    0\n",
       "1313    0\n",
       "1317    0\n",
       "       ..\n",
       "650     0\n",
       "653     0\n",
       "654     0\n",
       "634     0\n",
       "2047    0\n",
       "Name: fireplaces, Length: 998, dtype: int64"
      ]
     },
     "execution_count": 33,
     "metadata": {},
     "output_type": "execute_result"
    }
   ],
   "source": [
    "fire_places = train[(train['fireplace_qu'].isnull())][['fireplaces','fireplace_qu']]\n",
    "fire_places['fireplaces'].sort_values()"
   ]
  },
  {
   "cell_type": "markdown",
   "id": "b4930266",
   "metadata": {},
   "source": [
    "*Confirmed that for all NaN values in the 'fireplace-qual' column, that there was a zero value in the 'fireplaces' column.*"
   ]
  },
  {
   "cell_type": "code",
   "execution_count": 34,
   "id": "b23228d4",
   "metadata": {},
   "outputs": [],
   "source": [
    "train['fireplace_qu'].fillna(('No Fireplace'), inplace = True)"
   ]
  },
  {
   "cell_type": "code",
   "execution_count": 35,
   "id": "e0d0102a",
   "metadata": {},
   "outputs": [],
   "source": [
    "test['fireplace_qu'].fillna(('No Fireplace'), inplace = True)"
   ]
  },
  {
   "cell_type": "markdown",
   "id": "37e73a6b",
   "metadata": {},
   "source": [
    "* __Lot Frontage__ - Linear feet of street connected to property"
   ]
  },
  {
   "cell_type": "code",
   "execution_count": 36,
   "id": "36073860",
   "metadata": {},
   "outputs": [
    {
     "data": {
      "text/plain": [
       "60.0     179\n",
       "70.0      96\n",
       "80.0      94\n",
       "50.0      89\n",
       "65.0      71\n",
       "        ... \n",
       "174.0      1\n",
       "121.0      1\n",
       "25.0       1\n",
       "119.0      1\n",
       "22.0       1\n",
       "Name: lot_frontage, Length: 117, dtype: int64"
      ]
     },
     "execution_count": 36,
     "metadata": {},
     "output_type": "execute_result"
    }
   ],
   "source": [
    "train.lot_frontage.value_counts()"
   ]
  },
  {
   "cell_type": "code",
   "execution_count": 37,
   "id": "6446b3fc",
   "metadata": {},
   "outputs": [
    {
     "data": {
      "text/plain": [
       "330"
      ]
     },
     "execution_count": 37,
     "metadata": {},
     "output_type": "execute_result"
    }
   ],
   "source": [
    "train.lot_frontage.isnull().sum()"
   ]
  },
  {
   "cell_type": "code",
   "execution_count": 38,
   "id": "95ba01c2",
   "metadata": {},
   "outputs": [
    {
     "data": {
      "text/plain": [
       "160"
      ]
     },
     "execution_count": 38,
     "metadata": {},
     "output_type": "execute_result"
    }
   ],
   "source": [
    "test.lot_frontage.isnull().sum()"
   ]
  },
  {
   "cell_type": "code",
   "execution_count": 39,
   "id": "8872d06e",
   "metadata": {},
   "outputs": [
    {
     "name": "stderr",
     "output_type": "stream",
     "text": [
      "/Users/aishakamara/anaconda3/lib/python3.8/site-packages/seaborn/_decorators.py:36: FutureWarning: Pass the following variable as a keyword arg: x. From version 0.12, the only valid positional argument will be `data`, and passing other arguments without an explicit keyword will result in an error or misinterpretation.\n",
      "  warnings.warn(\n"
     ]
    },
    {
     "data": {
      "image/png": "[encoded data removed]",
      "text/plain": [
       "<Figure size 432x288 with 1 Axes>"
      ]
     },
     "metadata": {
      "needs_background": "light"
     },
     "output_type": "display_data"
    }
   ],
   "source": [
    "#taking a look at the distribution of values to determine how to impute data\n",
    "sns.boxplot(train.lot_frontage);"
   ]
  },
  {
   "cell_type": "markdown",
   "id": "8c355733",
   "metadata": {},
   "source": [
    "As seen by the graph above, there are quite a number of outliers which may be resulting in a skewed distribution, this leads me to believe that using the mean to impute data may not be the best approach. As such for all missing data for this variable, I'll be imputing the median value of all the observations instead.\n",
    "[source](https://vitalflux.com/pandas-impute-missing-values-mean-median-mode/)"
   ]
  },
  {
   "cell_type": "code",
   "execution_count": 40,
   "id": "1757210f",
   "metadata": {},
   "outputs": [
    {
     "data": {
      "text/plain": [
       "count    1718.000000\n",
       "mean       69.017462\n",
       "std        23.228719\n",
       "min        21.000000\n",
       "25%        58.000000\n",
       "50%        68.000000\n",
       "75%        80.000000\n",
       "max       313.000000\n",
       "Name: lot_frontage, dtype: float64"
      ]
     },
     "execution_count": 40,
     "metadata": {},
     "output_type": "execute_result"
    }
   ],
   "source": [
    "train.lot_frontage.describe()"
   ]
  },
  {
   "cell_type": "code",
   "execution_count": 41,
   "id": "2fef4d18",
   "metadata": {},
   "outputs": [
    {
     "data": {
      "text/plain": [
       "dtype('float64')"
      ]
     },
     "execution_count": 41,
     "metadata": {},
     "output_type": "execute_result"
    }
   ],
   "source": [
    "train.lot_frontage.dtype"
   ]
  },
  {
   "cell_type": "code",
   "execution_count": 42,
   "id": "42a32723",
   "metadata": {},
   "outputs": [],
   "source": [
    "train['lot_frontage']= train['lot_frontage'].fillna(train['lot_frontage'].median())"
   ]
  },
  {
   "cell_type": "code",
   "execution_count": 110,
   "id": "0719aae8",
   "metadata": {},
   "outputs": [],
   "source": [
    "test['lot_frontage']= test['lot_frontage'].fillna(test['lot_frontage'].median())"
   ]
  },
  {
   "cell_type": "markdown",
   "id": "40d25d81",
   "metadata": {},
   "source": [
    "* __Masonry veneer type:__  \"Masonry veneer is thin layers of brick, stone, or stucco, used for appearance purposes rather than structural support.\" \n",
    "[source](https://www.verisk.com/insurance/capabilities/underwriting/commercial-property/construction-briefs/frame/)\n",
    "\n",
    "\n",
    "    - BrkCmn  Brick Common\n",
    "    - BrkFace Brick Face\n",
    "    - CBlock Cinder Block\n",
    "    - None None\n",
    "    - Stone Stone\n",
    "\n"
   ]
  },
  {
   "cell_type": "code",
   "execution_count": 44,
   "id": "3fe927e4",
   "metadata": {},
   "outputs": [
    {
     "data": {
      "text/plain": [
       "None       1215\n",
       "BrkFace     630\n",
       "Stone       168\n",
       "BrkCmn       13\n",
       "Name: mas_vnr_type, dtype: int64"
      ]
     },
     "execution_count": 44,
     "metadata": {},
     "output_type": "execute_result"
    }
   ],
   "source": [
    "train.mas_vnr_type.value_counts()"
   ]
  },
  {
   "cell_type": "code",
   "execution_count": 45,
   "id": "a0cc04de",
   "metadata": {},
   "outputs": [
    {
     "data": {
      "text/plain": [
       "22"
      ]
     },
     "execution_count": 45,
     "metadata": {},
     "output_type": "execute_result"
    }
   ],
   "source": [
    "train.mas_vnr_type.isnull().sum()"
   ]
  },
  {
   "cell_type": "code",
   "execution_count": 46,
   "id": "ce50f262",
   "metadata": {},
   "outputs": [
    {
     "data": {
      "text/plain": [
       "1"
      ]
     },
     "execution_count": 46,
     "metadata": {},
     "output_type": "execute_result"
    }
   ],
   "source": [
    "test.mas_vnr_type.isnull().sum()"
   ]
  },
  {
   "cell_type": "markdown",
   "id": "9475e6d0",
   "metadata": {},
   "source": [
    "* There are 1218 observations that have no masonry veener on their homes. As this seems to be the most frequent/common number, we will apply this same categorical value across the null/missing values noted above. "
   ]
  },
  {
   "cell_type": "code",
   "execution_count": 47,
   "id": "60b5959a",
   "metadata": {},
   "outputs": [],
   "source": [
    "train['mas_vnr_type']= train['mas_vnr_type'].fillna(train['mas_vnr_type'].mode()[0])"
   ]
  },
  {
   "cell_type": "code",
   "execution_count": 112,
   "id": "a7ddac88",
   "metadata": {},
   "outputs": [],
   "source": [
    "test['mas_vnr_type']= test['mas_vnr_type'].fillna(test['mas_vnr_type'].mode()[0])"
   ]
  },
  {
   "cell_type": "markdown",
   "id": "b9ebb728",
   "metadata": {},
   "source": [
    "* __Mas Veneer Area:__ Masonry veneer area in square feet"
   ]
  },
  {
   "cell_type": "code",
   "execution_count": 48,
   "id": "d444fdf9",
   "metadata": {},
   "outputs": [
    {
     "data": {
      "text/plain": [
       "0.0       1213\n",
       "120.0       11\n",
       "200.0       10\n",
       "176.0       10\n",
       "72.0         9\n",
       "          ... \n",
       "224.0        1\n",
       "738.0        1\n",
       "1095.0       1\n",
       "479.0        1\n",
       "436.0        1\n",
       "Name: mas_vnr_area, Length: 373, dtype: int64"
      ]
     },
     "execution_count": 48,
     "metadata": {},
     "output_type": "execute_result"
    }
   ],
   "source": [
    "train.mas_vnr_area.value_counts()"
   ]
  },
  {
   "cell_type": "code",
   "execution_count": 49,
   "id": "222b586b",
   "metadata": {},
   "outputs": [
    {
     "data": {
      "text/plain": [
       "22"
      ]
     },
     "execution_count": 49,
     "metadata": {},
     "output_type": "execute_result"
    }
   ],
   "source": [
    "train.mas_vnr_area.isnull().sum()"
   ]
  },
  {
   "cell_type": "code",
   "execution_count": 50,
   "id": "6d41160a",
   "metadata": {},
   "outputs": [
    {
     "data": {
      "text/plain": [
       "1"
      ]
     },
     "execution_count": 50,
     "metadata": {},
     "output_type": "execute_result"
    }
   ],
   "source": [
    "test.mas_vnr_area.isnull().sum()"
   ]
  },
  {
   "cell_type": "code",
   "execution_count": 51,
   "id": "8314be6b",
   "metadata": {},
   "outputs": [
    {
     "name": "stderr",
     "output_type": "stream",
     "text": [
      "/Users/aishakamara/anaconda3/lib/python3.8/site-packages/seaborn/_decorators.py:36: FutureWarning: Pass the following variable as a keyword arg: x. From version 0.12, the only valid positional argument will be `data`, and passing other arguments without an explicit keyword will result in an error or misinterpretation.\n",
      "  warnings.warn(\n"
     ]
    },
    {
     "data": {
      "image/png": "[encoded data removed]",
      "text/plain": [
       "<Figure size 432x288 with 1 Axes>"
      ]
     },
     "metadata": {
      "needs_background": "light"
     },
     "output_type": "display_data"
    }
   ],
   "source": [
    "sns.boxplot(train.mas_vnr_area);"
   ]
  },
  {
   "cell_type": "markdown",
   "id": "ed5afe44",
   "metadata": {},
   "source": [
    "* Our assumption is that these are the same 22 observations with null values from the variables above, since we have applied 'None' meaning no masonry veneer type, there would be no area to measure as such we'll be replacing this missing observations with the value '0' which happens to also be the most frequent value."
   ]
  },
  {
   "cell_type": "markdown",
   "id": "a33c726f",
   "metadata": {},
   "source": [
    "* Noted that a majority of the distribution records 0 veneer area for approximately half of the observations. Because of this, we'll use the mode method to fill in the missing values for this variable. "
   ]
  },
  {
   "cell_type": "code",
   "execution_count": 52,
   "id": "fb0a88cc",
   "metadata": {},
   "outputs": [],
   "source": [
    "train['mas_vnr_area']= train['mas_vnr_area'].fillna(train['mas_vnr_area'].mode()[0])"
   ]
  },
  {
   "cell_type": "code",
   "execution_count": 114,
   "id": "f4c9b6b5",
   "metadata": {},
   "outputs": [],
   "source": [
    "test['mas_vnr_area']= test['mas_vnr_area'].fillna(test['mas_vnr_area'].mode()[0])"
   ]
  },
  {
   "cell_type": "markdown",
   "id": "cac5be5e",
   "metadata": {},
   "source": [
    "### Basement Attributes"
   ]
  },
  {
   "cell_type": "markdown",
   "id": "84934aab",
   "metadata": {},
   "source": [
    "* __Basemnt Quality__\n",
    "\n",
    "    - Ex Excellent (100+ inches)\n",
    "    - Gd Good (90-99 inches)\n",
    "    - TA Typical (80-89 inches)\n",
    "    - Fa Fair (70-79 inches)\n",
    "    - Po Poor (<70 inches)\n",
    "    - NA No Basement"
   ]
  },
  {
   "cell_type": "code",
   "execution_count": 53,
   "id": "0a180b0b",
   "metadata": {},
   "outputs": [
    {
     "data": {
      "text/plain": [
       "TA    887\n",
       "Gd    863\n",
       "Ex    184\n",
       "Fa     60\n",
       "Po      1\n",
       "Name: bsmt_qual, dtype: int64"
      ]
     },
     "execution_count": 53,
     "metadata": {},
     "output_type": "execute_result"
    }
   ],
   "source": [
    "train.bsmt_qual.value_counts()"
   ]
  },
  {
   "cell_type": "code",
   "execution_count": 54,
   "id": "9b8f710c",
   "metadata": {},
   "outputs": [
    {
     "data": {
      "text/plain": [
       "53"
      ]
     },
     "execution_count": 54,
     "metadata": {},
     "output_type": "execute_result"
    }
   ],
   "source": [
    "train.bsmt_qual.isnull().sum()"
   ]
  },
  {
   "cell_type": "code",
   "execution_count": 55,
   "id": "c3d33579",
   "metadata": {},
   "outputs": [
    {
     "data": {
      "text/plain": [
       "25"
      ]
     },
     "execution_count": 55,
     "metadata": {},
     "output_type": "execute_result"
    }
   ],
   "source": [
    "test.bsmt_qual.isnull().sum()"
   ]
  },
  {
   "cell_type": "markdown",
   "id": "4a82faaa",
   "metadata": {},
   "source": [
    "* Decided to fill missing values with the no basement option. "
   ]
  },
  {
   "cell_type": "code",
   "execution_count": 56,
   "id": "0fb428a0",
   "metadata": {},
   "outputs": [],
   "source": [
    "train['bsmt_qual'].fillna(('No Basement'), inplace = True)"
   ]
  },
  {
   "cell_type": "code",
   "execution_count": 57,
   "id": "ac7b6df1",
   "metadata": {},
   "outputs": [],
   "source": [
    "test['bsmt_qual'].fillna(('No Basment'), inplace = True)"
   ]
  },
  {
   "cell_type": "markdown",
   "id": "0cbd332a",
   "metadata": {},
   "source": [
    "* __Basemet Condition__ -  General condition of the basement\n",
    "\n",
    "    - Ex Excellent\n",
    "    - Gd Good\n",
    "    - TA Typical - slight dampness allowed\n",
    "    - Fa Fair - dampness or some cracking or settling\n",
    "    - Po Poor - Severe cracking, settling, or wetness\n",
    "    - NA No Basement"
   ]
  },
  {
   "cell_type": "code",
   "execution_count": 58,
   "id": "1636b00b",
   "metadata": {},
   "outputs": [
    {
     "data": {
      "text/plain": [
       "TA    1833\n",
       "Gd      89\n",
       "Fa      65\n",
       "Po       5\n",
       "Ex       3\n",
       "Name: bsmt_cond, dtype: int64"
      ]
     },
     "execution_count": 58,
     "metadata": {},
     "output_type": "execute_result"
    }
   ],
   "source": [
    "train.bsmt_cond.value_counts()"
   ]
  },
  {
   "cell_type": "code",
   "execution_count": 59,
   "id": "d70e57b3",
   "metadata": {},
   "outputs": [
    {
     "data": {
      "text/plain": [
       "53"
      ]
     },
     "execution_count": 59,
     "metadata": {},
     "output_type": "execute_result"
    }
   ],
   "source": [
    "train.bsmt_cond.isnull().sum()"
   ]
  },
  {
   "cell_type": "code",
   "execution_count": 60,
   "id": "be8de06f",
   "metadata": {},
   "outputs": [
    {
     "data": {
      "text/plain": [
       "25"
      ]
     },
     "execution_count": 60,
     "metadata": {},
     "output_type": "execute_result"
    }
   ],
   "source": [
    "test.bsmt_cond.isnull().sum()"
   ]
  },
  {
   "cell_type": "markdown",
   "id": "e8c27850",
   "metadata": {},
   "source": [
    "* Decided to fill missing values with the no basement option. "
   ]
  },
  {
   "cell_type": "code",
   "execution_count": 61,
   "id": "d6ea05cd",
   "metadata": {},
   "outputs": [],
   "source": [
    "train['bsmt_cond'].fillna(('No Basement'), inplace = True)"
   ]
  },
  {
   "cell_type": "code",
   "execution_count": 62,
   "id": "38264f88",
   "metadata": {},
   "outputs": [],
   "source": [
    "test['bsmt_cond'].fillna(('No Basement'), inplace = True)"
   ]
  },
  {
   "cell_type": "markdown",
   "id": "18ec2d07",
   "metadata": {},
   "source": [
    "__Basemnet Exposure__ - Walkout or garden level basement walls:\n",
    "- Gd Good Exposure\n",
    "- Av Average Exposure (split levels or foyers typically score average or above)\n",
    "- Mn Mimimum Exposure\n",
    "- No No Exposure\n",
    "- NA No Basement"
   ]
  },
  {
   "cell_type": "code",
   "execution_count": 63,
   "id": "a180e690",
   "metadata": {},
   "outputs": [
    {
     "data": {
      "text/plain": [
       "No    1338\n",
       "Av     288\n",
       "Gd     203\n",
       "Mn     163\n",
       "Name: bsmt_exposure, dtype: int64"
      ]
     },
     "execution_count": 63,
     "metadata": {},
     "output_type": "execute_result"
    }
   ],
   "source": [
    "train.bsmt_exposure.value_counts()"
   ]
  },
  {
   "cell_type": "code",
   "execution_count": 64,
   "id": "9c3e0e25",
   "metadata": {},
   "outputs": [
    {
     "data": {
      "text/plain": [
       "56"
      ]
     },
     "execution_count": 64,
     "metadata": {},
     "output_type": "execute_result"
    }
   ],
   "source": [
    "train.bsmt_exposure.isnull().sum()"
   ]
  },
  {
   "cell_type": "code",
   "execution_count": 65,
   "id": "24bed435",
   "metadata": {},
   "outputs": [
    {
     "data": {
      "text/plain": [
       "25"
      ]
     },
     "execution_count": 65,
     "metadata": {},
     "output_type": "execute_result"
    }
   ],
   "source": [
    "test.bsmt_exposure.isnull().sum()"
   ]
  },
  {
   "cell_type": "markdown",
   "id": "7b1b8bd6",
   "metadata": {},
   "source": [
    "* Decided to fill missing values with the no basement option."
   ]
  },
  {
   "cell_type": "code",
   "execution_count": 66,
   "id": "02e78bdf",
   "metadata": {},
   "outputs": [],
   "source": [
    "train['bsmt_exposure'].fillna(('No Basement'), inplace = True)"
   ]
  },
  {
   "cell_type": "code",
   "execution_count": 67,
   "id": "651188a4",
   "metadata": {},
   "outputs": [],
   "source": [
    "test['bsmt_exposure'].fillna(('No Basement'), inplace = True)"
   ]
  },
  {
   "cell_type": "markdown",
   "id": "298e908e",
   "metadata": {},
   "source": [
    "* __Basement Finish Type 1:__ Quality of basement finished area\n",
    "- GLQ Good Living Quarters\n",
    "- ALQ Average Living Quarters\n",
    "- BLQ Below Average Living Quarters\n",
    "- Rec Average Rec Room\n",
    "- LwQ Low Quality\n",
    "- Unf Unfinshed\n",
    "- NA No Basement\n",
    "\n",
    "\n",
    "\n",
    "* __Basement Finish Type 2:__ Quality of second finished area (if present)\n",
    "- GLQ Good Living Quarters\n",
    "- ALQ Average Living Quarters\n",
    "- BLQ Below Average Living Quarters\n",
    "- Rec Average Rec Room\n",
    "- LwQ Low Quality\n",
    "- Unf Unfinshed\n",
    "- NA No Basement"
   ]
  },
  {
   "cell_type": "code",
   "execution_count": 68,
   "id": "2ce56fd6",
   "metadata": {},
   "outputs": [
    {
     "data": {
      "text/plain": [
       "GLQ    615\n",
       "Unf    603\n",
       "ALQ    292\n",
       "BLQ    200\n",
       "Rec    183\n",
       "LwQ    102\n",
       "Name: bsmtfin_type_1, dtype: int64"
      ]
     },
     "execution_count": 68,
     "metadata": {},
     "output_type": "execute_result"
    }
   ],
   "source": [
    "train.bsmtfin_type_1.value_counts()"
   ]
  },
  {
   "cell_type": "code",
   "execution_count": 69,
   "id": "0ff2938a",
   "metadata": {},
   "outputs": [
    {
     "data": {
      "text/plain": [
       "Unf    1748\n",
       "Rec      80\n",
       "LwQ      60\n",
       "BLQ      48\n",
       "ALQ      35\n",
       "GLQ      23\n",
       "Name: bsmtfin_type_2, dtype: int64"
      ]
     },
     "execution_count": 69,
     "metadata": {},
     "output_type": "execute_result"
    }
   ],
   "source": [
    "train.bsmtfin_type_2.value_counts()"
   ]
  },
  {
   "cell_type": "code",
   "execution_count": 70,
   "id": "615316dc",
   "metadata": {},
   "outputs": [
    {
     "data": {
      "text/plain": [
       "53"
      ]
     },
     "execution_count": 70,
     "metadata": {},
     "output_type": "execute_result"
    }
   ],
   "source": [
    "train.bsmtfin_type_1.isnull().sum()"
   ]
  },
  {
   "cell_type": "code",
   "execution_count": 71,
   "id": "beb5852e",
   "metadata": {},
   "outputs": [
    {
     "data": {
      "text/plain": [
       "25"
      ]
     },
     "execution_count": 71,
     "metadata": {},
     "output_type": "execute_result"
    }
   ],
   "source": [
    "test.bsmtfin_type_1.isnull().sum()"
   ]
  },
  {
   "cell_type": "code",
   "execution_count": 72,
   "id": "ae53b21f",
   "metadata": {},
   "outputs": [],
   "source": [
    "train['bsmtfin_type_1'].fillna(('No Basement'), inplace = True)"
   ]
  },
  {
   "cell_type": "code",
   "execution_count": 73,
   "id": "cfd55af2",
   "metadata": {},
   "outputs": [],
   "source": [
    "test['bsmtfin_type_1'].fillna(('No Basement'), inplace = True)"
   ]
  },
  {
   "cell_type": "code",
   "execution_count": 74,
   "id": "bfd153b9",
   "metadata": {},
   "outputs": [
    {
     "data": {
      "text/plain": [
       "54"
      ]
     },
     "execution_count": 74,
     "metadata": {},
     "output_type": "execute_result"
    }
   ],
   "source": [
    "train.bsmtfin_type_2.isnull().sum()"
   ]
  },
  {
   "cell_type": "code",
   "execution_count": 75,
   "id": "75d679ae",
   "metadata": {},
   "outputs": [
    {
     "data": {
      "text/plain": [
       "25"
      ]
     },
     "execution_count": 75,
     "metadata": {},
     "output_type": "execute_result"
    }
   ],
   "source": [
    "test.bsmtfin_type_2.isnull().sum()"
   ]
  },
  {
   "cell_type": "code",
   "execution_count": 76,
   "id": "079e158f",
   "metadata": {},
   "outputs": [],
   "source": [
    "train['bsmtfin_type_2'].fillna(('No Basement'), inplace = True)"
   ]
  },
  {
   "cell_type": "code",
   "execution_count": 77,
   "id": "79c307c4",
   "metadata": {},
   "outputs": [],
   "source": [
    "test['bsmtfin_type_2'].fillna(('No Basement'), inplace = True)"
   ]
  },
  {
   "cell_type": "markdown",
   "id": "cb57edbb",
   "metadata": {},
   "source": [
    "### Garage Attributes"
   ]
  },
  {
   "cell_type": "markdown",
   "id": "6d2f8757",
   "metadata": {},
   "source": [
    "__1) Garage_type__ (Garage location)\n",
    "\n",
    "- 2Types More than one type of garage\n",
    "- Attchd Attached to home\n",
    "- Basment Basement Garage\n",
    "- BuiltIn Built-In (Garage part of house - typically has room above garage)\n",
    "- CarPort Car Port\n",
    "- Detchd Detached from home\n",
    "- NA No Garage\n",
    "\n",
    "\n",
    "__2) Garage Year Built__: Year gragae was built\n",
    "\n",
    "__3) Garage Finish:__ Interior finish of the garage\n",
    "- Fin Finished\n",
    "- RFn Rough Finished\n",
    "- Unf Unfinished\n",
    "- NA No Garage\n",
    "\n",
    "__4)  Garage quality__\n",
    "- Ex Excellent\n",
    "- Gd Good\n",
    "- TA Typical/Average\n",
    "- Fa Fair\n",
    "- Po Poor\n",
    "- NA No Garage\n",
    "\n",
    "__5) Garage condition__\n",
    "- Ex Excellent\n",
    "- Gd Good\n",
    "- TA Typical/Average\n",
    "- Fa Fair\n",
    "- Po Poor\n",
    "- NA No Garage"
   ]
  },
  {
   "cell_type": "code",
   "execution_count": 78,
   "id": "d610ac7a",
   "metadata": {},
   "outputs": [
    {
     "data": {
      "text/html": [
       "<div>\n",
       "<style scoped>\n",
       "    .dataframe tbody tr th:only-of-type {\n",
       "        vertical-align: middle;\n",
       "    }\n",
       "\n",
       "    .dataframe tbody tr th {\n",
       "        vertical-align: top;\n",
       "    }\n",
       "\n",
       "    .dataframe thead th {\n",
       "        text-align: right;\n",
       "    }\n",
       "</style>\n",
       "<table border=\"1\" class=\"dataframe\">\n",
       "  <thead>\n",
       "    <tr style=\"text-align: right;\">\n",
       "      <th></th>\n",
       "      <th>garage_type</th>\n",
       "      <th>garage_yr_blt</th>\n",
       "      <th>garage_finish</th>\n",
       "      <th>garage_qual</th>\n",
       "      <th>garage_cond</th>\n",
       "    </tr>\n",
       "  </thead>\n",
       "  <tbody>\n",
       "    <tr>\n",
       "      <th>28</th>\n",
       "      <td>NaN</td>\n",
       "      <td>NaN</td>\n",
       "      <td>NaN</td>\n",
       "      <td>NaN</td>\n",
       "      <td>NaN</td>\n",
       "    </tr>\n",
       "    <tr>\n",
       "      <th>53</th>\n",
       "      <td>NaN</td>\n",
       "      <td>NaN</td>\n",
       "      <td>NaN</td>\n",
       "      <td>NaN</td>\n",
       "      <td>NaN</td>\n",
       "    </tr>\n",
       "    <tr>\n",
       "      <th>65</th>\n",
       "      <td>NaN</td>\n",
       "      <td>NaN</td>\n",
       "      <td>NaN</td>\n",
       "      <td>NaN</td>\n",
       "      <td>NaN</td>\n",
       "    </tr>\n",
       "    <tr>\n",
       "      <th>79</th>\n",
       "      <td>NaN</td>\n",
       "      <td>NaN</td>\n",
       "      <td>NaN</td>\n",
       "      <td>NaN</td>\n",
       "      <td>NaN</td>\n",
       "    </tr>\n",
       "    <tr>\n",
       "      <th>101</th>\n",
       "      <td>NaN</td>\n",
       "      <td>NaN</td>\n",
       "      <td>NaN</td>\n",
       "      <td>NaN</td>\n",
       "      <td>NaN</td>\n",
       "    </tr>\n",
       "    <tr>\n",
       "      <th>...</th>\n",
       "      <td>...</td>\n",
       "      <td>...</td>\n",
       "      <td>...</td>\n",
       "      <td>...</td>\n",
       "      <td>...</td>\n",
       "    </tr>\n",
       "    <tr>\n",
       "      <th>1991</th>\n",
       "      <td>NaN</td>\n",
       "      <td>NaN</td>\n",
       "      <td>NaN</td>\n",
       "      <td>NaN</td>\n",
       "      <td>NaN</td>\n",
       "    </tr>\n",
       "    <tr>\n",
       "      <th>2010</th>\n",
       "      <td>NaN</td>\n",
       "      <td>NaN</td>\n",
       "      <td>NaN</td>\n",
       "      <td>NaN</td>\n",
       "      <td>NaN</td>\n",
       "    </tr>\n",
       "    <tr>\n",
       "      <th>2027</th>\n",
       "      <td>NaN</td>\n",
       "      <td>NaN</td>\n",
       "      <td>NaN</td>\n",
       "      <td>NaN</td>\n",
       "      <td>NaN</td>\n",
       "    </tr>\n",
       "    <tr>\n",
       "      <th>2039</th>\n",
       "      <td>NaN</td>\n",
       "      <td>NaN</td>\n",
       "      <td>NaN</td>\n",
       "      <td>NaN</td>\n",
       "      <td>NaN</td>\n",
       "    </tr>\n",
       "    <tr>\n",
       "      <th>2042</th>\n",
       "      <td>NaN</td>\n",
       "      <td>NaN</td>\n",
       "      <td>NaN</td>\n",
       "      <td>NaN</td>\n",
       "      <td>NaN</td>\n",
       "    </tr>\n",
       "  </tbody>\n",
       "</table>\n",
       "<p>113 rows × 5 columns</p>\n",
       "</div>"
      ],
      "text/plain": [
       "     garage_type  garage_yr_blt garage_finish garage_qual garage_cond\n",
       "28           NaN            NaN           NaN         NaN         NaN\n",
       "53           NaN            NaN           NaN         NaN         NaN\n",
       "65           NaN            NaN           NaN         NaN         NaN\n",
       "79           NaN            NaN           NaN         NaN         NaN\n",
       "101          NaN            NaN           NaN         NaN         NaN\n",
       "...          ...            ...           ...         ...         ...\n",
       "1991         NaN            NaN           NaN         NaN         NaN\n",
       "2010         NaN            NaN           NaN         NaN         NaN\n",
       "2027         NaN            NaN           NaN         NaN         NaN\n",
       "2039         NaN            NaN           NaN         NaN         NaN\n",
       "2042         NaN            NaN           NaN         NaN         NaN\n",
       "\n",
       "[113 rows x 5 columns]"
      ]
     },
     "execution_count": 78,
     "metadata": {},
     "output_type": "execute_result"
    }
   ],
   "source": [
    "no_garage = train[(train['garage_yr_blt'].isnull())][['garage_type','garage_yr_blt', 'garage_finish','garage_qual', 'garage_cond']]\n",
    "no_garage"
   ]
  },
  {
   "cell_type": "markdown",
   "id": "7f651da7",
   "metadata": {},
   "source": [
    "* Looks like the same 113 observations. Going to assign no garage or the equivalent value across the board. "
   ]
  },
  {
   "cell_type": "markdown",
   "id": "16869a6b",
   "metadata": {},
   "source": [
    "* Decided to assign the 'no garage' option to the missing values. "
   ]
  },
  {
   "cell_type": "code",
   "execution_count": 79,
   "id": "85169bb6",
   "metadata": {},
   "outputs": [],
   "source": [
    "train['garage_type'].fillna(('No Garage'), inplace = True)"
   ]
  },
  {
   "cell_type": "code",
   "execution_count": 80,
   "id": "b99eee89",
   "metadata": {},
   "outputs": [],
   "source": [
    "test['garage_type'].fillna(('No Garage'), inplace = True)"
   ]
  },
  {
   "cell_type": "code",
   "execution_count": 81,
   "id": "82f03685",
   "metadata": {},
   "outputs": [],
   "source": [
    "train['garage_yr_blt'].fillna('0', inplace = True)"
   ]
  },
  {
   "cell_type": "code",
   "execution_count": 82,
   "id": "56c935e8",
   "metadata": {},
   "outputs": [],
   "source": [
    "test['garage_yr_blt'].fillna('0', inplace = True)"
   ]
  },
  {
   "cell_type": "code",
   "execution_count": 83,
   "id": "6438f9b3",
   "metadata": {},
   "outputs": [],
   "source": [
    "train['garage_finish'].fillna(('No Garage'), inplace = True)"
   ]
  },
  {
   "cell_type": "code",
   "execution_count": 84,
   "id": "2359246d",
   "metadata": {},
   "outputs": [],
   "source": [
    "test['garage_finish'].fillna(('No Garage'), inplace = True)"
   ]
  },
  {
   "cell_type": "code",
   "execution_count": 85,
   "id": "e398d8ec",
   "metadata": {},
   "outputs": [],
   "source": [
    "train['garage_qual'].fillna(('No Garage'), inplace = True)"
   ]
  },
  {
   "cell_type": "code",
   "execution_count": 86,
   "id": "24ed2c47",
   "metadata": {},
   "outputs": [],
   "source": [
    "test['garage_qual'].fillna(('No Garage'), inplace = True)"
   ]
  },
  {
   "cell_type": "code",
   "execution_count": 87,
   "id": "37e04ed5",
   "metadata": {},
   "outputs": [],
   "source": [
    "train['garage_cond'].fillna(('No Garage'), inplace = True)"
   ]
  },
  {
   "cell_type": "code",
   "execution_count": 88,
   "id": "66182039",
   "metadata": {},
   "outputs": [],
   "source": [
    "test['garage_cond'].fillna(('No Garage'), inplace = True)"
   ]
  },
  {
   "cell_type": "markdown",
   "id": "28c63eb5",
   "metadata": {},
   "source": [
    "__Sanity Check to  make sure all null values have been updated accordingly.__"
   ]
  },
  {
   "cell_type": "code",
   "execution_count": 89,
   "id": "bc882eb4",
   "metadata": {},
   "outputs": [
    {
     "data": {
      "text/plain": [
       "Index([], dtype='object')"
      ]
     },
     "execution_count": 89,
     "metadata": {},
     "output_type": "execute_result"
    }
   ],
   "source": [
    "train.columns[train.isnull().any()]"
   ]
  },
  {
   "cell_type": "code",
   "execution_count": 113,
   "id": "b6434fe6",
   "metadata": {},
   "outputs": [
    {
     "data": {
      "text/plain": [
       "Index(['mas_vnr_area'], dtype='object')"
      ]
     },
     "execution_count": 113,
     "metadata": {},
     "output_type": "execute_result"
    }
   ],
   "source": [
    "test.columns[test.isnull().any()]"
   ]
  },
  {
   "cell_type": "code",
   "execution_count": 91,
   "id": "100e925c",
   "metadata": {},
   "outputs": [
    {
     "data": {
      "text/html": [
       "<div>\n",
       "<style scoped>\n",
       "    .dataframe tbody tr th:only-of-type {\n",
       "        vertical-align: middle;\n",
       "    }\n",
       "\n",
       "    .dataframe tbody tr th {\n",
       "        vertical-align: top;\n",
       "    }\n",
       "\n",
       "    .dataframe thead th {\n",
       "        text-align: right;\n",
       "    }\n",
       "</style>\n",
       "<table border=\"1\" class=\"dataframe\">\n",
       "  <thead>\n",
       "    <tr style=\"text-align: right;\">\n",
       "      <th></th>\n",
       "      <th>id</th>\n",
       "      <th>pid</th>\n",
       "      <th>ms_subclass</th>\n",
       "      <th>ms_zoning</th>\n",
       "      <th>lot_frontage</th>\n",
       "      <th>lot_area</th>\n",
       "      <th>street</th>\n",
       "      <th>lot_shape</th>\n",
       "      <th>land_contour</th>\n",
       "      <th>utilities</th>\n",
       "      <th>...</th>\n",
       "      <th>wood_deck_sf</th>\n",
       "      <th>open_porch_sf</th>\n",
       "      <th>enclosed_porch</th>\n",
       "      <th>3ssn_porch</th>\n",
       "      <th>screen_porch</th>\n",
       "      <th>pool_area</th>\n",
       "      <th>misc_val</th>\n",
       "      <th>mo_sold</th>\n",
       "      <th>yr_sold</th>\n",
       "      <th>sale_type</th>\n",
       "    </tr>\n",
       "  </thead>\n",
       "  <tbody>\n",
       "    <tr>\n",
       "      <th>616</th>\n",
       "      <td>1737</td>\n",
       "      <td>528222040</td>\n",
       "      <td>20</td>\n",
       "      <td>RL</td>\n",
       "      <td>NaN</td>\n",
       "      <td>8899</td>\n",
       "      <td>Pave</td>\n",
       "      <td>IR1</td>\n",
       "      <td>Lvl</td>\n",
       "      <td>AllPub</td>\n",
       "      <td>...</td>\n",
       "      <td>100</td>\n",
       "      <td>30</td>\n",
       "      <td>0</td>\n",
       "      <td>0</td>\n",
       "      <td>0</td>\n",
       "      <td>0</td>\n",
       "      <td>0</td>\n",
       "      <td>8</td>\n",
       "      <td>2007</td>\n",
       "      <td>New</td>\n",
       "    </tr>\n",
       "  </tbody>\n",
       "</table>\n",
       "<p>1 rows × 76 columns</p>\n",
       "</div>"
      ],
      "text/plain": [
       "       id        pid  ms_subclass ms_zoning  lot_frontage  lot_area street  \\\n",
       "616  1737  528222040           20        RL           NaN      8899   Pave   \n",
       "\n",
       "    lot_shape land_contour utilities  ... wood_deck_sf open_porch_sf  \\\n",
       "616       IR1          Lvl    AllPub  ...          100            30   \n",
       "\n",
       "    enclosed_porch 3ssn_porch screen_porch pool_area misc_val  mo_sold  \\\n",
       "616              0          0            0         0        0        8   \n",
       "\n",
       "     yr_sold  sale_type  \n",
       "616     2007        New  \n",
       "\n",
       "[1 rows x 76 columns]"
      ]
     },
     "execution_count": 91,
     "metadata": {},
     "output_type": "execute_result"
    }
   ],
   "source": [
    "#Check to see what observation still has a null value\n",
    "test[test.lot_frontage.isnull()]"
   ]
  },
  {
   "cell_type": "code",
   "execution_count": 92,
   "id": "f777a9f8",
   "metadata": {},
   "outputs": [],
   "source": [
    "#Decided to drop. \n",
    "test.drop([616],inplace = True)"
   ]
  },
  {
   "cell_type": "markdown",
   "id": "5f65660e",
   "metadata": {},
   "source": [
    "### Distribution of Numerical Variables."
   ]
  },
  {
   "cell_type": "markdown",
   "id": "5fac0e4e",
   "metadata": {},
   "source": [
    "Let's take a look at get an overview of the distribution of all numerical variables in this data set and see if there be any other areas of cleaning we need to address. "
   ]
  },
  {
   "cell_type": "code",
   "execution_count": 93,
   "id": "f828a9b4",
   "metadata": {},
   "outputs": [
    {
     "data": {
      "image/png": "[encoded data removed]",
      "text/plain": [
       "<Figure size 1440x1440 with 42 Axes>"
      ]
     },
     "metadata": {
      "needs_background": "light"
     },
     "output_type": "display_data"
    }
   ],
   "source": [
    "train.hist(figsize=(20, 20));"
   ]
  },
  {
   "cell_type": "markdown",
   "id": "57ae3b9b",
   "metadata": {},
   "source": [
    "Noted that there a lot of '0' (zero) values recorded for the following variables:\n",
    "* low_qual_fin_sf: Low quality finished square feet (all floors)\n",
    "* 3Ssn_porch: Three season porch area in square feet\n",
    "* pool_area: Pool area in square feet\n",
    "* misc_val: Value of miscellaneous feature"
   ]
  },
  {
   "cell_type": "code",
   "execution_count": 94,
   "id": "88324ce5",
   "metadata": {},
   "outputs": [
    {
     "data": {
      "text/plain": [
       "low_qual_fin_sf\n",
       "0      2015\n",
       "80        3\n",
       "205       2\n",
       "390       1\n",
       "697       1\n",
       "dtype: int64"
      ]
     },
     "execution_count": 94,
     "metadata": {},
     "output_type": "execute_result"
    }
   ],
   "source": [
    "train.value_counts('low_qual_fin_sf').head(5)"
   ]
  },
  {
   "cell_type": "markdown",
   "id": "7279546b",
   "metadata": {},
   "source": [
    "* More than 90% of observations have no value attached to them. Decided best to drop column. "
   ]
  },
  {
   "cell_type": "code",
   "execution_count": 95,
   "id": "d304619a",
   "metadata": {},
   "outputs": [],
   "source": [
    "train.drop('low_qual_fin_sf', axis =1, inplace = True)"
   ]
  },
  {
   "cell_type": "code",
   "execution_count": 96,
   "id": "802b9464",
   "metadata": {},
   "outputs": [],
   "source": [
    "test.drop('low_qual_fin_sf', axis =1, inplace = True)"
   ]
  },
  {
   "cell_type": "code",
   "execution_count": 97,
   "id": "f96b753b",
   "metadata": {},
   "outputs": [
    {
     "data": {
      "text/plain": [
       "3ssn_porch\n",
       "0      2022\n",
       "153       3\n",
       "168       3\n",
       "144       2\n",
       "216       1\n",
       "dtype: int64"
      ]
     },
     "execution_count": 97,
     "metadata": {},
     "output_type": "execute_result"
    }
   ],
   "source": [
    "train.value_counts('3ssn_porch').head(5)"
   ]
  },
  {
   "cell_type": "markdown",
   "id": "52ad775f",
   "metadata": {},
   "source": [
    "* More than 90% of observations have no season porch. Decided best to drop column. "
   ]
  },
  {
   "cell_type": "code",
   "execution_count": 98,
   "id": "4432cc23",
   "metadata": {},
   "outputs": [],
   "source": [
    "train.drop('3ssn_porch', axis =1, inplace = True)"
   ]
  },
  {
   "cell_type": "code",
   "execution_count": 99,
   "id": "436ce3d6",
   "metadata": {},
   "outputs": [],
   "source": [
    "test.drop('3ssn_porch', axis =1, inplace = True)"
   ]
  },
  {
   "cell_type": "code",
   "execution_count": 100,
   "id": "7fbd9665",
   "metadata": {},
   "outputs": [
    {
     "data": {
      "text/plain": [
       "pool_area\n",
       "0      2039\n",
       "228       1\n",
       "368       1\n",
       "480       1\n",
       "519       1\n",
       "dtype: int64"
      ]
     },
     "execution_count": 100,
     "metadata": {},
     "output_type": "execute_result"
    }
   ],
   "source": [
    "train.value_counts('pool_area').head(5)"
   ]
  },
  {
   "cell_type": "markdown",
   "id": "d2426620",
   "metadata": {},
   "source": [
    "* In addition to having more than 90% of the observations with a value of '0', this variable also had a counterpart variable, 'pool_qc'(pool quality) that was dropped in the very beginning, as such we've decided to drop it as well."
   ]
  },
  {
   "cell_type": "code",
   "execution_count": 101,
   "id": "2d5a4637",
   "metadata": {},
   "outputs": [],
   "source": [
    "train.drop('pool_area', axis =1, inplace = True)"
   ]
  },
  {
   "cell_type": "code",
   "execution_count": 102,
   "id": "37586949",
   "metadata": {},
   "outputs": [],
   "source": [
    "test.drop('pool_area', axis =1, inplace = True)"
   ]
  },
  {
   "cell_type": "code",
   "execution_count": 103,
   "id": "4c45c380",
   "metadata": {},
   "outputs": [
    {
     "data": {
      "text/plain": [
       "misc_val\n",
       "0       1983\n",
       "400       12\n",
       "500        8\n",
       "600        6\n",
       "2000       5\n",
       "dtype: int64"
      ]
     },
     "execution_count": 103,
     "metadata": {},
     "output_type": "execute_result"
    }
   ],
   "source": [
    "train.value_counts('misc_val').head(5)"
   ]
  },
  {
   "cell_type": "markdown",
   "id": "f95bcf27",
   "metadata": {},
   "source": [
    "In addition to having approximately 90% of the observations with a value of '0', this variable also had a counterpart variable, 'misc_feature' that was dropped in the very beginning, as such we've decided to drop it as well."
   ]
  },
  {
   "cell_type": "code",
   "execution_count": 104,
   "id": "efc01b3e",
   "metadata": {},
   "outputs": [],
   "source": [
    "train.drop('misc_val', axis =1, inplace = True)"
   ]
  },
  {
   "cell_type": "code",
   "execution_count": 105,
   "id": "db5df7f4",
   "metadata": {},
   "outputs": [],
   "source": [
    "test.drop('misc_val', axis =1, inplace = True)"
   ]
  },
  {
   "cell_type": "markdown",
   "id": "ceeb342b",
   "metadata": {},
   "source": [
    "__Final data overview after cleaning missing values.__"
   ]
  },
  {
   "cell_type": "code",
   "execution_count": 106,
   "id": "cd1a470c",
   "metadata": {},
   "outputs": [
    {
     "data": {
      "text/plain": [
       "(2048, 73)"
      ]
     },
     "execution_count": 106,
     "metadata": {},
     "output_type": "execute_result"
    }
   ],
   "source": [
    "train.shape"
   ]
  },
  {
   "cell_type": "code",
   "execution_count": 107,
   "id": "273243b0",
   "metadata": {},
   "outputs": [
    {
     "data": {
      "text/plain": [
       "(877, 72)"
      ]
     },
     "execution_count": 107,
     "metadata": {},
     "output_type": "execute_result"
    }
   ],
   "source": [
    "test.shape"
   ]
  },
  {
   "cell_type": "markdown",
   "id": "f3c3eb1e",
   "metadata": {},
   "source": [
    "### Exporting of the now cleaned CSV"
   ]
  },
  {
   "cell_type": "code",
   "execution_count": 108,
   "id": "268712c7",
   "metadata": {},
   "outputs": [],
   "source": [
    "train.to_csv('./datasets/train_cleaned.csv')"
   ]
  },
  {
   "cell_type": "code",
   "execution_count": 109,
   "id": "838bcdfe",
   "metadata": {},
   "outputs": [],
   "source": [
    "test.to_csv('./datasets/test_cleaned.csv')"
   ]
  },
  {
   "cell_type": "markdown",
   "id": "882436d7",
   "metadata": {},
   "source": [
    "Now that we've cleaned up the data, let's do some exploring. We've done so in the notebook titled __'Part 2 EDA'__."
   ]
  }
 ],
 "metadata": {
  "kernelspec": {
   "display_name": "Python 3",
   "language": "python",
   "name": "python3"
  },
  "language_info": {
   "codemirror_mode": {
    "name": "ipython",
    "version": 3
   },
   "file_extension": ".py",
   "mimetype": "text/x-python",
   "name": "python",
   "nbconvert_exporter": "python",
   "pygments_lexer": "ipython3",
   "version": "3.8.8"
  }
 },
 "nbformat": 4,
 "nbformat_minor": 5
}
