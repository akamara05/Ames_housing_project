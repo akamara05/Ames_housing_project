{
 "cells": [
  {
   "cell_type": "markdown",
   "id": "77e86e8c",
   "metadata": {},
   "source": [
    "## DSI Project 2 - Ames Housing Data and Kaggle Challenge"
   ]
  },
  {
   "cell_type": "markdown",
   "id": "e97eee19",
   "metadata": {},
   "source": [
    "### Part 3: Modeling "
   ]
  },
  {
   "cell_type": "markdown",
   "id": "5c47ec52",
   "metadata": {},
   "source": [
    "In this section we will try several linear regression models and train and test them  accordingly to see how best they may help us predict the dependent variable, sales price. An evaluation of these models using liner regression evaluation metrics, shall help us achieve this goal. "
   ]
  },
  {
   "cell_type": "markdown",
   "id": "24f93489",
   "metadata": {},
   "source": [
    "__List of Models__\n",
    "\n",
    "* __Model 1__ - Strongly Correlated Bed, Bath, and Basement Features\n",
    "* __Model 2__ - All Beds, Baths, and Basements\n",
    "* __Model 3__ - All Bed, Bath, and Basements plus.\n",
    "* __Model 4__ - Baseline Model w/ Polynomial Features\n",
    "* __Model 5__ - Bed, Bath, and Basements plus Overall Quality"
   ]
  },
  {
   "cell_type": "markdown",
   "id": "565a63d3",
   "metadata": {},
   "source": [
    "### Importing Libraries"
   ]
  },
  {
   "cell_type": "code",
   "execution_count": 1,
   "id": "2395afea",
   "metadata": {},
   "outputs": [],
   "source": [
    "\n",
    "import numpy as np\n",
    "import pandas as pd\n",
    "from matplotlib import pyplot as plt\n",
    "import seaborn as sns\n",
    "\n",
    "#Scikit imports\n",
    "from sklearn.linear_model import LinearRegression, LassoCV, RidgeCV\n",
    "from sklearn.preprocessing import PolynomialFeatures, StandardScaler\n",
    "from sklearn.model_selection import train_test_split, cross_val_score, cross_val_predict\n",
    "from sklearn.metrics import r2_score\n",
    "from sklearn.metrics import mean_squared_error\n",
    "from sklearn.metrics import mean_absolute_error\n",
    "from sklearn import metrics"
   ]
  },
  {
   "cell_type": "markdown",
   "id": "f34e06f0",
   "metadata": {},
   "source": [
    "### Reading in CSV"
   ]
  },
  {
   "cell_type": "code",
   "execution_count": 2,
   "id": "a642e144",
   "metadata": {},
   "outputs": [
    {
     "data": {
      "text/html": [
       "<div>\n",
       "<style scoped>\n",
       "    .dataframe tbody tr th:only-of-type {\n",
       "        vertical-align: middle;\n",
       "    }\n",
       "\n",
       "    .dataframe tbody tr th {\n",
       "        vertical-align: top;\n",
       "    }\n",
       "\n",
       "    .dataframe thead th {\n",
       "        text-align: right;\n",
       "    }\n",
       "</style>\n",
       "<table border=\"1\" class=\"dataframe\">\n",
       "  <thead>\n",
       "    <tr style=\"text-align: right;\">\n",
       "      <th></th>\n",
       "      <th>Unnamed: 0</th>\n",
       "      <th>id</th>\n",
       "      <th>pid</th>\n",
       "      <th>ms_subclass</th>\n",
       "      <th>ms_zoning</th>\n",
       "      <th>lot_frontage</th>\n",
       "      <th>lot_area</th>\n",
       "      <th>street</th>\n",
       "      <th>lot_shape</th>\n",
       "      <th>land_contour</th>\n",
       "      <th>...</th>\n",
       "      <th>garage_cond</th>\n",
       "      <th>paved_drive</th>\n",
       "      <th>wood_deck_sf</th>\n",
       "      <th>open_porch_sf</th>\n",
       "      <th>enclosed_porch</th>\n",
       "      <th>screen_porch</th>\n",
       "      <th>mo_sold</th>\n",
       "      <th>yr_sold</th>\n",
       "      <th>sale_type</th>\n",
       "      <th>saleprice</th>\n",
       "    </tr>\n",
       "  </thead>\n",
       "  <tbody>\n",
       "    <tr>\n",
       "      <th>0</th>\n",
       "      <td>0</td>\n",
       "      <td>109</td>\n",
       "      <td>533352170</td>\n",
       "      <td>60</td>\n",
       "      <td>RL</td>\n",
       "      <td>68.0</td>\n",
       "      <td>13517</td>\n",
       "      <td>Pave</td>\n",
       "      <td>IR1</td>\n",
       "      <td>Lvl</td>\n",
       "      <td>...</td>\n",
       "      <td>TA</td>\n",
       "      <td>Y</td>\n",
       "      <td>0</td>\n",
       "      <td>44</td>\n",
       "      <td>0</td>\n",
       "      <td>0</td>\n",
       "      <td>3</td>\n",
       "      <td>2010</td>\n",
       "      <td>WD</td>\n",
       "      <td>130500</td>\n",
       "    </tr>\n",
       "    <tr>\n",
       "      <th>1</th>\n",
       "      <td>1</td>\n",
       "      <td>544</td>\n",
       "      <td>531379050</td>\n",
       "      <td>60</td>\n",
       "      <td>RL</td>\n",
       "      <td>43.0</td>\n",
       "      <td>11492</td>\n",
       "      <td>Pave</td>\n",
       "      <td>IR1</td>\n",
       "      <td>Lvl</td>\n",
       "      <td>...</td>\n",
       "      <td>TA</td>\n",
       "      <td>Y</td>\n",
       "      <td>0</td>\n",
       "      <td>74</td>\n",
       "      <td>0</td>\n",
       "      <td>0</td>\n",
       "      <td>4</td>\n",
       "      <td>2009</td>\n",
       "      <td>WD</td>\n",
       "      <td>220000</td>\n",
       "    </tr>\n",
       "    <tr>\n",
       "      <th>2</th>\n",
       "      <td>2</td>\n",
       "      <td>153</td>\n",
       "      <td>535304180</td>\n",
       "      <td>20</td>\n",
       "      <td>RL</td>\n",
       "      <td>68.0</td>\n",
       "      <td>7922</td>\n",
       "      <td>Pave</td>\n",
       "      <td>Reg</td>\n",
       "      <td>Lvl</td>\n",
       "      <td>...</td>\n",
       "      <td>TA</td>\n",
       "      <td>Y</td>\n",
       "      <td>0</td>\n",
       "      <td>52</td>\n",
       "      <td>0</td>\n",
       "      <td>0</td>\n",
       "      <td>1</td>\n",
       "      <td>2010</td>\n",
       "      <td>WD</td>\n",
       "      <td>109000</td>\n",
       "    </tr>\n",
       "    <tr>\n",
       "      <th>3</th>\n",
       "      <td>3</td>\n",
       "      <td>318</td>\n",
       "      <td>916386060</td>\n",
       "      <td>60</td>\n",
       "      <td>RL</td>\n",
       "      <td>73.0</td>\n",
       "      <td>9802</td>\n",
       "      <td>Pave</td>\n",
       "      <td>Reg</td>\n",
       "      <td>Lvl</td>\n",
       "      <td>...</td>\n",
       "      <td>TA</td>\n",
       "      <td>Y</td>\n",
       "      <td>100</td>\n",
       "      <td>0</td>\n",
       "      <td>0</td>\n",
       "      <td>0</td>\n",
       "      <td>4</td>\n",
       "      <td>2010</td>\n",
       "      <td>WD</td>\n",
       "      <td>174000</td>\n",
       "    </tr>\n",
       "    <tr>\n",
       "      <th>4</th>\n",
       "      <td>4</td>\n",
       "      <td>255</td>\n",
       "      <td>906425045</td>\n",
       "      <td>50</td>\n",
       "      <td>RL</td>\n",
       "      <td>82.0</td>\n",
       "      <td>14235</td>\n",
       "      <td>Pave</td>\n",
       "      <td>IR1</td>\n",
       "      <td>Lvl</td>\n",
       "      <td>...</td>\n",
       "      <td>TA</td>\n",
       "      <td>N</td>\n",
       "      <td>0</td>\n",
       "      <td>59</td>\n",
       "      <td>0</td>\n",
       "      <td>0</td>\n",
       "      <td>3</td>\n",
       "      <td>2010</td>\n",
       "      <td>WD</td>\n",
       "      <td>138500</td>\n",
       "    </tr>\n",
       "  </tbody>\n",
       "</table>\n",
       "<p>5 rows × 74 columns</p>\n",
       "</div>"
      ],
      "text/plain": [
       "   Unnamed: 0   id        pid  ms_subclass ms_zoning  lot_frontage  lot_area  \\\n",
       "0           0  109  533352170           60        RL          68.0     13517   \n",
       "1           1  544  531379050           60        RL          43.0     11492   \n",
       "2           2  153  535304180           20        RL          68.0      7922   \n",
       "3           3  318  916386060           60        RL          73.0      9802   \n",
       "4           4  255  906425045           50        RL          82.0     14235   \n",
       "\n",
       "  street lot_shape land_contour  ... garage_cond paved_drive wood_deck_sf  \\\n",
       "0   Pave       IR1          Lvl  ...          TA           Y            0   \n",
       "1   Pave       IR1          Lvl  ...          TA           Y            0   \n",
       "2   Pave       Reg          Lvl  ...          TA           Y            0   \n",
       "3   Pave       Reg          Lvl  ...          TA           Y          100   \n",
       "4   Pave       IR1          Lvl  ...          TA           N            0   \n",
       "\n",
       "  open_porch_sf enclosed_porch screen_porch mo_sold yr_sold  sale_type  \\\n",
       "0            44              0            0       3    2010        WD    \n",
       "1            74              0            0       4    2009        WD    \n",
       "2            52              0            0       1    2010        WD    \n",
       "3             0              0            0       4    2010        WD    \n",
       "4            59              0            0       3    2010        WD    \n",
       "\n",
       "   saleprice  \n",
       "0     130500  \n",
       "1     220000  \n",
       "2     109000  \n",
       "3     174000  \n",
       "4     138500  \n",
       "\n",
       "[5 rows x 74 columns]"
      ]
     },
     "execution_count": 2,
     "metadata": {},
     "output_type": "execute_result"
    }
   ],
   "source": [
    "train = pd.read_csv('./datasets/train_cleaned.csv')\n",
    "train.head()"
   ]
  },
  {
   "cell_type": "code",
   "execution_count": 3,
   "id": "ae142004",
   "metadata": {},
   "outputs": [],
   "source": [
    "#dropping the Unnamed column\n",
    "train.drop(columns=['Unnamed: 0'], inplace = True)"
   ]
  },
  {
   "cell_type": "code",
   "execution_count": 4,
   "id": "05c24903",
   "metadata": {},
   "outputs": [
    {
     "data": {
      "text/html": [
       "<div>\n",
       "<style scoped>\n",
       "    .dataframe tbody tr th:only-of-type {\n",
       "        vertical-align: middle;\n",
       "    }\n",
       "\n",
       "    .dataframe tbody tr th {\n",
       "        vertical-align: top;\n",
       "    }\n",
       "\n",
       "    .dataframe thead th {\n",
       "        text-align: right;\n",
       "    }\n",
       "</style>\n",
       "<table border=\"1\" class=\"dataframe\">\n",
       "  <thead>\n",
       "    <tr style=\"text-align: right;\">\n",
       "      <th></th>\n",
       "      <th>Unnamed: 0</th>\n",
       "      <th>id</th>\n",
       "      <th>pid</th>\n",
       "      <th>ms_subclass</th>\n",
       "      <th>ms_zoning</th>\n",
       "      <th>lot_frontage</th>\n",
       "      <th>lot_area</th>\n",
       "      <th>street</th>\n",
       "      <th>lot_shape</th>\n",
       "      <th>land_contour</th>\n",
       "      <th>...</th>\n",
       "      <th>garage_qual</th>\n",
       "      <th>garage_cond</th>\n",
       "      <th>paved_drive</th>\n",
       "      <th>wood_deck_sf</th>\n",
       "      <th>open_porch_sf</th>\n",
       "      <th>enclosed_porch</th>\n",
       "      <th>screen_porch</th>\n",
       "      <th>mo_sold</th>\n",
       "      <th>yr_sold</th>\n",
       "      <th>sale_type</th>\n",
       "    </tr>\n",
       "  </thead>\n",
       "  <tbody>\n",
       "    <tr>\n",
       "      <th>0</th>\n",
       "      <td>0</td>\n",
       "      <td>2658</td>\n",
       "      <td>902301120</td>\n",
       "      <td>190</td>\n",
       "      <td>RM</td>\n",
       "      <td>69.0</td>\n",
       "      <td>9142</td>\n",
       "      <td>Pave</td>\n",
       "      <td>Reg</td>\n",
       "      <td>Lvl</td>\n",
       "      <td>...</td>\n",
       "      <td>Po</td>\n",
       "      <td>Po</td>\n",
       "      <td>Y</td>\n",
       "      <td>0</td>\n",
       "      <td>60</td>\n",
       "      <td>112</td>\n",
       "      <td>0</td>\n",
       "      <td>4</td>\n",
       "      <td>2006</td>\n",
       "      <td>WD</td>\n",
       "    </tr>\n",
       "    <tr>\n",
       "      <th>1</th>\n",
       "      <td>1</td>\n",
       "      <td>2718</td>\n",
       "      <td>905108090</td>\n",
       "      <td>90</td>\n",
       "      <td>RL</td>\n",
       "      <td>68.0</td>\n",
       "      <td>9662</td>\n",
       "      <td>Pave</td>\n",
       "      <td>IR1</td>\n",
       "      <td>Lvl</td>\n",
       "      <td>...</td>\n",
       "      <td>TA</td>\n",
       "      <td>TA</td>\n",
       "      <td>Y</td>\n",
       "      <td>170</td>\n",
       "      <td>0</td>\n",
       "      <td>0</td>\n",
       "      <td>0</td>\n",
       "      <td>8</td>\n",
       "      <td>2006</td>\n",
       "      <td>WD</td>\n",
       "    </tr>\n",
       "    <tr>\n",
       "      <th>2</th>\n",
       "      <td>2</td>\n",
       "      <td>2414</td>\n",
       "      <td>528218130</td>\n",
       "      <td>60</td>\n",
       "      <td>RL</td>\n",
       "      <td>58.0</td>\n",
       "      <td>17104</td>\n",
       "      <td>Pave</td>\n",
       "      <td>IR1</td>\n",
       "      <td>Lvl</td>\n",
       "      <td>...</td>\n",
       "      <td>TA</td>\n",
       "      <td>TA</td>\n",
       "      <td>Y</td>\n",
       "      <td>100</td>\n",
       "      <td>24</td>\n",
       "      <td>0</td>\n",
       "      <td>0</td>\n",
       "      <td>9</td>\n",
       "      <td>2006</td>\n",
       "      <td>New</td>\n",
       "    </tr>\n",
       "    <tr>\n",
       "      <th>3</th>\n",
       "      <td>3</td>\n",
       "      <td>1989</td>\n",
       "      <td>902207150</td>\n",
       "      <td>30</td>\n",
       "      <td>RM</td>\n",
       "      <td>60.0</td>\n",
       "      <td>8520</td>\n",
       "      <td>Pave</td>\n",
       "      <td>Reg</td>\n",
       "      <td>Lvl</td>\n",
       "      <td>...</td>\n",
       "      <td>Fa</td>\n",
       "      <td>TA</td>\n",
       "      <td>N</td>\n",
       "      <td>0</td>\n",
       "      <td>0</td>\n",
       "      <td>184</td>\n",
       "      <td>0</td>\n",
       "      <td>7</td>\n",
       "      <td>2007</td>\n",
       "      <td>WD</td>\n",
       "    </tr>\n",
       "    <tr>\n",
       "      <th>4</th>\n",
       "      <td>4</td>\n",
       "      <td>625</td>\n",
       "      <td>535105100</td>\n",
       "      <td>20</td>\n",
       "      <td>RL</td>\n",
       "      <td>68.0</td>\n",
       "      <td>9500</td>\n",
       "      <td>Pave</td>\n",
       "      <td>IR1</td>\n",
       "      <td>Lvl</td>\n",
       "      <td>...</td>\n",
       "      <td>TA</td>\n",
       "      <td>TA</td>\n",
       "      <td>Y</td>\n",
       "      <td>0</td>\n",
       "      <td>76</td>\n",
       "      <td>0</td>\n",
       "      <td>185</td>\n",
       "      <td>7</td>\n",
       "      <td>2009</td>\n",
       "      <td>WD</td>\n",
       "    </tr>\n",
       "  </tbody>\n",
       "</table>\n",
       "<p>5 rows × 73 columns</p>\n",
       "</div>"
      ],
      "text/plain": [
       "   Unnamed: 0    id        pid  ms_subclass ms_zoning  lot_frontage  lot_area  \\\n",
       "0           0  2658  902301120          190        RM          69.0      9142   \n",
       "1           1  2718  905108090           90        RL          68.0      9662   \n",
       "2           2  2414  528218130           60        RL          58.0     17104   \n",
       "3           3  1989  902207150           30        RM          60.0      8520   \n",
       "4           4   625  535105100           20        RL          68.0      9500   \n",
       "\n",
       "  street lot_shape land_contour  ... garage_qual garage_cond paved_drive  \\\n",
       "0   Pave       Reg          Lvl  ...          Po          Po           Y   \n",
       "1   Pave       IR1          Lvl  ...          TA          TA           Y   \n",
       "2   Pave       IR1          Lvl  ...          TA          TA           Y   \n",
       "3   Pave       Reg          Lvl  ...          Fa          TA           N   \n",
       "4   Pave       IR1          Lvl  ...          TA          TA           Y   \n",
       "\n",
       "  wood_deck_sf open_porch_sf enclosed_porch screen_porch mo_sold  yr_sold  \\\n",
       "0            0            60            112            0       4     2006   \n",
       "1          170             0              0            0       8     2006   \n",
       "2          100            24              0            0       9     2006   \n",
       "3            0             0            184            0       7     2007   \n",
       "4            0            76              0          185       7     2009   \n",
       "\n",
       "   sale_type  \n",
       "0        WD   \n",
       "1        WD   \n",
       "2        New  \n",
       "3        WD   \n",
       "4        WD   \n",
       "\n",
       "[5 rows x 73 columns]"
      ]
     },
     "execution_count": 4,
     "metadata": {},
     "output_type": "execute_result"
    }
   ],
   "source": [
    "test_kaggle = pd.read_csv('./datasets/test_cleaned.csv')\n",
    "test_kaggle.head()"
   ]
  },
  {
   "cell_type": "code",
   "execution_count": 5,
   "id": "92ada8dc",
   "metadata": {},
   "outputs": [],
   "source": [
    "#dropping the Unnamed column\n",
    "test_kaggle.drop(columns=['Unnamed: 0'], inplace = True)"
   ]
  },
  {
   "cell_type": "markdown",
   "id": "c7dc0546",
   "metadata": {},
   "source": [
    "__Check for nulls__"
   ]
  },
  {
   "cell_type": "code",
   "execution_count": 6,
   "id": "9452b8b5",
   "metadata": {},
   "outputs": [
    {
     "data": {
      "text/plain": [
       "Index([], dtype='object')"
      ]
     },
     "execution_count": 6,
     "metadata": {},
     "output_type": "execute_result"
    }
   ],
   "source": [
    "train.columns[train.isnull().any()]"
   ]
  },
  {
   "cell_type": "code",
   "execution_count": 7,
   "id": "7dee563d",
   "metadata": {},
   "outputs": [
    {
     "data": {
      "text/plain": [
       "Index([], dtype='object')"
      ]
     },
     "execution_count": 7,
     "metadata": {},
     "output_type": "execute_result"
    }
   ],
   "source": [
    "test_kaggle.columns[test_kaggle.isnull().any()]"
   ]
  },
  {
   "cell_type": "markdown",
   "id": "2ec66b58",
   "metadata": {},
   "source": [
    "## Model 1- Strongly Correlated Bed, Bath, and Basement Features "
   ]
  },
  {
   "cell_type": "markdown",
   "id": "804f6f38",
   "metadata": {},
   "source": [
    "__Model Prep: Create features matrix (x) and target vector (y)__"
   ]
  },
  {
   "cell_type": "markdown",
   "id": "c0be3582",
   "metadata": {},
   "source": [
    "To begin with let's take a look at all the strongly correlated bed, bath, and basement features identified in our correlation matrix."
   ]
  },
  {
   "cell_type": "code",
   "execution_count": 8,
   "id": "7355996f",
   "metadata": {},
   "outputs": [
    {
     "data": {
      "text/plain": [
       "<AxesSubplot:>"
      ]
     },
     "execution_count": 8,
     "metadata": {},
     "output_type": "execute_result"
    },
    {
     "data": {
      "image/png": "[encoded data removed]",
      "text/plain": [
       "<Figure size 720x1080 with 2 Axes>"
      ]
     },
     "metadata": {
      "needs_background": "light"
     },
     "output_type": "display_data"
    }
   ],
   "source": [
    "#Coorelation heat map\n",
    "plt.figure(figsize=(10, 15))\n",
    "sns.heatmap(train.corr()[['saleprice']].sort_values('saleprice'),\n",
    "            annot=True, cmap='coolwarm', vmin=-1, vmax=1)"
   ]
  },
  {
   "cell_type": "code",
   "execution_count": 9,
   "id": "8f7056ac",
   "metadata": {},
   "outputs": [],
   "source": [
    "#creating my x and y variables \n",
    "features = ['totrms_abvgrd','full_bath','total_bsmt_sf']\n",
    "X_1 = train[features]\n",
    "y_1 = train['saleprice']"
   ]
  },
  {
   "cell_type": "markdown",
   "id": "9ff8a76c",
   "metadata": {},
   "source": [
    "__Model Prep: Train/Test Split__"
   ]
  },
  {
   "cell_type": "markdown",
   "id": "e269c2cc",
   "metadata": {},
   "source": [
    "Due to the size of the dataset, we decided to go with an 80/20 test split for all our models as we believe this provides enough observations to train the data well and enough observations to then test it."
   ]
  },
  {
   "cell_type": "markdown",
   "id": "f557a693",
   "metadata": {},
   "source": [
    "Performing a 80-20 train, test split on the X and y variables: "
   ]
  },
  {
   "cell_type": "code",
   "execution_count": 10,
   "id": "2aea0bf5",
   "metadata": {},
   "outputs": [],
   "source": [
    "X_1_train, X_1_test, y_1_train, y_1_test = train_test_split(X_1, y_1, \n",
    "                                                    test_size = 0.2,\n",
    "                                                    random_state =42)"
   ]
  },
  {
   "cell_type": "code",
   "execution_count": 11,
   "id": "a298d2b5",
   "metadata": {},
   "outputs": [
    {
     "name": "stdout",
     "output_type": "stream",
     "text": [
      "(1638, 3) (1638,)\n",
      "(410, 3) (410,)\n"
     ]
    }
   ],
   "source": [
    "print(X_1_train.shape, y_1_train.shape)\n",
    "print(X_1_test.shape, y_1_test.shape)"
   ]
  },
  {
   "cell_type": "markdown",
   "id": "167df9e4",
   "metadata": {},
   "source": [
    "__Model Fit__"
   ]
  },
  {
   "cell_type": "code",
   "execution_count": 12,
   "id": "d3e0d5e9",
   "metadata": {},
   "outputs": [
    {
     "data": {
      "text/plain": [
       "LinearRegression(n_jobs=-1)"
      ]
     },
     "execution_count": 12,
     "metadata": {},
     "output_type": "execute_result"
    }
   ],
   "source": [
    "# instantiate LinearRegression estimator\n",
    "lr = LinearRegression(n_jobs = -1)\n",
    "\n",
    "# fit Linear model\n",
    "lr.fit(X_1_train,y_1_train)"
   ]
  },
  {
   "cell_type": "code",
   "execution_count": 13,
   "id": "cca90896",
   "metadata": {},
   "outputs": [
    {
     "name": "stdout",
     "output_type": "stream",
     "text": [
      "[150916.88587848 228814.49143845 273954.71177088 127799.65913152\n",
      " 230269.5570927  210182.51448526 153105.35220147  54065.17840303\n",
      "  54065.17840303 288149.72966257 193149.80138349 232037.16450742\n",
      " 239522.58523296 253639.29918462 180996.22513655 168210.80864791\n",
      " 283658.61202717 120085.86842715 307794.59447667 128595.91269685\n",
      " 147697.03929058 140786.2588723  241296.06048931 229205.33713896\n",
      " 188772.86873751 128595.91269685 119184.1241951  257397.01615127\n",
      " 213212.69862479 120422.55555377 209424.96845038 195506.61126979\n",
      " 202685.35807647 255941.95049702 151093.92376448 209509.14023203\n",
      " 215401.16494778 152684.49329321 203057.92625247 241746.93260534\n",
      " 240706.85801773 385229.80711685 292069.9223509  158576.51800895\n",
      " 197165.90153672 123056.02615116 187762.80735766 148905.45744149\n",
      " 239360.10951128 126789.59775168 277399.88697705 188099.49448428\n",
      " 152624.46687769 168685.82613007 256952.01187687  78673.35185362\n",
      " 104874.921314   168677.13180738 126789.59775168 166939.53760041\n",
      " 261328.94452285 163566.79849265 130875.30752225 208577.38279222\n",
      " 139523.6821475  243514.54002006 102947.66465866 160764.98433195\n",
      " 140425.42637955 149717.16205027 160235.80827589 213495.22717751\n",
      "  94720.14894168 114668.86119357 193203.95995738 155546.33386943\n",
      " 147694.21280951 126789.59775168 102947.66465866 126284.56706176\n",
      " 177018.83251377  41637.76792606 152961.1540043  226229.31157333\n",
      " 289580.64995068 154881.65393889 218293.01873176 323574.31405546\n",
      " 163244.67353035 195506.61126979 215401.16494778 281806.83283079\n",
      " 236438.24251954 256194.46584198 311351.12819118 197021.70333955\n",
      " 201398.63598554  90520.2541817   88773.96565204 217589.63127077\n",
      " 135627.6348253  122749.35223231 169695.88750991 175212.51756859\n",
      " 148812.59133714 138910.33430979 184341.77751763 114975.53511242\n",
      " 212815.98508266 253188.42706859 126789.59775168 142553.86628702\n",
      " 259110.4649921  237454.17174101 172918.56057888 173369.43269491\n",
      " 141038.77421726 221209.01788187 178227.25066468 199095.98467313\n",
      " 224996.74805628 130829.84327105  82238.57989082 165364.41911513\n",
      " 102325.62249826 140900.44386171 171379.32314298  97834.50486286\n",
      " 188099.49448428 230486.19138827 185658.51281633 123056.02615116\n",
      " 183806.73361995 177512.12752044 236047.39681903 221209.01788187\n",
      " 188436.18161089 223818.34311313 270690.2898109  132483.26569636\n",
      " 143548.47662342 228946.95395238 197220.06011062 248955.69261978\n",
      " 175840.42757062 165478.60410454 119328.32239227 200755.27494007\n",
      " 203380.05121477 162785.10709163 174776.20761688 164308.89348409\n",
      " 183890.9054016  141940.51844931 159724.90974434 209364.94203486\n",
      " 149065.1066821  193654.83207341 112450.38166282 167591.59296858\n",
      " 239330.09630352 283604.45345328 211330.90622065 186668.57419617\n",
      " 186921.08954113 137373.92335496 218317.1640979  284361.99948816\n",
      " 162457.11428771 162700.93530998 176399.61683444 235067.34864695\n",
      " 166076.50089881 106281.69623598 197893.43436385 240821.04300715\n",
      " 140227.06960848 139217.00822864 170384.71280658 150327.68340691\n",
      " 148337.57385498 123789.42681991 100022.97118585  94720.14894168\n",
      " 189446.24299073 210236.67305916  94720.14894168 136890.2115501\n",
      " 276618.19557603 254456.87163502 197021.70333955  95080.98143443\n",
      " 179871.9787673  138573.64718317 132537.42427025 167254.90584196\n",
      " 154957.13139785  89784.02703188 154872.9596162  135880.15017026\n",
      " 255100.23268049 248697.3094332  198260.13469822 236919.12784333\n",
      "  77999.97760039 204567.15048061  97894.53127838 174914.53797243\n",
      " 247969.77660607 205859.74041317 240929.36015494  41637.76792606\n",
      " 193823.17563672 149065.1066821   92952.54152696 255575.25016265\n",
      " 102947.66465866 163214.66032259 199883.54391577 250416.62611565\n",
      " 183079.20079282 178058.90710137 284975.34732587 141910.50524155\n",
      " 244831.27531876 113015.43876826 216579.56989093 151337.74478675\n",
      " 203220.40197415 298106.14526382 304166.51354287 167254.90584196\n",
      " 168256.27289911 139217.00822864 126789.59775168 165394.43232289\n",
      " 154452.10070793 293759.22582559 152125.30402939 146094.9489581\n",
      " 140197.05640072 126789.59775168 217252.94414416 143257.25374801\n",
      " 142048.8355971  154115.41358132 151337.74478675 141796.32025214\n",
      " 131839.90465089 201260.30562999 154897.10498233 270726.17086029\n",
      " 145277.3765077  221996.57712452 205577.21186045 192476.42713026\n",
      " 220391.44543147 277033.18664268  54065.17840303 114638.84798581\n",
      " 163765.15526371 139217.00822864 304533.21387725 148055.04530226\n",
      " 251228.33072443 153105.35220147 207657.36103566 234556.4501154\n",
      " 240929.36015494 194159.86276333 171791.48772856 116688.98395325\n",
      " 288793.09070804 252238.39210427 108073.44901683 126789.59775168\n",
      " 232397.99700017 225249.26340124 133439.16850231 270521.9462476\n",
      " 228363.61932242 192245.23067037 180599.51159442 214499.42071573\n",
      " 132849.96603073 266854.26890422 167254.90584196 192644.77069357\n",
      " 134870.08879042 206761.48464523 205186.36615994 156778.89738647\n",
      " 222549.89854671 111079.48779023 143257.25374801 220872.33075526\n",
      " 155041.30317951 267070.9031998  123729.40040439 193171.12026855\n",
      " 100107.14296751 188006.62837993 168394.60325466 131954.0896403\n",
      "  66492.58887999 192476.42713026 172978.5869944  246346.36738852\n",
      " 197021.70333955 252623.36996315 241127.716926   243935.39892833\n",
      " 126789.59775168 131136.5171899  258130.41682002  97834.50486286\n",
      " 154951.26355623 123308.54149612 225441.75233069 181954.95442357\n",
      " 159081.54869887 127462.97200491 175305.38367294 221624.00894852\n",
      " 295166.00074757 232878.88232396 207344.81927518 156808.91059423\n",
      " 190931.32185274 352679.47298307 186109.38493235 251168.30430891\n",
      " 144856.51759943 160244.50259858 236528.28214282 199180.15645478\n",
      " 235349.87719967 210435.02983022 207597.33462014 138910.33430979\n",
      " 113015.43876826 141603.8313227  347409.49042772 110628.6156742\n",
      " 101508.05004786 192644.77069357 264918.31792619 106702.55514424\n",
      " 196739.17478683 182207.46976853 248366.49014821 136860.19834234\n",
      " 208379.02602116 244662.93175545 258803.79107324 254258.51486395\n",
      " 225075.05199631 143257.25374801 135850.1369625  259110.4649921\n",
      " 135880.15017026 208751.59419715 141726.71063481 107628.44474243\n",
      " 198085.92329329 224690.07413743 145169.05935991 120422.55555377\n",
      " 214887.43993517 243063.66790403 171232.29846474 195590.78305144\n",
      " 166151.97835777 262645.67982155 413084.79900254 263174.8558776\n",
      " 118847.43706849 144832.37223329 179598.14453727 138910.33430979\n",
      " 186500.23063286 182123.29798688 188712.84232199 137395.24224002\n",
      " 210855.88873849 144634.01546223 201070.64318162  53620.17412862\n",
      " 282558.51102405 116941.49929821 191403.51285383 135176.76270927\n",
      " 233383.91301388 203136.2301925  155630.50565108 132176.5917775\n",
      " 208781.60740491 236546.55966733 197526.73402947 207603.20246176\n",
      " 147856.6885312  115375.07513563 209924.13129868 267136.79745694\n",
      " 147910.84710509 147074.99713018 213579.39895916 154031.24179966\n",
      " 110682.77424809 136607.68299738]\n"
     ]
    }
   ],
   "source": [
    "#Generate predictions\n",
    "predictions_1 = lr.predict(X_1_test)\n",
    "print(predictions_1)"
   ]
  },
  {
   "cell_type": "code",
   "execution_count": 14,
   "id": "cfc70e06",
   "metadata": {},
   "outputs": [
    {
     "data": {
      "text/plain": [
       "Text(0, 0.5, 'Actual Price')"
      ]
     },
     "execution_count": 14,
     "metadata": {},
     "output_type": "execute_result"
    },
    {
     "data": {
      "image/png": "[encoded data removed]",
      "text/plain": [
       "<Figure size 432x288 with 1 Axes>"
      ]
     },
     "metadata": {
      "needs_background": "light"
     },
     "output_type": "display_data"
    }
   ],
   "source": [
    "#visualization of model 1 sales price predictions vs actual sale price \n",
    "plt.scatter(predictions_1, y_1_test, color ='green')\n",
    "plt.title('Model 1: Predicted Price vs Actual Price')\n",
    "plt.xlabel('Predicted Price')\n",
    "plt.ylabel('Actual Price')"
   ]
  },
  {
   "cell_type": "markdown",
   "id": "e65e8402",
   "metadata": {},
   "source": [
    "* The graph looks very scattered as we our sales prices increase, what's displayed does not indicate a good fit model. We can also denote this given the model scores generated below. "
   ]
  },
  {
   "cell_type": "markdown",
   "id": "8c6d0143",
   "metadata": {},
   "source": [
    "__Model Evaluation Metrics__"
   ]
  },
  {
   "cell_type": "markdown",
   "id": "a0fca851",
   "metadata": {},
   "source": [
    "__1)__ R2 Score/Coefficient of Determination- *score of regression model between 0 and 1. We denote a good fit model by looking to see how close it is to 1.*\n",
    "\n",
    "__2)__ Mean Absolute Error (MAE)- *the absolute difference between the actual observations and the predicted observations.* \n",
    "\n",
    "__3)__ Mean Squared Error (MSE)- *is the average of the squared difference between the actual observations and the predicted observations.*"
   ]
  },
  {
   "cell_type": "markdown",
   "id": "411bb03b",
   "metadata": {},
   "source": [
    "[source](https://towardsdatascience.com/regression-an-explanation-of-regression-metrics-and-what-can-go-wrong-a39a9793d914)"
   ]
  },
  {
   "cell_type": "code",
   "execution_count": 15,
   "id": "13825bb7",
   "metadata": {},
   "outputs": [
    {
     "name": "stdout",
     "output_type": "stream",
     "text": [
      "R^2 on training set: 0.5592543460885695\n",
      "R^2 on testing set: 0.5402429931926396\n",
      "Cross Validation Score: 0.5505071967965349\n"
     ]
    }
   ],
   "source": [
    "#R2 Score and Cross validation \n",
    "print(f'R^2 on training set: {lr.score(X_1_train,y_1_train)}')\n",
    "print(f'R^2 on testing set: {lr.score(X_1_test,y_1_test)}')\n",
    "print(f'Cross Validation Score: {cross_val_score(lr,X_1,y_1).mean()}')"
   ]
  },
  {
   "cell_type": "markdown",
   "id": "c507423c",
   "metadata": {},
   "source": [
    "* The R2 scores for both train and test aren't close enough to as we'd like. \n",
    "* The R2 test score is slightly higher than the R2 train score, meaning this model performs better on new testing data.\n",
    "* My cross validation score, is a conservative average of all scores, and is still not close to 1, meaning there's room for improvement. "
   ]
  },
  {
   "cell_type": "code",
   "execution_count": 16,
   "id": "3eb76881",
   "metadata": {},
   "outputs": [
    {
     "name": "stdout",
     "output_type": "stream",
     "text": [
      "MAE on training set:35903.99442550454\n",
      "MAE on testing set: 34531.83014157487\n"
     ]
    }
   ],
   "source": [
    "#MAE \n",
    "print(f'MAE on training set:{mean_absolute_error(y_1_train, lr.predict(X_1_train))}')\n",
    "print(f'MAE on testing set: {mean_absolute_error(y_1_test, predictions_1)}')"
   ]
  },
  {
   "cell_type": "markdown",
   "id": "eae69506",
   "metadata": {},
   "source": [
    "* Based on the MAE, the difference between my y_actual and y_predict seem to do better in my testing data, indicating a model that is underfit. "
   ]
  },
  {
   "cell_type": "code",
   "execution_count": 17,
   "id": "8c50e6ef",
   "metadata": {},
   "outputs": [
    {
     "name": "stdout",
     "output_type": "stream",
     "text": [
      "MSE on training set: 2826325004.878737\n",
      "MSE on testing set:  2636875616.3821716\n"
     ]
    }
   ],
   "source": [
    "#MSE\n",
    "print(f'MSE on training set: {mean_squared_error(y_1_train, lr.predict(X_1_train))}')\n",
    "print(f'MSE on testing set:  {mean_squared_error(y_1_test, predictions_1)}')"
   ]
  },
  {
   "cell_type": "markdown",
   "id": "35b89a43",
   "metadata": {},
   "source": [
    "* Based on the MSE, model 1 is performing better on the testing set than on the training set, which means that our model is underfit. "
   ]
  },
  {
   "cell_type": "markdown",
   "id": "427073c2",
   "metadata": {},
   "source": [
    "### Kaggle  Submission "
   ]
  },
  {
   "cell_type": "code",
   "execution_count": 18,
   "id": "cfab8c32",
   "metadata": {},
   "outputs": [],
   "source": [
    "pred_kaggle = lr.predict(test_kaggle[features])"
   ]
  },
  {
   "cell_type": "code",
   "execution_count": 19,
   "id": "97b8a39a",
   "metadata": {},
   "outputs": [],
   "source": [
    "test_kaggle['saleprice'] = pred_kaggle"
   ]
  },
  {
   "cell_type": "code",
   "execution_count": 20,
   "id": "2bba9261",
   "metadata": {},
   "outputs": [
    {
     "data": {
      "text/html": [
       "<div>\n",
       "<style scoped>\n",
       "    .dataframe tbody tr th:only-of-type {\n",
       "        vertical-align: middle;\n",
       "    }\n",
       "\n",
       "    .dataframe tbody tr th {\n",
       "        vertical-align: top;\n",
       "    }\n",
       "\n",
       "    .dataframe thead th {\n",
       "        text-align: right;\n",
       "    }\n",
       "</style>\n",
       "<table border=\"1\" class=\"dataframe\">\n",
       "  <thead>\n",
       "    <tr style=\"text-align: right;\">\n",
       "      <th></th>\n",
       "      <th>id</th>\n",
       "      <th>pid</th>\n",
       "      <th>ms_subclass</th>\n",
       "      <th>ms_zoning</th>\n",
       "      <th>lot_frontage</th>\n",
       "      <th>lot_area</th>\n",
       "      <th>street</th>\n",
       "      <th>lot_shape</th>\n",
       "      <th>land_contour</th>\n",
       "      <th>utilities</th>\n",
       "      <th>...</th>\n",
       "      <th>garage_cond</th>\n",
       "      <th>paved_drive</th>\n",
       "      <th>wood_deck_sf</th>\n",
       "      <th>open_porch_sf</th>\n",
       "      <th>enclosed_porch</th>\n",
       "      <th>screen_porch</th>\n",
       "      <th>mo_sold</th>\n",
       "      <th>yr_sold</th>\n",
       "      <th>sale_type</th>\n",
       "      <th>saleprice</th>\n",
       "    </tr>\n",
       "  </thead>\n",
       "  <tbody>\n",
       "    <tr>\n",
       "      <th>0</th>\n",
       "      <td>2658</td>\n",
       "      <td>902301120</td>\n",
       "      <td>190</td>\n",
       "      <td>RM</td>\n",
       "      <td>69.0</td>\n",
       "      <td>9142</td>\n",
       "      <td>Pave</td>\n",
       "      <td>Reg</td>\n",
       "      <td>Lvl</td>\n",
       "      <td>AllPub</td>\n",
       "      <td>...</td>\n",
       "      <td>Po</td>\n",
       "      <td>Y</td>\n",
       "      <td>0</td>\n",
       "      <td>60</td>\n",
       "      <td>112</td>\n",
       "      <td>0</td>\n",
       "      <td>4</td>\n",
       "      <td>2006</td>\n",
       "      <td>WD</td>\n",
       "      <td>226085.113376</td>\n",
       "    </tr>\n",
       "    <tr>\n",
       "      <th>1</th>\n",
       "      <td>2718</td>\n",
       "      <td>905108090</td>\n",
       "      <td>90</td>\n",
       "      <td>RL</td>\n",
       "      <td>68.0</td>\n",
       "      <td>9662</td>\n",
       "      <td>Pave</td>\n",
       "      <td>IR1</td>\n",
       "      <td>Lvl</td>\n",
       "      <td>AllPub</td>\n",
       "      <td>...</td>\n",
       "      <td>TA</td>\n",
       "      <td>Y</td>\n",
       "      <td>170</td>\n",
       "      <td>0</td>\n",
       "      <td>0</td>\n",
       "      <td>0</td>\n",
       "      <td>8</td>\n",
       "      <td>2006</td>\n",
       "      <td>WD</td>\n",
       "      <td>318223.201079</td>\n",
       "    </tr>\n",
       "    <tr>\n",
       "      <th>2</th>\n",
       "      <td>2414</td>\n",
       "      <td>528218130</td>\n",
       "      <td>60</td>\n",
       "      <td>RL</td>\n",
       "      <td>58.0</td>\n",
       "      <td>17104</td>\n",
       "      <td>Pave</td>\n",
       "      <td>IR1</td>\n",
       "      <td>Lvl</td>\n",
       "      <td>AllPub</td>\n",
       "      <td>...</td>\n",
       "      <td>TA</td>\n",
       "      <td>Y</td>\n",
       "      <td>100</td>\n",
       "      <td>24</td>\n",
       "      <td>0</td>\n",
       "      <td>0</td>\n",
       "      <td>9</td>\n",
       "      <td>2006</td>\n",
       "      <td>New</td>\n",
       "      <td>170423.420337</td>\n",
       "    </tr>\n",
       "    <tr>\n",
       "      <th>3</th>\n",
       "      <td>1989</td>\n",
       "      <td>902207150</td>\n",
       "      <td>30</td>\n",
       "      <td>RM</td>\n",
       "      <td>60.0</td>\n",
       "      <td>8520</td>\n",
       "      <td>Pave</td>\n",
       "      <td>Reg</td>\n",
       "      <td>Lvl</td>\n",
       "      <td>AllPub</td>\n",
       "      <td>...</td>\n",
       "      <td>TA</td>\n",
       "      <td>N</td>\n",
       "      <td>0</td>\n",
       "      <td>0</td>\n",
       "      <td>184</td>\n",
       "      <td>0</td>\n",
       "      <td>7</td>\n",
       "      <td>2007</td>\n",
       "      <td>WD</td>\n",
       "      <td>135543.463044</td>\n",
       "    </tr>\n",
       "    <tr>\n",
       "      <th>4</th>\n",
       "      <td>625</td>\n",
       "      <td>535105100</td>\n",
       "      <td>20</td>\n",
       "      <td>RL</td>\n",
       "      <td>68.0</td>\n",
       "      <td>9500</td>\n",
       "      <td>Pave</td>\n",
       "      <td>IR1</td>\n",
       "      <td>Lvl</td>\n",
       "      <td>AllPub</td>\n",
       "      <td>...</td>\n",
       "      <td>TA</td>\n",
       "      <td>Y</td>\n",
       "      <td>0</td>\n",
       "      <td>76</td>\n",
       "      <td>0</td>\n",
       "      <td>185</td>\n",
       "      <td>7</td>\n",
       "      <td>2009</td>\n",
       "      <td>WD</td>\n",
       "      <td>183828.052505</td>\n",
       "    </tr>\n",
       "  </tbody>\n",
       "</table>\n",
       "<p>5 rows × 73 columns</p>\n",
       "</div>"
      ],
      "text/plain": [
       "     id        pid  ms_subclass ms_zoning  lot_frontage  lot_area street  \\\n",
       "0  2658  902301120          190        RM          69.0      9142   Pave   \n",
       "1  2718  905108090           90        RL          68.0      9662   Pave   \n",
       "2  2414  528218130           60        RL          58.0     17104   Pave   \n",
       "3  1989  902207150           30        RM          60.0      8520   Pave   \n",
       "4   625  535105100           20        RL          68.0      9500   Pave   \n",
       "\n",
       "  lot_shape land_contour utilities  ... garage_cond paved_drive wood_deck_sf  \\\n",
       "0       Reg          Lvl    AllPub  ...          Po           Y            0   \n",
       "1       IR1          Lvl    AllPub  ...          TA           Y          170   \n",
       "2       IR1          Lvl    AllPub  ...          TA           Y          100   \n",
       "3       Reg          Lvl    AllPub  ...          TA           N            0   \n",
       "4       IR1          Lvl    AllPub  ...          TA           Y            0   \n",
       "\n",
       "  open_porch_sf enclosed_porch screen_porch mo_sold  yr_sold  sale_type  \\\n",
       "0            60            112            0       4     2006        WD    \n",
       "1             0              0            0       8     2006        WD    \n",
       "2            24              0            0       9     2006        New   \n",
       "3             0            184            0       7     2007        WD    \n",
       "4            76              0          185       7     2009        WD    \n",
       "\n",
       "       saleprice  \n",
       "0  226085.113376  \n",
       "1  318223.201079  \n",
       "2  170423.420337  \n",
       "3  135543.463044  \n",
       "4  183828.052505  \n",
       "\n",
       "[5 rows x 73 columns]"
      ]
     },
     "execution_count": 20,
     "metadata": {},
     "output_type": "execute_result"
    }
   ],
   "source": [
    "test_kaggle.head()"
   ]
  },
  {
   "cell_type": "code",
   "execution_count": 21,
   "id": "7babb87a",
   "metadata": {},
   "outputs": [],
   "source": [
    "kaggle = test_kaggle[['id','saleprice']]"
   ]
  },
  {
   "cell_type": "code",
   "execution_count": 22,
   "id": "b4c19b10",
   "metadata": {},
   "outputs": [
    {
     "data": {
      "text/html": [
       "<div>\n",
       "<style scoped>\n",
       "    .dataframe tbody tr th:only-of-type {\n",
       "        vertical-align: middle;\n",
       "    }\n",
       "\n",
       "    .dataframe tbody tr th {\n",
       "        vertical-align: top;\n",
       "    }\n",
       "\n",
       "    .dataframe thead th {\n",
       "        text-align: right;\n",
       "    }\n",
       "</style>\n",
       "<table border=\"1\" class=\"dataframe\">\n",
       "  <thead>\n",
       "    <tr style=\"text-align: right;\">\n",
       "      <th></th>\n",
       "      <th>id</th>\n",
       "      <th>saleprice</th>\n",
       "    </tr>\n",
       "  </thead>\n",
       "  <tbody>\n",
       "    <tr>\n",
       "      <th>0</th>\n",
       "      <td>2658</td>\n",
       "      <td>226085.113376</td>\n",
       "    </tr>\n",
       "    <tr>\n",
       "      <th>1</th>\n",
       "      <td>2718</td>\n",
       "      <td>318223.201079</td>\n",
       "    </tr>\n",
       "    <tr>\n",
       "      <th>2</th>\n",
       "      <td>2414</td>\n",
       "      <td>170423.420337</td>\n",
       "    </tr>\n",
       "    <tr>\n",
       "      <th>3</th>\n",
       "      <td>1989</td>\n",
       "      <td>135543.463044</td>\n",
       "    </tr>\n",
       "    <tr>\n",
       "      <th>4</th>\n",
       "      <td>625</td>\n",
       "      <td>183828.052505</td>\n",
       "    </tr>\n",
       "  </tbody>\n",
       "</table>\n",
       "</div>"
      ],
      "text/plain": [
       "     id      saleprice\n",
       "0  2658  226085.113376\n",
       "1  2718  318223.201079\n",
       "2  2414  170423.420337\n",
       "3  1989  135543.463044\n",
       "4   625  183828.052505"
      ]
     },
     "execution_count": 22,
     "metadata": {},
     "output_type": "execute_result"
    }
   ],
   "source": [
    "kaggle.head()"
   ]
  },
  {
   "cell_type": "code",
   "execution_count": 23,
   "id": "e47b339d",
   "metadata": {},
   "outputs": [],
   "source": [
    "#exporting kaggle submission data to csv\n",
    "kaggle.to_csv('./datasets/kaggle_submission_two.csv', index = False)"
   ]
  },
  {
   "cell_type": "code",
   "execution_count": 24,
   "id": "53bd0826",
   "metadata": {},
   "outputs": [
    {
     "data": {
      "text/plain": [
       "bsmt_cond\n",
       "TA             781\n",
       "Fa              39\n",
       "Gd              33\n",
       "No Basement     25\n",
       "dtype: int64"
      ]
     },
     "execution_count": 24,
     "metadata": {},
     "output_type": "execute_result"
    }
   ],
   "source": [
    "test_kaggle.value_counts('bsmt_cond')"
   ]
  },
  {
   "cell_type": "markdown",
   "id": "e53ba789",
   "metadata": {},
   "source": [
    "## Model 2-  All Beds, Baths, and Basements Features"
   ]
  },
  {
   "cell_type": "markdown",
   "id": "8edd48d9",
   "metadata": {},
   "source": [
    "Now let's look at all numerical values related to beds, baths, and basements, regardless of the strength of correlation to sales prices. "
   ]
  },
  {
   "cell_type": "code",
   "execution_count": 25,
   "id": "7905ea0a",
   "metadata": {},
   "outputs": [
    {
     "data": {
      "text/plain": [
       "['id',\n",
       " 'pid',\n",
       " 'ms_subclass',\n",
       " 'lot_frontage',\n",
       " 'lot_area',\n",
       " 'overall_qual',\n",
       " 'overall_cond',\n",
       " 'year_built',\n",
       " 'year_remod/add',\n",
       " 'mas_vnr_area',\n",
       " 'bsmtfin_sf_1',\n",
       " 'bsmtfin_sf_2',\n",
       " 'bsmt_unf_sf',\n",
       " 'total_bsmt_sf',\n",
       " '1st_flr_sf',\n",
       " '2nd_flr_sf',\n",
       " 'gr_liv_area',\n",
       " 'bsmt_full_bath',\n",
       " 'bsmt_half_bath',\n",
       " 'full_bath',\n",
       " 'half_bath',\n",
       " 'bedroom_abvgr',\n",
       " 'kitchen_abvgr',\n",
       " 'totrms_abvgrd',\n",
       " 'fireplaces',\n",
       " 'garage_yr_blt',\n",
       " 'garage_cars',\n",
       " 'garage_area',\n",
       " 'wood_deck_sf',\n",
       " 'open_porch_sf',\n",
       " 'enclosed_porch',\n",
       " 'screen_porch',\n",
       " 'mo_sold',\n",
       " 'yr_sold',\n",
       " 'saleprice']"
      ]
     },
     "execution_count": 25,
     "metadata": {},
     "output_type": "execute_result"
    }
   ],
   "source": [
    "#list columns with numerical/float data.\n",
    "train.select_dtypes(exclude=['object']).columns.tolist()"
   ]
  },
  {
   "cell_type": "markdown",
   "id": "c7994690",
   "metadata": {},
   "source": [
    "[source code](https://stackoverflow.com/questions/25039626/how-do-i-find-numeric-columns-in-pandas)"
   ]
  },
  {
   "cell_type": "code",
   "execution_count": 26,
   "id": "16088e37",
   "metadata": {},
   "outputs": [],
   "source": [
    "#creating my x and y variables \n",
    "X_2 = train[['bsmtfin_sf_1','bsmtfin_sf_2','bsmt_unf_sf','total_bsmt_sf','bsmt_full_bath','bsmt_half_bath',\\\n",
    "             'full_bath','half_bath', 'bedroom_abvgr','totrms_abvgrd']]\n",
    "y_2 = train['saleprice']"
   ]
  },
  {
   "cell_type": "code",
   "execution_count": 27,
   "id": "9cbfe30b",
   "metadata": {},
   "outputs": [],
   "source": [
    "X_2_train, X_2_test, y_2_train, y_2_test = train_test_split(X_2, y_2, \n",
    "                                                    test_size = 0.2,\n",
    "                                                    random_state =42,\n",
    "                                                    shuffle = True)"
   ]
  },
  {
   "cell_type": "markdown",
   "id": "9916765d",
   "metadata": {},
   "source": [
    "__Model Fit__"
   ]
  },
  {
   "cell_type": "code",
   "execution_count": 28,
   "id": "467538c0",
   "metadata": {},
   "outputs": [
    {
     "data": {
      "text/plain": [
       "LinearRegression(n_jobs=-1)"
      ]
     },
     "execution_count": 28,
     "metadata": {},
     "output_type": "execute_result"
    }
   ],
   "source": [
    "# instantiate LinearRegression estimator\n",
    "lr = LinearRegression(n_jobs = -1)\n",
    "\n",
    "# fit Lienear model\n",
    "lr.fit(X_2_train,y_2_train)"
   ]
  },
  {
   "cell_type": "code",
   "execution_count": 29,
   "id": "e6550c23",
   "metadata": {},
   "outputs": [
    {
     "name": "stdout",
     "output_type": "stream",
     "text": [
      "[146597.73363797 240008.6260964  289954.28468399 122189.05763681\n",
      " 250573.49448109 206597.17156944 141632.76061875  36324.52507436\n",
      "  56256.69181966 253883.81920022 203789.60880567 258751.72621142\n",
      " 206273.95258515 225941.50578926 212570.84902917 166047.68646374\n",
      " 268834.97162554 103864.84979146 324641.23773601 153912.05960731\n",
      " 185883.71476373 152263.46128564 210100.16672299 194751.76638143\n",
      " 225142.32459802 173079.85586406 127569.53495441 262587.63662362\n",
      " 181860.58598947 107772.34066603 182945.0908298  226757.66243245\n",
      " 190532.55294078 221958.61192666 184633.08643894 198447.88611437\n",
      " 211846.70841693 142639.91271171 212143.98763199 204617.92921395\n",
      " 209623.10283548 353235.28651047 331363.98097318 151501.39169736\n",
      " 186212.58170966  98032.14932498 199427.8818342  167282.50946559\n",
      " 232996.56588989 127602.46172483 289546.88898875 199700.48976992\n",
      " 133667.64252541 178134.38405359 241874.55095469  75598.88430418\n",
      "  91921.62326652 178400.77428191 102304.51540313 227645.04084664\n",
      " 254996.08218012 159868.91080924 264687.98955833 213163.97118012\n",
      " 135145.83566131 295378.07715853 112167.47446002 131535.61068638\n",
      " 150496.29514708 187908.81412148 223250.19883789 201383.87382623\n",
      " 127010.31858299 142498.82839648 215161.93090385 146076.36654332\n",
      " 204354.52521281 131097.50522016 112167.47446002  94798.92728561\n",
      " 172141.2203177   60279.36751476 197109.50782296 258297.08862117\n",
      " 287252.06017733 163116.94208906 237835.34080804 221681.8387413\n",
      " 165862.14579837 205697.86435568 198605.34913968 319924.60027274\n",
      " 230601.70864126 256723.8597281  317220.97955473 174252.22317623\n",
      " 165451.05652318  96257.98340982  80545.20701736 205221.26278991\n",
      " 145363.85766263 119628.89729756 156996.05768317 154967.62298074\n",
      " 118886.65640731 124953.89162028 138206.10942895 163134.52116954\n",
      " 205628.00372848 251765.47450974 120666.99955305 132406.61717011\n",
      " 210439.21799936 201142.17803356 160583.75320117 187773.89258231\n",
      " 138371.8380598  236539.05860793 154465.70840998 194519.23034802\n",
      " 210987.85115734 126706.82110017 108639.48305099 149386.42281411\n",
      "  89484.7811824  112480.36991796 204606.05267285 112957.45948065\n",
      " 206955.83150898 204804.6877334  208655.77522661 136678.49691049\n",
      " 196224.73858953 127895.75378003 253859.4444311  207921.01188053\n",
      " 199973.09770563 190101.55663703 275876.71037041 138337.54841522\n",
      " 156809.30229252 247658.63197474 193952.56938605 228389.4254461\n",
      " 183927.30268757 155118.28235806 150691.03673304 171427.91304044\n",
      " 163368.37792466 170488.25260787 120901.22883499 180086.0777135\n",
      " 218174.86455306 155563.83733245 155033.08570564 202833.77238738\n",
      " 159278.46548397 171526.14381907 123882.89959006 160515.26022969\n",
      " 244765.44850782 250203.61206805 197838.94379787 198541.90604312\n",
      " 198746.36199491 124436.71073563 248847.30887747 251163.15925092\n",
      " 173091.13724283 187830.54685028 190227.36400376 205056.91991223\n",
      " 176021.67255179  98226.79366723 191612.95752823 203868.25739073\n",
      " 118873.77014941 207382.30434647 160787.92127935 138490.3004066\n",
      " 158623.03973007 132019.79053665 106207.88518988 139704.11624493\n",
      " 220723.08825808 174049.42870037 130485.62769517 111377.0500707\n",
      " 224614.83065663 266401.61654379 236197.15367485  96807.31348036\n",
      " 155675.87317602 147212.34390325 153416.87414549 196907.96707209\n",
      " 148989.15640915  79330.13557696 149872.99757587 111915.0952963\n",
      " 221277.09208737 246374.8957236  183492.52283918 198710.61669736\n",
      "  69788.85782687 231621.4861936  104196.29235254 187201.96554666\n",
      " 270532.68416149 194148.39163368 259117.78648979  40347.20076946\n",
      " 204334.8246771  144593.5451389  108600.76853066 256646.31713829\n",
      " 112167.47446002 194028.672104   182324.62194968 252341.0656078\n",
      " 161053.78626573 153731.71080935 324529.40048812 138079.41957261\n",
      " 238248.62074813 141959.17913814 231002.10629969 163592.17811119\n",
      " 204320.69167407 247250.26066722 218750.34275217 196907.96707209\n",
      " 164098.83560248 150020.93502474 101439.06708436 147660.43641421\n",
      " 149561.08593352 224408.66606156 161978.36177981 207675.36188496\n",
      " 155998.24588284  96530.37223845 229297.1565423  113746.25823862\n",
      "  99325.32837636 151668.46087443 142741.06921155 135681.02346367\n",
      "  99296.95822493 199517.3026594   95643.4126009  271769.6536975\n",
      " 141149.12974023 236911.5706907  206185.67480815 203244.39293423\n",
      " 231693.8490274  302283.04804461  36324.52507436 129730.1956724\n",
      " 181505.41692393 133879.1766764  320268.60721233 138205.45529724\n",
      " 249327.64423306 140909.55627289 221963.10305083 205628.23397654\n",
      " 282851.73661149 204607.43261282 159662.6047725  106961.76786298\n",
      " 272992.24264522 218959.92463378 122641.080174   106240.56641843\n",
      " 252025.09442828 224378.51834886 132153.00889335 229525.75618737\n",
      " 217769.66199116 218744.31012323 152925.75584814 226923.21015236\n",
      " 145015.68842728 271461.79361142 219366.90659755 156026.53973385\n",
      " 125288.63105324 220032.58846213 195522.99574104 153542.06286419\n",
      " 249299.15025874  98605.4827586  137583.19606439 213016.73203827\n",
      " 164203.80117482 299415.02513056 118509.53194171 203699.1447382\n",
      " 115619.73894957 181163.15936261 153768.60095695 113474.27952548\n",
      "  72166.18286986 205234.92406742 189355.89768702 216374.31995752\n",
      " 174252.22317623 222728.65950678 235379.75070306 254694.88391182\n",
      " 101020.76706362 149490.07031602 229990.63968129  91695.72346284\n",
      " 157168.1747647  138250.86873788 221505.06366719 194725.39494309\n",
      " 159873.57533685 115685.22180591 196005.34026725 218606.95946972\n",
      " 244689.91850893 265642.77820746 221130.29151838 153503.14503265\n",
      " 231756.43218091 354837.75559408 183975.66607945 242826.80830358\n",
      " 136287.8289455  125144.24499777 245206.86777366 196837.54796077\n",
      " 224998.50776973 226272.22182984 245553.43191046 126831.57816135\n",
      " 142146.69294054 134464.76605537 349953.28034955 121268.33335012\n",
      "  80585.2414391  202662.04216208 280206.97893268 101250.44337508\n",
      " 179870.76465313 219307.20086028 215824.93337304 141199.82134292\n",
      " 161125.55178605 238703.70646476 256038.28833254 227898.99458735\n",
      " 233661.70866013 116421.52071554  93997.95337707 210439.21799936\n",
      " 146502.74255943 177902.35151371 150626.46817045 119280.78894975\n",
      " 213633.57328617 240923.39148295 193718.90686164 118331.36580833\n",
      " 215032.66832808 211560.20666279 196838.60019253 205766.01633961\n",
      " 151465.48310221 253239.14007046 422060.20414695 205492.49332395\n",
      "  94624.55012852 169667.88778061 192817.13939307 124953.89162028\n",
      " 198405.60207526 194861.69891094 179219.32360853 124047.03547683\n",
      " 226742.7989973  146569.13343434 220687.37784383  68316.95201143\n",
      " 301733.05615584  87234.05706947 205917.26015318 107846.03501078\n",
      " 203693.88023364 241566.34915741 149750.73436027 104012.20086369\n",
      " 219619.87785249 249575.9640669  174661.13507981 191288.17927366\n",
      " 124777.17151762  88212.63201962 196393.62355869 253465.32576127\n",
      " 162523.50831555 119508.04701696 228062.56874867 149406.41518271\n",
      " 120686.18457756 133930.08597154]\n"
     ]
    }
   ],
   "source": [
    "#Generate predictions\n",
    "predictions_2 = lr.predict(X_2_test)\n",
    "print(predictions_2)"
   ]
  },
  {
   "cell_type": "code",
   "execution_count": 30,
   "id": "651dddb6",
   "metadata": {},
   "outputs": [
    {
     "data": {
      "text/plain": [
       "Text(0, 0.5, 'Actual Price')"
      ]
     },
     "execution_count": 30,
     "metadata": {},
     "output_type": "execute_result"
    },
    {
     "data": {
      "image/png": "[encoded data removed]",
      "text/plain": [
       "<Figure size 432x288 with 1 Axes>"
      ]
     },
     "metadata": {
      "needs_background": "light"
     },
     "output_type": "display_data"
    }
   ],
   "source": [
    "#visualization of model 1 sales price predictions vs actual sale price \n",
    "plt.scatter(predictions_2, y_2_test, color ='orange')\n",
    "plt.title('Model 2: Predicted Price vs Actual Price')\n",
    "plt.xlabel('Predicted Price')\n",
    "plt.ylabel('Actual Price')"
   ]
  },
  {
   "cell_type": "markdown",
   "id": "19c8f910",
   "metadata": {},
   "source": [
    "* The graph looks less dispersed than that shown in model 1, it's slightly more of a straight line in comparison to model 1, meaning the model, is not the best, but a better fit in comparison to model 1. This is to be expected since we've added some complexity by introducing more features,  even with  variables that weren't deemed very strong based on our correlation threshold (+/- 0.5) established in during our EDA. Let's see what our model metrics tell us below."
   ]
  },
  {
   "cell_type": "markdown",
   "id": "659c703b",
   "metadata": {},
   "source": [
    "__Model Evaluation Metrics__"
   ]
  },
  {
   "cell_type": "code",
   "execution_count": 31,
   "id": "1a3f60a6",
   "metadata": {},
   "outputs": [
    {
     "name": "stdout",
     "output_type": "stream",
     "text": [
      "R^2 on training set: 0.6468260209502095\n",
      "R^2 on testing set: 0.6399996464893764\n",
      "Cross Validation Score: 0.6370736393204361\n"
     ]
    }
   ],
   "source": [
    "#R2 Score and Cross validation \n",
    "print(f'R^2 on training set: {lr.score(X_2_train,y_2_train)}')\n",
    "print(f'R^2 on testing set: {lr.score(X_2_test,y_2_test)}')\n",
    "print(f'Cross Validation Score: {cross_val_score(lr,X_2,y_2).mean()}')"
   ]
  },
  {
   "cell_type": "markdown",
   "id": "444648dc",
   "metadata": {},
   "source": [
    "* The R2 scores for both train and test aren't as close to 1 as we'd like but they are an improvement from model 1.  \n",
    "* The R2 test score is slightly lower than the R2 train score, meaning this model performs slightly worse when introduced to new data, so is overfit.\n",
    "* My cross validation score, is a conservative average of all scores, and isn't as close to 1 either, indicating an \"OK\" fit."
   ]
  },
  {
   "cell_type": "code",
   "execution_count": 32,
   "id": "5b389194",
   "metadata": {},
   "outputs": [
    {
     "name": "stdout",
     "output_type": "stream",
     "text": [
      "MAE on training set:31701.37089590081\n",
      "MAE on testing set: 31603.420795342332\n"
     ]
    }
   ],
   "source": [
    "#MAE \n",
    "print(f'MAE on training set:{mean_absolute_error(y_2_train, lr.predict(X_2_train))}')\n",
    "print(f'MAE on testing set: {mean_absolute_error(y_2_test, predictions_2)}')"
   ]
  },
  {
   "cell_type": "markdown",
   "id": "882769e6",
   "metadata": {},
   "source": [
    "* Based on the MAE, the differences between the y_actual and y_predict seems to be slightly better in the testing data. "
   ]
  },
  {
   "cell_type": "code",
   "execution_count": 33,
   "id": "fbc7710d",
   "metadata": {},
   "outputs": [
    {
     "name": "stdout",
     "output_type": "stream",
     "text": [
      "MSE on training set: 2264762996.985856\n",
      "MSE on testing set:  2064734501.0641136\n"
     ]
    }
   ],
   "source": [
    "#MSE\n",
    "print(f'MSE on training set: {mean_squared_error(y_2_train, lr.predict(X_2_train))}')\n",
    "print(f'MSE on testing set:  {mean_squared_error(y_2_test, predictions_2)}')"
   ]
  },
  {
   "cell_type": "markdown",
   "id": "1f71fd46",
   "metadata": {},
   "source": [
    "* Based on the MSE, model 2 is performing better on the testing set than on the training set. "
   ]
  },
  {
   "cell_type": "markdown",
   "id": "08459dec",
   "metadata": {},
   "source": [
    "## Model 3 - All Bed, Bath, and Basements plus."
   ]
  },
  {
   "cell_type": "markdown",
   "id": "29fb9e64",
   "metadata": {},
   "source": [
    "In our EDA we noted that simply having our features of focus were not enough to get a high return on sales price but also factoring in the quality and condition of said features played some role in sales prices. Let's see how much of an effect these may have on the strength of our model when these qualitative features (converted into dummy variables) are added. "
   ]
  },
  {
   "cell_type": "code",
   "execution_count": 34,
   "id": "223bdb8d",
   "metadata": {},
   "outputs": [
    {
     "data": {
      "text/html": [
       "<div>\n",
       "<style scoped>\n",
       "    .dataframe tbody tr th:only-of-type {\n",
       "        vertical-align: middle;\n",
       "    }\n",
       "\n",
       "    .dataframe tbody tr th {\n",
       "        vertical-align: top;\n",
       "    }\n",
       "\n",
       "    .dataframe thead th {\n",
       "        text-align: right;\n",
       "    }\n",
       "</style>\n",
       "<table border=\"1\" class=\"dataframe\">\n",
       "  <thead>\n",
       "    <tr style=\"text-align: right;\">\n",
       "      <th></th>\n",
       "      <th>id</th>\n",
       "      <th>pid</th>\n",
       "      <th>ms_subclass</th>\n",
       "      <th>ms_zoning</th>\n",
       "      <th>lot_frontage</th>\n",
       "      <th>lot_area</th>\n",
       "      <th>street</th>\n",
       "      <th>lot_shape</th>\n",
       "      <th>land_contour</th>\n",
       "      <th>utilities</th>\n",
       "      <th>...</th>\n",
       "      <th>mo_sold</th>\n",
       "      <th>yr_sold</th>\n",
       "      <th>sale_type</th>\n",
       "      <th>saleprice</th>\n",
       "      <th>bsmt_cond_Ex</th>\n",
       "      <th>bsmt_cond_Fa</th>\n",
       "      <th>bsmt_cond_Gd</th>\n",
       "      <th>bsmt_cond_No Basement</th>\n",
       "      <th>bsmt_cond_Po</th>\n",
       "      <th>bsmt_cond_TA</th>\n",
       "    </tr>\n",
       "  </thead>\n",
       "  <tbody>\n",
       "    <tr>\n",
       "      <th>0</th>\n",
       "      <td>109</td>\n",
       "      <td>533352170</td>\n",
       "      <td>60</td>\n",
       "      <td>RL</td>\n",
       "      <td>68.0</td>\n",
       "      <td>13517</td>\n",
       "      <td>Pave</td>\n",
       "      <td>IR1</td>\n",
       "      <td>Lvl</td>\n",
       "      <td>AllPub</td>\n",
       "      <td>...</td>\n",
       "      <td>3</td>\n",
       "      <td>2010</td>\n",
       "      <td>WD</td>\n",
       "      <td>130500</td>\n",
       "      <td>0</td>\n",
       "      <td>0</td>\n",
       "      <td>0</td>\n",
       "      <td>0</td>\n",
       "      <td>0</td>\n",
       "      <td>1</td>\n",
       "    </tr>\n",
       "    <tr>\n",
       "      <th>1</th>\n",
       "      <td>544</td>\n",
       "      <td>531379050</td>\n",
       "      <td>60</td>\n",
       "      <td>RL</td>\n",
       "      <td>43.0</td>\n",
       "      <td>11492</td>\n",
       "      <td>Pave</td>\n",
       "      <td>IR1</td>\n",
       "      <td>Lvl</td>\n",
       "      <td>AllPub</td>\n",
       "      <td>...</td>\n",
       "      <td>4</td>\n",
       "      <td>2009</td>\n",
       "      <td>WD</td>\n",
       "      <td>220000</td>\n",
       "      <td>0</td>\n",
       "      <td>0</td>\n",
       "      <td>0</td>\n",
       "      <td>0</td>\n",
       "      <td>0</td>\n",
       "      <td>1</td>\n",
       "    </tr>\n",
       "  </tbody>\n",
       "</table>\n",
       "<p>2 rows × 78 columns</p>\n",
       "</div>"
      ],
      "text/plain": [
       "    id        pid  ms_subclass ms_zoning  lot_frontage  lot_area street  \\\n",
       "0  109  533352170           60        RL          68.0     13517   Pave   \n",
       "1  544  531379050           60        RL          43.0     11492   Pave   \n",
       "\n",
       "  lot_shape land_contour utilities  ... mo_sold yr_sold sale_type saleprice  \\\n",
       "0       IR1          Lvl    AllPub  ...       3    2010       WD     130500   \n",
       "1       IR1          Lvl    AllPub  ...       4    2009       WD     220000   \n",
       "\n",
       "  bsmt_cond_Ex bsmt_cond_Fa bsmt_cond_Gd  bsmt_cond_No Basement  bsmt_cond_Po  \\\n",
       "0            0            0            0                      0             0   \n",
       "1            0            0            0                      0             0   \n",
       "\n",
       "   bsmt_cond_TA  \n",
       "0             1  \n",
       "1             1  \n",
       "\n",
       "[2 rows x 78 columns]"
      ]
     },
     "execution_count": 34,
     "metadata": {},
     "output_type": "execute_result"
    }
   ],
   "source": [
    "#dummifying the basement condition variable  \n",
    "train = pd.get_dummies(train, columns=['bsmt_cond'])\n",
    "train.head(2)"
   ]
  },
  {
   "cell_type": "code",
   "execution_count": 35,
   "id": "36080174",
   "metadata": {},
   "outputs": [
    {
     "data": {
      "text/html": [
       "<div>\n",
       "<style scoped>\n",
       "    .dataframe tbody tr th:only-of-type {\n",
       "        vertical-align: middle;\n",
       "    }\n",
       "\n",
       "    .dataframe tbody tr th {\n",
       "        vertical-align: top;\n",
       "    }\n",
       "\n",
       "    .dataframe thead th {\n",
       "        text-align: right;\n",
       "    }\n",
       "</style>\n",
       "<table border=\"1\" class=\"dataframe\">\n",
       "  <thead>\n",
       "    <tr style=\"text-align: right;\">\n",
       "      <th></th>\n",
       "      <th>id</th>\n",
       "      <th>pid</th>\n",
       "      <th>ms_subclass</th>\n",
       "      <th>ms_zoning</th>\n",
       "      <th>lot_frontage</th>\n",
       "      <th>lot_area</th>\n",
       "      <th>street</th>\n",
       "      <th>lot_shape</th>\n",
       "      <th>land_contour</th>\n",
       "      <th>utilities</th>\n",
       "      <th>...</th>\n",
       "      <th>enclosed_porch</th>\n",
       "      <th>screen_porch</th>\n",
       "      <th>mo_sold</th>\n",
       "      <th>yr_sold</th>\n",
       "      <th>sale_type</th>\n",
       "      <th>saleprice</th>\n",
       "      <th>bsmt_cond_Fa</th>\n",
       "      <th>bsmt_cond_Gd</th>\n",
       "      <th>bsmt_cond_No Basement</th>\n",
       "      <th>bsmt_cond_TA</th>\n",
       "    </tr>\n",
       "  </thead>\n",
       "  <tbody>\n",
       "    <tr>\n",
       "      <th>0</th>\n",
       "      <td>2658</td>\n",
       "      <td>902301120</td>\n",
       "      <td>190</td>\n",
       "      <td>RM</td>\n",
       "      <td>69.0</td>\n",
       "      <td>9142</td>\n",
       "      <td>Pave</td>\n",
       "      <td>Reg</td>\n",
       "      <td>Lvl</td>\n",
       "      <td>AllPub</td>\n",
       "      <td>...</td>\n",
       "      <td>112</td>\n",
       "      <td>0</td>\n",
       "      <td>4</td>\n",
       "      <td>2006</td>\n",
       "      <td>WD</td>\n",
       "      <td>226085.113376</td>\n",
       "      <td>0</td>\n",
       "      <td>0</td>\n",
       "      <td>0</td>\n",
       "      <td>1</td>\n",
       "    </tr>\n",
       "    <tr>\n",
       "      <th>1</th>\n",
       "      <td>2718</td>\n",
       "      <td>905108090</td>\n",
       "      <td>90</td>\n",
       "      <td>RL</td>\n",
       "      <td>68.0</td>\n",
       "      <td>9662</td>\n",
       "      <td>Pave</td>\n",
       "      <td>IR1</td>\n",
       "      <td>Lvl</td>\n",
       "      <td>AllPub</td>\n",
       "      <td>...</td>\n",
       "      <td>0</td>\n",
       "      <td>0</td>\n",
       "      <td>8</td>\n",
       "      <td>2006</td>\n",
       "      <td>WD</td>\n",
       "      <td>318223.201079</td>\n",
       "      <td>0</td>\n",
       "      <td>0</td>\n",
       "      <td>0</td>\n",
       "      <td>1</td>\n",
       "    </tr>\n",
       "  </tbody>\n",
       "</table>\n",
       "<p>2 rows × 76 columns</p>\n",
       "</div>"
      ],
      "text/plain": [
       "     id        pid  ms_subclass ms_zoning  lot_frontage  lot_area street  \\\n",
       "0  2658  902301120          190        RM          69.0      9142   Pave   \n",
       "1  2718  905108090           90        RL          68.0      9662   Pave   \n",
       "\n",
       "  lot_shape land_contour utilities  ... enclosed_porch screen_porch mo_sold  \\\n",
       "0       Reg          Lvl    AllPub  ...            112            0       4   \n",
       "1       IR1          Lvl    AllPub  ...              0            0       8   \n",
       "\n",
       "  yr_sold sale_type      saleprice bsmt_cond_Fa  bsmt_cond_Gd  \\\n",
       "0    2006       WD   226085.113376            0             0   \n",
       "1    2006       WD   318223.201079            0             0   \n",
       "\n",
       "   bsmt_cond_No Basement  bsmt_cond_TA  \n",
       "0                      0             1  \n",
       "1                      0             1  \n",
       "\n",
       "[2 rows x 76 columns]"
      ]
     },
     "execution_count": 35,
     "metadata": {},
     "output_type": "execute_result"
    }
   ],
   "source": [
    "#dummifying the basement condition variable for the test kaggle data for submission . \n",
    "test_kaggle = pd.get_dummies(test_kaggle, columns=['bsmt_cond'])\n",
    "test_kaggle.head(2)"
   ]
  },
  {
   "cell_type": "code",
   "execution_count": 36,
   "id": "8528cc85",
   "metadata": {},
   "outputs": [],
   "source": [
    "#creating my x and y variables \n",
    "X_3 = train[['bsmtfin_sf_1','bsmtfin_sf_2','bsmt_unf_sf','total_bsmt_sf','bsmt_full_bath','bsmt_half_bath',\\\n",
    "             'full_bath','half_bath', 'bedroom_abvgr','totrms_abvgrd','bsmt_cond_Ex','bsmt_cond_Fa',\\\n",
    "             'bsmt_cond_Gd','bsmt_cond_Po','bsmt_cond_TA']]\n",
    "y_3 = train['saleprice']"
   ]
  },
  {
   "cell_type": "markdown",
   "id": "942ada65",
   "metadata": {},
   "source": [
    "__Model Prep: Train/Test Split__"
   ]
  },
  {
   "cell_type": "markdown",
   "id": "75e03a91",
   "metadata": {},
   "source": [
    "Performing a 80-20 train, test split on the X and y variables: "
   ]
  },
  {
   "cell_type": "code",
   "execution_count": 37,
   "id": "cc01ab54",
   "metadata": {},
   "outputs": [],
   "source": [
    "X_3_train, X_3_test, y_3_train, y_3_test = train_test_split(X_3, y_3, \n",
    "                                                    test_size = 0.2,\n",
    "                                                    random_state =42,\n",
    "                                                    shuffle = True)"
   ]
  },
  {
   "cell_type": "code",
   "execution_count": 38,
   "id": "0a3d2552",
   "metadata": {},
   "outputs": [
    {
     "name": "stdout",
     "output_type": "stream",
     "text": [
      "(1638, 15) (1638,)\n",
      "(410, 15) (410,)\n"
     ]
    }
   ],
   "source": [
    "print(X_3_train.shape, y_3_train.shape)\n",
    "print(X_3_test.shape, y_3_test.shape)"
   ]
  },
  {
   "cell_type": "markdown",
   "id": "e788bccb",
   "metadata": {},
   "source": [
    "__Model Fit__"
   ]
  },
  {
   "cell_type": "code",
   "execution_count": 39,
   "id": "a292961b",
   "metadata": {},
   "outputs": [],
   "source": [
    "# instantiate LinearRegression estimator\n",
    "lr = LinearRegression(n_jobs = -1)\n",
    "\n",
    "# fit Lienear model\n",
    "model_3 = lr.fit(X_3_train,y_3_train)"
   ]
  },
  {
   "cell_type": "code",
   "execution_count": 40,
   "id": "cd875b93",
   "metadata": {},
   "outputs": [
    {
     "name": "stdout",
     "output_type": "stream",
     "text": [
      "[146842.83400488 239206.76273767 289142.68235518 122944.87059502\n",
      " 249296.98994034 205863.5728878  141856.22800995  46190.80459515\n",
      "  65639.14633824 271318.88466552 203408.03786429 257130.43590136\n",
      " 206488.9568534  226392.32863356 212336.67542143 165425.98208356\n",
      " 269534.76296585 104926.70775928 323197.7175211  153046.84608371\n",
      " 183933.97322414 129395.75050987 210666.55537274 195430.77964806\n",
      " 223582.40567063 171149.40345839 128220.12066437 262043.18118173\n",
      " 182337.03622233 108761.3225113  182406.772858   225363.91681187\n",
      " 190070.93145587 222709.38470293 182957.90121527 198401.22974425\n",
      " 211157.08302673 142827.9727829  211166.58400702 205460.95486014\n",
      " 226731.84800995 353729.87282138 330579.01128076 151870.46385669\n",
      " 186204.98832942  99073.303531   198978.49144399 166505.33399922\n",
      " 232424.51757927 128213.36167108 289413.10048716 199255.33809526\n",
      " 134539.12649603 177715.7851578  241637.81172123  76027.68614838\n",
      " 108342.99482347 178293.65803108 103513.07654116 227023.96845144\n",
      " 254611.25477066 160922.53717761 263225.8780051  212809.89495425\n",
      " 136155.18600795 310593.30814994 120201.98801865 132988.46271418\n",
      " 149803.9035456  185976.24257111 222669.72336152 201006.39482246\n",
      " 127030.49930442 142784.22953243 214393.7967597  146045.27023455\n",
      " 203801.60040709 130549.0923001  120201.98801865  96151.68789135\n",
      " 148194.99759753  69292.50315769 196813.6398679  257148.74859152\n",
      " 286876.97351299 162193.74517181 236008.39507031 200237.59831598\n",
      " 163779.94664351 205345.96442317 198196.64208826 318829.37493237\n",
      " 230707.02012542 256149.53931147 317123.51573195 174261.22073092\n",
      " 165838.02045828 104407.00309501  80411.73928827 205271.43941284\n",
      " 146273.31529393 120288.69232869 155946.65427076 155117.23680102\n",
      " 120252.07235305 125981.77905702 138810.25907575 162249.29382155\n",
      " 205706.88404711 251920.39415738 120890.93910907 133564.28001114\n",
      " 211442.74497359 201931.16005646 136527.81369261 187143.29710225\n",
      " 115394.06964436 235437.50201374 154628.84553416 194425.38300791\n",
      " 211136.17570261 126164.89351785 107964.33921695 150450.56811421\n",
      "  66832.51660556 113746.17604824 203110.97129066 112422.09377433\n",
      " 206356.75616939 204634.96775866 206513.38149937 136181.72345954\n",
      " 195725.54329158 137178.5305881  251378.92428915 208021.65087584\n",
      " 199532.18474653 190718.87068008 275600.35503491 139155.56338948\n",
      " 156241.76620455 246584.02673931 193101.37583375 228795.80743686\n",
      " 183598.77649726 155537.41632305 150080.89986635 171754.87506818\n",
      " 164972.80410975 169612.06542502 120507.89548438 179495.78522459\n",
      " 216617.44060399 155437.46998005 155214.50730143 202869.2058716\n",
      " 160145.8053315  171492.75421823 123998.29424716 159491.49708562\n",
      " 244803.26387985 251031.68059647 197773.48539328 198078.73982737\n",
      " 198286.37481582 140423.70545897 247663.9274087  251993.42061904\n",
      " 172594.12210933 204452.76203705 189634.91696367 205544.89232428\n",
      " 175570.22361047  98997.3559727  190831.4436595  204699.62656915\n",
      " 119838.67761087 206218.98585576 162024.99923032 138889.86297905\n",
      " 158622.19162871 131999.52148898 106888.20271536 138859.93781044\n",
      " 219811.06644342 174517.05779248 129674.08213979 112693.79997703\n",
      " 225838.77083956 265656.20681284 233313.61325071  96299.7542852\n",
      " 154209.18487027 147162.93378762 153769.68102257 195987.528633\n",
      " 149303.78804968  80010.5091451  150166.37279421 113190.36399731\n",
      " 222017.26807476 246363.58172342 183575.20810006 198691.31204676\n",
      "  70320.8763507  231254.69471398 104142.40159773 186776.40574639\n",
      " 269539.05252088 194410.65720659 255597.12735931  49844.16141461\n",
      " 203961.73116682 144826.04296446 108012.50976418 255908.30060208\n",
      " 120201.98801865 192514.95496681 182247.5500929  251773.68771442\n",
      " 137584.1443531  153687.58331233 323283.89131675 138237.14525581\n",
      " 237728.00892327 141346.37518169 229880.21276318 163635.29934649\n",
      " 204141.67555396 247866.66011733 220746.8304108  195987.528633\n",
      " 164488.78711736 150791.52744472 102665.98889813 164863.71814961\n",
      " 149848.55073489 226061.26713786 162019.07900316 207004.37957642\n",
      " 156524.29236555  97207.95669462 228231.47819382 113404.88717186\n",
      " 100818.45641128 151901.19510197 143080.51725024 135234.08960803\n",
      " 100719.65763729 198668.31790302  97511.15790591 271161.78913119\n",
      " 141876.05011604 235972.46344999 206037.24773069 202854.34456175\n",
      " 247934.04972066 317736.91108639  46190.80459515 129441.64659858\n",
      " 180465.33413631 134045.83421191 319903.53870983 139077.50913078\n",
      " 248762.40939741 141158.95534065 220233.28916386 205709.11055503\n",
      " 297015.55982167 204238.57781809 160251.9044994  107709.90007329\n",
      " 273756.6743977  219664.07153898 123065.49309477 105843.29501251\n",
      " 250960.58079966 223716.17582966 131470.04199436 229937.36677432\n",
      " 217340.23271986 233930.26780694 153834.21808957 226539.45904654\n",
      " 144842.50424394 270745.20560885 217374.93937795 156352.8708891\n",
      " 126189.15108778 218822.59960763 193961.781782   153667.42300064\n",
      " 248533.41790814  98752.82993482 137791.53784865 212465.14432107\n",
      " 165144.54215582 297936.50369146  95584.80827733 203929.64659589\n",
      " 115095.54193127 181632.086542   153844.64868    114685.5522165\n",
      "  81434.13126187 204802.64614073 188827.01436666 216254.53863107\n",
      " 174261.22073092 199347.10478027 251359.53318269 270434.41708576\n",
      " 102256.56320399 149024.04794168 230636.15522081  92206.48760224\n",
      " 134385.20021281 138797.61898084 221622.93940419 194202.8867096\n",
      " 161026.4488397  116568.99291388 195257.74019843 218525.7674696\n",
      " 222696.45183561 264536.5352783  220656.46770708 153777.13325491\n",
      " 229973.53506847 355172.46286175 183005.40367978 243014.41948003\n",
      " 136407.88835351 124086.02671452 244377.42965402 196697.02254263\n",
      " 224623.67661853 225067.76954306 243973.92498133 127285.5323266\n",
      " 141529.91083768 134836.95768788 346363.8090657  120937.49243401\n",
      "  81355.1178498  201533.02114566 295937.01306038 101969.3859802\n",
      " 179605.24456916 217675.64338507 216480.33504939 118184.58216979\n",
      " 161432.29986796 238168.42882038 255556.18414631 226173.78582609\n",
      " 233363.85392147 116915.87270409  72075.96515226 211442.74497359\n",
      " 146388.20957063 178329.98303581 150282.78285921 119049.7172853\n",
      " 213043.18479719 239221.35297374 192302.95940294 118501.27816449\n",
      " 214440.18955974 212148.23654667 197120.79506653 205415.17608598\n",
      " 151439.10532399 252620.93337238 421331.36578407 206489.09236193\n",
      "  95612.72039014 169414.33092341 192264.96015072 125981.77905702\n",
      " 197940.31650173 194341.31003524 178581.79542823 141064.73891535\n",
      " 225540.8910036  147721.11345933 218713.14092604  44749.90369217\n",
      " 300381.62717181  88469.19331865 206048.08790487 109039.78297667\n",
      " 204160.65906793 239938.63554003 150069.25326298 105344.88752281\n",
      " 218654.24817323 248514.89096767 174676.49070782 191483.59271091\n",
      " 124548.77110576  97100.28945611 196023.13445815 252652.04422232\n",
      " 139503.29670193 120955.46615883 227060.64120713 126103.34275751\n",
      " 121229.74271983 134017.99177217]\n"
     ]
    }
   ],
   "source": [
    "#Generate predictions\n",
    "predictions_3 = lr.predict(X_3_test)\n",
    "print(predictions_3)"
   ]
  },
  {
   "cell_type": "code",
   "execution_count": 41,
   "id": "61e6baf4",
   "metadata": {},
   "outputs": [
    {
     "data": {
      "text/plain": [
       "Text(0, 0.5, 'Actual Price')"
      ]
     },
     "execution_count": 41,
     "metadata": {},
     "output_type": "execute_result"
    },
    {
     "data": {
      "image/png": "[encoded data removed]",
      "text/plain": [
       "<Figure size 432x288 with 1 Axes>"
      ]
     },
     "metadata": {
      "needs_background": "light"
     },
     "output_type": "display_data"
    }
   ],
   "source": [
    "#visualization of model 3 sales price predictions vs actual sale price \n",
    "plt.scatter(predictions_3, y_3_test, color ='purple')\n",
    "plt.title('Model 3: Predicted Price vs Actual Price')\n",
    "plt.xlabel('Predicted Price')\n",
    "plt.ylabel('Actual Price')"
   ]
  },
  {
   "cell_type": "markdown",
   "id": "5fc87269",
   "metadata": {},
   "source": [
    "With the addition of the basement condition dummy variables, it's hard to tell if this improved from our model 2 results just by simply looking at the scatter plot. Although when we look at the bottom left part of the graph, it looks a little tighter. Let's see what our metrics say in order to make a better comparison. "
   ]
  },
  {
   "cell_type": "markdown",
   "id": "d5cf5473",
   "metadata": {},
   "source": [
    "__Model Evaluation Metrics__"
   ]
  },
  {
   "cell_type": "code",
   "execution_count": 42,
   "id": "bba6bf9a",
   "metadata": {},
   "outputs": [
    {
     "name": "stdout",
     "output_type": "stream",
     "text": [
      "R^2 on training set: 0.6523529426965116\n",
      "R^2 on testing set: 0.6515874024494651\n",
      "Cross Validation Score: 0.6407953464412335\n"
     ]
    }
   ],
   "source": [
    "#R2 Score and Cross validation \n",
    "print(f'R^2 on training set: {lr.score(X_3_train,y_3_train)}')\n",
    "print(f'R^2 on testing set: {lr.score(X_3_test,y_3_test)}')\n",
    "print(f'Cross Validation Score: {cross_val_score(lr,X_3,y_3).mean()}')"
   ]
  },
  {
   "cell_type": "markdown",
   "id": "781fb731",
   "metadata": {},
   "source": [
    "* Although an improvement, the R2 scores for both train and test increased by an insignificant amount (less than 0.10). \n",
    "* The R2 test score is slightly lower than the R2 train score, meaning this model performs slightly worse when introduced to new data, so is overfit.\n",
    "* My cross validation score, is a conservative average of all scores, and also does not show much improvement from model 2's validation score. "
   ]
  },
  {
   "cell_type": "code",
   "execution_count": 43,
   "id": "64ac08b0",
   "metadata": {},
   "outputs": [
    {
     "name": "stdout",
     "output_type": "stream",
     "text": [
      "MAE on training set:31384.251337327594\n",
      "MAE on testing set: 30918.6620794746\n"
     ]
    }
   ],
   "source": [
    "#MAE \n",
    "print(f'MAE on training set:{mean_absolute_error(y_3_train, lr.predict(X_3_train))}')\n",
    "print(f'MAE on testing set: {mean_absolute_error(y_3_test, predictions_3)}')"
   ]
  },
  {
   "cell_type": "markdown",
   "id": "8f7b19be",
   "metadata": {},
   "source": [
    "* Based on my MAE, the differences between my y_actual and y_predict seems to slightly improve in the testing data. "
   ]
  },
  {
   "cell_type": "code",
   "execution_count": 44,
   "id": "9cfecdc3",
   "metadata": {},
   "outputs": [
    {
     "name": "stdout",
     "output_type": "stream",
     "text": [
      "MSE on training set: 2229321065.810919\n",
      "MSE on testing set:  1998274456.5464058\n"
     ]
    }
   ],
   "source": [
    "#MSE\n",
    "print(f'MSE on training set: {mean_squared_error(y_3_train, lr.predict(X_3_train))}')\n",
    "print(f'MSE on testing set:  {mean_squared_error(y_3_test, predictions_3)}')"
   ]
  },
  {
   "cell_type": "markdown",
   "id": "582b0189",
   "metadata": {},
   "source": [
    "* Based on the MSE, model 3 is performing better on the testing set than on the training set."
   ]
  },
  {
   "cell_type": "markdown",
   "id": "e57346ef",
   "metadata": {},
   "source": [
    "## Model 4 - Baseline Model w/ Polynomial Features"
   ]
  },
  {
   "cell_type": "markdown",
   "id": "0b2c7fce",
   "metadata": {},
   "source": [
    "In order to introduce more complexity to our models in order to achieve a better fit model so that we can ultimately make better predictions of the sales price, we've introduced polynomial features based on our bed, baths, and basement features. Let's see what results say. "
   ]
  },
  {
   "cell_type": "code",
   "execution_count": 45,
   "id": "6d669cb9",
   "metadata": {},
   "outputs": [],
   "source": [
    "features = ['bsmtfin_sf_1','bsmtfin_sf_2','bsmt_unf_sf','total_bsmt_sf','bsmt_full_bath','bsmt_half_bath',\\\n",
    "             'full_bath','half_bath', 'bedroom_abvgr','totrms_abvgrd']\n",
    "X_4 = train[features]\n",
    "target = ['saleprice']\n",
    "y_4 = train[target]"
   ]
  },
  {
   "cell_type": "code",
   "execution_count": 46,
   "id": "4bc6002a",
   "metadata": {},
   "outputs": [],
   "source": [
    "poly = PolynomialFeatures(include_bias=False)"
   ]
  },
  {
   "cell_type": "code",
   "execution_count": 47,
   "id": "d576948c",
   "metadata": {},
   "outputs": [],
   "source": [
    "X_poly = poly.fit_transform(X_4)"
   ]
  },
  {
   "cell_type": "code",
   "execution_count": 48,
   "id": "5292dbd1",
   "metadata": {},
   "outputs": [
    {
     "data": {
      "text/html": [
       "<div>\n",
       "<style scoped>\n",
       "    .dataframe tbody tr th:only-of-type {\n",
       "        vertical-align: middle;\n",
       "    }\n",
       "\n",
       "    .dataframe tbody tr th {\n",
       "        vertical-align: top;\n",
       "    }\n",
       "\n",
       "    .dataframe thead th {\n",
       "        text-align: right;\n",
       "    }\n",
       "</style>\n",
       "<table border=\"1\" class=\"dataframe\">\n",
       "  <thead>\n",
       "    <tr style=\"text-align: right;\">\n",
       "      <th></th>\n",
       "      <th>bsmtfin_sf_1</th>\n",
       "      <th>bsmtfin_sf_2</th>\n",
       "      <th>bsmt_unf_sf</th>\n",
       "      <th>total_bsmt_sf</th>\n",
       "      <th>bsmt_full_bath</th>\n",
       "      <th>bsmt_half_bath</th>\n",
       "      <th>full_bath</th>\n",
       "      <th>half_bath</th>\n",
       "      <th>bedroom_abvgr</th>\n",
       "      <th>totrms_abvgrd</th>\n",
       "      <th>...</th>\n",
       "      <th>full_bath^2</th>\n",
       "      <th>full_bath half_bath</th>\n",
       "      <th>full_bath bedroom_abvgr</th>\n",
       "      <th>full_bath totrms_abvgrd</th>\n",
       "      <th>half_bath^2</th>\n",
       "      <th>half_bath bedroom_abvgr</th>\n",
       "      <th>half_bath totrms_abvgrd</th>\n",
       "      <th>bedroom_abvgr^2</th>\n",
       "      <th>bedroom_abvgr totrms_abvgrd</th>\n",
       "      <th>totrms_abvgrd^2</th>\n",
       "    </tr>\n",
       "  </thead>\n",
       "  <tbody>\n",
       "    <tr>\n",
       "      <th>0</th>\n",
       "      <td>533.0</td>\n",
       "      <td>0.0</td>\n",
       "      <td>192.0</td>\n",
       "      <td>725.0</td>\n",
       "      <td>0.0</td>\n",
       "      <td>0.0</td>\n",
       "      <td>2.0</td>\n",
       "      <td>1.0</td>\n",
       "      <td>3.0</td>\n",
       "      <td>6.0</td>\n",
       "      <td>...</td>\n",
       "      <td>4.0</td>\n",
       "      <td>2.0</td>\n",
       "      <td>6.0</td>\n",
       "      <td>12.0</td>\n",
       "      <td>1.0</td>\n",
       "      <td>3.0</td>\n",
       "      <td>6.0</td>\n",
       "      <td>9.0</td>\n",
       "      <td>18.0</td>\n",
       "      <td>36.0</td>\n",
       "    </tr>\n",
       "    <tr>\n",
       "      <th>1</th>\n",
       "      <td>637.0</td>\n",
       "      <td>0.0</td>\n",
       "      <td>276.0</td>\n",
       "      <td>913.0</td>\n",
       "      <td>1.0</td>\n",
       "      <td>0.0</td>\n",
       "      <td>2.0</td>\n",
       "      <td>1.0</td>\n",
       "      <td>4.0</td>\n",
       "      <td>8.0</td>\n",
       "      <td>...</td>\n",
       "      <td>4.0</td>\n",
       "      <td>2.0</td>\n",
       "      <td>8.0</td>\n",
       "      <td>16.0</td>\n",
       "      <td>1.0</td>\n",
       "      <td>4.0</td>\n",
       "      <td>8.0</td>\n",
       "      <td>16.0</td>\n",
       "      <td>32.0</td>\n",
       "      <td>64.0</td>\n",
       "    </tr>\n",
       "    <tr>\n",
       "      <th>2</th>\n",
       "      <td>731.0</td>\n",
       "      <td>0.0</td>\n",
       "      <td>326.0</td>\n",
       "      <td>1057.0</td>\n",
       "      <td>1.0</td>\n",
       "      <td>0.0</td>\n",
       "      <td>1.0</td>\n",
       "      <td>0.0</td>\n",
       "      <td>3.0</td>\n",
       "      <td>5.0</td>\n",
       "      <td>...</td>\n",
       "      <td>1.0</td>\n",
       "      <td>0.0</td>\n",
       "      <td>3.0</td>\n",
       "      <td>5.0</td>\n",
       "      <td>0.0</td>\n",
       "      <td>0.0</td>\n",
       "      <td>0.0</td>\n",
       "      <td>9.0</td>\n",
       "      <td>15.0</td>\n",
       "      <td>25.0</td>\n",
       "    </tr>\n",
       "    <tr>\n",
       "      <th>3</th>\n",
       "      <td>0.0</td>\n",
       "      <td>0.0</td>\n",
       "      <td>384.0</td>\n",
       "      <td>384.0</td>\n",
       "      <td>0.0</td>\n",
       "      <td>0.0</td>\n",
       "      <td>2.0</td>\n",
       "      <td>1.0</td>\n",
       "      <td>3.0</td>\n",
       "      <td>7.0</td>\n",
       "      <td>...</td>\n",
       "      <td>4.0</td>\n",
       "      <td>2.0</td>\n",
       "      <td>6.0</td>\n",
       "      <td>14.0</td>\n",
       "      <td>1.0</td>\n",
       "      <td>3.0</td>\n",
       "      <td>7.0</td>\n",
       "      <td>9.0</td>\n",
       "      <td>21.0</td>\n",
       "      <td>49.0</td>\n",
       "    </tr>\n",
       "    <tr>\n",
       "      <th>4</th>\n",
       "      <td>0.0</td>\n",
       "      <td>0.0</td>\n",
       "      <td>676.0</td>\n",
       "      <td>676.0</td>\n",
       "      <td>0.0</td>\n",
       "      <td>0.0</td>\n",
       "      <td>2.0</td>\n",
       "      <td>0.0</td>\n",
       "      <td>3.0</td>\n",
       "      <td>6.0</td>\n",
       "      <td>...</td>\n",
       "      <td>4.0</td>\n",
       "      <td>0.0</td>\n",
       "      <td>6.0</td>\n",
       "      <td>12.0</td>\n",
       "      <td>0.0</td>\n",
       "      <td>0.0</td>\n",
       "      <td>0.0</td>\n",
       "      <td>9.0</td>\n",
       "      <td>18.0</td>\n",
       "      <td>36.0</td>\n",
       "    </tr>\n",
       "    <tr>\n",
       "      <th>...</th>\n",
       "      <td>...</td>\n",
       "      <td>...</td>\n",
       "      <td>...</td>\n",
       "      <td>...</td>\n",
       "      <td>...</td>\n",
       "      <td>...</td>\n",
       "      <td>...</td>\n",
       "      <td>...</td>\n",
       "      <td>...</td>\n",
       "      <td>...</td>\n",
       "      <td>...</td>\n",
       "      <td>...</td>\n",
       "      <td>...</td>\n",
       "      <td>...</td>\n",
       "      <td>...</td>\n",
       "      <td>...</td>\n",
       "      <td>...</td>\n",
       "      <td>...</td>\n",
       "      <td>...</td>\n",
       "      <td>...</td>\n",
       "      <td>...</td>\n",
       "    </tr>\n",
       "    <tr>\n",
       "      <th>2043</th>\n",
       "      <td>1011.0</td>\n",
       "      <td>0.0</td>\n",
       "      <td>873.0</td>\n",
       "      <td>1884.0</td>\n",
       "      <td>1.0</td>\n",
       "      <td>0.0</td>\n",
       "      <td>2.0</td>\n",
       "      <td>0.0</td>\n",
       "      <td>3.0</td>\n",
       "      <td>7.0</td>\n",
       "      <td>...</td>\n",
       "      <td>4.0</td>\n",
       "      <td>0.0</td>\n",
       "      <td>6.0</td>\n",
       "      <td>14.0</td>\n",
       "      <td>0.0</td>\n",
       "      <td>0.0</td>\n",
       "      <td>0.0</td>\n",
       "      <td>9.0</td>\n",
       "      <td>21.0</td>\n",
       "      <td>49.0</td>\n",
       "    </tr>\n",
       "    <tr>\n",
       "      <th>2044</th>\n",
       "      <td>262.0</td>\n",
       "      <td>0.0</td>\n",
       "      <td>599.0</td>\n",
       "      <td>861.0</td>\n",
       "      <td>0.0</td>\n",
       "      <td>0.0</td>\n",
       "      <td>1.0</td>\n",
       "      <td>0.0</td>\n",
       "      <td>1.0</td>\n",
       "      <td>4.0</td>\n",
       "      <td>...</td>\n",
       "      <td>1.0</td>\n",
       "      <td>0.0</td>\n",
       "      <td>1.0</td>\n",
       "      <td>4.0</td>\n",
       "      <td>0.0</td>\n",
       "      <td>0.0</td>\n",
       "      <td>0.0</td>\n",
       "      <td>1.0</td>\n",
       "      <td>4.0</td>\n",
       "      <td>16.0</td>\n",
       "    </tr>\n",
       "    <tr>\n",
       "      <th>2045</th>\n",
       "      <td>0.0</td>\n",
       "      <td>0.0</td>\n",
       "      <td>896.0</td>\n",
       "      <td>896.0</td>\n",
       "      <td>0.0</td>\n",
       "      <td>0.0</td>\n",
       "      <td>1.0</td>\n",
       "      <td>1.0</td>\n",
       "      <td>3.0</td>\n",
       "      <td>9.0</td>\n",
       "      <td>...</td>\n",
       "      <td>1.0</td>\n",
       "      <td>1.0</td>\n",
       "      <td>3.0</td>\n",
       "      <td>9.0</td>\n",
       "      <td>1.0</td>\n",
       "      <td>3.0</td>\n",
       "      <td>9.0</td>\n",
       "      <td>9.0</td>\n",
       "      <td>27.0</td>\n",
       "      <td>81.0</td>\n",
       "    </tr>\n",
       "    <tr>\n",
       "      <th>2046</th>\n",
       "      <td>155.0</td>\n",
       "      <td>750.0</td>\n",
       "      <td>295.0</td>\n",
       "      <td>1200.0</td>\n",
       "      <td>1.0</td>\n",
       "      <td>0.0</td>\n",
       "      <td>1.0</td>\n",
       "      <td>0.0</td>\n",
       "      <td>3.0</td>\n",
       "      <td>6.0</td>\n",
       "      <td>...</td>\n",
       "      <td>1.0</td>\n",
       "      <td>0.0</td>\n",
       "      <td>3.0</td>\n",
       "      <td>6.0</td>\n",
       "      <td>0.0</td>\n",
       "      <td>0.0</td>\n",
       "      <td>0.0</td>\n",
       "      <td>9.0</td>\n",
       "      <td>18.0</td>\n",
       "      <td>36.0</td>\n",
       "    </tr>\n",
       "    <tr>\n",
       "      <th>2047</th>\n",
       "      <td>0.0</td>\n",
       "      <td>0.0</td>\n",
       "      <td>994.0</td>\n",
       "      <td>994.0</td>\n",
       "      <td>0.0</td>\n",
       "      <td>0.0</td>\n",
       "      <td>2.0</td>\n",
       "      <td>1.0</td>\n",
       "      <td>3.0</td>\n",
       "      <td>7.0</td>\n",
       "      <td>...</td>\n",
       "      <td>4.0</td>\n",
       "      <td>2.0</td>\n",
       "      <td>6.0</td>\n",
       "      <td>14.0</td>\n",
       "      <td>1.0</td>\n",
       "      <td>3.0</td>\n",
       "      <td>7.0</td>\n",
       "      <td>9.0</td>\n",
       "      <td>21.0</td>\n",
       "      <td>49.0</td>\n",
       "    </tr>\n",
       "  </tbody>\n",
       "</table>\n",
       "<p>2048 rows × 65 columns</p>\n",
       "</div>"
      ],
      "text/plain": [
       "      bsmtfin_sf_1  bsmtfin_sf_2  bsmt_unf_sf  total_bsmt_sf  bsmt_full_bath  \\\n",
       "0            533.0           0.0        192.0          725.0             0.0   \n",
       "1            637.0           0.0        276.0          913.0             1.0   \n",
       "2            731.0           0.0        326.0         1057.0             1.0   \n",
       "3              0.0           0.0        384.0          384.0             0.0   \n",
       "4              0.0           0.0        676.0          676.0             0.0   \n",
       "...            ...           ...          ...            ...             ...   \n",
       "2043        1011.0           0.0        873.0         1884.0             1.0   \n",
       "2044         262.0           0.0        599.0          861.0             0.0   \n",
       "2045           0.0           0.0        896.0          896.0             0.0   \n",
       "2046         155.0         750.0        295.0         1200.0             1.0   \n",
       "2047           0.0           0.0        994.0          994.0             0.0   \n",
       "\n",
       "      bsmt_half_bath  full_bath  half_bath  bedroom_abvgr  totrms_abvgrd  ...  \\\n",
       "0                0.0        2.0        1.0            3.0            6.0  ...   \n",
       "1                0.0        2.0        1.0            4.0            8.0  ...   \n",
       "2                0.0        1.0        0.0            3.0            5.0  ...   \n",
       "3                0.0        2.0        1.0            3.0            7.0  ...   \n",
       "4                0.0        2.0        0.0            3.0            6.0  ...   \n",
       "...              ...        ...        ...            ...            ...  ...   \n",
       "2043             0.0        2.0        0.0            3.0            7.0  ...   \n",
       "2044             0.0        1.0        0.0            1.0            4.0  ...   \n",
       "2045             0.0        1.0        1.0            3.0            9.0  ...   \n",
       "2046             0.0        1.0        0.0            3.0            6.0  ...   \n",
       "2047             0.0        2.0        1.0            3.0            7.0  ...   \n",
       "\n",
       "      full_bath^2  full_bath half_bath  full_bath bedroom_abvgr  \\\n",
       "0             4.0                  2.0                      6.0   \n",
       "1             4.0                  2.0                      8.0   \n",
       "2             1.0                  0.0                      3.0   \n",
       "3             4.0                  2.0                      6.0   \n",
       "4             4.0                  0.0                      6.0   \n",
       "...           ...                  ...                      ...   \n",
       "2043          4.0                  0.0                      6.0   \n",
       "2044          1.0                  0.0                      1.0   \n",
       "2045          1.0                  1.0                      3.0   \n",
       "2046          1.0                  0.0                      3.0   \n",
       "2047          4.0                  2.0                      6.0   \n",
       "\n",
       "      full_bath totrms_abvgrd  half_bath^2  half_bath bedroom_abvgr  \\\n",
       "0                        12.0          1.0                      3.0   \n",
       "1                        16.0          1.0                      4.0   \n",
       "2                         5.0          0.0                      0.0   \n",
       "3                        14.0          1.0                      3.0   \n",
       "4                        12.0          0.0                      0.0   \n",
       "...                       ...          ...                      ...   \n",
       "2043                     14.0          0.0                      0.0   \n",
       "2044                      4.0          0.0                      0.0   \n",
       "2045                      9.0          1.0                      3.0   \n",
       "2046                      6.0          0.0                      0.0   \n",
       "2047                     14.0          1.0                      3.0   \n",
       "\n",
       "      half_bath totrms_abvgrd  bedroom_abvgr^2  bedroom_abvgr totrms_abvgrd  \\\n",
       "0                         6.0              9.0                         18.0   \n",
       "1                         8.0             16.0                         32.0   \n",
       "2                         0.0              9.0                         15.0   \n",
       "3                         7.0              9.0                         21.0   \n",
       "4                         0.0              9.0                         18.0   \n",
       "...                       ...              ...                          ...   \n",
       "2043                      0.0              9.0                         21.0   \n",
       "2044                      0.0              1.0                          4.0   \n",
       "2045                      9.0              9.0                         27.0   \n",
       "2046                      0.0              9.0                         18.0   \n",
       "2047                      7.0              9.0                         21.0   \n",
       "\n",
       "      totrms_abvgrd^2  \n",
       "0                36.0  \n",
       "1                64.0  \n",
       "2                25.0  \n",
       "3                49.0  \n",
       "4                36.0  \n",
       "...               ...  \n",
       "2043             49.0  \n",
       "2044             16.0  \n",
       "2045             81.0  \n",
       "2046             36.0  \n",
       "2047             49.0  \n",
       "\n",
       "[2048 rows x 65 columns]"
      ]
     },
     "execution_count": 48,
     "metadata": {},
     "output_type": "execute_result"
    }
   ],
   "source": [
    "pd.DataFrame(X_poly, columns=poly.get_feature_names(features))"
   ]
  },
  {
   "cell_type": "markdown",
   "id": "451ae4dd",
   "metadata": {},
   "source": [
    "__Model Evaluation__"
   ]
  },
  {
   "cell_type": "code",
   "execution_count": 49,
   "id": "28927447",
   "metadata": {},
   "outputs": [
    {
     "name": "stdout",
     "output_type": "stream",
     "text": [
      "Cross Validation Score: 0.676987219088114\n"
     ]
    }
   ],
   "source": [
    "#Using cross_val_score to see how much PolynomialFeatures have affected the R^2 score from the baseline (model 2).\n",
    "print(f'Cross Validation Score: {cross_val_score(lr,X_poly,y_4, cv=5).mean()}')"
   ]
  },
  {
   "cell_type": "markdown",
   "id": "d8a5c716",
   "metadata": {},
   "source": [
    "* Although an improvement from all our previous models, the cross validation score has only increased slightly (0.63707 vs. 0.67699) when we've added these polynomial features to our baseline model (model 2). "
   ]
  },
  {
   "cell_type": "markdown",
   "id": "7098674e",
   "metadata": {},
   "source": [
    "## Model 5 - Bed, Bath, and Basements plus Overall Quality"
   ]
  },
  {
   "cell_type": "markdown",
   "id": "9a24d954",
   "metadata": {},
   "source": [
    "Let's get back to quality and see what happens when we introduce the overall quality variable (the strongest correlated variable to sales price) to our features of focus including the previously introduced dummy variables in model 3. "
   ]
  },
  {
   "cell_type": "code",
   "execution_count": 50,
   "id": "659a2411",
   "metadata": {},
   "outputs": [],
   "source": [
    "#creating my x and y variables \n",
    "#added overall_qual form model 3\n",
    "X_5 = train[['bsmtfin_sf_1','bsmtfin_sf_2','bsmt_unf_sf','total_bsmt_sf','bsmt_full_bath','bsmt_half_bath',\\\n",
    "             'full_bath','half_bath', 'bedroom_abvgr','totrms_abvgrd','bsmt_cond_Ex','bsmt_cond_Fa',\\\n",
    "             'bsmt_cond_Gd','bsmt_cond_Po','bsmt_cond_TA','overall_qual' ]]\n",
    "y_5 = train['saleprice']"
   ]
  },
  {
   "cell_type": "markdown",
   "id": "e17a82fb",
   "metadata": {},
   "source": [
    "__Model Prep: Train/Test Split__"
   ]
  },
  {
   "cell_type": "markdown",
   "id": "2a4397dd",
   "metadata": {},
   "source": [
    "Performing a 80-20 train, test split on the X and y variables: "
   ]
  },
  {
   "cell_type": "code",
   "execution_count": 51,
   "id": "23d37cc6",
   "metadata": {},
   "outputs": [],
   "source": [
    "X_5_train, X_5_test, y_5_train, y_5_test = train_test_split(X_5, y_5, \n",
    "                                                    test_size = 0.2,\n",
    "                                                    random_state =42,\n",
    "                                                    shuffle = True)"
   ]
  },
  {
   "cell_type": "code",
   "execution_count": 52,
   "id": "dedb303e",
   "metadata": {},
   "outputs": [
    {
     "name": "stdout",
     "output_type": "stream",
     "text": [
      "(1638, 16) (1638,)\n",
      "(410, 16) (410,)\n"
     ]
    }
   ],
   "source": [
    "print(X_5_train.shape, y_5_train.shape)\n",
    "print(X_5_test.shape, y_5_test.shape)"
   ]
  },
  {
   "cell_type": "markdown",
   "id": "04d506f1",
   "metadata": {},
   "source": [
    "__Model Fit__"
   ]
  },
  {
   "cell_type": "code",
   "execution_count": 53,
   "id": "a292961b",
   "metadata": {},
   "outputs": [],
   "source": [
    "# instantiate LinearRegression estimator\n",
    "lr = LinearRegression(n_jobs = -1)\n",
    "\n",
    "# fit Lienear model\n",
    "model_5 = lr.fit(X_5_train,y_5_train)"
   ]
  },
  {
   "cell_type": "code",
   "execution_count": 54,
   "id": "cd875b93",
   "metadata": {},
   "outputs": [
    {
     "name": "stdout",
     "output_type": "stream",
     "text": [
      "[167928.88227235 236754.8125702  323958.09797059 115580.70227967\n",
      " 245036.40461122 222311.63807069 162744.88227235  75490.15192567\n",
      " 109726.96912538 302305.28183519 181939.34168397 242155.86727296\n",
      " 224384.3438202  199065.87561952 225312.87397157 162219.45807801\n",
      " 307939.50324403 127604.75293885 357143.0255829  172521.77082215\n",
      " 204922.69617616 153743.88652192 243702.77295839 205989.13025819\n",
      " 201973.84949647 188460.27863465 145340.63654481 251996.31769715\n",
      " 199077.13025819  76651.05957948 201423.13021241 200565.84949647\n",
      " 182086.67164003 222481.9262787  175753.05347596 203773.10077821\n",
      " 225767.63807069 136468.03559266 245175.65924989 211109.13025819\n",
      " 248847.63913499 335545.28077089 239644.76667176 142228.03559266\n",
      " 224885.15143739 105041.52778016 207192.18836366 163334.54566346\n",
      " 236756.4340912  122236.70227967 289347.42310487 207384.18836366\n",
      " 183540.81318055 166086.54566346 210799.58741151  87951.90625917\n",
      " 110676.39391099 152940.00611268  81855.88507997 254219.98273622\n",
      " 278713.28077089 173566.25806581 169340.2233368  225945.80988465\n",
      " 130988.61536561 301251.58353196 107824.82758485 124881.52778016\n",
      " 136237.50165712 233887.54285585 226234.34003602 188565.99537049\n",
      " 141959.81104432 122242.96436464 248617.83106385 140564.03559266\n",
      " 238367.18671571 123519.21009217  80203.98090516  73599.88507997\n",
      " 126681.86137544  22875.60358583 191943.02796327 276799.54285585\n",
      " 327818.92347108 162520.25409852 237692.81252443 224085.25309907\n",
      " 135753.11921083 210584.18836366 210663.63807069 372066.82825624\n",
      " 259710.65656434 255572.4340912  315457.16437684 196881.9262787\n",
      " 200825.95575868 180082.5716034   59413.0595337  207485.10077821\n",
      " 131306.99384462 142753.54895936 135109.43685304 171469.17043458\n",
      " 116177.52778016 140961.54895936 151912.31305848 137778.26819764\n",
      " 189064.16718446 275710.65656434 124071.23957215 154065.4620453\n",
      " 167261.05841981 236809.97693788  73425.78953706 173363.34168397\n",
      "  61683.05491792 234943.60859071 158803.48755799 210733.01386415\n",
      " 210429.10077821 154870.08620607  75224.74189149 141374.32380067\n",
      "  56913.51353608  85164.68110048 188489.05347596 140900.05677186\n",
      " 188019.34168397 142782.59980165 190965.84949647 127020.00611268\n",
      " 205464.18836366 172610.56830751 277036.33887635 208765.10077821\n",
      " 207512.18836366 203301.13025819 345486.73798524 151100.63654481\n",
      " 155481.74964296 221175.47101747 159005.94471131 205485.07959901\n",
      " 196843.39234315 143508.03559266 131178.38459169 193317.13025819\n",
      " 182711.99598085 148890.29767762 119830.67035829 170438.54566346\n",
      " 224026.69617616 167908.05677186 171877.67829286 242769.86054383\n",
      " 166844.63654481 223030.77295839  92210.94318544 163010.791391\n",
      " 275857.86054383 239742.72229921 189101.07959901 206744.18836366\n",
      " 234493.03504335 120852.30307542 242266.69617616 240382.72229921\n",
      " 191019.39234315 191640.01053392 229885.03504335 213393.9262787\n",
      " 164998.54566346 127860.75293885 183682.791391   238217.97693788\n",
      " 121425.52778016 160266.23871766 143769.41138612 131412.03559266\n",
      " 140671.21009217 151415.26075135  76550.14716493 150058.31885682\n",
      " 214576.15888368 178645.10907899 144305.81099855 114916.73175965\n",
      " 147192.21174012 308105.30195008 314401.20673524 137077.67829286\n",
      " 147006.03554689 160036.05677186 111519.73920594 199747.36286317\n",
      " 141204.03559266  59179.05957948 169720.88227235 116004.73175965\n",
      " 249846.77295839 270315.45258485 221301.15143739 191999.10903321\n",
      "  54059.05957948 199822.42926942  78592.77137147 173382.54566346\n",
      " 238071.47101747 125585.67780458 226294.86176454  99122.17310487\n",
      " 182259.34168397 139028.03559266  83098.36341249 281894.07679139\n",
      " 107824.82758485 208109.90015565 177069.07959901 293897.30195008\n",
      " 127169.89085542 131950.64087831 346730.77759706 134996.03559266\n",
      " 267705.28077089 151887.23127137 230847.60859071 141633.78981935\n",
      " 192200.16718446 213065.21723329 183942.70942079 199747.36286317\n",
      " 151828.03559266 133527.78986512  80959.88507997 167569.74844896\n",
      " 169592.88227235 180849.8839203  142591.21009217 215482.34003602\n",
      " 138372.58588563 107748.73175965 228543.60859071 118075.52773439\n",
      " 111910.35328065 144532.03559266 163384.88227235 134656.83161317\n",
      " 103652.73175965 190978.791391   143712.02546083 319370.92347108\n",
      " 127209.49830018 208749.96589051 220845.01386415 181683.34168397\n",
      " 259586.69724046 262377.92923509 103110.99860536 148390.63649903\n",
      " 185579.94037782 131668.03559266 322113.16437684 122473.49830018\n",
      " 249556.4340912  161848.88227235 207045.2992035  170806.65046083\n",
      " 274164.57462083 210008.18836366 172664.88227235  76055.85559999\n",
      " 282494.65656434 248438.77295839 145084.63654481 114599.23957215\n",
      " 252124.31769715 207618.791391   123839.21009217 193592.27198182\n",
      " 226151.63807069 263609.67441331 175245.70777284 251753.83106385\n",
      " 160420.05677186 265537.23011171 218885.87067567 194361.95575868\n",
      "  88023.85559999 198509.96589051 161290.74073182 143936.83161317\n",
      " 244081.78040467  96697.90621339 133844.03559266 251980.48475038\n",
      " 141911.78986512 284834.70575868 104271.95225679 196304.85279237\n",
      " 115263.21009217 187877.67829286 141440.83161317 105167.90625917\n",
      "  92710.9184662  183923.34168397 204395.39234315 253686.77295839\n",
      " 196881.9262787  172297.90043794 243949.3002678  250072.47476731\n",
      " 108068.73175965 137196.00611268 230545.9262787   95484.70227967\n",
      " 220891.20140229 155388.63654481 228653.01386415 204696.18836366\n",
      " 162620.63654481 108348.70227967 181747.34168397 253310.65656434\n",
      " 182230.71635591 281791.54285585 220932.98438417 117807.18891298\n",
      " 234631.49219667 337857.16437684 180738.791391   267262.65656434\n",
      " 132756.03559266 148386.72092591 264996.4552704  185736.16718446\n",
      " 231015.63807069 228671.60859071 242247.49219667 152780.08625184\n",
      " 152143.23127137 132391.23957215 362889.5122162   88922.36341249\n",
      "  68076.68110048 186483.34168397 304877.23453294 103503.90625917\n",
      " 201918.72229921 198581.84949647 246774.77295839  96043.1055771\n",
      " 148958.67994081 240724.4340912  281145.28077089 236372.4340912\n",
      " 268734.65656434 142112.37441407 102496.01121675 167261.05841981\n",
      " 160548.05677186 196773.13025819 150764.95362245  89581.56739198\n",
      " 216900.98438417 265569.65920411 235039.18671571 137527.26075135\n",
      " 176282.29767762 216977.9262787  166317.50165712 182963.34168397\n",
      " 170744.88227235 223939.87557374 435617.3327118  228008.37330018\n",
      "  75564.68110048 223128.92463075 176051.34168397 113340.70227967\n",
      " 206680.18836366 204760.18836366 203691.51831971 128128.10574876\n",
      " 228927.60859071 128362.99384462 184637.25080262 -13325.00532378\n",
      " 232409.33339845  97124.73175965 171884.00611268 137910.37445985\n",
      " 212753.9262787  267500.33887635 141716.03559266 108772.73175965\n",
      " 195565.96589051 186259.38752137 197073.9262787  198032.3047577\n",
      " 151821.17043458 105197.68256532 130108.97828065 251220.4340912\n",
      " 188129.52922212 146889.57843934 257975.65924989 162527.33622895\n",
      " 141628.63654481 132884.03559266]\n"
     ]
    }
   ],
   "source": [
    "#Model Predctions given training data\n",
    "predictions_5 = lr.predict(X_5_test)\n",
    "print(predictions_5)"
   ]
  },
  {
   "cell_type": "code",
   "execution_count": 55,
   "id": "61e6baf4",
   "metadata": {},
   "outputs": [
    {
     "data": {
      "text/plain": [
       "Text(0, 0.5, 'Actual Price')"
      ]
     },
     "execution_count": 55,
     "metadata": {},
     "output_type": "execute_result"
    },
    {
     "data": {
      "image/png": "[encoded data removed]",
      "text/plain": [
       "<Figure size 432x288 with 1 Axes>"
      ]
     },
     "metadata": {
      "needs_background": "light"
     },
     "output_type": "display_data"
    }
   ],
   "source": [
    "#visualization of model 5 sales price predictions vs actual sale price \n",
    "plt.scatter(predictions_5, y_5_test, color ='blue')\n",
    "plt.title('Model 5: Predicted Price vs Actual Price')\n",
    "plt.xlabel('Predicted Price')\n",
    "plt.ylabel('Actual Price')"
   ]
  },
  {
   "cell_type": "markdown",
   "id": "5fc87269",
   "metadata": {},
   "source": [
    "* With the addition of the overall quality variable to model 3, we see a tighter scatter plot, one that better resembles a straight line meaning a better fit model. Let's see what our metrics tell us. "
   ]
  },
  {
   "cell_type": "markdown",
   "id": "8c6d0143",
   "metadata": {},
   "source": [
    "__Model Evaluation Metrics__"
   ]
  },
  {
   "cell_type": "code",
   "execution_count": 56,
   "id": "5c7405c1",
   "metadata": {},
   "outputs": [
    {
     "name": "stdout",
     "output_type": "stream",
     "text": [
      "R^2 on training set: 0.7657031963673575\n",
      "R^2 on testing set: 0.7844091126521747\n",
      "Cross Validation Score: 0.7609921813395619\n"
     ]
    }
   ],
   "source": [
    "#R2 Score and Cross validation \n",
    "print(f'R^2 on training set: {lr.score(X_5_train,y_5_train)}')\n",
    "print(f'R^2 on testing set: {lr.score(X_5_test,y_5_test)}')\n",
    "print(f'Cross Validation Score: {cross_val_score(lr,X_5,y_5).mean()}')"
   ]
  },
  {
   "cell_type": "markdown",
   "id": "e94e9d1c",
   "metadata": {},
   "source": [
    "* The R2 scores for both train and test are closer to 1 and are the highest scores out all the models tested. \n",
    "* The R2 test score is higher than the R2 train score, meaning this model performs well on new testing data. \n",
    "* My cross validation score, is a conservative average of all scores, and is still fairly high, closer to 1, indicating a good model fit."
   ]
  },
  {
   "cell_type": "code",
   "execution_count": 57,
   "id": "31e0be97",
   "metadata": {},
   "outputs": [
    {
     "name": "stdout",
     "output_type": "stream",
     "text": [
      "MAE on training set:25773.371884186712\n",
      "MAE on testing set: 25627.176180047478\n"
     ]
    }
   ],
   "source": [
    "#MAE\n",
    "print(f'MAE on training set:{mean_absolute_error(y_5_train, lr.predict(X_5_train))}')\n",
    "print(f'MAE on testing set: {mean_absolute_error(y_5_test, predictions_5)}')"
   ]
  },
  {
   "cell_type": "markdown",
   "id": "3a14dfdb",
   "metadata": {},
   "source": [
    "* Based on the MAE, the difference between my y_actual and y_predict improves in the testing data. "
   ]
  },
  {
   "cell_type": "code",
   "execution_count": 58,
   "id": "45450a4d",
   "metadata": {},
   "outputs": [
    {
     "name": "stdout",
     "output_type": "stream",
     "text": [
      "MSE on training set: 1502451377.1000724\n",
      "MSE on testing set:  1236493072.524012\n"
     ]
    }
   ],
   "source": [
    "#MSE\n",
    "print(f'MSE on training set: {mean_squared_error(y_5_train, lr.predict(X_5_train))}')\n",
    "print(f'MSE on testing set:  {mean_squared_error(y_5_test, predictions_5)}')"
   ]
  },
  {
   "cell_type": "markdown",
   "id": "b997624b",
   "metadata": {},
   "source": [
    "* Based on the MSE, model 5 is performing better on the testing set than on the training set. "
   ]
  },
  {
   "cell_type": "code",
   "execution_count": 59,
   "id": "b552484a",
   "metadata": {},
   "outputs": [],
   "source": [
    "features_5 = ['bsmtfin_sf_1','bsmtfin_sf_2','bsmt_unf_sf','total_bsmt_sf','bsmt_full_bath','bsmt_half_bath',\\\n",
    "             'full_bath','half_bath', 'bedroom_abvgr','totrms_abvgrd',\n",
    "             'bsmt_cond_Gd','bsmt_cond_TA','overall_qual']\n",
    "X_5 = train[features]\n",
    "y_5 = train['saleprice']"
   ]
  }
 ],
 "metadata": {
  "kernelspec": {
   "display_name": "Python 3",
   "language": "python",
   "name": "python3"
  },
  "language_info": {
   "codemirror_mode": {
    "name": "ipython",
    "version": 3
   },
   "file_extension": ".py",
   "mimetype": "text/x-python",
   "name": "python",
   "nbconvert_exporter": "python",
   "pygments_lexer": "ipython3",
   "version": "3.8.8"
  }
 },
 "nbformat": 4,
 "nbformat_minor": 5
}
