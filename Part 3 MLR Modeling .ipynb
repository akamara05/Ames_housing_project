{
 "cells": [
  {
   "cell_type": "markdown",
   "id": "77e86e8c",
   "metadata": {},
   "source": [
    "## DSI Project 2 - Ames Housing Data and Kaggle Challenge"
   ]
  },
  {
   "cell_type": "markdown",
   "id": "e97eee19",
   "metadata": {},
   "source": [
    "### Part 3: Modeling "
   ]
  },
  {
   "cell_type": "code",
   "execution_count": 13,
   "id": "2395afea",
   "metadata": {},
   "outputs": [],
   "source": [
    "import numpy as np\n",
    "import pandas as pd\n",
    "from matplotlib import pyplot as plt\n",
    "import seaborn as sns\n",
    "\n",
    "#Scikit imports\n",
    "from sklearn.linear_model import LinearRegression, LassoCV, RidgeCV\n",
    "from sklearn.preprocessing import PolynomialFeatures, StandardScaler\n",
    "from sklearn.model_selection import train_test_split, cross_val_score, cross_val_predict\n",
    "from sklearn.metrics import r2_score\n",
    "from sklearn.metrics import mean_squared_error\n",
    "from sklearn.metrics import mean_absolute_error\n",
    "from sklearn import metrics"
   ]
  },
  {
   "cell_type": "markdown",
   "id": "f34e06f0",
   "metadata": {},
   "source": [
    "### Reading in CSV"
   ]
  },
  {
   "cell_type": "code",
   "execution_count": 14,
   "id": "a642e144",
   "metadata": {},
   "outputs": [
    {
     "data": {
      "text/html": [
       "<div>\n",
       "<style scoped>\n",
       "    .dataframe tbody tr th:only-of-type {\n",
       "        vertical-align: middle;\n",
       "    }\n",
       "\n",
       "    .dataframe tbody tr th {\n",
       "        vertical-align: top;\n",
       "    }\n",
       "\n",
       "    .dataframe thead th {\n",
       "        text-align: right;\n",
       "    }\n",
       "</style>\n",
       "<table border=\"1\" class=\"dataframe\">\n",
       "  <thead>\n",
       "    <tr style=\"text-align: right;\">\n",
       "      <th></th>\n",
       "      <th>Unnamed: 0</th>\n",
       "      <th>id</th>\n",
       "      <th>pid</th>\n",
       "      <th>ms_subclass</th>\n",
       "      <th>ms_zoning</th>\n",
       "      <th>lot_frontage</th>\n",
       "      <th>lot_area</th>\n",
       "      <th>street</th>\n",
       "      <th>lot_shape</th>\n",
       "      <th>land_contour</th>\n",
       "      <th>...</th>\n",
       "      <th>enclosed_porch</th>\n",
       "      <th>3ssn_porch</th>\n",
       "      <th>screen_porch</th>\n",
       "      <th>pool_area</th>\n",
       "      <th>fence</th>\n",
       "      <th>misc_val</th>\n",
       "      <th>mo_sold</th>\n",
       "      <th>yr_sold</th>\n",
       "      <th>sale_type</th>\n",
       "      <th>saleprice</th>\n",
       "    </tr>\n",
       "  </thead>\n",
       "  <tbody>\n",
       "    <tr>\n",
       "      <th>0</th>\n",
       "      <td>0</td>\n",
       "      <td>109</td>\n",
       "      <td>533352170</td>\n",
       "      <td>60</td>\n",
       "      <td>RL</td>\n",
       "      <td>69.0552</td>\n",
       "      <td>13517</td>\n",
       "      <td>Pave</td>\n",
       "      <td>IR1</td>\n",
       "      <td>Lvl</td>\n",
       "      <td>...</td>\n",
       "      <td>0</td>\n",
       "      <td>0</td>\n",
       "      <td>0</td>\n",
       "      <td>0</td>\n",
       "      <td>No Fence</td>\n",
       "      <td>0</td>\n",
       "      <td>3</td>\n",
       "      <td>2010</td>\n",
       "      <td>WD</td>\n",
       "      <td>130500</td>\n",
       "    </tr>\n",
       "    <tr>\n",
       "      <th>1</th>\n",
       "      <td>1</td>\n",
       "      <td>544</td>\n",
       "      <td>531379050</td>\n",
       "      <td>60</td>\n",
       "      <td>RL</td>\n",
       "      <td>43.0000</td>\n",
       "      <td>11492</td>\n",
       "      <td>Pave</td>\n",
       "      <td>IR1</td>\n",
       "      <td>Lvl</td>\n",
       "      <td>...</td>\n",
       "      <td>0</td>\n",
       "      <td>0</td>\n",
       "      <td>0</td>\n",
       "      <td>0</td>\n",
       "      <td>No Fence</td>\n",
       "      <td>0</td>\n",
       "      <td>4</td>\n",
       "      <td>2009</td>\n",
       "      <td>WD</td>\n",
       "      <td>220000</td>\n",
       "    </tr>\n",
       "    <tr>\n",
       "      <th>2</th>\n",
       "      <td>2</td>\n",
       "      <td>153</td>\n",
       "      <td>535304180</td>\n",
       "      <td>20</td>\n",
       "      <td>RL</td>\n",
       "      <td>68.0000</td>\n",
       "      <td>7922</td>\n",
       "      <td>Pave</td>\n",
       "      <td>Reg</td>\n",
       "      <td>Lvl</td>\n",
       "      <td>...</td>\n",
       "      <td>0</td>\n",
       "      <td>0</td>\n",
       "      <td>0</td>\n",
       "      <td>0</td>\n",
       "      <td>No Fence</td>\n",
       "      <td>0</td>\n",
       "      <td>1</td>\n",
       "      <td>2010</td>\n",
       "      <td>WD</td>\n",
       "      <td>109000</td>\n",
       "    </tr>\n",
       "    <tr>\n",
       "      <th>3</th>\n",
       "      <td>3</td>\n",
       "      <td>318</td>\n",
       "      <td>916386060</td>\n",
       "      <td>60</td>\n",
       "      <td>RL</td>\n",
       "      <td>73.0000</td>\n",
       "      <td>9802</td>\n",
       "      <td>Pave</td>\n",
       "      <td>Reg</td>\n",
       "      <td>Lvl</td>\n",
       "      <td>...</td>\n",
       "      <td>0</td>\n",
       "      <td>0</td>\n",
       "      <td>0</td>\n",
       "      <td>0</td>\n",
       "      <td>No Fence</td>\n",
       "      <td>0</td>\n",
       "      <td>4</td>\n",
       "      <td>2010</td>\n",
       "      <td>WD</td>\n",
       "      <td>174000</td>\n",
       "    </tr>\n",
       "    <tr>\n",
       "      <th>4</th>\n",
       "      <td>4</td>\n",
       "      <td>255</td>\n",
       "      <td>906425045</td>\n",
       "      <td>50</td>\n",
       "      <td>RL</td>\n",
       "      <td>82.0000</td>\n",
       "      <td>14235</td>\n",
       "      <td>Pave</td>\n",
       "      <td>IR1</td>\n",
       "      <td>Lvl</td>\n",
       "      <td>...</td>\n",
       "      <td>0</td>\n",
       "      <td>0</td>\n",
       "      <td>0</td>\n",
       "      <td>0</td>\n",
       "      <td>No Fence</td>\n",
       "      <td>0</td>\n",
       "      <td>3</td>\n",
       "      <td>2010</td>\n",
       "      <td>WD</td>\n",
       "      <td>138500</td>\n",
       "    </tr>\n",
       "  </tbody>\n",
       "</table>\n",
       "<p>5 rows × 79 columns</p>\n",
       "</div>"
      ],
      "text/plain": [
       "   Unnamed: 0   id        pid  ms_subclass ms_zoning  lot_frontage  lot_area  \\\n",
       "0           0  109  533352170           60        RL       69.0552     13517   \n",
       "1           1  544  531379050           60        RL       43.0000     11492   \n",
       "2           2  153  535304180           20        RL       68.0000      7922   \n",
       "3           3  318  916386060           60        RL       73.0000      9802   \n",
       "4           4  255  906425045           50        RL       82.0000     14235   \n",
       "\n",
       "  street lot_shape land_contour  ... enclosed_porch 3ssn_porch screen_porch  \\\n",
       "0   Pave       IR1          Lvl  ...              0          0            0   \n",
       "1   Pave       IR1          Lvl  ...              0          0            0   \n",
       "2   Pave       Reg          Lvl  ...              0          0            0   \n",
       "3   Pave       Reg          Lvl  ...              0          0            0   \n",
       "4   Pave       IR1          Lvl  ...              0          0            0   \n",
       "\n",
       "  pool_area     fence misc_val mo_sold yr_sold  sale_type  saleprice  \n",
       "0         0  No Fence        0       3    2010        WD      130500  \n",
       "1         0  No Fence        0       4    2009        WD      220000  \n",
       "2         0  No Fence        0       1    2010        WD      109000  \n",
       "3         0  No Fence        0       4    2010        WD      174000  \n",
       "4         0  No Fence        0       3    2010        WD      138500  \n",
       "\n",
       "[5 rows x 79 columns]"
      ]
     },
     "execution_count": 14,
     "metadata": {},
     "output_type": "execute_result"
    }
   ],
   "source": [
    "train = pd.read_csv('./datasets/train_clean.csv')\n",
    "train.head()"
   ]
  },
  {
   "cell_type": "code",
   "execution_count": 15,
   "id": "05c24903",
   "metadata": {},
   "outputs": [
    {
     "data": {
      "text/html": [
       "<div>\n",
       "<style scoped>\n",
       "    .dataframe tbody tr th:only-of-type {\n",
       "        vertical-align: middle;\n",
       "    }\n",
       "\n",
       "    .dataframe tbody tr th {\n",
       "        vertical-align: top;\n",
       "    }\n",
       "\n",
       "    .dataframe thead th {\n",
       "        text-align: right;\n",
       "    }\n",
       "</style>\n",
       "<table border=\"1\" class=\"dataframe\">\n",
       "  <thead>\n",
       "    <tr style=\"text-align: right;\">\n",
       "      <th></th>\n",
       "      <th>Unnamed: 0</th>\n",
       "      <th>id</th>\n",
       "      <th>pid</th>\n",
       "      <th>ms_subclass</th>\n",
       "      <th>ms_zoning</th>\n",
       "      <th>lot_frontage</th>\n",
       "      <th>lot_area</th>\n",
       "      <th>street</th>\n",
       "      <th>lot_shape</th>\n",
       "      <th>land_contour</th>\n",
       "      <th>...</th>\n",
       "      <th>open_porch_sf</th>\n",
       "      <th>enclosed_porch</th>\n",
       "      <th>3ssn_porch</th>\n",
       "      <th>screen_porch</th>\n",
       "      <th>pool_area</th>\n",
       "      <th>fence</th>\n",
       "      <th>misc_val</th>\n",
       "      <th>mo_sold</th>\n",
       "      <th>yr_sold</th>\n",
       "      <th>sale_type</th>\n",
       "    </tr>\n",
       "  </thead>\n",
       "  <tbody>\n",
       "    <tr>\n",
       "      <th>0</th>\n",
       "      <td>0</td>\n",
       "      <td>2658</td>\n",
       "      <td>902301120</td>\n",
       "      <td>190</td>\n",
       "      <td>RM</td>\n",
       "      <td>69.0552</td>\n",
       "      <td>9142</td>\n",
       "      <td>Pave</td>\n",
       "      <td>Reg</td>\n",
       "      <td>Lvl</td>\n",
       "      <td>...</td>\n",
       "      <td>60</td>\n",
       "      <td>112</td>\n",
       "      <td>0</td>\n",
       "      <td>0</td>\n",
       "      <td>0</td>\n",
       "      <td>No Fence</td>\n",
       "      <td>0</td>\n",
       "      <td>4</td>\n",
       "      <td>2006</td>\n",
       "      <td>WD</td>\n",
       "    </tr>\n",
       "    <tr>\n",
       "      <th>1</th>\n",
       "      <td>1</td>\n",
       "      <td>2718</td>\n",
       "      <td>905108090</td>\n",
       "      <td>90</td>\n",
       "      <td>RL</td>\n",
       "      <td>43.0000</td>\n",
       "      <td>9662</td>\n",
       "      <td>Pave</td>\n",
       "      <td>IR1</td>\n",
       "      <td>Lvl</td>\n",
       "      <td>...</td>\n",
       "      <td>0</td>\n",
       "      <td>0</td>\n",
       "      <td>0</td>\n",
       "      <td>0</td>\n",
       "      <td>0</td>\n",
       "      <td>No Fence</td>\n",
       "      <td>0</td>\n",
       "      <td>8</td>\n",
       "      <td>2006</td>\n",
       "      <td>WD</td>\n",
       "    </tr>\n",
       "    <tr>\n",
       "      <th>2</th>\n",
       "      <td>2</td>\n",
       "      <td>2414</td>\n",
       "      <td>528218130</td>\n",
       "      <td>60</td>\n",
       "      <td>RL</td>\n",
       "      <td>68.0000</td>\n",
       "      <td>17104</td>\n",
       "      <td>Pave</td>\n",
       "      <td>IR1</td>\n",
       "      <td>Lvl</td>\n",
       "      <td>...</td>\n",
       "      <td>24</td>\n",
       "      <td>0</td>\n",
       "      <td>0</td>\n",
       "      <td>0</td>\n",
       "      <td>0</td>\n",
       "      <td>No Fence</td>\n",
       "      <td>0</td>\n",
       "      <td>9</td>\n",
       "      <td>2006</td>\n",
       "      <td>New</td>\n",
       "    </tr>\n",
       "    <tr>\n",
       "      <th>3</th>\n",
       "      <td>3</td>\n",
       "      <td>1989</td>\n",
       "      <td>902207150</td>\n",
       "      <td>30</td>\n",
       "      <td>RM</td>\n",
       "      <td>73.0000</td>\n",
       "      <td>8520</td>\n",
       "      <td>Pave</td>\n",
       "      <td>Reg</td>\n",
       "      <td>Lvl</td>\n",
       "      <td>...</td>\n",
       "      <td>0</td>\n",
       "      <td>184</td>\n",
       "      <td>0</td>\n",
       "      <td>0</td>\n",
       "      <td>0</td>\n",
       "      <td>No Fence</td>\n",
       "      <td>0</td>\n",
       "      <td>7</td>\n",
       "      <td>2007</td>\n",
       "      <td>WD</td>\n",
       "    </tr>\n",
       "    <tr>\n",
       "      <th>4</th>\n",
       "      <td>4</td>\n",
       "      <td>625</td>\n",
       "      <td>535105100</td>\n",
       "      <td>20</td>\n",
       "      <td>RL</td>\n",
       "      <td>82.0000</td>\n",
       "      <td>9500</td>\n",
       "      <td>Pave</td>\n",
       "      <td>IR1</td>\n",
       "      <td>Lvl</td>\n",
       "      <td>...</td>\n",
       "      <td>76</td>\n",
       "      <td>0</td>\n",
       "      <td>0</td>\n",
       "      <td>185</td>\n",
       "      <td>0</td>\n",
       "      <td>No Fence</td>\n",
       "      <td>0</td>\n",
       "      <td>7</td>\n",
       "      <td>2009</td>\n",
       "      <td>WD</td>\n",
       "    </tr>\n",
       "  </tbody>\n",
       "</table>\n",
       "<p>5 rows × 78 columns</p>\n",
       "</div>"
      ],
      "text/plain": [
       "   Unnamed: 0    id        pid  ms_subclass ms_zoning  lot_frontage  lot_area  \\\n",
       "0           0  2658  902301120          190        RM       69.0552      9142   \n",
       "1           1  2718  905108090           90        RL       43.0000      9662   \n",
       "2           2  2414  528218130           60        RL       68.0000     17104   \n",
       "3           3  1989  902207150           30        RM       73.0000      8520   \n",
       "4           4   625  535105100           20        RL       82.0000      9500   \n",
       "\n",
       "  street lot_shape land_contour  ... open_porch_sf enclosed_porch 3ssn_porch  \\\n",
       "0   Pave       Reg          Lvl  ...            60            112          0   \n",
       "1   Pave       IR1          Lvl  ...             0              0          0   \n",
       "2   Pave       IR1          Lvl  ...            24              0          0   \n",
       "3   Pave       Reg          Lvl  ...             0            184          0   \n",
       "4   Pave       IR1          Lvl  ...            76              0          0   \n",
       "\n",
       "  screen_porch pool_area     fence misc_val mo_sold  yr_sold  sale_type  \n",
       "0            0         0  No Fence        0       4     2006        WD   \n",
       "1            0         0  No Fence        0       8     2006        WD   \n",
       "2            0         0  No Fence        0       9     2006        New  \n",
       "3            0         0  No Fence        0       7     2007        WD   \n",
       "4          185         0  No Fence        0       7     2009        WD   \n",
       "\n",
       "[5 rows x 78 columns]"
      ]
     },
     "execution_count": 15,
     "metadata": {},
     "output_type": "execute_result"
    }
   ],
   "source": [
    "test_kaggle = pd.read_csv('./datasets/test_clean.csv')\n",
    "test_kaggle.head()"
   ]
  },
  {
   "cell_type": "code",
   "execution_count": 16,
   "id": "9452b8b5",
   "metadata": {},
   "outputs": [
    {
     "data": {
      "text/plain": [
       "Index([], dtype='object')"
      ]
     },
     "execution_count": 16,
     "metadata": {},
     "output_type": "execute_result"
    }
   ],
   "source": [
    "train.columns[train.isnull().any()]"
   ]
  },
  {
   "cell_type": "code",
   "execution_count": 17,
   "id": "7dee563d",
   "metadata": {},
   "outputs": [
    {
     "data": {
      "text/plain": [
       "Index([], dtype='object')"
      ]
     },
     "execution_count": 17,
     "metadata": {},
     "output_type": "execute_result"
    }
   ],
   "source": [
    "test_kaggle.columns[test_kaggle.isnull().any()]"
   ]
  },
  {
   "cell_type": "markdown",
   "id": "2ec66b58",
   "metadata": {},
   "source": [
    "#### Model 1- All Numeric Features "
   ]
  },
  {
   "cell_type": "markdown",
   "id": "804f6f38",
   "metadata": {},
   "source": [
    "__Model Prep: Create features matrix (x) and target vector (y)__"
   ]
  },
  {
   "cell_type": "markdown",
   "id": "c0be3582",
   "metadata": {},
   "source": [
    "To begin with let's take a look at every numerical column (that is not our target) will be used as a feature."
   ]
  },
  {
   "cell_type": "code",
   "execution_count": 18,
   "id": "8f7056ac",
   "metadata": {},
   "outputs": [],
   "source": [
    "#creating my x and y variables \n",
    "X_1 = train._get_numeric_data().drop(columns='saleprice')\n",
    "features = list(X_1.columns)\n",
    "y_1 = train['saleprice']"
   ]
  },
  {
   "cell_type": "markdown",
   "id": "9ff8a76c",
   "metadata": {},
   "source": [
    "__Model Prep: Train/Test Split__"
   ]
  },
  {
   "cell_type": "markdown",
   "id": "e269c2cc",
   "metadata": {},
   "source": [
    "Performing a 80-20 train, test split on the X and y variables: "
   ]
  },
  {
   "cell_type": "code",
   "execution_count": 19,
   "id": "2aea0bf5",
   "metadata": {},
   "outputs": [],
   "source": [
    "X_1_train, X_1_test, y_1_train, y_1_test = train_test_split(X_1, y_1, \n",
    "                                                    test_size = 0.2,\n",
    "                                                    random_state =42,\n",
    "                                                    shuffle = True)"
   ]
  },
  {
   "cell_type": "code",
   "execution_count": 20,
   "id": "a298d2b5",
   "metadata": {},
   "outputs": [
    {
     "name": "stdout",
     "output_type": "stream",
     "text": [
      "(1640, 39) (1640,)\n",
      "(411, 39) (411,)\n"
     ]
    }
   ],
   "source": [
    "print(X_1_train.shape, y_1_train.shape)\n",
    "print(X_1_test.shape, y_1_test.shape)"
   ]
  },
  {
   "cell_type": "markdown",
   "id": "167df9e4",
   "metadata": {},
   "source": [
    "__Model Fit__"
   ]
  },
  {
   "cell_type": "code",
   "execution_count": 21,
   "id": "d3e0d5e9",
   "metadata": {},
   "outputs": [
    {
     "data": {
      "text/plain": [
       "LinearRegression(n_jobs=-1)"
      ]
     },
     "execution_count": 21,
     "metadata": {},
     "output_type": "execute_result"
    }
   ],
   "source": [
    "# instantiate LinearRegression estimator\n",
    "lr = LinearRegression(n_jobs = -1)\n",
    "\n",
    "# fit Linear model\n",
    "lr.fit(X_1_train,y_1_train)"
   ]
  },
  {
   "cell_type": "code",
   "execution_count": 22,
   "id": "cca90896",
   "metadata": {},
   "outputs": [
    {
     "name": "stdout",
     "output_type": "stream",
     "text": [
      "[117743.4180105  231220.41217009 265461.17210278 114351.93324742\n",
      " 203276.03804433 331248.31145428 164015.91136428 269049.87352642\n",
      " 183396.90473006  97921.386735   136641.0332451  202858.25507346\n",
      " 172433.92003677 105903.48542713 124376.13835474 106510.23687181\n",
      " 120036.88641291 212996.87449812 318560.40070557 242280.8394396\n",
      " 215142.18538586 199817.88584448 141750.87375916 104403.48304925\n",
      " 159285.37248668 244167.07822117 173938.65392    126311.16235253\n",
      " 256105.49444715 110048.00855141 306260.15684226 106927.30393331\n",
      " 124471.98865956 187978.17115686 205480.93289416  78630.38733706\n",
      " 200809.21720286 235286.08444688 356755.22212243  95106.91447594\n",
      " 246143.5788609  226775.01768525 302021.23898655 198708.96005399\n",
      "  56891.62181059 183519.71876721 100745.30643731 125431.10786815\n",
      " 289684.4296688  128625.01766351 317221.98649844  57013.89552398\n",
      " 137119.43581656 112604.58972126 150564.31584248 120691.84699543\n",
      " 262648.24088989 207397.94106048 125972.16999702 172790.70668251\n",
      " 259722.41485996  49807.97790351 186946.68175667 246536.69069471\n",
      " 198758.2543474   70852.19582001 263956.41942445 255561.95327032\n",
      " 279059.1767446  128080.49526589 243039.19561415 334286.14174455\n",
      " 322378.94686168 185177.42100486 130383.02147922 196415.64699204\n",
      " 212785.73759981 146484.8805847  160439.33626112 270923.26233642\n",
      " 129804.94256208 110056.86801246 287734.16060837 138100.09594426\n",
      " 125596.10283037  98601.94340331  91802.87448717 232356.60590832\n",
      "  52763.71824927 164311.72893335 193319.3226167  182061.62073173\n",
      " 133403.26139033 263770.14881093 143581.57829463 213293.44862797\n",
      " 135807.21443541 110318.67931072 230044.58987557 134106.55766522\n",
      " 138922.3559476  317181.02705414  63152.93945907 204668.30356875\n",
      " 169991.4810801  135790.23920439 106137.29510613 172858.87372287\n",
      " 167510.03436237 164431.66149602  33545.77024274 205068.61231336\n",
      " 108638.77283991 308209.63893697  82920.52448187 237665.90753009\n",
      " 217301.74865681 158216.99884261 116113.15207462 177378.57789874\n",
      " 207670.02778113 142395.80405394 245772.55430218 125477.39910761\n",
      " 251800.19670674 221146.92809271 107914.19962998 281503.263732\n",
      " 213000.60832272 141408.32689371 183402.44268725 133703.33392409\n",
      " 150033.22573667 352721.48435557 152897.13519862 168461.6654317\n",
      "  82136.41826015 153669.38942722 181451.61684014 163073.56492802\n",
      "  60557.14109846  18165.72405387 132235.37223862  81128.25563926\n",
      " 255344.39377698 233069.75305077 380228.15272366 188785.85448984\n",
      " 124493.49297808 175907.70494979  86822.90769023 147306.86498578\n",
      " 135801.25989901 242688.93676008 107971.90999609 200151.15048359\n",
      " 236966.28256815 131901.90966129 133903.27964064 200468.1609953\n",
      " 148130.38545868 233185.17636157 136872.92685642 179230.22898262\n",
      " 100181.07892253 213423.72182442 149556.7047959  208675.52822884\n",
      " 127612.50240851 258673.5855405  217392.07293295 140492.25380866\n",
      " 136845.8153712  213152.9848468  173715.31976929 151169.73009188\n",
      " 275331.898638   117493.56332109 127589.16781451 117776.33742104\n",
      " 226311.87252905 178415.91288353 180408.84898236 209555.75076938\n",
      " 121342.28022242 161766.89931921 186990.82295375 142354.20090722\n",
      " 162635.10921866 154321.82862665 222584.83508223 121456.9462769\n",
      " 165309.49373993  30360.84098467 204139.140404   179914.66985738\n",
      "  67106.11485194 281778.47376275 189318.908351   264343.97323225\n",
      " 182920.8828833  116440.77953497 185998.50453098 147743.90360685\n",
      " 138679.03287102 108588.0881836  196980.09453261 128738.70519308\n",
      " 130507.76935809 239675.77178343 137563.92639605 373519.04432565\n",
      " 150143.14853297 163502.92075825 390285.38521035 211201.83358134\n",
      " 256629.65636847 168173.50793449 294772.06976628 144110.43707633\n",
      " 116252.69608014 168344.21105784 137627.17681963 200263.57435708\n",
      "  88710.61308558 257788.13015569 219297.9973859  109755.83670303\n",
      "  92453.15881831 233801.29822977 117634.32845021 100094.1241027\n",
      " 192551.70993072 177441.99020688 147446.09436579 111531.21036922\n",
      " 201643.70670298  70019.21891817 164249.6810506  186468.56097929\n",
      " 258242.19899531 149575.32634777 126822.45123723 165569.19888795\n",
      " 147357.01029135 220841.79747046 317039.27792003 195153.84507917\n",
      " 157098.47879645 263097.49654554 233095.88685252 328146.49023623\n",
      " 231119.00134848 231539.49059203 337956.66352342 133983.33682765\n",
      " 193744.6187609   91041.35700969 327423.15093776 236552.9763647\n",
      " 261540.74856007  96486.909262   206280.8791412  181631.16663957\n",
      " 315372.15613679 132819.57302658 218810.47697925 144101.89325665\n",
      " 120367.82372455 308392.34905537 165379.69354341 183065.08285532\n",
      "  78362.4176001  262988.13196053 176161.88072347 323733.47186811\n",
      " 304953.87220882 211809.01181135 200707.85113706 163722.50377425\n",
      "  85662.56880805 216202.58707385 193802.02144546 182032.8325994\n",
      "  -3322.9984002  246874.35074687 103810.89814919  85927.61875482\n",
      " 127779.36431977 132168.05159338 203269.23170345 169819.84582809\n",
      " 126107.85227213 166994.70688184 196149.89334987 173576.96382484\n",
      "  91305.46073504 100825.09936552 182042.88698302 217673.07264426\n",
      " 140068.3240503  281040.99952361 249510.99451561 191258.83582715\n",
      " 214618.73218212 249509.11141979 154481.44276796 182831.1569985\n",
      " 179313.69889598 193074.3431005  118325.85189391  84179.58095713\n",
      " 185716.48093998 118778.55468127 174197.08402119 213385.41670963\n",
      " 169275.64274092 121635.79251462 246653.56741796 191443.04015289\n",
      " 207130.89058454 118366.22534974 184496.97100746 190424.32497207\n",
      " 186717.00454991  96850.49270743 147453.721223   207378.47750258\n",
      " 243829.353826    69668.77935889 152379.54981846 181018.26915398\n",
      " 222049.32374811 306427.47523596 117919.30281978 131340.05601001\n",
      " 329332.55535449 211268.31857572 322367.52548243 194712.65811438\n",
      " 198283.40583777 165658.0286123  168385.55373609 313862.88750581\n",
      " 208891.39014303 185706.73638741 126899.90198542 270814.84359619\n",
      "  58101.03258815  82010.57922067  80524.97099651 120526.72596459\n",
      " 107268.36671228 318136.50032135 286892.81965171 151080.24184466\n",
      " 345356.68552145 256975.96953085    559.52492421 193925.64616024\n",
      " 208845.80164364 320648.75839291 126580.85709857 141847.7028745\n",
      " 216073.2283332  233884.17667266 228260.36607469 196303.89794314\n",
      " 231243.60919172 265237.6755191  123512.83019965 131355.34820811\n",
      " 215458.48945484 109869.30666797 119728.23585878 304072.72482263\n",
      " 112752.8079885  185664.59732348 196961.35230214 159388.89420248\n",
      " 105749.38003824 216875.92366531 252991.73011454 223239.89752565\n",
      " 233111.58481272 104214.17786283 155302.5542058  229201.33314752\n",
      " 160643.83045441 146234.23905522 150751.93076166 303398.93448\n",
      " 217570.09021509 155421.93296407 223546.88020069 179325.94323152\n",
      " 149279.15296776 267175.15683468 211913.78884416 102406.85222141\n",
      " 133231.94258958 165484.17136536 180483.06135267 200606.71593258\n",
      " 188475.26075682 219752.78748378 211849.29072878  41748.8026575\n",
      " 263965.37675995 268610.98236638 281848.41912493]\n"
     ]
    }
   ],
   "source": [
    "#Model Predctions given training data\n",
    "predictions_1 = lr.predict(X_1_test)\n",
    "print(predictions_1)"
   ]
  },
  {
   "cell_type": "code",
   "execution_count": 23,
   "id": "cfc70e06",
   "metadata": {},
   "outputs": [
    {
     "data": {
      "text/plain": [
       "Text(0, 0.5, 'Actual Price')"
      ]
     },
     "execution_count": 23,
     "metadata": {},
     "output_type": "execute_result"
    },
    {
     "data": {
      "image/png": "[encoded data removed]",
      "text/plain": [
       "<Figure size 432x288 with 1 Axes>"
      ]
     },
     "metadata": {
      "needs_background": "light"
     },
     "output_type": "display_data"
    }
   ],
   "source": [
    "#visualization of model 1 sales price predictions vs actual sale price \n",
    "plt.scatter(predictions_1, y_1_test, color ='green')\n",
    "plt.title('Model 1: Predicted Price vs Actual Price')\n",
    "plt.xlabel('Predicted Price')\n",
    "plt.ylabel('Actual Price')"
   ]
  },
  {
   "cell_type": "markdown",
   "id": "e65e8402",
   "metadata": {},
   "source": [
    "* __Observation:__ The graph looks somewhat like a straight line( without ignoring a few outliers), meaning the model is a relatively good fit. We can also denote this given the model scores generated below. "
   ]
  },
  {
   "cell_type": "markdown",
   "id": "effdb655",
   "metadata": {},
   "source": [
    "__Scoring of Model__"
   ]
  },
  {
   "cell_type": "code",
   "execution_count": 25,
   "id": "f331d37a",
   "metadata": {},
   "outputs": [
    {
     "name": "stdout",
     "output_type": "stream",
     "text": [
      "0.830799335956232\n",
      "0.8622809463335834\n",
      "0.8006598602709767\n"
     ]
    }
   ],
   "source": [
    "print(lr.score(X_1_train,y_1_train))\n",
    "print(lr.score(X_1_test,y_1_test))\n",
    "print(cross_val_score(lr,X_1,y_1).mean())"
   ]
  },
  {
   "cell_type": "markdown",
   "id": "514aca63",
   "metadata": {},
   "source": [
    "__Observations:__\n",
    "* The testing score is slightly higher than the test score meaning this model performs fairly well on new testing data.\n",
    "* My cross validation score, is a conservative average of all scores, is still fairly high, closer to 1, inidcating a good model fit. "
   ]
  },
  {
   "cell_type": "markdown",
   "id": "8c6d0143",
   "metadata": {},
   "source": [
    "__Model Evaluation Metrics__"
   ]
  },
  {
   "cell_type": "markdown",
   "id": "a0fca851",
   "metadata": {},
   "source": [
    "* Mean Absolute Error (MAE)\n",
    "* Mean Squared Error (MSE)\n",
    "* R2 Score "
   ]
  },
  {
   "cell_type": "code",
   "execution_count": 26,
   "id": "0e772a06",
   "metadata": {},
   "outputs": [
    {
     "name": "stdout",
     "output_type": "stream",
     "text": [
      "21060.958559213053\n",
      "818259891.1594933\n",
      "0.8622809463335834\n"
     ]
    }
   ],
   "source": [
    "print(mean_absolute_error(y_1_test, predictions_1))\n",
    "print(mean_squared_error(y_1_test, predictions_1))\n",
    "print(r2_score(y_1_test, predictions_1))"
   ]
  },
  {
   "cell_type": "code",
   "execution_count": null,
   "id": "e94b89ce",
   "metadata": {},
   "outputs": [],
   "source": [
    "#model.predict(test_kaggle)"
   ]
  },
  {
   "cell_type": "markdown",
   "id": "79cdb2cd",
   "metadata": {},
   "source": [
    "__Model Prep: Scaling__"
   ]
  },
  {
   "cell_type": "markdown",
   "id": "bbbb2aab",
   "metadata": {},
   "source": [
    "Introducing __Ridge__ and __Lasso__ neutralizers to each of our models in order to see if model scores improve accordingly. "
   ]
  },
  {
   "cell_type": "code",
   "execution_count": null,
   "id": "8b49544b",
   "metadata": {},
   "outputs": [],
   "source": [
    "ss = StandardScaler()\n",
    "ss.fit(X_1_train)\n",
    "X_1_train = ss.transform(X_1_train)\n",
    "X_1_test = ss.transform(X_1_test)"
   ]
  },
  {
   "cell_type": "markdown",
   "id": "e53ba789",
   "metadata": {},
   "source": [
    "## Model 2- Beds, Baths, and Basements"
   ]
  },
  {
   "cell_type": "markdown",
   "id": "8edd48d9",
   "metadata": {},
   "source": [
    "Sticking with our theme of beds, baths, and basement, lets look at the related numerical values , with a negtive/positive corelation of 0.5 or greater, expolored in the EDA notebook \n",
    "\n",
    "- Total Rooms above ground\n",
    "- Full baths\n",
    "- Total basement square footage "
   ]
  },
  {
   "cell_type": "code",
   "execution_count": 28,
   "id": "410052dd",
   "metadata": {},
   "outputs": [
    {
     "data": {
      "text/plain": [
       "0        725.0\n",
       "1        913.0\n",
       "2       1057.0\n",
       "3        384.0\n",
       "4        676.0\n",
       "         ...  \n",
       "2046    1884.0\n",
       "2047     861.0\n",
       "2048     896.0\n",
       "2049    1200.0\n",
       "2050     994.0\n",
       "Name: total_bsmt_sf, Length: 2051, dtype: float64"
      ]
     },
     "execution_count": 28,
     "metadata": {},
     "output_type": "execute_result"
    }
   ],
   "source": [
    "train.totrms_abvgrd\n",
    "train.full_bath\n",
    "train.total_bsmt_sf"
   ]
  },
  {
   "cell_type": "code",
   "execution_count": 29,
   "id": "16088e37",
   "metadata": {},
   "outputs": [],
   "source": [
    "#creating my x and y variables \n",
    "X_2 = train[['totrms_abvgrd','full_bath','total_bsmt_sf']]\n",
    "y_2 = train['saleprice']"
   ]
  },
  {
   "cell_type": "markdown",
   "id": "1b37fd9a",
   "metadata": {},
   "source": [
    "For the sake of consistecny I'll be incorporating a 80/20 split for all the models explored in this notebook. "
   ]
  },
  {
   "cell_type": "code",
   "execution_count": 30,
   "id": "9cbfe30b",
   "metadata": {},
   "outputs": [],
   "source": [
    "X_2_train, X_2_test, y_2_train, y_2_test = train_test_split(X_2, y_2, \n",
    "                                                    test_size = 0.2,\n",
    "                                                    random_state =42,\n",
    "                                                    shuffle = True)"
   ]
  },
  {
   "cell_type": "markdown",
   "id": "9916765d",
   "metadata": {},
   "source": [
    "__Model Fit__"
   ]
  },
  {
   "cell_type": "code",
   "execution_count": 31,
   "id": "467538c0",
   "metadata": {},
   "outputs": [
    {
     "data": {
      "text/plain": [
       "LinearRegression(n_jobs=-1)"
      ]
     },
     "execution_count": 31,
     "metadata": {},
     "output_type": "execute_result"
    }
   ],
   "source": [
    "# instantiate LinearRegression estimator\n",
    "lr = LinearRegression(n_jobs = -1)\n",
    "\n",
    "# fit Lienear model\n",
    "lr.fit(X_2_train,y_2_train)"
   ]
  },
  {
   "cell_type": "code",
   "execution_count": 32,
   "id": "e6550c23",
   "metadata": {},
   "outputs": [
    {
     "name": "stdout",
     "output_type": "stream",
     "text": [
      "[142628.5910861  206642.27439595 233961.32875187 134197.44681604\n",
      " 188084.65388014 271031.05417518 129842.30074564 236494.40785229\n",
      " 196667.28825273 145144.17265217 183659.2370932  222362.20412341\n",
      " 205981.69525585 114595.97034298 119244.07072288 132448.20481936\n",
      "  95565.67327626 187763.46743176 283012.5328469  255935.29110115\n",
      " 171213.26221834 216902.03450089 296592.68618666 145760.15895784\n",
      " 154432.1930642  234236.99959194 142878.58404405 161819.48137702\n",
      " 233068.96289716 146090.44852789 221899.55346806 126158.68248478\n",
      " 161337.70170444 200360.93240914 189128.50983739  93879.44442224\n",
      " 147937.27060609 196114.31508973 260432.82415241 200691.22197919\n",
      " 237788.25676748 152523.28061722 261815.15002748 172337.41478768\n",
      " 100624.3598383  178842.36314134 123437.70079519 113971.80368954\n",
      " 236923.20027776 148008.46409653 251590.17092631 101900.00251017\n",
      " 126158.68248478 292515.76521309 134830.71659114 145126.88918274\n",
      " 254088.46902295 187201.39114708 126158.68248478 192000.98162951\n",
      " 246781.47732222 107056.26915374 176112.27833008 233934.01938688\n",
      " 143734.53741212 101980.29912226 260512.19799062 177869.70067453\n",
      " 232988.66628506 159410.58301414 181420.03507618 279631.8947911\n",
      " 317362.1993545  201815.37454853 106093.63258248 211673.651593\n",
      " 176753.72845296 136276.05560886 174515.44920983 278748.63205804\n",
      " 155636.64224563 126149.57936312 304754.70848155 149765.88644097\n",
      " 128567.58084766 131297.66565892 135642.78583376 188004.35726804\n",
      "  81977.33958873 150417.3624594  208631.48345502 174997.2288824\n",
      " 111634.0988171  219783.60941468 135000.41293699 199495.87591942\n",
      " 115408.0395856  206071.09498961 248708.59601252 132430.92134993\n",
      " 158286.4304448  259335.05817417 107056.26915374 216420.25482832\n",
      " 167278.72822564 139987.9060086  153067.15065857  97591.29482198\n",
      " 153789.82016743 145126.88918274 111223.51263495 197149.06792531\n",
      " 115068.64689389 252902.22608484 126158.68248478 208408.79986206\n",
      " 200298.84204038 196988.47470112 126158.68248478 122455.93520671\n",
      " 187763.46743176 117316.95203257 257059.44367049 261243.97062114\n",
      " 248387.40956414 214332.54291383 274412.61500487 255132.32498019\n",
      " 228304.15341851 154271.59984    174737.2100289  185443.96880264\n",
      " 176031.05894409 339301.3807     166377.25924926 215144.61215645\n",
      " 110741.73296238 169046.17646564 271200.75052103 179512.0454031\n",
      " 107056.26915374  44086.44180114 137721.39462659  56782.40963395\n",
      " 244693.76540773 196926.38433235 279863.68150572 194428.08623571\n",
      " 109144.90384212 139326.40409462 107056.26915374 163907.19329151\n",
      " 140630.27890537 170723.30219799 142396.80437148 196194.61170182\n",
      " 239875.96868198 259638.03837923  87616.30867876 190904.13842516\n",
      " 150176.47262311 231444.82441191 152986.85404647 179573.21299798\n",
      "  59342.79809935 187201.39114708 115729.22603398 211290.37477585\n",
      " 132448.20481936 222513.69422594 224459.01915957 116692.78537914\n",
      " 128567.58084766 202368.34771154 296592.68618666 137721.39462659\n",
      " 203581.90001464 122063.55526789 129049.36052024  95092.99672535\n",
      " 201716.87169311 156448.71148826 190904.13842516 165592.49937163\n",
      " 149453.80311425 144545.68388085 163113.33029221 135320.67661149\n",
      " 137400.20817821 168894.68636312 223486.35669275  95565.67327626\n",
      " 130012.91986539  44086.44180114 142530.08823068 190904.13842516\n",
      " 113320.32767111 244363.47583768 179252.02654959 271031.05417518\n",
      " 168402.88079499 131056.77582263 163825.97390552 162140.6678254\n",
      " 168724.06724337 130012.91986539 152896.53153882 144636.0063885\n",
      " 125025.42679378 240366.85147622 137329.01468777 296110.90651408\n",
      " 100704.65645039 186389.32190446 308636.25522715 214412.83952592\n",
      " 238582.11976678 183499.5666429  246460.29087384 146714.61518133\n",
      " 125034.52991544 179492.91638588 148481.14064744 186478.72163822\n",
      " 116433.68929952 212655.41718148 214332.54291383 127604.02150251\n",
      " 111705.29230753 204393.96925727 117656.34472429 125676.90281221\n",
      " 200842.71208172 175076.60272061 184703.09305045  56782.40963395\n",
      " 199227.67671814 125917.7926485  126158.68248478 168402.88079499\n",
      " 243248.42639    166556.98149067 148811.43021748 194418.98311405\n",
      " 163425.41361893 152513.25472167 268791.85215816 174033.66953725\n",
      " 140630.27890537 211753.94820509 222790.99654888 292729.34568439\n",
      " 186238.75457583 217750.51623017 235700.54485299 257710.91968893\n",
      " 138542.56699088 106245.12268501 307522.12855336 281799.90331769\n",
      " 272476.3931929   56782.40963395 252803.72322941 128719.07095019\n",
      " 301883.15946332 205678.7150508  233479.5490793  142860.37780073\n",
      " 232926.57591629 261556.05394786 205428.72209285 154441.29618586\n",
      " 113462.71465197 224057.53609909 181010.37166793 302757.31907471\n",
      " 286867.69300139 227831.4768676  186799.9080866  152103.59131342\n",
      " 149953.78903015 223727.24652904 140612.07266204 271959.83251655\n",
      "  71378.18679207 189441.515938   119422.87019039 147285.79458766\n",
      " 121662.07220742 155494.25526477 168402.88079499 193464.52689056\n",
      " 179091.4333254  263010.49608725 200200.33918495 167599.91467403\n",
      " 121590.87871698 138854.6503176  194106.89978733 208328.50324996\n",
      " 153870.11677952 247735.93354571 255774.69787696 190324.77867105\n",
      " 164549.56618828 223674.25928194 184310.71311163 137890.16819855\n",
      " 206614.96503096 193303.93366637 141424.14190466  96912.50943856\n",
      " 197639.95071955 254044.58489751 126970.75172741 212253.934121\n",
      " 216920.24074422 120457.62302598 145260.17304194 219167.62310901\n",
      " 156386.62111949 148722.03048372 138854.6503176  167529.64395749\n",
      " 138604.65735964 126801.05538155 176191.65216829 207525.537129\n",
      " 224931.69571048 107056.26915374 204724.25882731 161257.40509235\n",
      " 223807.54314114 347812.82158216 173061.00707044  95565.67327626\n",
      " 281969.59966354 159321.18328038 250947.79802954 152985.93127258\n",
      " 176593.13522876 181410.93195452 224298.42593538 206954.35772267\n",
      " 201716.87169311 197639.95071955 140290.88621366 293032.32588945\n",
      " 110741.73296238 102881.76809864  89052.54457483 136365.45534262\n",
      " 134830.71659114 222853.08691765 264527.02859541 198121.73039212\n",
      " 226287.63499445 249396.48451761  54676.49147613 125605.70932178\n",
      " 141021.73607029 246487.60023883 150327.96272564 142708.8876982\n",
      " 241562.19753599 238029.14660377 212022.14740637 207989.11055825\n",
      " 237467.0703191  255774.69787696 131146.17555639 143833.04026754\n",
      " 142851.27467906 188414.94345019 194267.49301152 238841.21584639\n",
      " 147526.68442395 194588.6794599  187602.87420756 138212.27742083\n",
      "  69478.37746676 263269.59216687 246058.80781336 235049.06883456\n",
      " 215724.89468445 137721.39462659 152103.59131342 227822.37374593\n",
      " 157162.27787546 136276.05560886 199477.66967609 197639.95071955\n",
      " 204303.64674961 197470.25437369 283442.24804626 171132.96560625\n",
      " 296592.68618666 217455.0076639  232328.08714497 126158.68248478\n",
      " 154512.48967629 175246.29906646 213529.57679287 186407.52814779\n",
      " 198121.73039212 204054.57656555 269800.92711163  86822.44567947\n",
      " 255774.69787696 241803.08737228 215474.9017265 ]\n"
     ]
    }
   ],
   "source": [
    "predictions_2 = lr.predict(X_2_test)\n",
    "print(predictions_2)"
   ]
  },
  {
   "cell_type": "code",
   "execution_count": 34,
   "id": "651dddb6",
   "metadata": {},
   "outputs": [
    {
     "data": {
      "text/plain": [
       "Text(0, 0.5, 'Actual Price')"
      ]
     },
     "execution_count": 34,
     "metadata": {},
     "output_type": "execute_result"
    },
    {
     "data": {
      "image/png": "[encoded data removed]",
      "text/plain": [
       "<Figure size 432x288 with 1 Axes>"
      ]
     },
     "metadata": {
      "needs_background": "light"
     },
     "output_type": "display_data"
    }
   ],
   "source": [
    "#visualization of model 1 sales price predictions vs actual sale price \n",
    "plt.scatter(predictions_2, y_2_test, color ='orange')\n",
    "plt.title('Model 2: Predicted Price vs Actual Price')\n",
    "plt.xlabel('Predicted Price')\n",
    "plt.ylabel('Actual Price')"
   ]
  },
  {
   "cell_type": "markdown",
   "id": "19c8f910",
   "metadata": {},
   "source": [
    "* __Observation:__ The graph looks more dispersed and less of a straight line in comparison to model 1, meaning the model isn't as good of a fit as I had hoped. We can also denote this weaker model given the model scores generated below."
   ]
  },
  {
   "cell_type": "markdown",
   "id": "d6ff196c",
   "metadata": {},
   "source": [
    "### Scoring of Model"
   ]
  },
  {
   "cell_type": "code",
   "execution_count": 35,
   "id": "6dcf913a",
   "metadata": {},
   "outputs": [
    {
     "name": "stdout",
     "output_type": "stream",
     "text": [
      "0.5523835792646847\n",
      "0.5682069589652812\n",
      "0.5506804243999918\n"
     ]
    }
   ],
   "source": [
    "print(lr.score(X_2_train,y_2_train))\n",
    "print(lr.score(X_2_test,y_2_test))\n",
    "print(cross_val_score(lr,X_2,y_2).mean())"
   ]
  },
  {
   "cell_type": "markdown",
   "id": "f96c2790",
   "metadata": {},
   "source": [
    "These scores as expected aren't as strong as my scores from model one. "
   ]
  },
  {
   "cell_type": "markdown",
   "id": "7fe8d057",
   "metadata": {},
   "source": [
    "__Model Evaluation Metrics__ "
   ]
  },
  {
   "cell_type": "code",
   "execution_count": 57,
   "id": "7d3ed219",
   "metadata": {},
   "outputs": [
    {
     "name": "stdout",
     "output_type": "stream",
     "text": [
      "35755.14852791486\n",
      "2565505043.451037\n",
      "189.09031844046078\n",
      "0.5682069589652812\n"
     ]
    }
   ],
   "source": [
    "print(mean_absolute_error(y_2_test, predictions_2))\n",
    "print(mean_squared_error(y_2_test, predictions_2))\n",
    "print(np.sqrt(mean_absolute_error(y_2_test, predictions_2)))\n",
    "print(r2_score(y_2_test, predictions_2))"
   ]
  },
  {
   "cell_type": "code",
   "execution_count": null,
   "id": "71e87868",
   "metadata": {},
   "outputs": [],
   "source": []
  },
  {
   "cell_type": "code",
   "execution_count": null,
   "id": "75942d7d",
   "metadata": {},
   "outputs": [],
   "source": [
    "Model 4 - "
   ]
  },
  {
   "cell_type": "markdown",
   "id": "08459dec",
   "metadata": {},
   "source": [
    "### Model 3 - Highly correlated Bed, Bath, and Basements plus."
   ]
  },
  {
   "cell_type": "markdown",
   "id": "3a3eb134",
   "metadata": {},
   "source": [
    "Let's include the strongest correlated variable to the mix and see what we get."
   ]
  },
  {
   "cell_type": "code",
   "execution_count": null,
   "id": "b4a9f7a5",
   "metadata": {},
   "outputs": [],
   "source": [
    "#creating my x and y variables \n",
    "X_3 = train[['totrms_abvgrd', 'full_bath','total_bsmt_sf','overall_qual']]\n",
    "y_3 = train['saleprice']"
   ]
  },
  {
   "cell_type": "markdown",
   "id": "942ada65",
   "metadata": {},
   "source": [
    "__Model Prep: Train/Test Split__"
   ]
  },
  {
   "cell_type": "markdown",
   "id": "75e03a91",
   "metadata": {},
   "source": [
    "Performing a 80-20 train, test split on the X and y variables: "
   ]
  },
  {
   "cell_type": "code",
   "execution_count": null,
   "id": "cc01ab54",
   "metadata": {},
   "outputs": [],
   "source": [
    "X_3_train, X_3_test, y_3_train, y_3_test = train_test_split(X_3, y_3, \n",
    "                                                    test_size = 0.2,\n",
    "                                                    random_state =42,\n",
    "                                                    shuffle = True)"
   ]
  },
  {
   "cell_type": "code",
   "execution_count": null,
   "id": "0a3d2552",
   "metadata": {},
   "outputs": [],
   "source": [
    "print(X_3_train.shape, y_3_train.shape)\n",
    "print(X_3_test.shape, y_3_test.shape)"
   ]
  },
  {
   "cell_type": "markdown",
   "id": "e788bccb",
   "metadata": {},
   "source": [
    "__Model Fit__"
   ]
  },
  {
   "cell_type": "code",
   "execution_count": null,
   "id": "a292961b",
   "metadata": {},
   "outputs": [],
   "source": [
    "# instantiate LinearRegression estimator\n",
    "lr = LinearRegression(n_jobs = -1)\n",
    "\n",
    "# fit Lienear model\n",
    "model_3 = lr.fit(X_3_train,y_3_train)"
   ]
  },
  {
   "cell_type": "code",
   "execution_count": null,
   "id": "cd875b93",
   "metadata": {},
   "outputs": [],
   "source": [
    "#Model Predctions given training data\n",
    "predictions_3 = model_3.predict(X_3_train)\n",
    "print(predictions_3)"
   ]
  },
  {
   "cell_type": "code",
   "execution_count": null,
   "id": "61e6baf4",
   "metadata": {},
   "outputs": [],
   "source": [
    "#visualization of model 1 sales price predictions vs actual sale price \n",
    "plt.scatter(predictions_3, y_3_train, color ='navy')\n",
    "plt.title('Model 1: Predicted Price vs Actual Price')\n",
    "plt.xlabel('Predicted Price')\n",
    "plt.ylabel('Actual Price')"
   ]
  },
  {
   "cell_type": "markdown",
   "id": "5fc87269",
   "metadata": {},
   "source": [
    "* __Observation:__ With the addition of the strongest correlated variable the looks to shifting back to a somewhat straight line, meaning the model is a relatively good fit. We can also denote this given the model scores generated below, they increase from around  0.5 to around  0.7. "
   ]
  },
  {
   "cell_type": "markdown",
   "id": "7098674e",
   "metadata": {},
   "source": [
    "__Scoring of Model__"
   ]
  },
  {
   "cell_type": "code",
   "execution_count": null,
   "id": "a54885cf",
   "metadata": {},
   "outputs": [],
   "source": [
    "print(model_3.score(X_3_train,y_3_train))\n",
    "print(model_3.score(X_3_test,y_3_test))\n",
    "print(cross_val_score(model_3,X_3,y_3).mean())"
   ]
  },
  {
   "cell_type": "code",
   "execution_count": 37,
   "id": "4a2046e3",
   "metadata": {},
   "outputs": [
    {
     "data": {
      "text/html": [
       "<div>\n",
       "<style scoped>\n",
       "    .dataframe tbody tr th:only-of-type {\n",
       "        vertical-align: middle;\n",
       "    }\n",
       "\n",
       "    .dataframe tbody tr th {\n",
       "        vertical-align: top;\n",
       "    }\n",
       "\n",
       "    .dataframe thead th {\n",
       "        text-align: right;\n",
       "    }\n",
       "</style>\n",
       "<table border=\"1\" class=\"dataframe\">\n",
       "  <thead>\n",
       "    <tr style=\"text-align: right;\">\n",
       "      <th></th>\n",
       "      <th>Unnamed: 0</th>\n",
       "      <th>id</th>\n",
       "      <th>pid</th>\n",
       "      <th>ms_subclass</th>\n",
       "      <th>ms_zoning</th>\n",
       "      <th>lot_frontage</th>\n",
       "      <th>lot_area</th>\n",
       "      <th>street</th>\n",
       "      <th>lot_shape</th>\n",
       "      <th>land_contour</th>\n",
       "      <th>...</th>\n",
       "      <th>mo_sold</th>\n",
       "      <th>yr_sold</th>\n",
       "      <th>sale_type</th>\n",
       "      <th>saleprice</th>\n",
       "      <th>bsmt_cond_Ex</th>\n",
       "      <th>bsmt_cond_Fa</th>\n",
       "      <th>bsmt_cond_Gd</th>\n",
       "      <th>bsmt_cond_No Basement</th>\n",
       "      <th>bsmt_cond_Po</th>\n",
       "      <th>bsmt_cond_TA</th>\n",
       "    </tr>\n",
       "  </thead>\n",
       "  <tbody>\n",
       "    <tr>\n",
       "      <th>0</th>\n",
       "      <td>0</td>\n",
       "      <td>109</td>\n",
       "      <td>533352170</td>\n",
       "      <td>60</td>\n",
       "      <td>RL</td>\n",
       "      <td>69.0552</td>\n",
       "      <td>13517</td>\n",
       "      <td>Pave</td>\n",
       "      <td>IR1</td>\n",
       "      <td>Lvl</td>\n",
       "      <td>...</td>\n",
       "      <td>3</td>\n",
       "      <td>2010</td>\n",
       "      <td>WD</td>\n",
       "      <td>130500</td>\n",
       "      <td>0</td>\n",
       "      <td>0</td>\n",
       "      <td>0</td>\n",
       "      <td>0</td>\n",
       "      <td>0</td>\n",
       "      <td>1</td>\n",
       "    </tr>\n",
       "    <tr>\n",
       "      <th>1</th>\n",
       "      <td>1</td>\n",
       "      <td>544</td>\n",
       "      <td>531379050</td>\n",
       "      <td>60</td>\n",
       "      <td>RL</td>\n",
       "      <td>43.0000</td>\n",
       "      <td>11492</td>\n",
       "      <td>Pave</td>\n",
       "      <td>IR1</td>\n",
       "      <td>Lvl</td>\n",
       "      <td>...</td>\n",
       "      <td>4</td>\n",
       "      <td>2009</td>\n",
       "      <td>WD</td>\n",
       "      <td>220000</td>\n",
       "      <td>0</td>\n",
       "      <td>0</td>\n",
       "      <td>0</td>\n",
       "      <td>0</td>\n",
       "      <td>0</td>\n",
       "      <td>1</td>\n",
       "    </tr>\n",
       "    <tr>\n",
       "      <th>2</th>\n",
       "      <td>2</td>\n",
       "      <td>153</td>\n",
       "      <td>535304180</td>\n",
       "      <td>20</td>\n",
       "      <td>RL</td>\n",
       "      <td>68.0000</td>\n",
       "      <td>7922</td>\n",
       "      <td>Pave</td>\n",
       "      <td>Reg</td>\n",
       "      <td>Lvl</td>\n",
       "      <td>...</td>\n",
       "      <td>1</td>\n",
       "      <td>2010</td>\n",
       "      <td>WD</td>\n",
       "      <td>109000</td>\n",
       "      <td>0</td>\n",
       "      <td>0</td>\n",
       "      <td>0</td>\n",
       "      <td>0</td>\n",
       "      <td>0</td>\n",
       "      <td>1</td>\n",
       "    </tr>\n",
       "    <tr>\n",
       "      <th>3</th>\n",
       "      <td>3</td>\n",
       "      <td>318</td>\n",
       "      <td>916386060</td>\n",
       "      <td>60</td>\n",
       "      <td>RL</td>\n",
       "      <td>73.0000</td>\n",
       "      <td>9802</td>\n",
       "      <td>Pave</td>\n",
       "      <td>Reg</td>\n",
       "      <td>Lvl</td>\n",
       "      <td>...</td>\n",
       "      <td>4</td>\n",
       "      <td>2010</td>\n",
       "      <td>WD</td>\n",
       "      <td>174000</td>\n",
       "      <td>0</td>\n",
       "      <td>0</td>\n",
       "      <td>0</td>\n",
       "      <td>0</td>\n",
       "      <td>0</td>\n",
       "      <td>1</td>\n",
       "    </tr>\n",
       "    <tr>\n",
       "      <th>4</th>\n",
       "      <td>4</td>\n",
       "      <td>255</td>\n",
       "      <td>906425045</td>\n",
       "      <td>50</td>\n",
       "      <td>RL</td>\n",
       "      <td>82.0000</td>\n",
       "      <td>14235</td>\n",
       "      <td>Pave</td>\n",
       "      <td>IR1</td>\n",
       "      <td>Lvl</td>\n",
       "      <td>...</td>\n",
       "      <td>3</td>\n",
       "      <td>2010</td>\n",
       "      <td>WD</td>\n",
       "      <td>138500</td>\n",
       "      <td>0</td>\n",
       "      <td>0</td>\n",
       "      <td>1</td>\n",
       "      <td>0</td>\n",
       "      <td>0</td>\n",
       "      <td>0</td>\n",
       "    </tr>\n",
       "  </tbody>\n",
       "</table>\n",
       "<p>5 rows × 84 columns</p>\n",
       "</div>"
      ],
      "text/plain": [
       "   Unnamed: 0   id        pid  ms_subclass ms_zoning  lot_frontage  lot_area  \\\n",
       "0           0  109  533352170           60        RL       69.0552     13517   \n",
       "1           1  544  531379050           60        RL       43.0000     11492   \n",
       "2           2  153  535304180           20        RL       68.0000      7922   \n",
       "3           3  318  916386060           60        RL       73.0000      9802   \n",
       "4           4  255  906425045           50        RL       82.0000     14235   \n",
       "\n",
       "  street lot_shape land_contour  ... mo_sold yr_sold sale_type saleprice  \\\n",
       "0   Pave       IR1          Lvl  ...       3    2010       WD     130500   \n",
       "1   Pave       IR1          Lvl  ...       4    2009       WD     220000   \n",
       "2   Pave       Reg          Lvl  ...       1    2010       WD     109000   \n",
       "3   Pave       Reg          Lvl  ...       4    2010       WD     174000   \n",
       "4   Pave       IR1          Lvl  ...       3    2010       WD     138500   \n",
       "\n",
       "  bsmt_cond_Ex bsmt_cond_Fa bsmt_cond_Gd bsmt_cond_No Basement  bsmt_cond_Po  \\\n",
       "0            0            0            0                     0             0   \n",
       "1            0            0            0                     0             0   \n",
       "2            0            0            0                     0             0   \n",
       "3            0            0            0                     0             0   \n",
       "4            0            0            1                     0             0   \n",
       "\n",
       "   bsmt_cond_TA  \n",
       "0             1  \n",
       "1             1  \n",
       "2             1  \n",
       "3             1  \n",
       "4             0  \n",
       "\n",
       "[5 rows x 84 columns]"
      ]
     },
     "execution_count": 37,
     "metadata": {},
     "output_type": "execute_result"
    }
   ],
   "source": [
    "train = pd.get_dummies(train, columns=['bsmt_cond'])\n",
    "train.head()"
   ]
  },
  {
   "cell_type": "code",
   "execution_count": 39,
   "id": "b1a8e723",
   "metadata": {},
   "outputs": [
    {
     "ename": "KeyError",
     "evalue": "\"['bsmt_cond_Ex'] not found in axis\"",
     "output_type": "error",
     "traceback": [
      "\u001b[0;31m---------------------------------------------------------------------------\u001b[0m",
      "\u001b[0;31mKeyError\u001b[0m                                  Traceback (most recent call last)",
      "\u001b[0;32m<ipython-input-39-48d7391efa0a>\u001b[0m in \u001b[0;36m<module>\u001b[0;34m\u001b[0m\n\u001b[0;32m----> 1\u001b[0;31m \u001b[0mtrain\u001b[0m\u001b[0;34m.\u001b[0m\u001b[0mdrop\u001b[0m\u001b[0;34m(\u001b[0m\u001b[0;34m'bsmt_cond_Ex'\u001b[0m\u001b[0;34m,\u001b[0m \u001b[0maxis\u001b[0m \u001b[0;34m=\u001b[0m \u001b[0;36m1\u001b[0m\u001b[0;34m,\u001b[0m \u001b[0minplace\u001b[0m \u001b[0;34m=\u001b[0m \u001b[0;32mTrue\u001b[0m\u001b[0;34m)\u001b[0m\u001b[0;34m\u001b[0m\u001b[0;34m\u001b[0m\u001b[0m\n\u001b[0m\u001b[1;32m      2\u001b[0m \u001b[0mtrain\u001b[0m\u001b[0;34m.\u001b[0m\u001b[0mhead\u001b[0m\u001b[0;34m(\u001b[0m\u001b[0;34m)\u001b[0m\u001b[0;34m\u001b[0m\u001b[0;34m\u001b[0m\u001b[0m\n",
      "\u001b[0;32m~/anaconda3/lib/python3.8/site-packages/pandas/core/frame.py\u001b[0m in \u001b[0;36mdrop\u001b[0;34m(self, labels, axis, index, columns, level, inplace, errors)\u001b[0m\n\u001b[1;32m   4306\u001b[0m                 \u001b[0mweight\u001b[0m  \u001b[0;36m1.0\u001b[0m     \u001b[0;36m0.8\u001b[0m\u001b[0;34m\u001b[0m\u001b[0;34m\u001b[0m\u001b[0m\n\u001b[1;32m   4307\u001b[0m         \"\"\"\n\u001b[0;32m-> 4308\u001b[0;31m         return super().drop(\n\u001b[0m\u001b[1;32m   4309\u001b[0m             \u001b[0mlabels\u001b[0m\u001b[0;34m=\u001b[0m\u001b[0mlabels\u001b[0m\u001b[0;34m,\u001b[0m\u001b[0;34m\u001b[0m\u001b[0;34m\u001b[0m\u001b[0m\n\u001b[1;32m   4310\u001b[0m             \u001b[0maxis\u001b[0m\u001b[0;34m=\u001b[0m\u001b[0maxis\u001b[0m\u001b[0;34m,\u001b[0m\u001b[0;34m\u001b[0m\u001b[0;34m\u001b[0m\u001b[0m\n",
      "\u001b[0;32m~/anaconda3/lib/python3.8/site-packages/pandas/core/generic.py\u001b[0m in \u001b[0;36mdrop\u001b[0;34m(self, labels, axis, index, columns, level, inplace, errors)\u001b[0m\n\u001b[1;32m   4151\u001b[0m         \u001b[0;32mfor\u001b[0m \u001b[0maxis\u001b[0m\u001b[0;34m,\u001b[0m \u001b[0mlabels\u001b[0m \u001b[0;32min\u001b[0m \u001b[0maxes\u001b[0m\u001b[0;34m.\u001b[0m\u001b[0mitems\u001b[0m\u001b[0;34m(\u001b[0m\u001b[0;34m)\u001b[0m\u001b[0;34m:\u001b[0m\u001b[0;34m\u001b[0m\u001b[0;34m\u001b[0m\u001b[0m\n\u001b[1;32m   4152\u001b[0m             \u001b[0;32mif\u001b[0m \u001b[0mlabels\u001b[0m \u001b[0;32mis\u001b[0m \u001b[0;32mnot\u001b[0m \u001b[0;32mNone\u001b[0m\u001b[0;34m:\u001b[0m\u001b[0;34m\u001b[0m\u001b[0;34m\u001b[0m\u001b[0m\n\u001b[0;32m-> 4153\u001b[0;31m                 \u001b[0mobj\u001b[0m \u001b[0;34m=\u001b[0m \u001b[0mobj\u001b[0m\u001b[0;34m.\u001b[0m\u001b[0m_drop_axis\u001b[0m\u001b[0;34m(\u001b[0m\u001b[0mlabels\u001b[0m\u001b[0;34m,\u001b[0m \u001b[0maxis\u001b[0m\u001b[0;34m,\u001b[0m \u001b[0mlevel\u001b[0m\u001b[0;34m=\u001b[0m\u001b[0mlevel\u001b[0m\u001b[0;34m,\u001b[0m \u001b[0merrors\u001b[0m\u001b[0;34m=\u001b[0m\u001b[0merrors\u001b[0m\u001b[0;34m)\u001b[0m\u001b[0;34m\u001b[0m\u001b[0;34m\u001b[0m\u001b[0m\n\u001b[0m\u001b[1;32m   4154\u001b[0m \u001b[0;34m\u001b[0m\u001b[0m\n\u001b[1;32m   4155\u001b[0m         \u001b[0;32mif\u001b[0m \u001b[0minplace\u001b[0m\u001b[0;34m:\u001b[0m\u001b[0;34m\u001b[0m\u001b[0;34m\u001b[0m\u001b[0m\n",
      "\u001b[0;32m~/anaconda3/lib/python3.8/site-packages/pandas/core/generic.py\u001b[0m in \u001b[0;36m_drop_axis\u001b[0;34m(self, labels, axis, level, errors)\u001b[0m\n\u001b[1;32m   4186\u001b[0m                 \u001b[0mnew_axis\u001b[0m \u001b[0;34m=\u001b[0m \u001b[0maxis\u001b[0m\u001b[0;34m.\u001b[0m\u001b[0mdrop\u001b[0m\u001b[0;34m(\u001b[0m\u001b[0mlabels\u001b[0m\u001b[0;34m,\u001b[0m \u001b[0mlevel\u001b[0m\u001b[0;34m=\u001b[0m\u001b[0mlevel\u001b[0m\u001b[0;34m,\u001b[0m \u001b[0merrors\u001b[0m\u001b[0;34m=\u001b[0m\u001b[0merrors\u001b[0m\u001b[0;34m)\u001b[0m\u001b[0;34m\u001b[0m\u001b[0;34m\u001b[0m\u001b[0m\n\u001b[1;32m   4187\u001b[0m             \u001b[0;32melse\u001b[0m\u001b[0;34m:\u001b[0m\u001b[0;34m\u001b[0m\u001b[0;34m\u001b[0m\u001b[0m\n\u001b[0;32m-> 4188\u001b[0;31m                 \u001b[0mnew_axis\u001b[0m \u001b[0;34m=\u001b[0m \u001b[0maxis\u001b[0m\u001b[0;34m.\u001b[0m\u001b[0mdrop\u001b[0m\u001b[0;34m(\u001b[0m\u001b[0mlabels\u001b[0m\u001b[0;34m,\u001b[0m \u001b[0merrors\u001b[0m\u001b[0;34m=\u001b[0m\u001b[0merrors\u001b[0m\u001b[0;34m)\u001b[0m\u001b[0;34m\u001b[0m\u001b[0;34m\u001b[0m\u001b[0m\n\u001b[0m\u001b[1;32m   4189\u001b[0m             \u001b[0mresult\u001b[0m \u001b[0;34m=\u001b[0m \u001b[0mself\u001b[0m\u001b[0;34m.\u001b[0m\u001b[0mreindex\u001b[0m\u001b[0;34m(\u001b[0m\u001b[0;34m**\u001b[0m\u001b[0;34m{\u001b[0m\u001b[0maxis_name\u001b[0m\u001b[0;34m:\u001b[0m \u001b[0mnew_axis\u001b[0m\u001b[0;34m}\u001b[0m\u001b[0;34m)\u001b[0m\u001b[0;34m\u001b[0m\u001b[0;34m\u001b[0m\u001b[0m\n\u001b[1;32m   4190\u001b[0m \u001b[0;34m\u001b[0m\u001b[0m\n",
      "\u001b[0;32m~/anaconda3/lib/python3.8/site-packages/pandas/core/indexes/base.py\u001b[0m in \u001b[0;36mdrop\u001b[0;34m(self, labels, errors)\u001b[0m\n\u001b[1;32m   5589\u001b[0m         \u001b[0;32mif\u001b[0m \u001b[0mmask\u001b[0m\u001b[0;34m.\u001b[0m\u001b[0many\u001b[0m\u001b[0;34m(\u001b[0m\u001b[0;34m)\u001b[0m\u001b[0;34m:\u001b[0m\u001b[0;34m\u001b[0m\u001b[0;34m\u001b[0m\u001b[0m\n\u001b[1;32m   5590\u001b[0m             \u001b[0;32mif\u001b[0m \u001b[0merrors\u001b[0m \u001b[0;34m!=\u001b[0m \u001b[0;34m\"ignore\"\u001b[0m\u001b[0;34m:\u001b[0m\u001b[0;34m\u001b[0m\u001b[0;34m\u001b[0m\u001b[0m\n\u001b[0;32m-> 5591\u001b[0;31m                 \u001b[0;32mraise\u001b[0m \u001b[0mKeyError\u001b[0m\u001b[0;34m(\u001b[0m\u001b[0;34mf\"{labels[mask]} not found in axis\"\u001b[0m\u001b[0;34m)\u001b[0m\u001b[0;34m\u001b[0m\u001b[0;34m\u001b[0m\u001b[0m\n\u001b[0m\u001b[1;32m   5592\u001b[0m             \u001b[0mindexer\u001b[0m \u001b[0;34m=\u001b[0m \u001b[0mindexer\u001b[0m\u001b[0;34m[\u001b[0m\u001b[0;34m~\u001b[0m\u001b[0mmask\u001b[0m\u001b[0;34m]\u001b[0m\u001b[0;34m\u001b[0m\u001b[0;34m\u001b[0m\u001b[0m\n\u001b[1;32m   5593\u001b[0m         \u001b[0;32mreturn\u001b[0m \u001b[0mself\u001b[0m\u001b[0;34m.\u001b[0m\u001b[0mdelete\u001b[0m\u001b[0;34m(\u001b[0m\u001b[0mindexer\u001b[0m\u001b[0;34m)\u001b[0m\u001b[0;34m\u001b[0m\u001b[0;34m\u001b[0m\u001b[0m\n",
      "\u001b[0;31mKeyError\u001b[0m: \"['bsmt_cond_Ex'] not found in axis\""
     ]
    }
   ],
   "source": [
    "train.drop('bsmt_cond_Ex', axis = 1, inplace = True)\n",
    "train.head()"
   ]
  },
  {
   "cell_type": "code",
   "execution_count": 46,
   "id": "8b74417a",
   "metadata": {},
   "outputs": [
    {
     "data": {
      "text/html": [
       "<div>\n",
       "<style scoped>\n",
       "    .dataframe tbody tr th:only-of-type {\n",
       "        vertical-align: middle;\n",
       "    }\n",
       "\n",
       "    .dataframe tbody tr th {\n",
       "        vertical-align: top;\n",
       "    }\n",
       "\n",
       "    .dataframe thead th {\n",
       "        text-align: right;\n",
       "    }\n",
       "</style>\n",
       "<table border=\"1\" class=\"dataframe\">\n",
       "  <thead>\n",
       "    <tr style=\"text-align: right;\">\n",
       "      <th></th>\n",
       "      <th>Unnamed: 0</th>\n",
       "      <th>id</th>\n",
       "      <th>pid</th>\n",
       "      <th>ms_subclass</th>\n",
       "      <th>ms_zoning</th>\n",
       "      <th>lot_frontage</th>\n",
       "      <th>lot_area</th>\n",
       "      <th>street</th>\n",
       "      <th>lot_shape</th>\n",
       "      <th>land_contour</th>\n",
       "      <th>...</th>\n",
       "      <th>mo_sold</th>\n",
       "      <th>yr_sold</th>\n",
       "      <th>sale_type</th>\n",
       "      <th>saleprice</th>\n",
       "      <th>bsmt_cond_Fa</th>\n",
       "      <th>bsmt_cond_Gd</th>\n",
       "      <th>bsmt_cond_No Basement</th>\n",
       "      <th>bsmt_cond_Po</th>\n",
       "      <th>bsmt_cond_TA</th>\n",
       "      <th>total_sf</th>\n",
       "    </tr>\n",
       "  </thead>\n",
       "  <tbody>\n",
       "    <tr>\n",
       "      <th>0</th>\n",
       "      <td>0</td>\n",
       "      <td>109</td>\n",
       "      <td>533352170</td>\n",
       "      <td>60</td>\n",
       "      <td>RL</td>\n",
       "      <td>69.0552</td>\n",
       "      <td>13517</td>\n",
       "      <td>Pave</td>\n",
       "      <td>IR1</td>\n",
       "      <td>Lvl</td>\n",
       "      <td>...</td>\n",
       "      <td>3</td>\n",
       "      <td>2010</td>\n",
       "      <td>WD</td>\n",
       "      <td>130500</td>\n",
       "      <td>0</td>\n",
       "      <td>0</td>\n",
       "      <td>0</td>\n",
       "      <td>0</td>\n",
       "      <td>1</td>\n",
       "      <td>2204.0</td>\n",
       "    </tr>\n",
       "    <tr>\n",
       "      <th>1</th>\n",
       "      <td>1</td>\n",
       "      <td>544</td>\n",
       "      <td>531379050</td>\n",
       "      <td>60</td>\n",
       "      <td>RL</td>\n",
       "      <td>43.0000</td>\n",
       "      <td>11492</td>\n",
       "      <td>Pave</td>\n",
       "      <td>IR1</td>\n",
       "      <td>Lvl</td>\n",
       "      <td>...</td>\n",
       "      <td>4</td>\n",
       "      <td>2009</td>\n",
       "      <td>WD</td>\n",
       "      <td>220000</td>\n",
       "      <td>0</td>\n",
       "      <td>0</td>\n",
       "      <td>0</td>\n",
       "      <td>0</td>\n",
       "      <td>1</td>\n",
       "      <td>3035.0</td>\n",
       "    </tr>\n",
       "    <tr>\n",
       "      <th>2</th>\n",
       "      <td>2</td>\n",
       "      <td>153</td>\n",
       "      <td>535304180</td>\n",
       "      <td>20</td>\n",
       "      <td>RL</td>\n",
       "      <td>68.0000</td>\n",
       "      <td>7922</td>\n",
       "      <td>Pave</td>\n",
       "      <td>Reg</td>\n",
       "      <td>Lvl</td>\n",
       "      <td>...</td>\n",
       "      <td>1</td>\n",
       "      <td>2010</td>\n",
       "      <td>WD</td>\n",
       "      <td>109000</td>\n",
       "      <td>0</td>\n",
       "      <td>0</td>\n",
       "      <td>0</td>\n",
       "      <td>0</td>\n",
       "      <td>1</td>\n",
       "      <td>2114.0</td>\n",
       "    </tr>\n",
       "    <tr>\n",
       "      <th>3</th>\n",
       "      <td>3</td>\n",
       "      <td>318</td>\n",
       "      <td>916386060</td>\n",
       "      <td>60</td>\n",
       "      <td>RL</td>\n",
       "      <td>73.0000</td>\n",
       "      <td>9802</td>\n",
       "      <td>Pave</td>\n",
       "      <td>Reg</td>\n",
       "      <td>Lvl</td>\n",
       "      <td>...</td>\n",
       "      <td>4</td>\n",
       "      <td>2010</td>\n",
       "      <td>WD</td>\n",
       "      <td>174000</td>\n",
       "      <td>0</td>\n",
       "      <td>0</td>\n",
       "      <td>0</td>\n",
       "      <td>0</td>\n",
       "      <td>1</td>\n",
       "      <td>1828.0</td>\n",
       "    </tr>\n",
       "    <tr>\n",
       "      <th>4</th>\n",
       "      <td>4</td>\n",
       "      <td>255</td>\n",
       "      <td>906425045</td>\n",
       "      <td>50</td>\n",
       "      <td>RL</td>\n",
       "      <td>82.0000</td>\n",
       "      <td>14235</td>\n",
       "      <td>Pave</td>\n",
       "      <td>IR1</td>\n",
       "      <td>Lvl</td>\n",
       "      <td>...</td>\n",
       "      <td>3</td>\n",
       "      <td>2010</td>\n",
       "      <td>WD</td>\n",
       "      <td>138500</td>\n",
       "      <td>0</td>\n",
       "      <td>1</td>\n",
       "      <td>0</td>\n",
       "      <td>0</td>\n",
       "      <td>0</td>\n",
       "      <td>2121.0</td>\n",
       "    </tr>\n",
       "  </tbody>\n",
       "</table>\n",
       "<p>5 rows × 84 columns</p>\n",
       "</div>"
      ],
      "text/plain": [
       "   Unnamed: 0   id        pid  ms_subclass ms_zoning  lot_frontage  lot_area  \\\n",
       "0           0  109  533352170           60        RL       69.0552     13517   \n",
       "1           1  544  531379050           60        RL       43.0000     11492   \n",
       "2           2  153  535304180           20        RL       68.0000      7922   \n",
       "3           3  318  916386060           60        RL       73.0000      9802   \n",
       "4           4  255  906425045           50        RL       82.0000     14235   \n",
       "\n",
       "  street lot_shape land_contour  ... mo_sold yr_sold sale_type saleprice  \\\n",
       "0   Pave       IR1          Lvl  ...       3    2010       WD     130500   \n",
       "1   Pave       IR1          Lvl  ...       4    2009       WD     220000   \n",
       "2   Pave       Reg          Lvl  ...       1    2010       WD     109000   \n",
       "3   Pave       Reg          Lvl  ...       4    2010       WD     174000   \n",
       "4   Pave       IR1          Lvl  ...       3    2010       WD     138500   \n",
       "\n",
       "  bsmt_cond_Fa bsmt_cond_Gd bsmt_cond_No Basement bsmt_cond_Po  bsmt_cond_TA  \\\n",
       "0            0            0                     0            0             1   \n",
       "1            0            0                     0            0             1   \n",
       "2            0            0                     0            0             1   \n",
       "3            0            0                     0            0             1   \n",
       "4            0            1                     0            0             0   \n",
       "\n",
       "   total_sf  \n",
       "0    2204.0  \n",
       "1    3035.0  \n",
       "2    2114.0  \n",
       "3    1828.0  \n",
       "4    2121.0  \n",
       "\n",
       "[5 rows x 84 columns]"
      ]
     },
     "execution_count": 46,
     "metadata": {},
     "output_type": "execute_result"
    }
   ],
   "source": [
    "train['total_sf'] = train['1st_flr_sf']+ train['2nd_flr_sf']+train['total_bsmt_sf']\n",
    "train.head()"
   ]
  },
  {
   "cell_type": "code",
   "execution_count": 50,
   "id": "212f3ae8",
   "metadata": {},
   "outputs": [
    {
     "data": {
      "text/plain": [
       "count     2051.000000\n",
       "mean      2551.804967\n",
       "std        808.983736\n",
       "min        334.000000\n",
       "25%       2005.500000\n",
       "50%       2456.000000\n",
       "75%       2994.000000\n",
       "max      11752.000000\n",
       "Name: total_sf, dtype: float64"
      ]
     },
     "execution_count": 50,
     "metadata": {},
     "output_type": "execute_result"
    }
   ],
   "source": [
    "train.total_sf.describe()"
   ]
  },
  {
   "cell_type": "code",
   "execution_count": 53,
   "id": "63102599",
   "metadata": {},
   "outputs": [
    {
     "data": {
      "text/html": [
       "<div>\n",
       "<style scoped>\n",
       "    .dataframe tbody tr th:only-of-type {\n",
       "        vertical-align: middle;\n",
       "    }\n",
       "\n",
       "    .dataframe tbody tr th {\n",
       "        vertical-align: top;\n",
       "    }\n",
       "\n",
       "    .dataframe thead th {\n",
       "        text-align: right;\n",
       "    }\n",
       "</style>\n",
       "<table border=\"1\" class=\"dataframe\">\n",
       "  <thead>\n",
       "    <tr style=\"text-align: right;\">\n",
       "      <th></th>\n",
       "      <th>Unnamed: 0</th>\n",
       "      <th>id</th>\n",
       "      <th>pid</th>\n",
       "      <th>ms_subclass</th>\n",
       "      <th>ms_zoning</th>\n",
       "      <th>lot_frontage</th>\n",
       "      <th>lot_area</th>\n",
       "      <th>street</th>\n",
       "      <th>lot_shape</th>\n",
       "      <th>land_contour</th>\n",
       "      <th>...</th>\n",
       "      <th>yr_sold</th>\n",
       "      <th>sale_type</th>\n",
       "      <th>saleprice</th>\n",
       "      <th>bsmt_cond_Fa</th>\n",
       "      <th>bsmt_cond_Gd</th>\n",
       "      <th>bsmt_cond_No Basement</th>\n",
       "      <th>bsmt_cond_Po</th>\n",
       "      <th>bsmt_cond_TA</th>\n",
       "      <th>total_sf</th>\n",
       "      <th>big_house</th>\n",
       "    </tr>\n",
       "  </thead>\n",
       "  <tbody>\n",
       "    <tr>\n",
       "      <th>0</th>\n",
       "      <td>0</td>\n",
       "      <td>109</td>\n",
       "      <td>533352170</td>\n",
       "      <td>60</td>\n",
       "      <td>RL</td>\n",
       "      <td>69.0552</td>\n",
       "      <td>13517</td>\n",
       "      <td>Pave</td>\n",
       "      <td>IR1</td>\n",
       "      <td>Lvl</td>\n",
       "      <td>...</td>\n",
       "      <td>2010</td>\n",
       "      <td>WD</td>\n",
       "      <td>130500</td>\n",
       "      <td>0</td>\n",
       "      <td>0</td>\n",
       "      <td>0</td>\n",
       "      <td>0</td>\n",
       "      <td>1</td>\n",
       "      <td>2204.0</td>\n",
       "      <td>0</td>\n",
       "    </tr>\n",
       "    <tr>\n",
       "      <th>1</th>\n",
       "      <td>1</td>\n",
       "      <td>544</td>\n",
       "      <td>531379050</td>\n",
       "      <td>60</td>\n",
       "      <td>RL</td>\n",
       "      <td>43.0000</td>\n",
       "      <td>11492</td>\n",
       "      <td>Pave</td>\n",
       "      <td>IR1</td>\n",
       "      <td>Lvl</td>\n",
       "      <td>...</td>\n",
       "      <td>2009</td>\n",
       "      <td>WD</td>\n",
       "      <td>220000</td>\n",
       "      <td>0</td>\n",
       "      <td>0</td>\n",
       "      <td>0</td>\n",
       "      <td>0</td>\n",
       "      <td>1</td>\n",
       "      <td>3035.0</td>\n",
       "      <td>0</td>\n",
       "    </tr>\n",
       "    <tr>\n",
       "      <th>2</th>\n",
       "      <td>2</td>\n",
       "      <td>153</td>\n",
       "      <td>535304180</td>\n",
       "      <td>20</td>\n",
       "      <td>RL</td>\n",
       "      <td>68.0000</td>\n",
       "      <td>7922</td>\n",
       "      <td>Pave</td>\n",
       "      <td>Reg</td>\n",
       "      <td>Lvl</td>\n",
       "      <td>...</td>\n",
       "      <td>2010</td>\n",
       "      <td>WD</td>\n",
       "      <td>109000</td>\n",
       "      <td>0</td>\n",
       "      <td>0</td>\n",
       "      <td>0</td>\n",
       "      <td>0</td>\n",
       "      <td>1</td>\n",
       "      <td>2114.0</td>\n",
       "      <td>0</td>\n",
       "    </tr>\n",
       "    <tr>\n",
       "      <th>3</th>\n",
       "      <td>3</td>\n",
       "      <td>318</td>\n",
       "      <td>916386060</td>\n",
       "      <td>60</td>\n",
       "      <td>RL</td>\n",
       "      <td>73.0000</td>\n",
       "      <td>9802</td>\n",
       "      <td>Pave</td>\n",
       "      <td>Reg</td>\n",
       "      <td>Lvl</td>\n",
       "      <td>...</td>\n",
       "      <td>2010</td>\n",
       "      <td>WD</td>\n",
       "      <td>174000</td>\n",
       "      <td>0</td>\n",
       "      <td>0</td>\n",
       "      <td>0</td>\n",
       "      <td>0</td>\n",
       "      <td>1</td>\n",
       "      <td>1828.0</td>\n",
       "      <td>0</td>\n",
       "    </tr>\n",
       "    <tr>\n",
       "      <th>4</th>\n",
       "      <td>4</td>\n",
       "      <td>255</td>\n",
       "      <td>906425045</td>\n",
       "      <td>50</td>\n",
       "      <td>RL</td>\n",
       "      <td>82.0000</td>\n",
       "      <td>14235</td>\n",
       "      <td>Pave</td>\n",
       "      <td>IR1</td>\n",
       "      <td>Lvl</td>\n",
       "      <td>...</td>\n",
       "      <td>2010</td>\n",
       "      <td>WD</td>\n",
       "      <td>138500</td>\n",
       "      <td>0</td>\n",
       "      <td>1</td>\n",
       "      <td>0</td>\n",
       "      <td>0</td>\n",
       "      <td>0</td>\n",
       "      <td>2121.0</td>\n",
       "      <td>0</td>\n",
       "    </tr>\n",
       "  </tbody>\n",
       "</table>\n",
       "<p>5 rows × 85 columns</p>\n",
       "</div>"
      ],
      "text/plain": [
       "   Unnamed: 0   id        pid  ms_subclass ms_zoning  lot_frontage  lot_area  \\\n",
       "0           0  109  533352170           60        RL       69.0552     13517   \n",
       "1           1  544  531379050           60        RL       43.0000     11492   \n",
       "2           2  153  535304180           20        RL       68.0000      7922   \n",
       "3           3  318  916386060           60        RL       73.0000      9802   \n",
       "4           4  255  906425045           50        RL       82.0000     14235   \n",
       "\n",
       "  street lot_shape land_contour  ... yr_sold sale_type saleprice bsmt_cond_Fa  \\\n",
       "0   Pave       IR1          Lvl  ...    2010       WD     130500            0   \n",
       "1   Pave       IR1          Lvl  ...    2009       WD     220000            0   \n",
       "2   Pave       Reg          Lvl  ...    2010       WD     109000            0   \n",
       "3   Pave       Reg          Lvl  ...    2010       WD     174000            0   \n",
       "4   Pave       IR1          Lvl  ...    2010       WD     138500            0   \n",
       "\n",
       "  bsmt_cond_Gd bsmt_cond_No Basement bsmt_cond_Po bsmt_cond_TA  total_sf  \\\n",
       "0            0                     0            0            1    2204.0   \n",
       "1            0                     0            0            1    3035.0   \n",
       "2            0                     0            0            1    2114.0   \n",
       "3            0                     0            0            1    1828.0   \n",
       "4            1                     0            0            0    2121.0   \n",
       "\n",
       "   big_house  \n",
       "0          0  \n",
       "1          0  \n",
       "2          0  \n",
       "3          0  \n",
       "4          0  \n",
       "\n",
       "[5 rows x 85 columns]"
      ]
     },
     "execution_count": 53,
     "metadata": {},
     "output_type": "execute_result"
    }
   ],
   "source": [
    "train['big_house'] = (train['total_sf'] > 4000).astype(int)\n",
    "train.head()"
   ]
  },
  {
   "cell_type": "code",
   "execution_count": 54,
   "id": "d0c6265b",
   "metadata": {},
   "outputs": [
    {
     "data": {
      "text/plain": [
       "big_house\n",
       "0    1957\n",
       "1      94\n",
       "dtype: int64"
      ]
     },
     "execution_count": 54,
     "metadata": {},
     "output_type": "execute_result"
    }
   ],
   "source": [
    "train.value_counts('big_house')"
   ]
  }
 ],
 "metadata": {
  "kernelspec": {
   "display_name": "Python 3",
   "language": "python",
   "name": "python3"
  },
  "language_info": {
   "codemirror_mode": {
    "name": "ipython",
    "version": 3
   },
   "file_extension": ".py",
   "mimetype": "text/x-python",
   "name": "python",
   "nbconvert_exporter": "python",
   "pygments_lexer": "ipython3",
   "version": "3.8.8"
  }
 },
 "nbformat": 4,
 "nbformat_minor": 5
}
