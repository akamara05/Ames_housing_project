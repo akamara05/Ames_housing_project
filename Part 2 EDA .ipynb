{
 "cells": [
  {
   "cell_type": "markdown",
   "id": "db44d4b1",
   "metadata": {},
   "source": [
    "# DSI Project 2 - Ames Housing Data and Kaggle Challenge"
   ]
  },
  {
   "cell_type": "markdown",
   "id": "4f2930e4",
   "metadata": {},
   "source": [
    "Part 2: EDA "
   ]
  },
  {
   "cell_type": "markdown",
   "id": "5ac9de5d",
   "metadata": {},
   "source": [
    "[Data Dictionary](https://www.kaggle.com/c/dsir-712-project-2-regression-challenge/data)"
   ]
  },
  {
   "cell_type": "code",
   "execution_count": null,
   "id": "cde78e6a",
   "metadata": {},
   "outputs": [],
   "source": []
  },
  {
   "cell_type": "markdown",
   "id": "9b95dc70",
   "metadata": {},
   "source": [
    "\n",
    "### Imports"
   ]
  },
  {
   "cell_type": "code",
   "execution_count": 1,
   "id": "3bec516b",
   "metadata": {},
   "outputs": [],
   "source": [
    "import numpy as np\n",
    "import pandas as pd\n",
    "from matplotlib import pyplot as plt\n",
    "import seaborn as sns"
   ]
  },
  {
   "cell_type": "markdown",
   "id": "4cf63c80",
   "metadata": {},
   "source": [
    "### Loading of cleaned CSVs"
   ]
  },
  {
   "cell_type": "code",
   "execution_count": 2,
   "id": "138f8173",
   "metadata": {},
   "outputs": [
    {
     "data": {
      "text/html": [
       "<div>\n",
       "<style scoped>\n",
       "    .dataframe tbody tr th:only-of-type {\n",
       "        vertical-align: middle;\n",
       "    }\n",
       "\n",
       "    .dataframe tbody tr th {\n",
       "        vertical-align: top;\n",
       "    }\n",
       "\n",
       "    .dataframe thead th {\n",
       "        text-align: right;\n",
       "    }\n",
       "</style>\n",
       "<table border=\"1\" class=\"dataframe\">\n",
       "  <thead>\n",
       "    <tr style=\"text-align: right;\">\n",
       "      <th></th>\n",
       "      <th>Unnamed: 0</th>\n",
       "      <th>id</th>\n",
       "      <th>pid</th>\n",
       "      <th>ms_subclass</th>\n",
       "      <th>ms_zoning</th>\n",
       "      <th>lot_frontage</th>\n",
       "      <th>lot_area</th>\n",
       "      <th>street</th>\n",
       "      <th>lot_shape</th>\n",
       "      <th>land_contour</th>\n",
       "      <th>...</th>\n",
       "      <th>garage_cond</th>\n",
       "      <th>paved_drive</th>\n",
       "      <th>wood_deck_sf</th>\n",
       "      <th>open_porch_sf</th>\n",
       "      <th>enclosed_porch</th>\n",
       "      <th>screen_porch</th>\n",
       "      <th>mo_sold</th>\n",
       "      <th>yr_sold</th>\n",
       "      <th>sale_type</th>\n",
       "      <th>saleprice</th>\n",
       "    </tr>\n",
       "  </thead>\n",
       "  <tbody>\n",
       "    <tr>\n",
       "      <th>0</th>\n",
       "      <td>0</td>\n",
       "      <td>109</td>\n",
       "      <td>533352170</td>\n",
       "      <td>60</td>\n",
       "      <td>RL</td>\n",
       "      <td>68.0</td>\n",
       "      <td>13517</td>\n",
       "      <td>Pave</td>\n",
       "      <td>IR1</td>\n",
       "      <td>Lvl</td>\n",
       "      <td>...</td>\n",
       "      <td>TA</td>\n",
       "      <td>Y</td>\n",
       "      <td>0</td>\n",
       "      <td>44</td>\n",
       "      <td>0</td>\n",
       "      <td>0</td>\n",
       "      <td>3</td>\n",
       "      <td>2010</td>\n",
       "      <td>WD</td>\n",
       "      <td>130500</td>\n",
       "    </tr>\n",
       "    <tr>\n",
       "      <th>1</th>\n",
       "      <td>1</td>\n",
       "      <td>544</td>\n",
       "      <td>531379050</td>\n",
       "      <td>60</td>\n",
       "      <td>RL</td>\n",
       "      <td>43.0</td>\n",
       "      <td>11492</td>\n",
       "      <td>Pave</td>\n",
       "      <td>IR1</td>\n",
       "      <td>Lvl</td>\n",
       "      <td>...</td>\n",
       "      <td>TA</td>\n",
       "      <td>Y</td>\n",
       "      <td>0</td>\n",
       "      <td>74</td>\n",
       "      <td>0</td>\n",
       "      <td>0</td>\n",
       "      <td>4</td>\n",
       "      <td>2009</td>\n",
       "      <td>WD</td>\n",
       "      <td>220000</td>\n",
       "    </tr>\n",
       "    <tr>\n",
       "      <th>2</th>\n",
       "      <td>2</td>\n",
       "      <td>153</td>\n",
       "      <td>535304180</td>\n",
       "      <td>20</td>\n",
       "      <td>RL</td>\n",
       "      <td>68.0</td>\n",
       "      <td>7922</td>\n",
       "      <td>Pave</td>\n",
       "      <td>Reg</td>\n",
       "      <td>Lvl</td>\n",
       "      <td>...</td>\n",
       "      <td>TA</td>\n",
       "      <td>Y</td>\n",
       "      <td>0</td>\n",
       "      <td>52</td>\n",
       "      <td>0</td>\n",
       "      <td>0</td>\n",
       "      <td>1</td>\n",
       "      <td>2010</td>\n",
       "      <td>WD</td>\n",
       "      <td>109000</td>\n",
       "    </tr>\n",
       "    <tr>\n",
       "      <th>3</th>\n",
       "      <td>3</td>\n",
       "      <td>318</td>\n",
       "      <td>916386060</td>\n",
       "      <td>60</td>\n",
       "      <td>RL</td>\n",
       "      <td>73.0</td>\n",
       "      <td>9802</td>\n",
       "      <td>Pave</td>\n",
       "      <td>Reg</td>\n",
       "      <td>Lvl</td>\n",
       "      <td>...</td>\n",
       "      <td>TA</td>\n",
       "      <td>Y</td>\n",
       "      <td>100</td>\n",
       "      <td>0</td>\n",
       "      <td>0</td>\n",
       "      <td>0</td>\n",
       "      <td>4</td>\n",
       "      <td>2010</td>\n",
       "      <td>WD</td>\n",
       "      <td>174000</td>\n",
       "    </tr>\n",
       "    <tr>\n",
       "      <th>4</th>\n",
       "      <td>4</td>\n",
       "      <td>255</td>\n",
       "      <td>906425045</td>\n",
       "      <td>50</td>\n",
       "      <td>RL</td>\n",
       "      <td>82.0</td>\n",
       "      <td>14235</td>\n",
       "      <td>Pave</td>\n",
       "      <td>IR1</td>\n",
       "      <td>Lvl</td>\n",
       "      <td>...</td>\n",
       "      <td>TA</td>\n",
       "      <td>N</td>\n",
       "      <td>0</td>\n",
       "      <td>59</td>\n",
       "      <td>0</td>\n",
       "      <td>0</td>\n",
       "      <td>3</td>\n",
       "      <td>2010</td>\n",
       "      <td>WD</td>\n",
       "      <td>138500</td>\n",
       "    </tr>\n",
       "  </tbody>\n",
       "</table>\n",
       "<p>5 rows × 74 columns</p>\n",
       "</div>"
      ],
      "text/plain": [
       "   Unnamed: 0   id        pid  ms_subclass ms_zoning  lot_frontage  lot_area  \\\n",
       "0           0  109  533352170           60        RL          68.0     13517   \n",
       "1           1  544  531379050           60        RL          43.0     11492   \n",
       "2           2  153  535304180           20        RL          68.0      7922   \n",
       "3           3  318  916386060           60        RL          73.0      9802   \n",
       "4           4  255  906425045           50        RL          82.0     14235   \n",
       "\n",
       "  street lot_shape land_contour  ... garage_cond paved_drive wood_deck_sf  \\\n",
       "0   Pave       IR1          Lvl  ...          TA           Y            0   \n",
       "1   Pave       IR1          Lvl  ...          TA           Y            0   \n",
       "2   Pave       Reg          Lvl  ...          TA           Y            0   \n",
       "3   Pave       Reg          Lvl  ...          TA           Y          100   \n",
       "4   Pave       IR1          Lvl  ...          TA           N            0   \n",
       "\n",
       "  open_porch_sf enclosed_porch screen_porch mo_sold yr_sold  sale_type  \\\n",
       "0            44              0            0       3    2010        WD    \n",
       "1            74              0            0       4    2009        WD    \n",
       "2            52              0            0       1    2010        WD    \n",
       "3             0              0            0       4    2010        WD    \n",
       "4            59              0            0       3    2010        WD    \n",
       "\n",
       "   saleprice  \n",
       "0     130500  \n",
       "1     220000  \n",
       "2     109000  \n",
       "3     174000  \n",
       "4     138500  \n",
       "\n",
       "[5 rows x 74 columns]"
      ]
     },
     "execution_count": 2,
     "metadata": {},
     "output_type": "execute_result"
    }
   ],
   "source": [
    "train_clean = pd.read_csv('./datasets/train_cleaned.csv')\n",
    "train_clean.head()"
   ]
  },
  {
   "cell_type": "code",
   "execution_count": 3,
   "id": "d2ab045e",
   "metadata": {},
   "outputs": [],
   "source": [
    "#dropping the Unnamed column\n",
    "train_clean.drop(columns=['Unnamed: 0'], inplace = True)"
   ]
  },
  {
   "cell_type": "code",
   "execution_count": 4,
   "id": "0f8b846c",
   "metadata": {},
   "outputs": [
    {
     "data": {
      "text/plain": [
       "(2048, 73)"
      ]
     },
     "execution_count": 4,
     "metadata": {},
     "output_type": "execute_result"
    }
   ],
   "source": [
    "train_clean.shape"
   ]
  },
  {
   "cell_type": "markdown",
   "id": "6343b0dc",
   "metadata": {},
   "source": [
    "__Check for nulls__"
   ]
  },
  {
   "cell_type": "code",
   "execution_count": 6,
   "id": "63892afe",
   "metadata": {},
   "outputs": [
    {
     "data": {
      "text/plain": [
       "Index([], dtype='object')"
      ]
     },
     "execution_count": 6,
     "metadata": {},
     "output_type": "execute_result"
    }
   ],
   "source": [
    "train_clean.columns[train_clean.isnull().any()]"
   ]
  },
  {
   "cell_type": "code",
   "execution_count": 7,
   "id": "160a915a",
   "metadata": {},
   "outputs": [
    {
     "data": {
      "text/plain": [
       "0"
      ]
     },
     "execution_count": 7,
     "metadata": {},
     "output_type": "execute_result"
    }
   ],
   "source": [
    "sum(train_clean.isnull().sum()) "
   ]
  },
  {
   "cell_type": "markdown",
   "id": "82f4edb0",
   "metadata": {},
   "source": [
    "Let's take a look at distribution of our deoendendt variable, what we aim to make predictions of. "
   ]
  },
  {
   "cell_type": "code",
   "execution_count": 8,
   "id": "e4a3347e",
   "metadata": {},
   "outputs": [
    {
     "data": {
      "text/plain": [
       "count      2048.000000\n",
       "mean     181484.252441\n",
       "std       79248.657891\n",
       "min       12789.000000\n",
       "25%      129837.500000\n",
       "50%      162500.000000\n",
       "75%      214000.000000\n",
       "max      611657.000000\n",
       "Name: saleprice, dtype: float64"
      ]
     },
     "execution_count": 8,
     "metadata": {},
     "output_type": "execute_result"
    }
   ],
   "source": [
    "train_clean.saleprice.describe()"
   ]
  },
  {
   "cell_type": "code",
   "execution_count": 9,
   "id": "323d4f4c",
   "metadata": {},
   "outputs": [
    {
     "name": "stderr",
     "output_type": "stream",
     "text": [
      "/Users/aishakamara/anaconda3/lib/python3.8/site-packages/seaborn/distributions.py:2557: FutureWarning: `distplot` is a deprecated function and will be removed in a future version. Please adapt your code to use either `displot` (a figure-level function with similar flexibility) or `histplot` (an axes-level function for histograms).\n",
      "  warnings.warn(msg, FutureWarning)\n"
     ]
    },
    {
     "data": {
      "image/png": "[encoded data removed]",
      "text/plain": [
       "<Figure size 432x288 with 1 Axes>"
      ]
     },
     "metadata": {
      "needs_background": "light"
     },
     "output_type": "display_data"
    }
   ],
   "source": [
    "sns.distplot(train_clean.saleprice);"
   ]
  },
  {
   "cell_type": "code",
   "execution_count": 10,
   "id": "f9f4ccca",
   "metadata": {},
   "outputs": [
    {
     "name": "stderr",
     "output_type": "stream",
     "text": [
      "/Users/aishakamara/anaconda3/lib/python3.8/site-packages/seaborn/_decorators.py:36: FutureWarning: Pass the following variable as a keyword arg: x. From version 0.12, the only valid positional argument will be `data`, and passing other arguments without an explicit keyword will result in an error or misinterpretation.\n",
      "  warnings.warn(\n"
     ]
    },
    {
     "data": {
      "image/png": "[encoded data removed]",
      "text/plain": [
       "<Figure size 432x288 with 1 Axes>"
      ]
     },
     "metadata": {
      "needs_background": "light"
     },
     "output_type": "display_data"
    }
   ],
   "source": [
    "sns.boxplot(train_clean.saleprice);"
   ]
  },
  {
   "cell_type": "markdown",
   "id": "9b873aaa",
   "metadata": {},
   "source": [
    "* On average sale prices are aliitke over $181K, with homes ranging from as little as ~$13K to a little over $600K. Taht's a quite a vast range. \n",
    "* There are quite a number of outliers. "
   ]
  },
  {
   "cell_type": "markdown",
   "id": "35743b8c",
   "metadata": {},
   "source": [
    "### EDA- Correlation Heat Map "
   ]
  },
  {
   "cell_type": "code",
   "execution_count": 11,
   "id": "7fe5ae06",
   "metadata": {},
   "outputs": [
    {
     "data": {
      "text/plain": [
       "<AxesSubplot:>"
      ]
     },
     "execution_count": 11,
     "metadata": {},
     "output_type": "execute_result"
    },
    {
     "data": {
      "image/png": "[encoded data removed]",
      "text/plain": [
       "<Figure size 504x1080 with 2 Axes>"
      ]
     },
     "metadata": {
      "needs_background": "light"
     },
     "output_type": "display_data"
    }
   ],
   "source": [
    "#Coorelation heat map\n",
    "plt.figure(figsize=(7, 15))\n",
    "sns.heatmap(train_clean.corr()[['saleprice']].sort_values('saleprice'),\n",
    "            annot=True, cmap='coolwarm', vmin=-1, vmax=1)\n"
   ]
  },
  {
   "cell_type": "markdown",
   "id": "866bbf6b",
   "metadata": {},
   "source": [
    "For my initial analysis I've decided to look at variables that have strong (>0.5) negative or postive correlation (+/-) to the dependent variable, sale price. "
   ]
  },
  {
   "cell_type": "markdown",
   "id": "ee5377ff",
   "metadata": {},
   "source": [
    "Let's take a a further look at these variables in coorleation  to slaes prices to.`"
   ]
  },
  {
   "cell_type": "code",
   "execution_count": null,
   "id": "f8ea755a",
   "metadata": {},
   "outputs": [],
   "source": [
    "sns.pairplot(train, x_vars=['tot', 'Enroll', 'F.Undergrad', 'Private', 'perc.alumni'], x_vars=['Apps'])"
   ]
  },
  {
   "cell_type": "code",
   "execution_count": null,
   "id": "6e56abee",
   "metadata": {},
   "outputs": [],
   "source": []
  },
  {
   "cell_type": "code",
   "execution_count": null,
   "id": "de31dc8d",
   "metadata": {},
   "outputs": [],
   "source": [
    "plt.scatter(train_clean['full_bath'], train_clean['saleprice'], c ='cyan')\n",
    "plt.title('Full Bath vs Sale Price')\n",
    "plt.xlabel('Full Bath')\n",
    "plt.ylabel('Sale Price')"
   ]
  },
  {
   "cell_type": "markdown",
   "id": "f24fe68f",
   "metadata": {},
   "source": [
    "The variable full bath on it's own does not look to have musch of a correlation with the average sale price. "
   ]
  },
  {
   "cell_type": "markdown",
   "id": "8e8465fd",
   "metadata": {},
   "source": [
    "__Basement Attributes__"
   ]
  },
  {
   "cell_type": "markdown",
   "id": "fcd00ec6",
   "metadata": {},
   "source": [
    "bsmt_qual        1996 non-null   object \n",
    " 31  bsmt_cond        1996 non-null   object \n",
    " 32  bsmt_exposure    1993 non-null   object \n",
    " 33  bsmtfin_type_1   1996 non-null   object \n",
    " 34  bsmtfin_sf_1     2050 non-null   float64\n",
    " 35  bsmtfin_type_2   1995 non-null   object \n",
    " 36  bsmtfin_sf_2     2050 non-null   float64\n",
    " 37  bsmt_unf_sf      2050 non-null   float64\n",
    " 38  total_bsmt_sf    2050 non-null   float64\n",
    " * Out of all the numeric vales only totial basemnt-sf had a coorelation with teh sale price. "
   ]
  },
  {
   "cell_type": "code",
   "execution_count": null,
   "id": "f076b6b2",
   "metadata": {},
   "outputs": [],
   "source": [
    "train_clean.total_bsmt_sf.value_counts()"
   ]
  },
  {
   "cell_type": "code",
   "execution_count": null,
   "id": "9406b7dc",
   "metadata": {},
   "outputs": [],
   "source": [
    "plt.scatter(train_clean['total_bsmt_sf'], train_clean['saleprice'], c ='orange')\n",
    "plt.title('Total square feet of basement area vs Sale Price')\n",
    "plt.xlabel('Total sq ft.')\n",
    "plt.ylabel('Sale Price')"
   ]
  },
  {
   "cell_type": "markdown",
   "id": "646a54fd",
   "metadata": {},
   "source": [
    "* Noted two observations with large basememt areas\n",
    "* A mjority of teh obseractions seemed to clusstered aound the $0 to approximatkly $350,000 slae price. "
   ]
  },
  {
   "cell_type": "markdown",
   "id": "3e6b2e73",
   "metadata": {},
   "source": [
    "__Basement Conditions__"
   ]
  },
  {
   "cell_type": "code",
   "execution_count": null,
   "id": "36998a95",
   "metadata": {},
   "outputs": [],
   "source": [
    "x_cond = sorted(set(train_clean['bsmt_cond']))\n",
    "y_cond = train_clean.groupby(train_clean['bsmt_cond'])['saleprice'].mean()\n",
    "plt.bar(x_cond, y_cond)\n",
    "plt.title('Average Home price Based on Basement Condition')\n",
    "plt.xlabel('Basment Condition')\n",
    "plt.ylabel('Average Home Price')"
   ]
  },
  {
   "cell_type": "markdown",
   "id": "162e3b76",
   "metadata": {},
   "source": [
    "* Homes with a 'good' rating basement condition are shown to have higher sale prices."
   ]
  },
  {
   "cell_type": "markdown",
   "id": "b4a4ea04",
   "metadata": {},
   "source": [
    "[Graphing code source](https://github.com/scaress21/ames_housing/blob/master/code/02_EDA.ipynb)"
   ]
  },
  {
   "cell_type": "markdown",
   "id": "7b1340dd",
   "metadata": {},
   "source": [
    "Basment Quality Finish of Basment "
   ]
  },
  {
   "cell_type": "code",
   "execution_count": null,
   "id": "f79462ab",
   "metadata": {},
   "outputs": [],
   "source": [
    "x_qualx = sorted(set(train_clean['bsmtfin_type_1']))\n",
    "y_qualy = train_clean.groupby(train_clean['bsmtfin_type_1'])['saleprice'].mean()\n",
    "plt.bar(x_qualx, y_qualy)\n",
    "plt.title('Average Sale price Based on Basement Quality Finish')\n",
    "plt.xlabel('Basment Quality')\n",
    "plt.ylabel('Average Sale Price')"
   ]
  },
  {
   "cell_type": "markdown",
   "id": "282dce9c",
   "metadata": {},
   "source": [
    "* Once again we see that it pays to have not only a finished basement byt one of quality, well at least \"good\" enough quality, as these tend to result in slightly higher average sales prices. \n",
    "* Having no basment at all lends to a lower sales price compared to just having one at all. "
   ]
  },
  {
   "cell_type": "markdown",
   "id": "a6ad14c4",
   "metadata": {},
   "source": [
    "Quality of second finished area (if present)\n",
    "\n",
    "\n",
    "- GLQ Good Living Quarters\n",
    "- ALQ Average Living Quarters\n",
    "- BLQ Below Average Living Quarters\n",
    "- Rec Average Rec Room\n",
    "- LwQ Low Quality\n",
    "- Unf Unfinshed\n",
    "- NA No Basement"
   ]
  },
  {
   "cell_type": "code",
   "execution_count": null,
   "id": "64771033",
   "metadata": {},
   "outputs": [],
   "source": [
    "x_qual = sorted(set(train_clean['bsmtfin_type_2']))\n",
    "y_qual = train_clean.groupby(train_clean['bsmtfin_type_2'])['saleprice'].mean()\n",
    "plt.bar(x_qual, y_qual)\n",
    "plt.title('Average Sale price Based on Quality of second finished area')\n",
    "plt.xlabel('Living Quaters Quality')\n",
    "plt.ylabel('Average Sale Price')"
   ]
  },
  {
   "cell_type": "markdown",
   "id": "97be5526",
   "metadata": {},
   "source": [
    "* *Homes with \"good\" living quarters on average have a higher sale prices*"
   ]
  },
  {
   "cell_type": "markdown",
   "id": "74f6d28b",
   "metadata": {},
   "source": [
    "2. Total rooms above grade (does not include bathrooms)"
   ]
  },
  {
   "cell_type": "code",
   "execution_count": null,
   "id": "4af03839",
   "metadata": {},
   "outputs": [],
   "source": [
    "plt.scatter(train_clean['totrms_abvgrd'], train_clean['saleprice'], c ='green')\n",
    "plt.title('Total rooms above ground (Excluding bathrooms) vs Sale Price')\n",
    "plt.xlabel('Total rooms above ground')\n",
    "plt.ylabel('Sale Price')"
   ]
  },
  {
   "cell_type": "markdown",
   "id": "caabb3c1",
   "metadata": {},
   "source": [
    "* There's no clear cut correlation.Haveing more rooms does not mean a higher saleprice per say. A home with a total of ten rooms can be sold aorund the same price as that of hoome with a total of three rooms. "
   ]
  },
  {
   "cell_type": "markdown",
   "id": "4533b627",
   "metadata": {},
   "source": [
    "3. Overall Quality\n",
    "\n",
    "It would be remiss of me not to at take a depper look t at teh indenpenedt varible with teh stongest leinear correlation to teh sale price. , 'overall quality'.\n",
    "\n",
    "OverallQual: Overall material and finish quality\n",
    "10 Very Excellent\n",
    "9 Excellent\n",
    "8 Very Good\n",
    "7 Good\n",
    "6 Above Average\n",
    "5 Average\n",
    "4 Below Average\n",
    "3 Fair\n",
    "2 Poor\n",
    "1 Very Poor"
   ]
  },
  {
   "cell_type": "code",
   "execution_count": null,
   "id": "d34b8763",
   "metadata": {},
   "outputs": [],
   "source": [
    "train_clean.overall_qual.dtype"
   ]
  },
  {
   "cell_type": "code",
   "execution_count": null,
   "id": "9276c4e5",
   "metadata": {},
   "outputs": [],
   "source": [
    "train_clean.overall_qual.value_counts()"
   ]
  },
  {
   "cell_type": "markdown",
   "id": "2b7dfa7a",
   "metadata": {},
   "source": [
    "* A very obvious outlier. Highly probable dure to huma erro as its recorded in a year further than 2014 (year of data collection)\n",
    "* There begins to be an increase in sales prices as we see grages built from 2000 and beyond, but not enough to make a clear distinction. "
   ]
  },
  {
   "cell_type": "code",
   "execution_count": null,
   "id": "e5465c1b",
   "metadata": {},
   "outputs": [],
   "source": [
    "x_overall = sorted(set(train_clean['overall_qual']))\n",
    "y_overall = train_clean.groupby(train_clean['overall_qual'])['saleprice'].mean()\n",
    "plt.bar(x_overall, y_overall)\n",
    "plt.title('Average Sale price Based on Overall Quality')\n",
    "plt.xlabel('Overall Quality')\n",
    "plt.ylabel('Average Sale Price')"
   ]
  },
  {
   "cell_type": "code",
   "execution_count": null,
   "id": "072c4463",
   "metadata": {},
   "outputs": [],
   "source": [
    "train_clean.groupby ('overall_qual').mean()[['saleprice']]"
   ]
  },
  {
   "cell_type": "markdown",
   "id": "1f8470f9",
   "metadata": {},
   "source": [
    "Based on the visuals repssntaion above, its clear that homes with overall quality finishe sell much higher than those built with poor finishes. Even with a difference of 1 level rating e.g. 'Excellent (9)' versus \"Very Excellemnt(10)', the difference in average home price approximatley $47K."
   ]
  },
  {
   "cell_type": "markdown",
   "id": "284afb2d",
   "metadata": {},
   "source": [
    "Based on the EDA performed in this notebook, it's clear that some of the variables associcted with teh home categories I focused on do not have much of strong relationship with average sales price, particularly the number of bedrooms or total rooms in general. I'd still like to test out my initital model incoroprating these numerical variables along side the 'overall quality variable' at least as a basleine. I'll add and meove variables aftwareards in order to see what combination produces teh strongest represenation of model. Let's shift to my 'modelling' notebook to delve into this. "
   ]
  }
 ],
 "metadata": {
  "kernelspec": {
   "display_name": "Python 3",
   "language": "python",
   "name": "python3"
  },
  "language_info": {
   "codemirror_mode": {
    "name": "ipython",
    "version": 3
   },
   "file_extension": ".py",
   "mimetype": "text/x-python",
   "name": "python",
   "nbconvert_exporter": "python",
   "pygments_lexer": "ipython3",
   "version": "3.8.8"
  }
 },
 "nbformat": 4,
 "nbformat_minor": 5
}
